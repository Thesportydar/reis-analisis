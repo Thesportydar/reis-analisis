{
 "cells": [
  {
   "cell_type": "code",
   "execution_count": 1,
   "id": "fb9aeb1c",
   "metadata": {},
   "outputs": [
    {
     "name": "stderr",
     "output_type": "stream",
     "text": [
      "/Users/thesportydar/local_dev/reis-app/src/lib/report/.venv/lib/python3.13/site-packages/tqdm/auto.py:21: TqdmWarning: IProgress not found. Please update jupyter and ipywidgets. See https://ipywidgets.readthedocs.io/en/stable/user_install.html\n",
      "  from .autonotebook import tqdm as notebook_tqdm\n"
     ]
    }
   ],
   "source": [
    "import sqlite3\n",
    "import pandas as pd\n",
    "import numpy as np\n",
    "\n",
    "from sentence_transformers import SentenceTransformer\n",
    "from sklearn.cluster import KMeans\n",
    "from sklearn.decomposition import PCA\n",
    "import matplotlib.pyplot as plt\n",
    "from sklearn.metrics import silhouette_score, calinski_harabasz_score, davies_bouldin_score\n",
    "from sklearn.preprocessing import normalize, StandardScaler\n",
    "from umap.umap_ import UMAP\n",
    "from sklearn import metrics\n",
    "import numpy as np\n",
    "\n",
    "from kneed import KneeLocator\n",
    "\n",
    "from statistics import mode\n",
    "import os\n",
    "from dotenv import load_dotenv\n",
    "\n",
    "load_dotenv()\n",
    "DB_PATH = os.getenv(\"DATABASE_URL\", \"sqlite.db\")\n",
    "\n",
    "import logging\n",
    "\n",
    "logging.basicConfig(level=logging.INFO, format=\"%(asctime)s - %(levelname)s - %(message)s\")"
   ]
  },
  {
   "cell_type": "code",
   "execution_count": 2,
   "id": "e2e224b7",
   "metadata": {},
   "outputs": [],
   "source": [
    "class QuestionClusterer:\n",
    "\n",
    "    def __init__(self, rei_id, period, num_clusters, embedder_model=\"hiiamsid/sentence_similarity_spanish_es\", model=None):\n",
    "        self.embedder = model if model else SentenceTransformer(embedder_model)\n",
    "        self.clustering_model = None\n",
    "        self.num_clusters = num_clusters if num_clusters else None\n",
    "        self.questions = []\n",
    "        self.dfcorpus = None\n",
    "        self.rei_id = rei_id\n",
    "        self.period = period\n",
    "        self.embeddings = None\n",
    "\n",
    "    @staticmethod\n",
    "    def optimalK(data, nrefs=3, maxClusters=15):\n",
    "        \"\"\"\n",
    "            Gap Statistic for K means\n",
    "        \"\"\"\n",
    "        gaps = np.zeros((len(range(1, maxClusters)),))\n",
    "        resultsdf = []\n",
    "\n",
    "        for gap_index, k in enumerate(range(1, maxClusters)):\n",
    "            # Holder for reference dispersion results\n",
    "            refDisps = np.zeros(nrefs)# For n references, generate random sample and perform kmeans getting resulting dispersion of each loop\n",
    "\n",
    "            for i in range(nrefs):\n",
    "                # Create new random reference set\n",
    "                randomReference = np.random.random_sample(size=data.shape)\n",
    "\n",
    "                # Fit to it\n",
    "                km = KMeans(k)\n",
    "                km.fit(randomReference)\n",
    "\n",
    "                refDisp = km.inertia_\n",
    "                refDisps[i] = refDisp\n",
    "\n",
    "                # Fit cluster to original data and create dispersion\n",
    "                km = KMeans(k)\n",
    "                km.fit(data)\n",
    "\n",
    "                origDisp = km.inertia_# Calculate gap statistic\n",
    "                gap = np.log(np.mean(refDisps)) - np.log(origDisp)# Assign this loop's gap statistic to gaps\n",
    "                gaps[gap_index] = gap\n",
    "\n",
    "                resultsdf.append([k,gap])\n",
    "\n",
    "                df_extended = pd.DataFrame(resultsdf, columns=['clusterCount', 'gap'])\n",
    "\n",
    "        return (gaps.argmax() + 1, df_extended)\n",
    "\n",
    "    @staticmethod\n",
    "    def select_optimal_k(embeddings, maxClusters=15):\n",
    "        \"\"\"\n",
    "            Selecciona el número óptimo de clusters utilizando puntuación de Silhouette.\n",
    "        \"\"\"\n",
    "        scores = []\n",
    "        for k in range(2, maxClusters + 1):\n",
    "            kmeans = KMeans(n_clusters=k).fit(embeddings)\n",
    "            labels = kmeans.labels_\n",
    "            score = silhouette_score(embeddings, labels, metric='cosine')\n",
    "            #score = calinski_harabasz_score(embeddings, labels)\n",
    "            scores.append(score)\n",
    "\n",
    "        # Encontrar el índice del máximo score\n",
    "        best_k = np.argmax(scores) + 2\n",
    "        # Verificar si hay meseta\n",
    "        if best_k == 2 and maxClusters > 5:\n",
    "            threshold = 0.9 * max(scores)\n",
    "            candidates = np.where(np.array(scores) >= threshold)[0] + 2\n",
    "            if len(candidates) > 1:\n",
    "                best_k = candidates[-1]\n",
    "        return best_k\n",
    "\n",
    "    @staticmethod\n",
    "    def select_optimal_k_max(embeddings, max_k=15):\n",
    "        \"\"\"\n",
    "        Selección de k óptimo usando criterios múltiples con votación ponderada.\n",
    "        Considera:\n",
    "        - Silhouette Score (maximizar)\n",
    "        - Davies-Bouldin Score (minimizar)\n",
    "        - Calinski-Harabasz Score (maximizar)\n",
    "        \"\"\"\n",
    "        metrics = {\n",
    "            'silhouette': [],\n",
    "            'davies_bouldin': [],\n",
    "            'calinski_harabasz': []\n",
    "        }\n",
    "        \n",
    "        for k in range(2, max_k + 1):\n",
    "            kmeans = KMeans(n_clusters=k).fit(embeddings)\n",
    "            labels = kmeans.labels_\n",
    "            \n",
    "            # Evitar cálculo de silhouette si solo un cluster (todos los puntos iguales)\n",
    "            if len(np.unique(labels)) == 1:\n",
    "                metrics['silhouette'].append(-1)\n",
    "            else:\n",
    "                metrics['silhouette'].append(silhouette_score(embeddings, labels, metric='cosine'))\n",
    "            \n",
    "            metrics['davies_bouldin'].append(davies_bouldin_score(embeddings, labels))\n",
    "            metrics['calinski_harabasz'].append(calinski_harabasz_score(embeddings, labels))\n",
    "        \n",
    "        # Normalizar scores\n",
    "        def normalize(scores, invert=False):\n",
    "            scores = np.array(scores)\n",
    "            if invert:\n",
    "                scores = 1 / (scores + 1e-10)\n",
    "            return (scores - scores.min()) / (scores.max() - scores.min())\n",
    "        \n",
    "        norm_sil = normalize(metrics['silhouette'])\n",
    "        norm_db = normalize(metrics['davies_bouldin'], invert=True)\n",
    "        norm_ch = normalize(metrics['calinski_harabasz'])\n",
    "        \n",
    "        # Score combinado (promedio ponderado)\n",
    "        combined_score = (norm_sil * 0.5) + (norm_db * 0.3) + (norm_ch * 0.2)\n",
    "        best_k = np.argmax(combined_score) + 2  # +2 porque empezamos desde k=2\n",
    "        \n",
    "        # Verificación de meseta (evitar k=2 cuando hay mejor opción)\n",
    "        \n",
    "        if best_k == 2 and max_k > 5:\n",
    "            threshold = 0.9 * combined_score.max()\n",
    "            candidates = np.where(combined_score >= threshold)[0] + 2\n",
    "            if len(candidates) > 1:\n",
    "                best_k = candidates[-1]  # Elige el k más grande dentro del 90% del mejor score\n",
    "        \n",
    "        return best_k\n",
    "\n",
    "    @staticmethod\n",
    "    def select_k_thesis(embeddings, max_k=15):\n",
    "        scores = []\n",
    "        for k in range(2, max_k+1):\n",
    "            kmeans = KMeans(n_clusters=k).fit(embeddings)\n",
    "            scores.append(calinski_harabasz_score(embeddings, kmeans.labels_))\n",
    "        \n",
    "        # return the best k\n",
    "        best_k = np.argmax(scores) + 2  # +2 porque empezamos desde k=2\n",
    "        return best_k\n",
    "\n",
    "    @staticmethod\n",
    "    def select_k_thesis2(embeddings, max_k=15):\n",
    "        scores = []\n",
    "        for k in range(2, max_k + 1):\n",
    "            kmeans = KMeans(n_clusters=k, n_init=10, random_state=42).fit(embeddings)\n",
    "            scores.append(calinski_harabasz_score(embeddings, kmeans.labels_))\n",
    "        \n",
    "        # 2. Detección de codo con parámetros optimizados\n",
    "        kl = KneeLocator(\n",
    "            range(2, max_k + 1),\n",
    "            scores,\n",
    "            curve='concave',\n",
    "            direction='increasing',\n",
    "            interp_method='polynomial',\n",
    "            polynomial_degree=5,\n",
    "            S=1.0\n",
    "        )\n",
    "        \n",
    "        # 3. Lógica de decisión mejorada\n",
    "        if kl.elbow is not None:\n",
    "            best_k = kl.elbow\n",
    "            # Verificación de meseta para k=2\n",
    "            if best_k == 2 and max_k > 5:\n",
    "                threshold = 0.9 * max(scores)\n",
    "                candidates = np.where(np.array(scores) >= threshold)[0] + 2\n",
    "                if len(candidates) > 1:\n",
    "                    best_k = candidates[-1]  # Selecciona el k más alto en la meseta\n",
    "        else:\n",
    "            # Fallback: máximo global con verificación de meseta\n",
    "            logging.warning(\"No se detectó codo. Usando el máximo global.\")\n",
    "            best_k = np.argmax(scores) + 2\n",
    "            threshold = 0.85 * max(scores)\n",
    "            candidates = np.where(np.array(scores) >= threshold)[0] + 2\n",
    "            if len(candidates) > 1:\n",
    "                best_k = candidates[1]  # Evita seleccionar el máximo si hay meseta cercana\n",
    "        \n",
    "        return best_k\n",
    "\n",
    "    @staticmethod\n",
    "    def combined_clustering_score(X, max_k=15):\n",
    "        scores = []\n",
    "        \n",
    "        for k in range(2, max_k + 1):\n",
    "            kmeans = KMeans(n_clusters=k)\n",
    "            labels = kmeans.fit_predict(X)\n",
    "            \n",
    "            # Calcular métricas\n",
    "            silhouette = silhouette_score(X, labels, metric='cosine')\n",
    "            davies_bouldin = davies_bouldin_score(X, labels)\n",
    "            calinski_harabasz = calinski_harabasz_score(X, labels)\n",
    "            \n",
    "            # Normalizar métricas (Silhouette: [-1, 1], DB: [0, inf], CH: [0, inf])\n",
    "            norm_silhouette = (silhouette + 1) / 2  # Escalar a [0, 1]\n",
    "            norm_davies_bouldin = 1 / (1 + davies_bouldin)  # Invertir y escalar\n",
    "            norm_calinski_harabasz = calinski_harabasz / (calinski_harabasz + 1)  # Escalar asintóticamente\n",
    "            \n",
    "            # Ponderar métricas en parte iguales\n",
    "            combined = (norm_silhouette + norm_davies_bouldin + norm_calinski_harabasz) / 3\n",
    "            \n",
    "            scores.append((k, combined, silhouette, davies_bouldin, calinski_harabasz))\n",
    "        \n",
    "        # Seleccionar k con el puntaje combinado más alto\n",
    "        best_k = max(scores, key=lambda x: x[1])[0]\n",
    "        return best_k\n",
    "\n",
    "    def fetch_questions(self):\n",
    "        query = f\"\"\"\n",
    "            SELECT question, coalesce(g.id, 'Desconocido') as group_id, coalesce(u.name, 'Desconocido') as lider_name\n",
    "            FROM \"dx_question\" q\n",
    "            LEFT JOIN \"class\" c ON c.id = q.class_id\n",
    "            LEFT JOIN \"group\" g ON g.id = q.group_id\n",
    "            LEFT JOIN \"user\" u ON u.id = g.lider_id\n",
    "            WHERE c.id = ? AND c.recorrido_id = ?;\n",
    "        \"\"\"\n",
    "\n",
    "        with sqlite3.connect(DB_PATH) as con:\n",
    "            cursor = con.cursor()\n",
    "            cursor.execute(query, (self.period, self.rei_id))\n",
    "            result = cursor.fetchall()\n",
    "            logging.info(f\"Fetched {len(result)} questions from dx_question for REI ID: {self.rei_id} and period: {self.period}\")\n",
    "            self.questions = result\n",
    "\n",
    "    def preprocess_questions(self):\n",
    "        if not self.questions:\n",
    "            return pd.DataFrame(columns=[\"pregunta\", \"grupo\", \"lider_name\", \"votos\"])\n",
    "\n",
    "        self.dfcorpus = pd.DataFrame(self.questions)\n",
    "        self.dfcorpus = self.dfcorpus.rename(columns={0: \"pregunta\", 1: \"grupo\", 2: \"lider_name\"})\n",
    "\n",
    "        self.dfcorpus[\"votos\"] = 1\n",
    "        \"\"\"\n",
    "        self.generate_embeddings()\n",
    "\n",
    "        # Compute cosine similarities\n",
    "        similarities = self.embedder.similarity(self.embeddings, self.embeddings)\n",
    "        to_remove = []\n",
    "\n",
    "        for idx_i, sentence1 in enumerate(self.dfcorpus['pregunta']):\n",
    "            count_matches = 0\n",
    "            match_groups = self.dfcorpus['grupo'].iloc[idx_i]\n",
    "\n",
    "            for idx_j, sentence2 in enumerate(self.dfcorpus['pregunta']):\n",
    "                sim = similarities[idx_i][idx_j]\n",
    "\n",
    "                if (sim > 0.9) and (idx_i != idx_j):\n",
    "                    count_matches += 1\n",
    "                    gxj = self.dfcorpus['grupo'].iloc[idx_j]\n",
    "                    match_groups = match_groups + \",\" + gxj\n",
    "\n",
    "                    if (idx_j>idx_i):\n",
    "                        to_remove.append(idx_j)\n",
    "\n",
    "            self.dfcorpus.iloc[idx_i, self.dfcorpus.columns.get_loc('votos')] = count_matches + 1\n",
    "            self.dfcorpus.iloc[idx_i, self.dfcorpus.columns.get_loc('grupo')] = str(match_groups)\n",
    "\n",
    "        if len(to_remove)>0:\n",
    "            rm_indexes = np.array(to_remove)\n",
    "            self.dfcorpus = self.dfcorpus.drop(self.dfcorpus.index[rm_indexes])\n",
    "            logging.info(f\"Removed {len(to_remove)} duplicate questions based on cosine similarity.\")\n",
    "        \"\"\"\n",
    "\n",
    "    @staticmethod\n",
    "    def plot_clusters(embeddings, cluster_assignment):\n",
    "        reducer = UMAP(n_components=2, metric='cosine', random_state=42)\n",
    "        reduced_embeds = reducer.fit_transform(embeddings)\n",
    "        \n",
    "        plt.scatter(reduced_embeds[:, 0], reduced_embeds[:, 1], \n",
    "                    c=cluster_assignment, cmap='Spectral', s=10)\n",
    "        plt.title(\"Clusters después de UMAP\")\n",
    "        plt.colorbar()\n",
    "        plt.show()\n",
    "\n",
    "    def train_cluster_model(self, corpus_embeddings):\n",
    "\n",
    "        if not self.num_clusters:\n",
    "            if len(corpus_embeddings)<15:\n",
    "                maxC=len(corpus_embeddings)\n",
    "            else:\n",
    "                maxC=20\n",
    "\n",
    "            scores = []\n",
    "            for i in range(0,5):\n",
    "                #score_g1, df = QuestionClusterer.optimalK(corpus_embeddings, maxClusters=maxC)\n",
    "                #score_g2 = QuestionClusterer.select_optimal_k_max(corpus_embeddings, max_k=maxC)\n",
    "                #score_g3 = QuestionClusterer.select_optimal_k(corpus_embeddings, maxClusters=maxC)\n",
    "                score_g = QuestionClusterer.select_k_thesis(corpus_embeddings, max_k=maxC)\n",
    "                #score_g5 = QuestionClusterer.combined_clustering_score(corpus_embeddings, max_k=maxC)\n",
    "                #logging.info(f\"gap statistic: {score_g1}, scd+meseta: {score_g2}, silhouette+knee+meseta: {score_g3}, ch+knee: {score_g}, scd: {score_g5}\")\n",
    "                scores.append(score_g)\n",
    "\n",
    "            score_g = mode(scores)\n",
    "            self.num_clusters = score_g\n",
    "\n",
    "        self.clustering_model = KMeans(n_clusters=self.num_clusters)\n",
    "        self.clustering_model.fit(corpus_embeddings)\n",
    "\n",
    "    def generate_embeddings(self):\n",
    "        corpus = self.dfcorpus[\"pregunta\"].tolist()\n",
    "        self.embeddings = self.embedder.encode(corpus, batch_size=48)\n",
    "        #logging.info(f'varianza: {np.var(corpus_embeddings).min() / np.var(corpus_embeddings).max()}')\n",
    "        #logging.info(f'varianza: {np.var(corpus_embeddings)}')\n",
    "\n",
    "        # Normalización de los embeddings\n",
    "        #scaler = StandardScaler()\n",
    "        #self.embeddings = scaler.fit_transform(corpus_embeddings)\n",
    "        #logging.info(f'varianza: {np.var(self.embeddings).min() / np.var(self.embeddings).max()}')\n",
    "        #logging.info(f'varianza: {np.var(self.embeddings)}')\n",
    "\n",
    "\n",
    "    def clusterize_dx_questions(self, num_clusters=None, n_components=15, n_neighbors=15, min_dist=0.1):\n",
    "        if num_clusters:\n",
    "            self.num_clusters = num_clusters\n",
    "\n",
    "        reducer = UMAP(n_components=n_components, n_neighbors=n_neighbors, min_dist=min_dist, metric='cosine', repulsion_strength=1.5)\n",
    "        embeddings_to_use = reducer.fit_transform(self.embeddings)\n",
    "        #reducer = PCA(n_components=n_components)\n",
    "        #embeddings_to_use = reducer.fit_transform(self.embeddings)\n",
    "        # Aplicar normalización\n",
    "        #embeddings_to_use = normalize(reduced_embeddings, norm='l2')\n",
    "        #embeddings_to_use = self.embeddings\n",
    "\n",
    "        self.train_cluster_model(embeddings_to_use)\n",
    "\n",
    "        cluster_assignment = self.clustering_model.labels_\n",
    "        cluster_assignment = [x + 1 for x in cluster_assignment]\n",
    "\n",
    "        self.dfcorpus['cluster'] = cluster_assignment\n",
    "\n",
    "        # Visualización\n",
    "        #QuestionClusterer.plot_clusters(embeddings_to_use, self.dfcorpus['cluster'])\n",
    "\n",
    "        # Evaluación\n",
    "        if len(set(cluster_assignment)) > 1:\n",
    "            silhouette = silhouette_score(embeddings_to_use, cluster_assignment, metric='cosine')\n",
    "            logging.info(f\"Silhouette Score: {silhouette:.3f}\")\n",
    "            return silhouette\n",
    "        else:\n",
    "            logging.warning(\"No se puede calcular el Silhouette Score con un único cluster.\")\n"
   ]
  },
  {
   "cell_type": "code",
   "execution_count": 3,
   "id": "8a16cf7f",
   "metadata": {},
   "outputs": [
    {
     "name": "stderr",
     "output_type": "stream",
     "text": [
      "2025-05-11 04:48:04,668 - INFO - Use pytorch device_name: mps\n",
      "2025-05-11 04:48:04,668 - INFO - Load pretrained SentenceTransformer: sentence-transformers/paraphrase-multilingual-mpnet-base-v2\n",
      "2025-05-11 04:48:09,119 - INFO - Fetched 94 questions from dx_question for REI ID: a40e039f-c630-4d30-a4db-e812e3106568 and period: cdbb4989-6aa7-4663-8dcf-5cee59a6f54a\n",
      "Batches: 100%|██████████| 2/2 [00:05<00:00,  2.87s/it]\n"
     ]
    }
   ],
   "source": [
    "rei_id = \"a40e039f-c630-4d30-a4db-e812e3106568\"\n",
    "period = \"cdbb4989-6aa7-4663-8dcf-5cee59a6f54a\"\n",
    "db_path = \"sqlite.db\"\n",
    "\n",
    "#embedder_model = 'sentence-transformers/paraphrase-multilingual-MiniLM-L12-v2'\n",
    "embedder_model='sentence-transformers/paraphrase-multilingual-mpnet-base-v2'\n",
    "#embedder_model=\"hiiamsid/sentence_similarity_spanish_es\"\n",
    "#embedder_model='projecte-aina/roberta-base-ca-v2'\n",
    "\n",
    "question_clusterer = QuestionClusterer(rei_id, period, num_clusters=0, embedder_model=embedder_model)\n",
    "question_clusterer.fetch_questions()\n",
    "question_clusterer.preprocess_questions()\n",
    "question_clusterer.generate_embeddings()"
   ]
  },
  {
   "cell_type": "markdown",
   "id": "fb1420be",
   "metadata": {},
   "source": [
    "# Metrics functions"
   ]
  },
  {
   "cell_type": "code",
   "execution_count": 3,
   "id": "49d42e9f",
   "metadata": {},
   "outputs": [],
   "source": [
    "def purity_score(y_true, y_pred):\n",
    "    contingency_matrix = metrics.cluster.contingency_matrix(y_true, y_pred)\n",
    "    return np.sum(np.amax(contingency_matrix, axis=0)) / np.sum(contingency_matrix)\n",
    "\n",
    "def calculate_metrics(df_real, labels_pred, cols=['JB', 'LF', 'KM1', 'NR1', 'MB']):\n",
    "    \"\"\"\n",
    "    Calculate clustering metrics for each human-labeled column in df_real.\n",
    "\n",
    "    Parameters:\n",
    "    - df_real: DataFrame containing human-labeled clusters.\n",
    "    - labels_pred: Predicted cluster labels from the model.\n",
    "    - cols: List of columns in df_real to compare against.\n",
    "\n",
    "    Returns:\n",
    "    - metrics_dict: Dictionary containing averaged metrics across all columns.\n",
    "    \"\"\"\n",
    "    results = []\n",
    "    for col in cols:\n",
    "        labels_true = df_real[col]\n",
    "        \n",
    "        # Calculate metrics\n",
    "        ami = metrics.adjusted_mutual_info_score(labels_true, labels_pred)\n",
    "        ari = metrics.adjusted_rand_score(labels_true, labels_pred)\n",
    "        purity = purity_score(labels_true, labels_pred)  # Using the purity_score function defined earlier\n",
    "        hom = metrics.homogeneity_score(labels_true, labels_pred)\n",
    "        com = metrics.completeness_score(labels_true, labels_pred)\n",
    "        nmi = metrics.normalized_mutual_info_score(labels_true, labels_pred)\n",
    "        vm = metrics.v_measure_score(labels_true, labels_pred)\n",
    "        \n",
    "        results.append({\n",
    "            'Ground Truth': col,\n",
    "            'AMI': ami,\n",
    "            'ARI': ari,\n",
    "            'NMI': nmi,\n",
    "            'Pureza': purity,\n",
    "            'Homogeneidad': hom,\n",
    "            'Completitud': com,\n",
    "            'V-measure': vm\n",
    "        })\n",
    "    \n",
    "    # Create a DataFrame from the results\n",
    "    metrics_df = pd.DataFrame(results)\n",
    "    \n",
    "    return metrics_df"
   ]
  },
  {
   "cell_type": "markdown",
   "id": "756f4105",
   "metadata": {},
   "source": [
    "# Preprocess humans clusters"
   ]
  },
  {
   "cell_type": "code",
   "execution_count": 5,
   "id": "ea051fd2",
   "metadata": {},
   "outputs": [
    {
     "name": "stdout",
     "output_type": "stream",
     "text": [
      "Los índices de df_real y dfcorpus están alineados correctamente.\n",
      "Todas las preguntas coinciden entre df y dfcorpus.\n"
     ]
    }
   ],
   "source": [
    "df_real = pd.read_excel('./ZBE-es.xlsx')\n",
    "# Limpiar nombres de columnas\n",
    "df_real.columns = df_real.columns.str.strip().str.replace(r\"\\s+\", \" \", regex=True)\n",
    "# Eliminar espacios al principio y al final de las celdas de texto\n",
    "df_real = df_real.map(lambda x: x.strip() if isinstance(x, str) else x)\n",
    "df_real = df_real.dropna(axis=1, how='any')\n",
    "\n",
    "# descartar filas que fueron eliminadas en el preprocesamiento\n",
    "df = df_real.loc[question_clusterer.dfcorpus.index]\n",
    "\n",
    "\n",
    "# Comparar índices de df_real y dfcorpus\n",
    "if df.index.equals(question_clusterer.dfcorpus.index):\n",
    "    print(\"Los índices de df_real y dfcorpus están alineados correctamente.\")\n",
    "else:\n",
    "    print(\"Los índices de df_real y dfcorpus no están alineados.\")\n",
    "\n",
    "# Comparar preguntas\n",
    "comparison = df['Question'] == question_clusterer.dfcorpus['pregunta']\n",
    "if comparison.all():\n",
    "    print(\"Todas las preguntas coinciden entre df y dfcorpus.\")\n",
    "else:\n",
    "    print(\"Algunas preguntas no coinciden entre df y dfcorpus.\")\n",
    "    print(\"Preguntas diferentes:\")\n",
    "    print(df.loc[~comparison, ['Question']])\n",
    "    print(question_clusterer.dfcorpus.loc[~comparison, ['pregunta']])"
   ]
  },
  {
   "cell_type": "markdown",
   "id": "1c05acfa",
   "metadata": {},
   "source": [
    "# Clusterizar y evaluar"
   ]
  },
  {
   "cell_type": "code",
   "execution_count": 6,
   "id": "0f879b8e",
   "metadata": {},
   "outputs": [
    {
     "name": "stderr",
     "output_type": "stream",
     "text": [
      "/Users/thesportydar/local_dev/reis-app/src/lib/report/.venv/lib/python3.13/site-packages/sklearn/utils/deprecation.py:151: FutureWarning: 'force_all_finite' was renamed to 'ensure_all_finite' in 1.6 and will be removed in 1.8.\n",
      "  warnings.warn(\n",
      "huggingface/tokenizers: The current process just got forked, after parallelism has already been used. Disabling parallelism to avoid deadlocks...\n",
      "To disable this warning, you can either:\n",
      "\t- Avoid using `tokenizers` before the fork if possible\n",
      "\t- Explicitly set the environment variable TOKENIZERS_PARALLELISM=(true | false)\n",
      "2025-05-11 04:48:34,289 - INFO - Silhouette Score: -0.218\n",
      "/Users/thesportydar/local_dev/reis-app/src/lib/report/.venv/lib/python3.13/site-packages/sklearn/utils/deprecation.py:151: FutureWarning: 'force_all_finite' was renamed to 'ensure_all_finite' in 1.6 and will be removed in 1.8.\n",
      "  warnings.warn(\n",
      "2025-05-11 04:48:34,550 - INFO - Silhouette Score: 0.523\n",
      "/Users/thesportydar/local_dev/reis-app/src/lib/report/.venv/lib/python3.13/site-packages/sklearn/utils/deprecation.py:151: FutureWarning: 'force_all_finite' was renamed to 'ensure_all_finite' in 1.6 and will be removed in 1.8.\n",
      "  warnings.warn(\n",
      "2025-05-11 04:48:34,816 - INFO - Silhouette Score: 0.595\n",
      "/Users/thesportydar/local_dev/reis-app/src/lib/report/.venv/lib/python3.13/site-packages/sklearn/utils/deprecation.py:151: FutureWarning: 'force_all_finite' was renamed to 'ensure_all_finite' in 1.6 and will be removed in 1.8.\n",
      "  warnings.warn(\n",
      "2025-05-11 04:48:35,072 - INFO - Silhouette Score: 0.629\n",
      "/Users/thesportydar/local_dev/reis-app/src/lib/report/.venv/lib/python3.13/site-packages/sklearn/utils/deprecation.py:151: FutureWarning: 'force_all_finite' was renamed to 'ensure_all_finite' in 1.6 and will be removed in 1.8.\n",
      "  warnings.warn(\n",
      "2025-05-11 04:48:35,381 - INFO - Silhouette Score: 0.658\n",
      "/Users/thesportydar/local_dev/reis-app/src/lib/report/.venv/lib/python3.13/site-packages/sklearn/utils/deprecation.py:151: FutureWarning: 'force_all_finite' was renamed to 'ensure_all_finite' in 1.6 and will be removed in 1.8.\n",
      "  warnings.warn(\n",
      "2025-05-11 04:48:35,663 - INFO - Silhouette Score: 0.689\n"
     ]
    }
   ],
   "source": [
    "# Pre-allocate lists to store results instead of growing DataFrame\n",
    "results = {\n",
    "    'Ground Truth': [],\n",
    "    'num_clusters': [],\n",
    "    'n_components': [],\n",
    "    'n_neighbors': [],\n",
    "    'min_dist': [],\n",
    "    'Silhouette': [],\n",
    "    'AMI': [],\n",
    "    'ARI': [],\n",
    "    'NMI': [],\n",
    "    'Pureza': [],\n",
    "    'Homogeneidad': [],\n",
    "    'Completitud': [],\n",
    "    'V-measure': []\n",
    "}\n",
    "\n",
    "# Define parameter ranges\n",
    "#num_clusters_range = range(2, 13)\n",
    "num_clusters_range = [0]\n",
    "#n_components_range = range(10, 80, 10)\n",
    "n_components_range = [2,5,8,10,12,15]\n",
    "#n_neighbors_range = range(5, 20, 5)\n",
    "n_neighbors_range = [15]\n",
    "#min_dist_range = [0.1, 0.2, 0.3, 0.4, 0.5]\n",
    "min_dist_range = [0.1]\n",
    "\n",
    "for num_clusters in num_clusters_range:\n",
    "    for n_components in n_components_range:\n",
    "        for n_neighbors in n_neighbors_range:\n",
    "            for min_dist in min_dist_range:\n",
    "                question_clusterer.num_clusters = None\n",
    "                sillhouette = question_clusterer.clusterize_dx_questions(\n",
    "                    num_clusters=num_clusters, \n",
    "                    n_components=n_components,\n",
    "                    n_neighbors=n_neighbors,\n",
    "                    min_dist=min_dist\n",
    "                )\n",
    "                \n",
    "                # Calculate met\n",
    "                met = calculate_metrics(\n",
    "                    df, \n",
    "                    question_clusterer.dfcorpus['cluster'], \n",
    "                    cols=['JB', 'LF', 'KM1', 'NR1', 'MB']\n",
    "                )\n",
    "                \n",
    "                # Append results to lists\n",
    "                for idx, row in met.iterrows():\n",
    "                    results['Ground Truth'].append(row['Ground Truth'])\n",
    "                    results['num_clusters'].append(question_clusterer.num_clusters)\n",
    "                    results['n_components'].append(n_components)\n",
    "                    results['n_neighbors'].append(n_neighbors)\n",
    "                    results['min_dist'].append(min_dist)\n",
    "                    results['Silhouette'].append(sillhouette)\n",
    "                    results['AMI'].append(row['AMI'])\n",
    "                    results['ARI'].append(row['ARI'])\n",
    "                    results['NMI'].append(row['NMI'])\n",
    "                    results['Pureza'].append(row['Pureza'])\n",
    "                    results['Homogeneidad'].append(row['Homogeneidad'])\n",
    "                    results['Completitud'].append(row['Completitud'])\n",
    "                    results['V-measure'].append(row['V-measure'])\n",
    "\n",
    "\n",
    "                question_clusterer.clustering_model = None\n",
    "                question_clusterer.dfcorpus['cluster'] = None\n",
    "\n",
    "# Convert results to DataFrame\n",
    "results_df = pd.DataFrame(results)\n"
   ]
  },
  {
   "cell_type": "code",
   "execution_count": 7,
   "id": "ce80fa0c",
   "metadata": {},
   "outputs": [
    {
     "data": {
      "text/html": [
       "<div>\n",
       "<style scoped>\n",
       "    .dataframe tbody tr th:only-of-type {\n",
       "        vertical-align: middle;\n",
       "    }\n",
       "\n",
       "    .dataframe tbody tr th {\n",
       "        vertical-align: top;\n",
       "    }\n",
       "\n",
       "    .dataframe thead th {\n",
       "        text-align: right;\n",
       "    }\n",
       "</style>\n",
       "<table border=\"1\" class=\"dataframe\">\n",
       "  <thead>\n",
       "    <tr style=\"text-align: right;\">\n",
       "      <th></th>\n",
       "      <th>Ground Truth</th>\n",
       "      <th>num_clusters</th>\n",
       "      <th>n_components</th>\n",
       "      <th>n_neighbors</th>\n",
       "      <th>min_dist</th>\n",
       "      <th>Silhouette</th>\n",
       "      <th>AMI</th>\n",
       "      <th>ARI</th>\n",
       "      <th>NMI</th>\n",
       "      <th>Pureza</th>\n",
       "      <th>Homogeneidad</th>\n",
       "      <th>Completitud</th>\n",
       "      <th>V-measure</th>\n",
       "    </tr>\n",
       "  </thead>\n",
       "  <tbody>\n",
       "    <tr>\n",
       "      <th>29</th>\n",
       "      <td>MB</td>\n",
       "      <td>11</td>\n",
       "      <td>15</td>\n",
       "      <td>15</td>\n",
       "      <td>0.1</td>\n",
       "      <td>0.689412</td>\n",
       "      <td>0.320370</td>\n",
       "      <td>0.231230</td>\n",
       "      <td>0.433786</td>\n",
       "      <td>0.606383</td>\n",
       "      <td>0.505261</td>\n",
       "      <td>0.380027</td>\n",
       "      <td>0.433786</td>\n",
       "    </tr>\n",
       "    <tr>\n",
       "      <th>28</th>\n",
       "      <td>NR1</td>\n",
       "      <td>11</td>\n",
       "      <td>15</td>\n",
       "      <td>15</td>\n",
       "      <td>0.1</td>\n",
       "      <td>0.689412</td>\n",
       "      <td>0.338730</td>\n",
       "      <td>0.214936</td>\n",
       "      <td>0.488222</td>\n",
       "      <td>0.563830</td>\n",
       "      <td>0.520325</td>\n",
       "      <td>0.459851</td>\n",
       "      <td>0.488222</td>\n",
       "    </tr>\n",
       "    <tr>\n",
       "      <th>27</th>\n",
       "      <td>KM1</td>\n",
       "      <td>11</td>\n",
       "      <td>15</td>\n",
       "      <td>15</td>\n",
       "      <td>0.1</td>\n",
       "      <td>0.689412</td>\n",
       "      <td>0.199321</td>\n",
       "      <td>0.103150</td>\n",
       "      <td>0.396487</td>\n",
       "      <td>0.489362</td>\n",
       "      <td>0.431604</td>\n",
       "      <td>0.366654</td>\n",
       "      <td>0.396487</td>\n",
       "    </tr>\n",
       "    <tr>\n",
       "      <th>26</th>\n",
       "      <td>LF</td>\n",
       "      <td>11</td>\n",
       "      <td>15</td>\n",
       "      <td>15</td>\n",
       "      <td>0.1</td>\n",
       "      <td>0.689412</td>\n",
       "      <td>0.207381</td>\n",
       "      <td>0.102562</td>\n",
       "      <td>0.467326</td>\n",
       "      <td>0.510638</td>\n",
       "      <td>0.478123</td>\n",
       "      <td>0.457005</td>\n",
       "      <td>0.467326</td>\n",
       "    </tr>\n",
       "    <tr>\n",
       "      <th>25</th>\n",
       "      <td>JB</td>\n",
       "      <td>11</td>\n",
       "      <td>15</td>\n",
       "      <td>15</td>\n",
       "      <td>0.1</td>\n",
       "      <td>0.689412</td>\n",
       "      <td>0.428291</td>\n",
       "      <td>0.284921</td>\n",
       "      <td>0.552242</td>\n",
       "      <td>0.627660</td>\n",
       "      <td>0.591129</td>\n",
       "      <td>0.518156</td>\n",
       "      <td>0.552242</td>\n",
       "    </tr>\n",
       "    <tr>\n",
       "      <th>24</th>\n",
       "      <td>MB</td>\n",
       "      <td>13</td>\n",
       "      <td>12</td>\n",
       "      <td>15</td>\n",
       "      <td>0.1</td>\n",
       "      <td>0.658256</td>\n",
       "      <td>0.331764</td>\n",
       "      <td>0.212002</td>\n",
       "      <td>0.458360</td>\n",
       "      <td>0.648936</td>\n",
       "      <td>0.554612</td>\n",
       "      <td>0.390576</td>\n",
       "      <td>0.458360</td>\n",
       "    </tr>\n",
       "    <tr>\n",
       "      <th>23</th>\n",
       "      <td>NR1</td>\n",
       "      <td>13</td>\n",
       "      <td>12</td>\n",
       "      <td>15</td>\n",
       "      <td>0.1</td>\n",
       "      <td>0.658256</td>\n",
       "      <td>0.304955</td>\n",
       "      <td>0.161813</td>\n",
       "      <td>0.479877</td>\n",
       "      <td>0.563830</td>\n",
       "      <td>0.529900</td>\n",
       "      <td>0.438484</td>\n",
       "      <td>0.479877</td>\n",
       "    </tr>\n",
       "    <tr>\n",
       "      <th>22</th>\n",
       "      <td>KM1</td>\n",
       "      <td>13</td>\n",
       "      <td>12</td>\n",
       "      <td>15</td>\n",
       "      <td>0.1</td>\n",
       "      <td>0.658256</td>\n",
       "      <td>0.213372</td>\n",
       "      <td>0.113608</td>\n",
       "      <td>0.425545</td>\n",
       "      <td>0.510638</td>\n",
       "      <td>0.480273</td>\n",
       "      <td>0.382013</td>\n",
       "      <td>0.425545</td>\n",
       "    </tr>\n",
       "    <tr>\n",
       "      <th>21</th>\n",
       "      <td>LF</td>\n",
       "      <td>13</td>\n",
       "      <td>12</td>\n",
       "      <td>15</td>\n",
       "      <td>0.1</td>\n",
       "      <td>0.658256</td>\n",
       "      <td>0.145435</td>\n",
       "      <td>0.076659</td>\n",
       "      <td>0.445524</td>\n",
       "      <td>0.510638</td>\n",
       "      <td>0.471671</td>\n",
       "      <td>0.422123</td>\n",
       "      <td>0.445524</td>\n",
       "    </tr>\n",
       "    <tr>\n",
       "      <th>20</th>\n",
       "      <td>JB</td>\n",
       "      <td>13</td>\n",
       "      <td>12</td>\n",
       "      <td>15</td>\n",
       "      <td>0.1</td>\n",
       "      <td>0.658256</td>\n",
       "      <td>0.406557</td>\n",
       "      <td>0.286613</td>\n",
       "      <td>0.550853</td>\n",
       "      <td>0.659574</td>\n",
       "      <td>0.611016</td>\n",
       "      <td>0.501475</td>\n",
       "      <td>0.550853</td>\n",
       "    </tr>\n",
       "    <tr>\n",
       "      <th>16</th>\n",
       "      <td>LF</td>\n",
       "      <td>12</td>\n",
       "      <td>10</td>\n",
       "      <td>15</td>\n",
       "      <td>0.1</td>\n",
       "      <td>0.629111</td>\n",
       "      <td>0.180280</td>\n",
       "      <td>0.086379</td>\n",
       "      <td>0.459933</td>\n",
       "      <td>0.510638</td>\n",
       "      <td>0.480343</td>\n",
       "      <td>0.441187</td>\n",
       "      <td>0.459933</td>\n",
       "    </tr>\n",
       "    <tr>\n",
       "      <th>19</th>\n",
       "      <td>MB</td>\n",
       "      <td>12</td>\n",
       "      <td>10</td>\n",
       "      <td>15</td>\n",
       "      <td>0.1</td>\n",
       "      <td>0.629111</td>\n",
       "      <td>0.355077</td>\n",
       "      <td>0.232809</td>\n",
       "      <td>0.470506</td>\n",
       "      <td>0.648936</td>\n",
       "      <td>0.560751</td>\n",
       "      <td>0.405283</td>\n",
       "      <td>0.470506</td>\n",
       "    </tr>\n",
       "    <tr>\n",
       "      <th>18</th>\n",
       "      <td>NR1</td>\n",
       "      <td>12</td>\n",
       "      <td>10</td>\n",
       "      <td>15</td>\n",
       "      <td>0.1</td>\n",
       "      <td>0.629111</td>\n",
       "      <td>0.289643</td>\n",
       "      <td>0.177353</td>\n",
       "      <td>0.460274</td>\n",
       "      <td>0.542553</td>\n",
       "      <td>0.501128</td>\n",
       "      <td>0.425579</td>\n",
       "      <td>0.460274</td>\n",
       "    </tr>\n",
       "    <tr>\n",
       "      <th>17</th>\n",
       "      <td>KM1</td>\n",
       "      <td>12</td>\n",
       "      <td>10</td>\n",
       "      <td>15</td>\n",
       "      <td>0.1</td>\n",
       "      <td>0.629111</td>\n",
       "      <td>0.177907</td>\n",
       "      <td>0.101808</td>\n",
       "      <td>0.391082</td>\n",
       "      <td>0.489362</td>\n",
       "      <td>0.435080</td>\n",
       "      <td>0.355165</td>\n",
       "      <td>0.391082</td>\n",
       "    </tr>\n",
       "    <tr>\n",
       "      <th>15</th>\n",
       "      <td>JB</td>\n",
       "      <td>12</td>\n",
       "      <td>10</td>\n",
       "      <td>15</td>\n",
       "      <td>0.1</td>\n",
       "      <td>0.629111</td>\n",
       "      <td>0.387593</td>\n",
       "      <td>0.268816</td>\n",
       "      <td>0.529302</td>\n",
       "      <td>0.595745</td>\n",
       "      <td>0.578851</td>\n",
       "      <td>0.487568</td>\n",
       "      <td>0.529302</td>\n",
       "    </tr>\n",
       "    <tr>\n",
       "      <th>14</th>\n",
       "      <td>MB</td>\n",
       "      <td>11</td>\n",
       "      <td>8</td>\n",
       "      <td>15</td>\n",
       "      <td>0.1</td>\n",
       "      <td>0.594876</td>\n",
       "      <td>0.336394</td>\n",
       "      <td>0.228789</td>\n",
       "      <td>0.447354</td>\n",
       "      <td>0.627660</td>\n",
       "      <td>0.519534</td>\n",
       "      <td>0.392784</td>\n",
       "      <td>0.447354</td>\n",
       "    </tr>\n",
       "    <tr>\n",
       "      <th>13</th>\n",
       "      <td>NR1</td>\n",
       "      <td>11</td>\n",
       "      <td>8</td>\n",
       "      <td>15</td>\n",
       "      <td>0.1</td>\n",
       "      <td>0.594876</td>\n",
       "      <td>0.302144</td>\n",
       "      <td>0.163466</td>\n",
       "      <td>0.459927</td>\n",
       "      <td>0.542553</td>\n",
       "      <td>0.488830</td>\n",
       "      <td>0.434251</td>\n",
       "      <td>0.459927</td>\n",
       "    </tr>\n",
       "    <tr>\n",
       "      <th>12</th>\n",
       "      <td>KM1</td>\n",
       "      <td>11</td>\n",
       "      <td>8</td>\n",
       "      <td>15</td>\n",
       "      <td>0.1</td>\n",
       "      <td>0.594876</td>\n",
       "      <td>0.182429</td>\n",
       "      <td>0.094081</td>\n",
       "      <td>0.383525</td>\n",
       "      <td>0.478723</td>\n",
       "      <td>0.416332</td>\n",
       "      <td>0.355510</td>\n",
       "      <td>0.383525</td>\n",
       "    </tr>\n",
       "    <tr>\n",
       "      <th>11</th>\n",
       "      <td>LF</td>\n",
       "      <td>11</td>\n",
       "      <td>8</td>\n",
       "      <td>15</td>\n",
       "      <td>0.1</td>\n",
       "      <td>0.594876</td>\n",
       "      <td>0.153844</td>\n",
       "      <td>0.075065</td>\n",
       "      <td>0.430739</td>\n",
       "      <td>0.510638</td>\n",
       "      <td>0.439532</td>\n",
       "      <td>0.422292</td>\n",
       "      <td>0.430739</td>\n",
       "    </tr>\n",
       "    <tr>\n",
       "      <th>10</th>\n",
       "      <td>JB</td>\n",
       "      <td>11</td>\n",
       "      <td>8</td>\n",
       "      <td>15</td>\n",
       "      <td>0.1</td>\n",
       "      <td>0.594876</td>\n",
       "      <td>0.399646</td>\n",
       "      <td>0.282445</td>\n",
       "      <td>0.529809</td>\n",
       "      <td>0.638298</td>\n",
       "      <td>0.565560</td>\n",
       "      <td>0.498309</td>\n",
       "      <td>0.529809</td>\n",
       "    </tr>\n",
       "    <tr>\n",
       "      <th>9</th>\n",
       "      <td>MB</td>\n",
       "      <td>12</td>\n",
       "      <td>5</td>\n",
       "      <td>15</td>\n",
       "      <td>0.1</td>\n",
       "      <td>0.523256</td>\n",
       "      <td>0.335578</td>\n",
       "      <td>0.206734</td>\n",
       "      <td>0.454322</td>\n",
       "      <td>0.606383</td>\n",
       "      <td>0.541246</td>\n",
       "      <td>0.391454</td>\n",
       "      <td>0.454322</td>\n",
       "    </tr>\n",
       "    <tr>\n",
       "      <th>8</th>\n",
       "      <td>NR1</td>\n",
       "      <td>12</td>\n",
       "      <td>5</td>\n",
       "      <td>15</td>\n",
       "      <td>0.1</td>\n",
       "      <td>0.523256</td>\n",
       "      <td>0.343489</td>\n",
       "      <td>0.189206</td>\n",
       "      <td>0.500964</td>\n",
       "      <td>0.585106</td>\n",
       "      <td>0.545228</td>\n",
       "      <td>0.463348</td>\n",
       "      <td>0.500964</td>\n",
       "    </tr>\n",
       "    <tr>\n",
       "      <th>7</th>\n",
       "      <td>KM1</td>\n",
       "      <td>12</td>\n",
       "      <td>5</td>\n",
       "      <td>15</td>\n",
       "      <td>0.1</td>\n",
       "      <td>0.523256</td>\n",
       "      <td>0.205498</td>\n",
       "      <td>0.111550</td>\n",
       "      <td>0.411313</td>\n",
       "      <td>0.510638</td>\n",
       "      <td>0.457415</td>\n",
       "      <td>0.373653</td>\n",
       "      <td>0.411313</td>\n",
       "    </tr>\n",
       "    <tr>\n",
       "      <th>6</th>\n",
       "      <td>LF</td>\n",
       "      <td>12</td>\n",
       "      <td>5</td>\n",
       "      <td>15</td>\n",
       "      <td>0.1</td>\n",
       "      <td>0.523256</td>\n",
       "      <td>0.171927</td>\n",
       "      <td>0.086379</td>\n",
       "      <td>0.454232</td>\n",
       "      <td>0.521277</td>\n",
       "      <td>0.474220</td>\n",
       "      <td>0.435861</td>\n",
       "      <td>0.454232</td>\n",
       "    </tr>\n",
       "    <tr>\n",
       "      <th>5</th>\n",
       "      <td>JB</td>\n",
       "      <td>12</td>\n",
       "      <td>5</td>\n",
       "      <td>15</td>\n",
       "      <td>0.1</td>\n",
       "      <td>0.523256</td>\n",
       "      <td>0.448601</td>\n",
       "      <td>0.318750</td>\n",
       "      <td>0.575999</td>\n",
       "      <td>0.680851</td>\n",
       "      <td>0.629685</td>\n",
       "      <td>0.530749</td>\n",
       "      <td>0.575999</td>\n",
       "    </tr>\n",
       "    <tr>\n",
       "      <th>1</th>\n",
       "      <td>LF</td>\n",
       "      <td>15</td>\n",
       "      <td>2</td>\n",
       "      <td>15</td>\n",
       "      <td>0.1</td>\n",
       "      <td>-0.218190</td>\n",
       "      <td>0.163958</td>\n",
       "      <td>0.081379</td>\n",
       "      <td>0.470733</td>\n",
       "      <td>0.531915</td>\n",
       "      <td>0.507154</td>\n",
       "      <td>0.439193</td>\n",
       "      <td>0.470733</td>\n",
       "    </tr>\n",
       "    <tr>\n",
       "      <th>4</th>\n",
       "      <td>MB</td>\n",
       "      <td>15</td>\n",
       "      <td>2</td>\n",
       "      <td>15</td>\n",
       "      <td>0.1</td>\n",
       "      <td>-0.218190</td>\n",
       "      <td>0.285072</td>\n",
       "      <td>0.162436</td>\n",
       "      <td>0.434265</td>\n",
       "      <td>0.627660</td>\n",
       "      <td>0.535767</td>\n",
       "      <td>0.365097</td>\n",
       "      <td>0.434265</td>\n",
       "    </tr>\n",
       "    <tr>\n",
       "      <th>3</th>\n",
       "      <td>NR1</td>\n",
       "      <td>15</td>\n",
       "      <td>2</td>\n",
       "      <td>15</td>\n",
       "      <td>0.1</td>\n",
       "      <td>-0.218190</td>\n",
       "      <td>0.268431</td>\n",
       "      <td>0.137503</td>\n",
       "      <td>0.467039</td>\n",
       "      <td>0.563830</td>\n",
       "      <td>0.525159</td>\n",
       "      <td>0.420501</td>\n",
       "      <td>0.467039</td>\n",
       "    </tr>\n",
       "    <tr>\n",
       "      <th>2</th>\n",
       "      <td>KM1</td>\n",
       "      <td>15</td>\n",
       "      <td>2</td>\n",
       "      <td>15</td>\n",
       "      <td>0.1</td>\n",
       "      <td>-0.218190</td>\n",
       "      <td>0.191142</td>\n",
       "      <td>0.092682</td>\n",
       "      <td>0.423483</td>\n",
       "      <td>0.542553</td>\n",
       "      <td>0.486847</td>\n",
       "      <td>0.374713</td>\n",
       "      <td>0.423483</td>\n",
       "    </tr>\n",
       "    <tr>\n",
       "      <th>0</th>\n",
       "      <td>JB</td>\n",
       "      <td>15</td>\n",
       "      <td>2</td>\n",
       "      <td>15</td>\n",
       "      <td>0.1</td>\n",
       "      <td>-0.218190</td>\n",
       "      <td>0.365235</td>\n",
       "      <td>0.224620</td>\n",
       "      <td>0.532368</td>\n",
       "      <td>0.627660</td>\n",
       "      <td>0.601357</td>\n",
       "      <td>0.477579</td>\n",
       "      <td>0.532368</td>\n",
       "    </tr>\n",
       "  </tbody>\n",
       "</table>\n",
       "</div>"
      ],
      "text/plain": [
       "   Ground Truth  num_clusters  n_components  n_neighbors  min_dist  \\\n",
       "29           MB            11            15           15       0.1   \n",
       "28          NR1            11            15           15       0.1   \n",
       "27          KM1            11            15           15       0.1   \n",
       "26           LF            11            15           15       0.1   \n",
       "25           JB            11            15           15       0.1   \n",
       "24           MB            13            12           15       0.1   \n",
       "23          NR1            13            12           15       0.1   \n",
       "22          KM1            13            12           15       0.1   \n",
       "21           LF            13            12           15       0.1   \n",
       "20           JB            13            12           15       0.1   \n",
       "16           LF            12            10           15       0.1   \n",
       "19           MB            12            10           15       0.1   \n",
       "18          NR1            12            10           15       0.1   \n",
       "17          KM1            12            10           15       0.1   \n",
       "15           JB            12            10           15       0.1   \n",
       "14           MB            11             8           15       0.1   \n",
       "13          NR1            11             8           15       0.1   \n",
       "12          KM1            11             8           15       0.1   \n",
       "11           LF            11             8           15       0.1   \n",
       "10           JB            11             8           15       0.1   \n",
       "9            MB            12             5           15       0.1   \n",
       "8           NR1            12             5           15       0.1   \n",
       "7           KM1            12             5           15       0.1   \n",
       "6            LF            12             5           15       0.1   \n",
       "5            JB            12             5           15       0.1   \n",
       "1            LF            15             2           15       0.1   \n",
       "4            MB            15             2           15       0.1   \n",
       "3           NR1            15             2           15       0.1   \n",
       "2           KM1            15             2           15       0.1   \n",
       "0            JB            15             2           15       0.1   \n",
       "\n",
       "    Silhouette       AMI       ARI       NMI    Pureza  Homogeneidad  \\\n",
       "29    0.689412  0.320370  0.231230  0.433786  0.606383      0.505261   \n",
       "28    0.689412  0.338730  0.214936  0.488222  0.563830      0.520325   \n",
       "27    0.689412  0.199321  0.103150  0.396487  0.489362      0.431604   \n",
       "26    0.689412  0.207381  0.102562  0.467326  0.510638      0.478123   \n",
       "25    0.689412  0.428291  0.284921  0.552242  0.627660      0.591129   \n",
       "24    0.658256  0.331764  0.212002  0.458360  0.648936      0.554612   \n",
       "23    0.658256  0.304955  0.161813  0.479877  0.563830      0.529900   \n",
       "22    0.658256  0.213372  0.113608  0.425545  0.510638      0.480273   \n",
       "21    0.658256  0.145435  0.076659  0.445524  0.510638      0.471671   \n",
       "20    0.658256  0.406557  0.286613  0.550853  0.659574      0.611016   \n",
       "16    0.629111  0.180280  0.086379  0.459933  0.510638      0.480343   \n",
       "19    0.629111  0.355077  0.232809  0.470506  0.648936      0.560751   \n",
       "18    0.629111  0.289643  0.177353  0.460274  0.542553      0.501128   \n",
       "17    0.629111  0.177907  0.101808  0.391082  0.489362      0.435080   \n",
       "15    0.629111  0.387593  0.268816  0.529302  0.595745      0.578851   \n",
       "14    0.594876  0.336394  0.228789  0.447354  0.627660      0.519534   \n",
       "13    0.594876  0.302144  0.163466  0.459927  0.542553      0.488830   \n",
       "12    0.594876  0.182429  0.094081  0.383525  0.478723      0.416332   \n",
       "11    0.594876  0.153844  0.075065  0.430739  0.510638      0.439532   \n",
       "10    0.594876  0.399646  0.282445  0.529809  0.638298      0.565560   \n",
       "9     0.523256  0.335578  0.206734  0.454322  0.606383      0.541246   \n",
       "8     0.523256  0.343489  0.189206  0.500964  0.585106      0.545228   \n",
       "7     0.523256  0.205498  0.111550  0.411313  0.510638      0.457415   \n",
       "6     0.523256  0.171927  0.086379  0.454232  0.521277      0.474220   \n",
       "5     0.523256  0.448601  0.318750  0.575999  0.680851      0.629685   \n",
       "1    -0.218190  0.163958  0.081379  0.470733  0.531915      0.507154   \n",
       "4    -0.218190  0.285072  0.162436  0.434265  0.627660      0.535767   \n",
       "3    -0.218190  0.268431  0.137503  0.467039  0.563830      0.525159   \n",
       "2    -0.218190  0.191142  0.092682  0.423483  0.542553      0.486847   \n",
       "0    -0.218190  0.365235  0.224620  0.532368  0.627660      0.601357   \n",
       "\n",
       "    Completitud  V-measure  \n",
       "29     0.380027   0.433786  \n",
       "28     0.459851   0.488222  \n",
       "27     0.366654   0.396487  \n",
       "26     0.457005   0.467326  \n",
       "25     0.518156   0.552242  \n",
       "24     0.390576   0.458360  \n",
       "23     0.438484   0.479877  \n",
       "22     0.382013   0.425545  \n",
       "21     0.422123   0.445524  \n",
       "20     0.501475   0.550853  \n",
       "16     0.441187   0.459933  \n",
       "19     0.405283   0.470506  \n",
       "18     0.425579   0.460274  \n",
       "17     0.355165   0.391082  \n",
       "15     0.487568   0.529302  \n",
       "14     0.392784   0.447354  \n",
       "13     0.434251   0.459927  \n",
       "12     0.355510   0.383525  \n",
       "11     0.422292   0.430739  \n",
       "10     0.498309   0.529809  \n",
       "9      0.391454   0.454322  \n",
       "8      0.463348   0.500964  \n",
       "7      0.373653   0.411313  \n",
       "6      0.435861   0.454232  \n",
       "5      0.530749   0.575999  \n",
       "1      0.439193   0.470733  \n",
       "4      0.365097   0.434265  \n",
       "3      0.420501   0.467039  \n",
       "2      0.374713   0.423483  \n",
       "0      0.477579   0.532368  "
      ]
     },
     "execution_count": 7,
     "metadata": {},
     "output_type": "execute_result"
    }
   ],
   "source": [
    "results_df.sort_values(by='Silhouette', ascending=False)"
   ]
  },
  {
   "cell_type": "markdown",
   "id": "8acc48cb",
   "metadata": {},
   "source": [
    "# Ponderar resultados"
   ]
  },
  {
   "cell_type": "code",
   "execution_count": 4,
   "id": "0c749103",
   "metadata": {},
   "outputs": [],
   "source": [
    "df_real = pd.read_excel('./ZBE-es.xlsx')\n",
    "# Limpiar nombres de columnas\n",
    "df_real.columns = df_real.columns.str.strip().str.replace(r\"\\s+\", \" \", regex=True)\n",
    "# Eliminar espacios al principio y al final de las celdas de texto\n",
    "df_real = df_real.map(lambda x: x.strip() if isinstance(x, str) else x)\n",
    "df_real = df_real.dropna(axis=1, how='any')\n",
    "\n",
    "def get_df(df_real, dfcorpus):\n",
    "     # descartar filas que fueron eliminadas en el preprocesamiento\n",
    "    df = df_real.loc[dfcorpus.index]\n",
    "\n",
    "\n",
    "    # Comparar índices de df_real y dfcorpus\n",
    "    if df.index.equals(dfcorpus.index):\n",
    "        print(\"Los índices de df_real y dfcorpus están alineados correctamente.\")\n",
    "    else:\n",
    "        print(\"Los índices de df_real y dfcorpus no están alineados.\")\n",
    "\n",
    "    # Comparar preguntas\n",
    "    comparison = df['Question'] == dfcorpus['pregunta']\n",
    "    if comparison.all():\n",
    "        print(\"Todas las preguntas coinciden entre df y dfcorpus.\")\n",
    "    else:\n",
    "        print(\"Algunas preguntas no coinciden entre df y dfcorpus.\")\n",
    "        print(\"Preguntas diferentes:\")\n",
    "        print(df.loc[~comparison, ['Question']])\n",
    "        print(dfcorpus.loc[~comparison, ['pregunta']])\n",
    "\n",
    "    return df"
   ]
  },
  {
   "cell_type": "code",
   "execution_count": 7,
   "id": "0d0772a9",
   "metadata": {},
   "outputs": [],
   "source": [
    "import torch\n",
    "from torch.nn.functional import normalize\n",
    "from transformers import AutoModel, AutoTokenizer\n",
    "\n",
    "class RobertaEmbedder:\n",
    "    def __init__(self, model_name='projecte-aina/roberta-base-ca-v2', dtype=torch.float32):\n",
    "        self.tokenizer = AutoTokenizer.from_pretrained(model_name)\n",
    "        self.model = AutoModel.from_pretrained(model_name, torch_dtype=dtype)\n",
    "        self.model.eval()\n",
    "        self.device = torch.device(\"mps\" if torch.backends.mps.is_available() else \"cpu\")\n",
    "        self.model.to(self.device)\n",
    "\n",
    "    def encode(self, sentences, batch_size=32, normalize_embeddings=True):\n",
    "        all_embeddings = []\n",
    "\n",
    "        for i in range(0, len(sentences), batch_size):\n",
    "            batch = sentences[i:i + batch_size]\n",
    "            encoded_input = self.tokenizer(batch, padding=True, truncation=True, return_tensors='pt').to(self.device)\n",
    "\n",
    "            with torch.no_grad():\n",
    "                model_output = self.model(**encoded_input)\n",
    "\n",
    "            # CLS token pooling (position 0)\n",
    "            embeddings = model_output.last_hidden_state[:, 0, :]\n",
    "\n",
    "            if normalize_embeddings:\n",
    "                embeddings = normalize(embeddings, p=2, dim=1)\n",
    "\n",
    "            all_embeddings.append(embeddings.cpu())\n",
    "\n",
    "        return torch.cat(all_embeddings, dim=0)"
   ]
  },
  {
   "cell_type": "code",
   "execution_count": 5,
   "id": "7829c58c",
   "metadata": {},
   "outputs": [
    {
     "name": "stderr",
     "output_type": "stream",
     "text": [
      "2025-05-11 16:30:54,125 - INFO - Use pytorch device_name: mps\n",
      "2025-05-11 16:30:54,125 - INFO - Load pretrained SentenceTransformer: sentence-transformers/paraphrase-multilingual-mpnet-base-v2\n",
      "2025-05-11 16:30:58,204 - INFO - Fetched 94 questions from dx_question for REI ID: a40e039f-c630-4d30-a4db-e812e3106568 and period: cdbb4989-6aa7-4663-8dcf-5cee59a6f54a\n",
      "Batches: 100%|██████████| 2/2 [00:00<00:00,  2.17it/s]\n",
      "/Users/thesportydar/local_dev/reis-app/src/lib/report/.venv/lib/python3.13/site-packages/sklearn/utils/deprecation.py:151: FutureWarning: 'force_all_finite' was renamed to 'ensure_all_finite' in 1.6 and will be removed in 1.8.\n",
      "  warnings.warn(\n",
      "huggingface/tokenizers: The current process just got forked, after parallelism has already been used. Disabling parallelism to avoid deadlocks...\n",
      "To disable this warning, you can either:\n",
      "\t- Avoid using `tokenizers` before the fork if possible\n",
      "\t- Explicitly set the environment variable TOKENIZERS_PARALLELISM=(true | false)\n",
      "2025-05-11 16:31:03,025 - INFO - Silhouette Score: 0.667\n",
      "/var/folders/47/0f50f7d96p5b7mhd9yfrspy40000gn/T/ipykernel_2567/4142157722.py:52: FutureWarning: The behavior of DataFrame concatenation with empty or all-NA entries is deprecated. In a future version, this will no longer exclude empty or all-NA columns when determining the result dtypes. To retain the old behavior, exclude the relevant entries before the concat operation.\n",
      "  results_df = pd.concat([results_df, met], ignore_index=True)\n",
      "/Users/thesportydar/local_dev/reis-app/src/lib/report/.venv/lib/python3.13/site-packages/sklearn/utils/deprecation.py:151: FutureWarning: 'force_all_finite' was renamed to 'ensure_all_finite' in 1.6 and will be removed in 1.8.\n",
      "  warnings.warn(\n"
     ]
    },
    {
     "name": "stdout",
     "output_type": "stream",
     "text": [
      "Los índices de df_real y dfcorpus están alineados correctamente.\n",
      "Todas las preguntas coinciden entre df y dfcorpus.\n"
     ]
    },
    {
     "name": "stderr",
     "output_type": "stream",
     "text": [
      "2025-05-11 16:31:03,274 - INFO - Silhouette Score: 0.505\n",
      "/Users/thesportydar/local_dev/reis-app/src/lib/report/.venv/lib/python3.13/site-packages/sklearn/utils/deprecation.py:151: FutureWarning: 'force_all_finite' was renamed to 'ensure_all_finite' in 1.6 and will be removed in 1.8.\n",
      "  warnings.warn(\n"
     ]
    },
    {
     "name": "stdout",
     "output_type": "stream",
     "text": [
      "Los índices de df_real y dfcorpus están alineados correctamente.\n",
      "Todas las preguntas coinciden entre df y dfcorpus.\n"
     ]
    },
    {
     "name": "stderr",
     "output_type": "stream",
     "text": [
      "2025-05-11 16:31:03,505 - INFO - Silhouette Score: 0.665\n",
      "/Users/thesportydar/local_dev/reis-app/src/lib/report/.venv/lib/python3.13/site-packages/sklearn/utils/deprecation.py:151: FutureWarning: 'force_all_finite' was renamed to 'ensure_all_finite' in 1.6 and will be removed in 1.8.\n",
      "  warnings.warn(\n"
     ]
    },
    {
     "name": "stdout",
     "output_type": "stream",
     "text": [
      "Los índices de df_real y dfcorpus están alineados correctamente.\n",
      "Todas las preguntas coinciden entre df y dfcorpus.\n"
     ]
    },
    {
     "name": "stderr",
     "output_type": "stream",
     "text": [
      "2025-05-11 16:31:03,745 - INFO - Silhouette Score: 0.703\n",
      "/Users/thesportydar/local_dev/reis-app/src/lib/report/.venv/lib/python3.13/site-packages/sklearn/utils/deprecation.py:151: FutureWarning: 'force_all_finite' was renamed to 'ensure_all_finite' in 1.6 and will be removed in 1.8.\n",
      "  warnings.warn(\n"
     ]
    },
    {
     "name": "stdout",
     "output_type": "stream",
     "text": [
      "Los índices de df_real y dfcorpus están alineados correctamente.\n",
      "Todas las preguntas coinciden entre df y dfcorpus.\n"
     ]
    },
    {
     "name": "stderr",
     "output_type": "stream",
     "text": [
      "2025-05-11 16:31:03,987 - INFO - Silhouette Score: 0.670\n",
      "/Users/thesportydar/local_dev/reis-app/src/lib/report/.venv/lib/python3.13/site-packages/sklearn/utils/deprecation.py:151: FutureWarning: 'force_all_finite' was renamed to 'ensure_all_finite' in 1.6 and will be removed in 1.8.\n",
      "  warnings.warn(\n"
     ]
    },
    {
     "name": "stdout",
     "output_type": "stream",
     "text": [
      "Los índices de df_real y dfcorpus están alineados correctamente.\n",
      "Todas las preguntas coinciden entre df y dfcorpus.\n"
     ]
    },
    {
     "name": "stderr",
     "output_type": "stream",
     "text": [
      "2025-05-11 16:31:04,226 - INFO - Silhouette Score: 0.633\n",
      "/Users/thesportydar/local_dev/reis-app/src/lib/report/.venv/lib/python3.13/site-packages/sklearn/utils/deprecation.py:151: FutureWarning: 'force_all_finite' was renamed to 'ensure_all_finite' in 1.6 and will be removed in 1.8.\n",
      "  warnings.warn(\n"
     ]
    },
    {
     "name": "stdout",
     "output_type": "stream",
     "text": [
      "Los índices de df_real y dfcorpus están alineados correctamente.\n",
      "Todas las preguntas coinciden entre df y dfcorpus.\n"
     ]
    },
    {
     "name": "stderr",
     "output_type": "stream",
     "text": [
      "2025-05-11 16:31:04,474 - INFO - Silhouette Score: 0.700\n",
      "/Users/thesportydar/local_dev/reis-app/src/lib/report/.venv/lib/python3.13/site-packages/sklearn/utils/deprecation.py:151: FutureWarning: 'force_all_finite' was renamed to 'ensure_all_finite' in 1.6 and will be removed in 1.8.\n",
      "  warnings.warn(\n"
     ]
    },
    {
     "name": "stdout",
     "output_type": "stream",
     "text": [
      "Los índices de df_real y dfcorpus están alineados correctamente.\n",
      "Todas las preguntas coinciden entre df y dfcorpus.\n"
     ]
    },
    {
     "name": "stderr",
     "output_type": "stream",
     "text": [
      "2025-05-11 16:31:04,708 - INFO - Silhouette Score: 0.599\n",
      "/Users/thesportydar/local_dev/reis-app/src/lib/report/.venv/lib/python3.13/site-packages/sklearn/utils/deprecation.py:151: FutureWarning: 'force_all_finite' was renamed to 'ensure_all_finite' in 1.6 and will be removed in 1.8.\n",
      "  warnings.warn(\n"
     ]
    },
    {
     "name": "stdout",
     "output_type": "stream",
     "text": [
      "Los índices de df_real y dfcorpus están alineados correctamente.\n",
      "Todas las preguntas coinciden entre df y dfcorpus.\n"
     ]
    },
    {
     "name": "stderr",
     "output_type": "stream",
     "text": [
      "2025-05-11 16:31:04,986 - INFO - Silhouette Score: 0.696\n",
      "/Users/thesportydar/local_dev/reis-app/src/lib/report/.venv/lib/python3.13/site-packages/sklearn/utils/deprecation.py:151: FutureWarning: 'force_all_finite' was renamed to 'ensure_all_finite' in 1.6 and will be removed in 1.8.\n",
      "  warnings.warn(\n"
     ]
    },
    {
     "name": "stdout",
     "output_type": "stream",
     "text": [
      "Los índices de df_real y dfcorpus están alineados correctamente.\n",
      "Todas las preguntas coinciden entre df y dfcorpus.\n"
     ]
    },
    {
     "name": "stderr",
     "output_type": "stream",
     "text": [
      "2025-05-11 16:31:05,219 - INFO - Silhouette Score: 0.642\n",
      "/Users/thesportydar/local_dev/reis-app/src/lib/report/.venv/lib/python3.13/site-packages/sklearn/utils/deprecation.py:151: FutureWarning: 'force_all_finite' was renamed to 'ensure_all_finite' in 1.6 and will be removed in 1.8.\n",
      "  warnings.warn(\n"
     ]
    },
    {
     "name": "stdout",
     "output_type": "stream",
     "text": [
      "Los índices de df_real y dfcorpus están alineados correctamente.\n",
      "Todas las preguntas coinciden entre df y dfcorpus.\n"
     ]
    },
    {
     "name": "stderr",
     "output_type": "stream",
     "text": [
      "2025-05-11 16:31:05,459 - INFO - Silhouette Score: 0.619\n",
      "/Users/thesportydar/local_dev/reis-app/src/lib/report/.venv/lib/python3.13/site-packages/sklearn/utils/deprecation.py:151: FutureWarning: 'force_all_finite' was renamed to 'ensure_all_finite' in 1.6 and will be removed in 1.8.\n",
      "  warnings.warn(\n"
     ]
    },
    {
     "name": "stdout",
     "output_type": "stream",
     "text": [
      "Los índices de df_real y dfcorpus están alineados correctamente.\n",
      "Todas las preguntas coinciden entre df y dfcorpus.\n"
     ]
    },
    {
     "name": "stderr",
     "output_type": "stream",
     "text": [
      "2025-05-11 16:31:05,701 - INFO - Silhouette Score: 0.685\n",
      "/Users/thesportydar/local_dev/reis-app/src/lib/report/.venv/lib/python3.13/site-packages/sklearn/utils/deprecation.py:151: FutureWarning: 'force_all_finite' was renamed to 'ensure_all_finite' in 1.6 and will be removed in 1.8.\n",
      "  warnings.warn(\n"
     ]
    },
    {
     "name": "stdout",
     "output_type": "stream",
     "text": [
      "Los índices de df_real y dfcorpus están alineados correctamente.\n",
      "Todas las preguntas coinciden entre df y dfcorpus.\n"
     ]
    },
    {
     "name": "stderr",
     "output_type": "stream",
     "text": [
      "2025-05-11 16:31:05,946 - INFO - Silhouette Score: 0.696\n",
      "/Users/thesportydar/local_dev/reis-app/src/lib/report/.venv/lib/python3.13/site-packages/sklearn/utils/deprecation.py:151: FutureWarning: 'force_all_finite' was renamed to 'ensure_all_finite' in 1.6 and will be removed in 1.8.\n",
      "  warnings.warn(\n"
     ]
    },
    {
     "name": "stdout",
     "output_type": "stream",
     "text": [
      "Los índices de df_real y dfcorpus están alineados correctamente.\n",
      "Todas las preguntas coinciden entre df y dfcorpus.\n"
     ]
    },
    {
     "name": "stderr",
     "output_type": "stream",
     "text": [
      "2025-05-11 16:31:06,183 - INFO - Silhouette Score: 0.659\n",
      "/Users/thesportydar/local_dev/reis-app/src/lib/report/.venv/lib/python3.13/site-packages/sklearn/utils/deprecation.py:151: FutureWarning: 'force_all_finite' was renamed to 'ensure_all_finite' in 1.6 and will be removed in 1.8.\n",
      "  warnings.warn(\n"
     ]
    },
    {
     "name": "stdout",
     "output_type": "stream",
     "text": [
      "Los índices de df_real y dfcorpus están alineados correctamente.\n",
      "Todas las preguntas coinciden entre df y dfcorpus.\n"
     ]
    },
    {
     "name": "stderr",
     "output_type": "stream",
     "text": [
      "2025-05-11 16:31:06,402 - INFO - Silhouette Score: 0.637\n",
      "/Users/thesportydar/local_dev/reis-app/src/lib/report/.venv/lib/python3.13/site-packages/sklearn/utils/deprecation.py:151: FutureWarning: 'force_all_finite' was renamed to 'ensure_all_finite' in 1.6 and will be removed in 1.8.\n",
      "  warnings.warn(\n"
     ]
    },
    {
     "name": "stdout",
     "output_type": "stream",
     "text": [
      "Los índices de df_real y dfcorpus están alineados correctamente.\n",
      "Todas las preguntas coinciden entre df y dfcorpus.\n"
     ]
    },
    {
     "name": "stderr",
     "output_type": "stream",
     "text": [
      "2025-05-11 16:31:06,667 - INFO - Silhouette Score: 0.680\n",
      "/Users/thesportydar/local_dev/reis-app/src/lib/report/.venv/lib/python3.13/site-packages/sklearn/utils/deprecation.py:151: FutureWarning: 'force_all_finite' was renamed to 'ensure_all_finite' in 1.6 and will be removed in 1.8.\n",
      "  warnings.warn(\n"
     ]
    },
    {
     "name": "stdout",
     "output_type": "stream",
     "text": [
      "Los índices de df_real y dfcorpus están alineados correctamente.\n",
      "Todas las preguntas coinciden entre df y dfcorpus.\n"
     ]
    },
    {
     "name": "stderr",
     "output_type": "stream",
     "text": [
      "2025-05-11 16:31:06,891 - INFO - Silhouette Score: 0.687\n",
      "/Users/thesportydar/local_dev/reis-app/src/lib/report/.venv/lib/python3.13/site-packages/sklearn/utils/deprecation.py:151: FutureWarning: 'force_all_finite' was renamed to 'ensure_all_finite' in 1.6 and will be removed in 1.8.\n",
      "  warnings.warn(\n"
     ]
    },
    {
     "name": "stdout",
     "output_type": "stream",
     "text": [
      "Los índices de df_real y dfcorpus están alineados correctamente.\n",
      "Todas las preguntas coinciden entre df y dfcorpus.\n"
     ]
    },
    {
     "name": "stderr",
     "output_type": "stream",
     "text": [
      "2025-05-11 16:31:07,123 - INFO - Silhouette Score: 0.687\n",
      "/Users/thesportydar/local_dev/reis-app/src/lib/report/.venv/lib/python3.13/site-packages/sklearn/utils/deprecation.py:151: FutureWarning: 'force_all_finite' was renamed to 'ensure_all_finite' in 1.6 and will be removed in 1.8.\n",
      "  warnings.warn(\n"
     ]
    },
    {
     "name": "stdout",
     "output_type": "stream",
     "text": [
      "Los índices de df_real y dfcorpus están alineados correctamente.\n",
      "Todas las preguntas coinciden entre df y dfcorpus.\n"
     ]
    },
    {
     "name": "stderr",
     "output_type": "stream",
     "text": [
      "2025-05-11 16:31:07,360 - INFO - Silhouette Score: 0.665\n",
      "/Users/thesportydar/local_dev/reis-app/src/lib/report/.venv/lib/python3.13/site-packages/sklearn/utils/deprecation.py:151: FutureWarning: 'force_all_finite' was renamed to 'ensure_all_finite' in 1.6 and will be removed in 1.8.\n",
      "  warnings.warn(\n"
     ]
    },
    {
     "name": "stdout",
     "output_type": "stream",
     "text": [
      "Los índices de df_real y dfcorpus están alineados correctamente.\n",
      "Todas las preguntas coinciden entre df y dfcorpus.\n"
     ]
    },
    {
     "name": "stderr",
     "output_type": "stream",
     "text": [
      "2025-05-11 16:31:07,592 - INFO - Silhouette Score: 0.687\n",
      "/Users/thesportydar/local_dev/reis-app/src/lib/report/.venv/lib/python3.13/site-packages/sklearn/utils/deprecation.py:151: FutureWarning: 'force_all_finite' was renamed to 'ensure_all_finite' in 1.6 and will be removed in 1.8.\n",
      "  warnings.warn(\n"
     ]
    },
    {
     "name": "stdout",
     "output_type": "stream",
     "text": [
      "Los índices de df_real y dfcorpus están alineados correctamente.\n",
      "Todas las preguntas coinciden entre df y dfcorpus.\n"
     ]
    },
    {
     "name": "stderr",
     "output_type": "stream",
     "text": [
      "2025-05-11 16:31:07,828 - INFO - Silhouette Score: 0.701\n",
      "/Users/thesportydar/local_dev/reis-app/src/lib/report/.venv/lib/python3.13/site-packages/sklearn/utils/deprecation.py:151: FutureWarning: 'force_all_finite' was renamed to 'ensure_all_finite' in 1.6 and will be removed in 1.8.\n",
      "  warnings.warn(\n"
     ]
    },
    {
     "name": "stdout",
     "output_type": "stream",
     "text": [
      "Los índices de df_real y dfcorpus están alineados correctamente.\n",
      "Todas las preguntas coinciden entre df y dfcorpus.\n"
     ]
    },
    {
     "name": "stderr",
     "output_type": "stream",
     "text": [
      "2025-05-11 16:31:08,076 - INFO - Silhouette Score: 0.654\n",
      "/Users/thesportydar/local_dev/reis-app/src/lib/report/.venv/lib/python3.13/site-packages/sklearn/utils/deprecation.py:151: FutureWarning: 'force_all_finite' was renamed to 'ensure_all_finite' in 1.6 and will be removed in 1.8.\n",
      "  warnings.warn(\n"
     ]
    },
    {
     "name": "stdout",
     "output_type": "stream",
     "text": [
      "Los índices de df_real y dfcorpus están alineados correctamente.\n",
      "Todas las preguntas coinciden entre df y dfcorpus.\n"
     ]
    },
    {
     "name": "stderr",
     "output_type": "stream",
     "text": [
      "2025-05-11 16:31:08,318 - INFO - Silhouette Score: 0.636\n",
      "/Users/thesportydar/local_dev/reis-app/src/lib/report/.venv/lib/python3.13/site-packages/sklearn/utils/deprecation.py:151: FutureWarning: 'force_all_finite' was renamed to 'ensure_all_finite' in 1.6 and will be removed in 1.8.\n",
      "  warnings.warn(\n"
     ]
    },
    {
     "name": "stdout",
     "output_type": "stream",
     "text": [
      "Los índices de df_real y dfcorpus están alineados correctamente.\n",
      "Todas las preguntas coinciden entre df y dfcorpus.\n"
     ]
    },
    {
     "name": "stderr",
     "output_type": "stream",
     "text": [
      "2025-05-11 16:31:08,556 - INFO - Silhouette Score: 0.655\n",
      "/Users/thesportydar/local_dev/reis-app/src/lib/report/.venv/lib/python3.13/site-packages/sklearn/utils/deprecation.py:151: FutureWarning: 'force_all_finite' was renamed to 'ensure_all_finite' in 1.6 and will be removed in 1.8.\n",
      "  warnings.warn(\n"
     ]
    },
    {
     "name": "stdout",
     "output_type": "stream",
     "text": [
      "Los índices de df_real y dfcorpus están alineados correctamente.\n",
      "Todas las preguntas coinciden entre df y dfcorpus.\n"
     ]
    },
    {
     "name": "stderr",
     "output_type": "stream",
     "text": [
      "2025-05-11 16:31:08,796 - INFO - Silhouette Score: 0.674\n",
      "/Users/thesportydar/local_dev/reis-app/src/lib/report/.venv/lib/python3.13/site-packages/sklearn/utils/deprecation.py:151: FutureWarning: 'force_all_finite' was renamed to 'ensure_all_finite' in 1.6 and will be removed in 1.8.\n",
      "  warnings.warn(\n"
     ]
    },
    {
     "name": "stdout",
     "output_type": "stream",
     "text": [
      "Los índices de df_real y dfcorpus están alineados correctamente.\n",
      "Todas las preguntas coinciden entre df y dfcorpus.\n"
     ]
    },
    {
     "name": "stderr",
     "output_type": "stream",
     "text": [
      "2025-05-11 16:31:09,039 - INFO - Silhouette Score: 0.618\n",
      "/Users/thesportydar/local_dev/reis-app/src/lib/report/.venv/lib/python3.13/site-packages/sklearn/utils/deprecation.py:151: FutureWarning: 'force_all_finite' was renamed to 'ensure_all_finite' in 1.6 and will be removed in 1.8.\n",
      "  warnings.warn(\n"
     ]
    },
    {
     "name": "stdout",
     "output_type": "stream",
     "text": [
      "Los índices de df_real y dfcorpus están alineados correctamente.\n",
      "Todas las preguntas coinciden entre df y dfcorpus.\n"
     ]
    },
    {
     "name": "stderr",
     "output_type": "stream",
     "text": [
      "2025-05-11 16:31:09,279 - INFO - Silhouette Score: 0.671\n",
      "/Users/thesportydar/local_dev/reis-app/src/lib/report/.venv/lib/python3.13/site-packages/sklearn/utils/deprecation.py:151: FutureWarning: 'force_all_finite' was renamed to 'ensure_all_finite' in 1.6 and will be removed in 1.8.\n",
      "  warnings.warn(\n"
     ]
    },
    {
     "name": "stdout",
     "output_type": "stream",
     "text": [
      "Los índices de df_real y dfcorpus están alineados correctamente.\n",
      "Todas las preguntas coinciden entre df y dfcorpus.\n"
     ]
    },
    {
     "name": "stderr",
     "output_type": "stream",
     "text": [
      "2025-05-11 16:31:09,515 - INFO - Silhouette Score: 0.672\n",
      "/Users/thesportydar/local_dev/reis-app/src/lib/report/.venv/lib/python3.13/site-packages/sklearn/utils/deprecation.py:151: FutureWarning: 'force_all_finite' was renamed to 'ensure_all_finite' in 1.6 and will be removed in 1.8.\n",
      "  warnings.warn(\n"
     ]
    },
    {
     "name": "stdout",
     "output_type": "stream",
     "text": [
      "Los índices de df_real y dfcorpus están alineados correctamente.\n",
      "Todas las preguntas coinciden entre df y dfcorpus.\n"
     ]
    },
    {
     "name": "stderr",
     "output_type": "stream",
     "text": [
      "2025-05-11 16:31:09,754 - INFO - Silhouette Score: 0.674\n",
      "/Users/thesportydar/local_dev/reis-app/src/lib/report/.venv/lib/python3.13/site-packages/sklearn/utils/deprecation.py:151: FutureWarning: 'force_all_finite' was renamed to 'ensure_all_finite' in 1.6 and will be removed in 1.8.\n",
      "  warnings.warn(\n"
     ]
    },
    {
     "name": "stdout",
     "output_type": "stream",
     "text": [
      "Los índices de df_real y dfcorpus están alineados correctamente.\n",
      "Todas las preguntas coinciden entre df y dfcorpus.\n"
     ]
    },
    {
     "name": "stderr",
     "output_type": "stream",
     "text": [
      "2025-05-11 16:31:09,995 - INFO - Silhouette Score: 0.628\n",
      "/Users/thesportydar/local_dev/reis-app/src/lib/report/.venv/lib/python3.13/site-packages/sklearn/utils/deprecation.py:151: FutureWarning: 'force_all_finite' was renamed to 'ensure_all_finite' in 1.6 and will be removed in 1.8.\n",
      "  warnings.warn(\n"
     ]
    },
    {
     "name": "stdout",
     "output_type": "stream",
     "text": [
      "Los índices de df_real y dfcorpus están alineados correctamente.\n",
      "Todas las preguntas coinciden entre df y dfcorpus.\n"
     ]
    },
    {
     "name": "stderr",
     "output_type": "stream",
     "text": [
      "2025-05-11 16:31:10,262 - INFO - Silhouette Score: 0.630\n",
      "/Users/thesportydar/local_dev/reis-app/src/lib/report/.venv/lib/python3.13/site-packages/sklearn/utils/deprecation.py:151: FutureWarning: 'force_all_finite' was renamed to 'ensure_all_finite' in 1.6 and will be removed in 1.8.\n",
      "  warnings.warn(\n"
     ]
    },
    {
     "name": "stdout",
     "output_type": "stream",
     "text": [
      "Los índices de df_real y dfcorpus están alineados correctamente.\n",
      "Todas las preguntas coinciden entre df y dfcorpus.\n"
     ]
    },
    {
     "name": "stderr",
     "output_type": "stream",
     "text": [
      "2025-05-11 16:31:10,496 - INFO - Silhouette Score: 0.662\n",
      "/Users/thesportydar/local_dev/reis-app/src/lib/report/.venv/lib/python3.13/site-packages/sklearn/utils/deprecation.py:151: FutureWarning: 'force_all_finite' was renamed to 'ensure_all_finite' in 1.6 and will be removed in 1.8.\n",
      "  warnings.warn(\n"
     ]
    },
    {
     "name": "stdout",
     "output_type": "stream",
     "text": [
      "Los índices de df_real y dfcorpus están alineados correctamente.\n",
      "Todas las preguntas coinciden entre df y dfcorpus.\n"
     ]
    },
    {
     "name": "stderr",
     "output_type": "stream",
     "text": [
      "2025-05-11 16:31:10,732 - INFO - Silhouette Score: 0.668\n",
      "/Users/thesportydar/local_dev/reis-app/src/lib/report/.venv/lib/python3.13/site-packages/sklearn/utils/deprecation.py:151: FutureWarning: 'force_all_finite' was renamed to 'ensure_all_finite' in 1.6 and will be removed in 1.8.\n",
      "  warnings.warn(\n"
     ]
    },
    {
     "name": "stdout",
     "output_type": "stream",
     "text": [
      "Los índices de df_real y dfcorpus están alineados correctamente.\n",
      "Todas las preguntas coinciden entre df y dfcorpus.\n"
     ]
    },
    {
     "name": "stderr",
     "output_type": "stream",
     "text": [
      "2025-05-11 16:31:11,007 - INFO - Silhouette Score: 0.621\n",
      "/Users/thesportydar/local_dev/reis-app/src/lib/report/.venv/lib/python3.13/site-packages/sklearn/utils/deprecation.py:151: FutureWarning: 'force_all_finite' was renamed to 'ensure_all_finite' in 1.6 and will be removed in 1.8.\n",
      "  warnings.warn(\n"
     ]
    },
    {
     "name": "stdout",
     "output_type": "stream",
     "text": [
      "Los índices de df_real y dfcorpus están alineados correctamente.\n",
      "Todas las preguntas coinciden entre df y dfcorpus.\n"
     ]
    },
    {
     "name": "stderr",
     "output_type": "stream",
     "text": [
      "2025-05-11 16:31:11,245 - INFO - Silhouette Score: 0.630\n",
      "/Users/thesportydar/local_dev/reis-app/src/lib/report/.venv/lib/python3.13/site-packages/sklearn/utils/deprecation.py:151: FutureWarning: 'force_all_finite' was renamed to 'ensure_all_finite' in 1.6 and will be removed in 1.8.\n",
      "  warnings.warn(\n"
     ]
    },
    {
     "name": "stdout",
     "output_type": "stream",
     "text": [
      "Los índices de df_real y dfcorpus están alineados correctamente.\n",
      "Todas las preguntas coinciden entre df y dfcorpus.\n"
     ]
    },
    {
     "name": "stderr",
     "output_type": "stream",
     "text": [
      "2025-05-11 16:31:11,478 - INFO - Silhouette Score: 0.677\n",
      "/Users/thesportydar/local_dev/reis-app/src/lib/report/.venv/lib/python3.13/site-packages/sklearn/utils/deprecation.py:151: FutureWarning: 'force_all_finite' was renamed to 'ensure_all_finite' in 1.6 and will be removed in 1.8.\n",
      "  warnings.warn(\n"
     ]
    },
    {
     "name": "stdout",
     "output_type": "stream",
     "text": [
      "Los índices de df_real y dfcorpus están alineados correctamente.\n",
      "Todas las preguntas coinciden entre df y dfcorpus.\n"
     ]
    },
    {
     "name": "stderr",
     "output_type": "stream",
     "text": [
      "2025-05-11 16:31:11,714 - INFO - Silhouette Score: 0.678\n",
      "/Users/thesportydar/local_dev/reis-app/src/lib/report/.venv/lib/python3.13/site-packages/sklearn/utils/deprecation.py:151: FutureWarning: 'force_all_finite' was renamed to 'ensure_all_finite' in 1.6 and will be removed in 1.8.\n",
      "  warnings.warn(\n"
     ]
    },
    {
     "name": "stdout",
     "output_type": "stream",
     "text": [
      "Los índices de df_real y dfcorpus están alineados correctamente.\n",
      "Todas las preguntas coinciden entre df y dfcorpus.\n"
     ]
    },
    {
     "name": "stderr",
     "output_type": "stream",
     "text": [
      "2025-05-11 16:31:11,953 - INFO - Silhouette Score: 0.675\n",
      "/Users/thesportydar/local_dev/reis-app/src/lib/report/.venv/lib/python3.13/site-packages/sklearn/utils/deprecation.py:151: FutureWarning: 'force_all_finite' was renamed to 'ensure_all_finite' in 1.6 and will be removed in 1.8.\n",
      "  warnings.warn(\n"
     ]
    },
    {
     "name": "stdout",
     "output_type": "stream",
     "text": [
      "Los índices de df_real y dfcorpus están alineados correctamente.\n",
      "Todas las preguntas coinciden entre df y dfcorpus.\n"
     ]
    },
    {
     "name": "stderr",
     "output_type": "stream",
     "text": [
      "2025-05-11 16:31:12,186 - INFO - Silhouette Score: 0.687\n",
      "/Users/thesportydar/local_dev/reis-app/src/lib/report/.venv/lib/python3.13/site-packages/sklearn/utils/deprecation.py:151: FutureWarning: 'force_all_finite' was renamed to 'ensure_all_finite' in 1.6 and will be removed in 1.8.\n",
      "  warnings.warn(\n"
     ]
    },
    {
     "name": "stdout",
     "output_type": "stream",
     "text": [
      "Los índices de df_real y dfcorpus están alineados correctamente.\n",
      "Todas las preguntas coinciden entre df y dfcorpus.\n"
     ]
    },
    {
     "name": "stderr",
     "output_type": "stream",
     "text": [
      "2025-05-11 16:31:12,426 - INFO - Silhouette Score: 0.649\n",
      "/Users/thesportydar/local_dev/reis-app/src/lib/report/.venv/lib/python3.13/site-packages/sklearn/utils/deprecation.py:151: FutureWarning: 'force_all_finite' was renamed to 'ensure_all_finite' in 1.6 and will be removed in 1.8.\n",
      "  warnings.warn(\n"
     ]
    },
    {
     "name": "stdout",
     "output_type": "stream",
     "text": [
      "Los índices de df_real y dfcorpus están alineados correctamente.\n",
      "Todas las preguntas coinciden entre df y dfcorpus.\n"
     ]
    },
    {
     "name": "stderr",
     "output_type": "stream",
     "text": [
      "2025-05-11 16:31:12,669 - INFO - Silhouette Score: 0.649\n",
      "/Users/thesportydar/local_dev/reis-app/src/lib/report/.venv/lib/python3.13/site-packages/sklearn/utils/deprecation.py:151: FutureWarning: 'force_all_finite' was renamed to 'ensure_all_finite' in 1.6 and will be removed in 1.8.\n",
      "  warnings.warn(\n"
     ]
    },
    {
     "name": "stdout",
     "output_type": "stream",
     "text": [
      "Los índices de df_real y dfcorpus están alineados correctamente.\n",
      "Todas las preguntas coinciden entre df y dfcorpus.\n"
     ]
    },
    {
     "name": "stderr",
     "output_type": "stream",
     "text": [
      "2025-05-11 16:31:12,909 - INFO - Silhouette Score: 0.661\n",
      "/Users/thesportydar/local_dev/reis-app/src/lib/report/.venv/lib/python3.13/site-packages/sklearn/utils/deprecation.py:151: FutureWarning: 'force_all_finite' was renamed to 'ensure_all_finite' in 1.6 and will be removed in 1.8.\n",
      "  warnings.warn(\n"
     ]
    },
    {
     "name": "stdout",
     "output_type": "stream",
     "text": [
      "Los índices de df_real y dfcorpus están alineados correctamente.\n",
      "Todas las preguntas coinciden entre df y dfcorpus.\n"
     ]
    },
    {
     "name": "stderr",
     "output_type": "stream",
     "text": [
      "2025-05-11 16:31:13,154 - INFO - Silhouette Score: 0.585\n",
      "/Users/thesportydar/local_dev/reis-app/src/lib/report/.venv/lib/python3.13/site-packages/sklearn/utils/deprecation.py:151: FutureWarning: 'force_all_finite' was renamed to 'ensure_all_finite' in 1.6 and will be removed in 1.8.\n",
      "  warnings.warn(\n"
     ]
    },
    {
     "name": "stdout",
     "output_type": "stream",
     "text": [
      "Los índices de df_real y dfcorpus están alineados correctamente.\n",
      "Todas las preguntas coinciden entre df y dfcorpus.\n"
     ]
    },
    {
     "name": "stderr",
     "output_type": "stream",
     "text": [
      "2025-05-11 16:31:13,374 - INFO - Silhouette Score: 0.689\n",
      "/Users/thesportydar/local_dev/reis-app/src/lib/report/.venv/lib/python3.13/site-packages/sklearn/utils/deprecation.py:151: FutureWarning: 'force_all_finite' was renamed to 'ensure_all_finite' in 1.6 and will be removed in 1.8.\n",
      "  warnings.warn(\n"
     ]
    },
    {
     "name": "stdout",
     "output_type": "stream",
     "text": [
      "Los índices de df_real y dfcorpus están alineados correctamente.\n",
      "Todas las preguntas coinciden entre df y dfcorpus.\n"
     ]
    },
    {
     "name": "stderr",
     "output_type": "stream",
     "text": [
      "2025-05-11 16:31:13,630 - INFO - Silhouette Score: 0.667\n",
      "/Users/thesportydar/local_dev/reis-app/src/lib/report/.venv/lib/python3.13/site-packages/sklearn/utils/deprecation.py:151: FutureWarning: 'force_all_finite' was renamed to 'ensure_all_finite' in 1.6 and will be removed in 1.8.\n",
      "  warnings.warn(\n"
     ]
    },
    {
     "name": "stdout",
     "output_type": "stream",
     "text": [
      "Los índices de df_real y dfcorpus están alineados correctamente.\n",
      "Todas las preguntas coinciden entre df y dfcorpus.\n"
     ]
    },
    {
     "name": "stderr",
     "output_type": "stream",
     "text": [
      "2025-05-11 16:31:13,855 - INFO - Silhouette Score: 0.671\n",
      "/Users/thesportydar/local_dev/reis-app/src/lib/report/.venv/lib/python3.13/site-packages/sklearn/utils/deprecation.py:151: FutureWarning: 'force_all_finite' was renamed to 'ensure_all_finite' in 1.6 and will be removed in 1.8.\n",
      "  warnings.warn(\n"
     ]
    },
    {
     "name": "stdout",
     "output_type": "stream",
     "text": [
      "Los índices de df_real y dfcorpus están alineados correctamente.\n",
      "Todas las preguntas coinciden entre df y dfcorpus.\n"
     ]
    },
    {
     "name": "stderr",
     "output_type": "stream",
     "text": [
      "2025-05-11 16:31:14,071 - INFO - Silhouette Score: 0.683\n",
      "/Users/thesportydar/local_dev/reis-app/src/lib/report/.venv/lib/python3.13/site-packages/sklearn/utils/deprecation.py:151: FutureWarning: 'force_all_finite' was renamed to 'ensure_all_finite' in 1.6 and will be removed in 1.8.\n",
      "  warnings.warn(\n"
     ]
    },
    {
     "name": "stdout",
     "output_type": "stream",
     "text": [
      "Los índices de df_real y dfcorpus están alineados correctamente.\n",
      "Todas las preguntas coinciden entre df y dfcorpus.\n"
     ]
    },
    {
     "name": "stderr",
     "output_type": "stream",
     "text": [
      "2025-05-11 16:31:14,297 - INFO - Silhouette Score: 0.654\n",
      "/Users/thesportydar/local_dev/reis-app/src/lib/report/.venv/lib/python3.13/site-packages/sklearn/utils/deprecation.py:151: FutureWarning: 'force_all_finite' was renamed to 'ensure_all_finite' in 1.6 and will be removed in 1.8.\n",
      "  warnings.warn(\n"
     ]
    },
    {
     "name": "stdout",
     "output_type": "stream",
     "text": [
      "Los índices de df_real y dfcorpus están alineados correctamente.\n",
      "Todas las preguntas coinciden entre df y dfcorpus.\n"
     ]
    },
    {
     "name": "stderr",
     "output_type": "stream",
     "text": [
      "2025-05-11 16:31:14,533 - INFO - Silhouette Score: 0.676\n",
      "/Users/thesportydar/local_dev/reis-app/src/lib/report/.venv/lib/python3.13/site-packages/sklearn/utils/deprecation.py:151: FutureWarning: 'force_all_finite' was renamed to 'ensure_all_finite' in 1.6 and will be removed in 1.8.\n",
      "  warnings.warn(\n"
     ]
    },
    {
     "name": "stdout",
     "output_type": "stream",
     "text": [
      "Los índices de df_real y dfcorpus están alineados correctamente.\n",
      "Todas las preguntas coinciden entre df y dfcorpus.\n"
     ]
    },
    {
     "name": "stderr",
     "output_type": "stream",
     "text": [
      "2025-05-11 16:31:14,760 - INFO - Silhouette Score: 0.654\n",
      "/Users/thesportydar/local_dev/reis-app/src/lib/report/.venv/lib/python3.13/site-packages/sklearn/utils/deprecation.py:151: FutureWarning: 'force_all_finite' was renamed to 'ensure_all_finite' in 1.6 and will be removed in 1.8.\n",
      "  warnings.warn(\n"
     ]
    },
    {
     "name": "stdout",
     "output_type": "stream",
     "text": [
      "Los índices de df_real y dfcorpus están alineados correctamente.\n",
      "Todas las preguntas coinciden entre df y dfcorpus.\n"
     ]
    },
    {
     "name": "stderr",
     "output_type": "stream",
     "text": [
      "2025-05-11 16:31:14,997 - INFO - Silhouette Score: 0.638\n",
      "/Users/thesportydar/local_dev/reis-app/src/lib/report/.venv/lib/python3.13/site-packages/sklearn/utils/deprecation.py:151: FutureWarning: 'force_all_finite' was renamed to 'ensure_all_finite' in 1.6 and will be removed in 1.8.\n",
      "  warnings.warn(\n"
     ]
    },
    {
     "name": "stdout",
     "output_type": "stream",
     "text": [
      "Los índices de df_real y dfcorpus están alineados correctamente.\n",
      "Todas las preguntas coinciden entre df y dfcorpus.\n"
     ]
    },
    {
     "name": "stderr",
     "output_type": "stream",
     "text": [
      "2025-05-11 16:31:15,226 - INFO - Silhouette Score: 0.623\n",
      "/Users/thesportydar/local_dev/reis-app/src/lib/report/.venv/lib/python3.13/site-packages/sklearn/utils/deprecation.py:151: FutureWarning: 'force_all_finite' was renamed to 'ensure_all_finite' in 1.6 and will be removed in 1.8.\n",
      "  warnings.warn(\n"
     ]
    },
    {
     "name": "stdout",
     "output_type": "stream",
     "text": [
      "Los índices de df_real y dfcorpus están alineados correctamente.\n",
      "Todas las preguntas coinciden entre df y dfcorpus.\n"
     ]
    },
    {
     "name": "stderr",
     "output_type": "stream",
     "text": [
      "2025-05-11 16:31:15,470 - INFO - Silhouette Score: 0.611\n",
      "/Users/thesportydar/local_dev/reis-app/src/lib/report/.venv/lib/python3.13/site-packages/sklearn/utils/deprecation.py:151: FutureWarning: 'force_all_finite' was renamed to 'ensure_all_finite' in 1.6 and will be removed in 1.8.\n",
      "  warnings.warn(\n"
     ]
    },
    {
     "name": "stdout",
     "output_type": "stream",
     "text": [
      "Los índices de df_real y dfcorpus están alineados correctamente.\n",
      "Todas las preguntas coinciden entre df y dfcorpus.\n"
     ]
    },
    {
     "name": "stderr",
     "output_type": "stream",
     "text": [
      "2025-05-11 16:31:15,705 - INFO - Silhouette Score: 0.559\n",
      "/Users/thesportydar/local_dev/reis-app/src/lib/report/.venv/lib/python3.13/site-packages/sklearn/utils/deprecation.py:151: FutureWarning: 'force_all_finite' was renamed to 'ensure_all_finite' in 1.6 and will be removed in 1.8.\n",
      "  warnings.warn(\n"
     ]
    },
    {
     "name": "stdout",
     "output_type": "stream",
     "text": [
      "Los índices de df_real y dfcorpus están alineados correctamente.\n",
      "Todas las preguntas coinciden entre df y dfcorpus.\n"
     ]
    },
    {
     "name": "stderr",
     "output_type": "stream",
     "text": [
      "2025-05-11 16:31:15,943 - INFO - Silhouette Score: 0.616\n",
      "/Users/thesportydar/local_dev/reis-app/src/lib/report/.venv/lib/python3.13/site-packages/sklearn/utils/deprecation.py:151: FutureWarning: 'force_all_finite' was renamed to 'ensure_all_finite' in 1.6 and will be removed in 1.8.\n",
      "  warnings.warn(\n"
     ]
    },
    {
     "name": "stdout",
     "output_type": "stream",
     "text": [
      "Los índices de df_real y dfcorpus están alineados correctamente.\n",
      "Todas las preguntas coinciden entre df y dfcorpus.\n"
     ]
    },
    {
     "name": "stderr",
     "output_type": "stream",
     "text": [
      "2025-05-11 16:31:16,170 - INFO - Silhouette Score: 0.628\n",
      "/Users/thesportydar/local_dev/reis-app/src/lib/report/.venv/lib/python3.13/site-packages/sklearn/utils/deprecation.py:151: FutureWarning: 'force_all_finite' was renamed to 'ensure_all_finite' in 1.6 and will be removed in 1.8.\n",
      "  warnings.warn(\n"
     ]
    },
    {
     "name": "stdout",
     "output_type": "stream",
     "text": [
      "Los índices de df_real y dfcorpus están alineados correctamente.\n",
      "Todas las preguntas coinciden entre df y dfcorpus.\n"
     ]
    },
    {
     "name": "stderr",
     "output_type": "stream",
     "text": [
      "2025-05-11 16:31:16,407 - INFO - Silhouette Score: 0.655\n",
      "/Users/thesportydar/local_dev/reis-app/src/lib/report/.venv/lib/python3.13/site-packages/sklearn/utils/deprecation.py:151: FutureWarning: 'force_all_finite' was renamed to 'ensure_all_finite' in 1.6 and will be removed in 1.8.\n",
      "  warnings.warn(\n"
     ]
    },
    {
     "name": "stdout",
     "output_type": "stream",
     "text": [
      "Los índices de df_real y dfcorpus están alineados correctamente.\n",
      "Todas las preguntas coinciden entre df y dfcorpus.\n"
     ]
    },
    {
     "name": "stderr",
     "output_type": "stream",
     "text": [
      "2025-05-11 16:31:16,646 - INFO - Silhouette Score: 0.699\n",
      "/Users/thesportydar/local_dev/reis-app/src/lib/report/.venv/lib/python3.13/site-packages/sklearn/utils/deprecation.py:151: FutureWarning: 'force_all_finite' was renamed to 'ensure_all_finite' in 1.6 and will be removed in 1.8.\n",
      "  warnings.warn(\n"
     ]
    },
    {
     "name": "stdout",
     "output_type": "stream",
     "text": [
      "Los índices de df_real y dfcorpus están alineados correctamente.\n",
      "Todas las preguntas coinciden entre df y dfcorpus.\n"
     ]
    },
    {
     "name": "stderr",
     "output_type": "stream",
     "text": [
      "2025-05-11 16:31:16,879 - INFO - Silhouette Score: 0.596\n",
      "/Users/thesportydar/local_dev/reis-app/src/lib/report/.venv/lib/python3.13/site-packages/sklearn/utils/deprecation.py:151: FutureWarning: 'force_all_finite' was renamed to 'ensure_all_finite' in 1.6 and will be removed in 1.8.\n",
      "  warnings.warn(\n"
     ]
    },
    {
     "name": "stdout",
     "output_type": "stream",
     "text": [
      "Los índices de df_real y dfcorpus están alineados correctamente.\n",
      "Todas las preguntas coinciden entre df y dfcorpus.\n"
     ]
    },
    {
     "name": "stderr",
     "output_type": "stream",
     "text": [
      "2025-05-11 16:31:17,175 - INFO - Silhouette Score: 0.690\n",
      "/Users/thesportydar/local_dev/reis-app/src/lib/report/.venv/lib/python3.13/site-packages/sklearn/utils/deprecation.py:151: FutureWarning: 'force_all_finite' was renamed to 'ensure_all_finite' in 1.6 and will be removed in 1.8.\n",
      "  warnings.warn(\n"
     ]
    },
    {
     "name": "stdout",
     "output_type": "stream",
     "text": [
      "Los índices de df_real y dfcorpus están alineados correctamente.\n",
      "Todas las preguntas coinciden entre df y dfcorpus.\n"
     ]
    },
    {
     "name": "stderr",
     "output_type": "stream",
     "text": [
      "2025-05-11 16:31:17,407 - INFO - Silhouette Score: 0.595\n",
      "/Users/thesportydar/local_dev/reis-app/src/lib/report/.venv/lib/python3.13/site-packages/sklearn/utils/deprecation.py:151: FutureWarning: 'force_all_finite' was renamed to 'ensure_all_finite' in 1.6 and will be removed in 1.8.\n",
      "  warnings.warn(\n"
     ]
    },
    {
     "name": "stdout",
     "output_type": "stream",
     "text": [
      "Los índices de df_real y dfcorpus están alineados correctamente.\n",
      "Todas las preguntas coinciden entre df y dfcorpus.\n"
     ]
    },
    {
     "name": "stderr",
     "output_type": "stream",
     "text": [
      "2025-05-11 16:31:17,638 - INFO - Silhouette Score: 0.637\n",
      "/Users/thesportydar/local_dev/reis-app/src/lib/report/.venv/lib/python3.13/site-packages/sklearn/utils/deprecation.py:151: FutureWarning: 'force_all_finite' was renamed to 'ensure_all_finite' in 1.6 and will be removed in 1.8.\n",
      "  warnings.warn(\n"
     ]
    },
    {
     "name": "stdout",
     "output_type": "stream",
     "text": [
      "Los índices de df_real y dfcorpus están alineados correctamente.\n",
      "Todas las preguntas coinciden entre df y dfcorpus.\n"
     ]
    },
    {
     "name": "stderr",
     "output_type": "stream",
     "text": [
      "2025-05-11 16:31:17,873 - INFO - Silhouette Score: 0.673\n",
      "/Users/thesportydar/local_dev/reis-app/src/lib/report/.venv/lib/python3.13/site-packages/sklearn/utils/deprecation.py:151: FutureWarning: 'force_all_finite' was renamed to 'ensure_all_finite' in 1.6 and will be removed in 1.8.\n",
      "  warnings.warn(\n"
     ]
    },
    {
     "name": "stdout",
     "output_type": "stream",
     "text": [
      "Los índices de df_real y dfcorpus están alineados correctamente.\n",
      "Todas las preguntas coinciden entre df y dfcorpus.\n"
     ]
    },
    {
     "name": "stderr",
     "output_type": "stream",
     "text": [
      "2025-05-11 16:31:18,108 - INFO - Silhouette Score: 0.590\n",
      "/Users/thesportydar/local_dev/reis-app/src/lib/report/.venv/lib/python3.13/site-packages/sklearn/utils/deprecation.py:151: FutureWarning: 'force_all_finite' was renamed to 'ensure_all_finite' in 1.6 and will be removed in 1.8.\n",
      "  warnings.warn(\n"
     ]
    },
    {
     "name": "stdout",
     "output_type": "stream",
     "text": [
      "Los índices de df_real y dfcorpus están alineados correctamente.\n",
      "Todas las preguntas coinciden entre df y dfcorpus.\n"
     ]
    },
    {
     "name": "stderr",
     "output_type": "stream",
     "text": [
      "2025-05-11 16:31:18,351 - INFO - Silhouette Score: 0.645\n",
      "/Users/thesportydar/local_dev/reis-app/src/lib/report/.venv/lib/python3.13/site-packages/sklearn/utils/deprecation.py:151: FutureWarning: 'force_all_finite' was renamed to 'ensure_all_finite' in 1.6 and will be removed in 1.8.\n",
      "  warnings.warn(\n"
     ]
    },
    {
     "name": "stdout",
     "output_type": "stream",
     "text": [
      "Los índices de df_real y dfcorpus están alineados correctamente.\n",
      "Todas las preguntas coinciden entre df y dfcorpus.\n"
     ]
    },
    {
     "name": "stderr",
     "output_type": "stream",
     "text": [
      "2025-05-11 16:31:18,580 - INFO - Silhouette Score: 0.689\n",
      "/Users/thesportydar/local_dev/reis-app/src/lib/report/.venv/lib/python3.13/site-packages/sklearn/utils/deprecation.py:151: FutureWarning: 'force_all_finite' was renamed to 'ensure_all_finite' in 1.6 and will be removed in 1.8.\n",
      "  warnings.warn(\n"
     ]
    },
    {
     "name": "stdout",
     "output_type": "stream",
     "text": [
      "Los índices de df_real y dfcorpus están alineados correctamente.\n",
      "Todas las preguntas coinciden entre df y dfcorpus.\n"
     ]
    },
    {
     "name": "stderr",
     "output_type": "stream",
     "text": [
      "2025-05-11 16:31:18,812 - INFO - Silhouette Score: 0.680\n",
      "/Users/thesportydar/local_dev/reis-app/src/lib/report/.venv/lib/python3.13/site-packages/sklearn/utils/deprecation.py:151: FutureWarning: 'force_all_finite' was renamed to 'ensure_all_finite' in 1.6 and will be removed in 1.8.\n",
      "  warnings.warn(\n"
     ]
    },
    {
     "name": "stdout",
     "output_type": "stream",
     "text": [
      "Los índices de df_real y dfcorpus están alineados correctamente.\n",
      "Todas las preguntas coinciden entre df y dfcorpus.\n"
     ]
    },
    {
     "name": "stderr",
     "output_type": "stream",
     "text": [
      "2025-05-11 16:31:19,052 - INFO - Silhouette Score: 0.562\n",
      "/Users/thesportydar/local_dev/reis-app/src/lib/report/.venv/lib/python3.13/site-packages/sklearn/utils/deprecation.py:151: FutureWarning: 'force_all_finite' was renamed to 'ensure_all_finite' in 1.6 and will be removed in 1.8.\n",
      "  warnings.warn(\n"
     ]
    },
    {
     "name": "stdout",
     "output_type": "stream",
     "text": [
      "Los índices de df_real y dfcorpus están alineados correctamente.\n",
      "Todas las preguntas coinciden entre df y dfcorpus.\n"
     ]
    },
    {
     "name": "stderr",
     "output_type": "stream",
     "text": [
      "2025-05-11 16:31:19,291 - INFO - Silhouette Score: 0.667\n",
      "/Users/thesportydar/local_dev/reis-app/src/lib/report/.venv/lib/python3.13/site-packages/sklearn/utils/deprecation.py:151: FutureWarning: 'force_all_finite' was renamed to 'ensure_all_finite' in 1.6 and will be removed in 1.8.\n",
      "  warnings.warn(\n"
     ]
    },
    {
     "name": "stdout",
     "output_type": "stream",
     "text": [
      "Los índices de df_real y dfcorpus están alineados correctamente.\n",
      "Todas las preguntas coinciden entre df y dfcorpus.\n"
     ]
    },
    {
     "name": "stderr",
     "output_type": "stream",
     "text": [
      "2025-05-11 16:31:19,545 - INFO - Silhouette Score: 0.681\n",
      "/Users/thesportydar/local_dev/reis-app/src/lib/report/.venv/lib/python3.13/site-packages/sklearn/utils/deprecation.py:151: FutureWarning: 'force_all_finite' was renamed to 'ensure_all_finite' in 1.6 and will be removed in 1.8.\n",
      "  warnings.warn(\n"
     ]
    },
    {
     "name": "stdout",
     "output_type": "stream",
     "text": [
      "Los índices de df_real y dfcorpus están alineados correctamente.\n",
      "Todas las preguntas coinciden entre df y dfcorpus.\n"
     ]
    },
    {
     "name": "stderr",
     "output_type": "stream",
     "text": [
      "2025-05-11 16:31:19,751 - INFO - Silhouette Score: 0.666\n",
      "/Users/thesportydar/local_dev/reis-app/src/lib/report/.venv/lib/python3.13/site-packages/sklearn/utils/deprecation.py:151: FutureWarning: 'force_all_finite' was renamed to 'ensure_all_finite' in 1.6 and will be removed in 1.8.\n",
      "  warnings.warn(\n",
      "2025-05-11 16:31:19,948 - INFO - Silhouette Score: 0.619\n"
     ]
    },
    {
     "name": "stdout",
     "output_type": "stream",
     "text": [
      "Los índices de df_real y dfcorpus están alineados correctamente.\n",
      "Todas las preguntas coinciden entre df y dfcorpus.\n",
      "Los índices de df_real y dfcorpus están alineados correctamente.\n",
      "Todas las preguntas coinciden entre df y dfcorpus.\n"
     ]
    },
    {
     "name": "stderr",
     "output_type": "stream",
     "text": [
      "/Users/thesportydar/local_dev/reis-app/src/lib/report/.venv/lib/python3.13/site-packages/sklearn/utils/deprecation.py:151: FutureWarning: 'force_all_finite' was renamed to 'ensure_all_finite' in 1.6 and will be removed in 1.8.\n",
      "  warnings.warn(\n",
      "2025-05-11 16:31:20,166 - INFO - Silhouette Score: 0.632\n",
      "/Users/thesportydar/local_dev/reis-app/src/lib/report/.venv/lib/python3.13/site-packages/sklearn/utils/deprecation.py:151: FutureWarning: 'force_all_finite' was renamed to 'ensure_all_finite' in 1.6 and will be removed in 1.8.\n",
      "  warnings.warn(\n"
     ]
    },
    {
     "name": "stdout",
     "output_type": "stream",
     "text": [
      "Los índices de df_real y dfcorpus están alineados correctamente.\n",
      "Todas las preguntas coinciden entre df y dfcorpus.\n"
     ]
    },
    {
     "name": "stderr",
     "output_type": "stream",
     "text": [
      "2025-05-11 16:31:20,386 - INFO - Silhouette Score: 0.665\n",
      "/Users/thesportydar/local_dev/reis-app/src/lib/report/.venv/lib/python3.13/site-packages/sklearn/utils/deprecation.py:151: FutureWarning: 'force_all_finite' was renamed to 'ensure_all_finite' in 1.6 and will be removed in 1.8.\n",
      "  warnings.warn(\n"
     ]
    },
    {
     "name": "stdout",
     "output_type": "stream",
     "text": [
      "Los índices de df_real y dfcorpus están alineados correctamente.\n",
      "Todas las preguntas coinciden entre df y dfcorpus.\n"
     ]
    },
    {
     "name": "stderr",
     "output_type": "stream",
     "text": [
      "2025-05-11 16:31:20,798 - INFO - Silhouette Score: 0.703\n",
      "/Users/thesportydar/local_dev/reis-app/src/lib/report/.venv/lib/python3.13/site-packages/sklearn/utils/deprecation.py:151: FutureWarning: 'force_all_finite' was renamed to 'ensure_all_finite' in 1.6 and will be removed in 1.8.\n",
      "  warnings.warn(\n"
     ]
    },
    {
     "name": "stdout",
     "output_type": "stream",
     "text": [
      "Los índices de df_real y dfcorpus están alineados correctamente.\n",
      "Todas las preguntas coinciden entre df y dfcorpus.\n"
     ]
    },
    {
     "name": "stderr",
     "output_type": "stream",
     "text": [
      "2025-05-11 16:31:21,063 - INFO - Silhouette Score: 0.697\n",
      "/Users/thesportydar/local_dev/reis-app/src/lib/report/.venv/lib/python3.13/site-packages/sklearn/utils/deprecation.py:151: FutureWarning: 'force_all_finite' was renamed to 'ensure_all_finite' in 1.6 and will be removed in 1.8.\n",
      "  warnings.warn(\n"
     ]
    },
    {
     "name": "stdout",
     "output_type": "stream",
     "text": [
      "Los índices de df_real y dfcorpus están alineados correctamente.\n",
      "Todas las preguntas coinciden entre df y dfcorpus.\n"
     ]
    },
    {
     "name": "stderr",
     "output_type": "stream",
     "text": [
      "2025-05-11 16:31:21,290 - INFO - Silhouette Score: 0.659\n",
      "/Users/thesportydar/local_dev/reis-app/src/lib/report/.venv/lib/python3.13/site-packages/sklearn/utils/deprecation.py:151: FutureWarning: 'force_all_finite' was renamed to 'ensure_all_finite' in 1.6 and will be removed in 1.8.\n",
      "  warnings.warn(\n"
     ]
    },
    {
     "name": "stdout",
     "output_type": "stream",
     "text": [
      "Los índices de df_real y dfcorpus están alineados correctamente.\n",
      "Todas las preguntas coinciden entre df y dfcorpus.\n"
     ]
    },
    {
     "name": "stderr",
     "output_type": "stream",
     "text": [
      "2025-05-11 16:31:21,516 - INFO - Silhouette Score: 0.553\n",
      "/Users/thesportydar/local_dev/reis-app/src/lib/report/.venv/lib/python3.13/site-packages/sklearn/utils/deprecation.py:151: FutureWarning: 'force_all_finite' was renamed to 'ensure_all_finite' in 1.6 and will be removed in 1.8.\n",
      "  warnings.warn(\n"
     ]
    },
    {
     "name": "stdout",
     "output_type": "stream",
     "text": [
      "Los índices de df_real y dfcorpus están alineados correctamente.\n",
      "Todas las preguntas coinciden entre df y dfcorpus.\n"
     ]
    },
    {
     "name": "stderr",
     "output_type": "stream",
     "text": [
      "2025-05-11 16:31:21,880 - INFO - Silhouette Score: 0.543\n",
      "/Users/thesportydar/local_dev/reis-app/src/lib/report/.venv/lib/python3.13/site-packages/sklearn/utils/deprecation.py:151: FutureWarning: 'force_all_finite' was renamed to 'ensure_all_finite' in 1.6 and will be removed in 1.8.\n",
      "  warnings.warn(\n"
     ]
    },
    {
     "name": "stdout",
     "output_type": "stream",
     "text": [
      "Los índices de df_real y dfcorpus están alineados correctamente.\n",
      "Todas las preguntas coinciden entre df y dfcorpus.\n"
     ]
    },
    {
     "name": "stderr",
     "output_type": "stream",
     "text": [
      "2025-05-11 16:31:22,105 - INFO - Silhouette Score: 0.670\n",
      "/Users/thesportydar/local_dev/reis-app/src/lib/report/.venv/lib/python3.13/site-packages/sklearn/utils/deprecation.py:151: FutureWarning: 'force_all_finite' was renamed to 'ensure_all_finite' in 1.6 and will be removed in 1.8.\n",
      "  warnings.warn(\n",
      "2025-05-11 16:31:22,298 - INFO - Silhouette Score: 0.613\n",
      "/Users/thesportydar/local_dev/reis-app/src/lib/report/.venv/lib/python3.13/site-packages/sklearn/utils/deprecation.py:151: FutureWarning: 'force_all_finite' was renamed to 'ensure_all_finite' in 1.6 and will be removed in 1.8.\n",
      "  warnings.warn(\n"
     ]
    },
    {
     "name": "stdout",
     "output_type": "stream",
     "text": [
      "Los índices de df_real y dfcorpus están alineados correctamente.\n",
      "Todas las preguntas coinciden entre df y dfcorpus.\n",
      "Los índices de df_real y dfcorpus están alineados correctamente.\n",
      "Todas las preguntas coinciden entre df y dfcorpus.\n"
     ]
    },
    {
     "name": "stderr",
     "output_type": "stream",
     "text": [
      "2025-05-11 16:31:22,504 - INFO - Silhouette Score: 0.670\n",
      "/Users/thesportydar/local_dev/reis-app/src/lib/report/.venv/lib/python3.13/site-packages/sklearn/utils/deprecation.py:151: FutureWarning: 'force_all_finite' was renamed to 'ensure_all_finite' in 1.6 and will be removed in 1.8.\n",
      "  warnings.warn(\n"
     ]
    },
    {
     "name": "stdout",
     "output_type": "stream",
     "text": [
      "Los índices de df_real y dfcorpus están alineados correctamente.\n",
      "Todas las preguntas coinciden entre df y dfcorpus.\n"
     ]
    },
    {
     "name": "stderr",
     "output_type": "stream",
     "text": [
      "2025-05-11 16:31:22,730 - INFO - Silhouette Score: 0.678\n",
      "/Users/thesportydar/local_dev/reis-app/src/lib/report/.venv/lib/python3.13/site-packages/sklearn/utils/deprecation.py:151: FutureWarning: 'force_all_finite' was renamed to 'ensure_all_finite' in 1.6 and will be removed in 1.8.\n",
      "  warnings.warn(\n"
     ]
    },
    {
     "name": "stdout",
     "output_type": "stream",
     "text": [
      "Los índices de df_real y dfcorpus están alineados correctamente.\n",
      "Todas las preguntas coinciden entre df y dfcorpus.\n"
     ]
    },
    {
     "name": "stderr",
     "output_type": "stream",
     "text": [
      "2025-05-11 16:31:23,002 - INFO - Silhouette Score: 0.652\n",
      "/Users/thesportydar/local_dev/reis-app/src/lib/report/.venv/lib/python3.13/site-packages/sklearn/utils/deprecation.py:151: FutureWarning: 'force_all_finite' was renamed to 'ensure_all_finite' in 1.6 and will be removed in 1.8.\n",
      "  warnings.warn(\n"
     ]
    },
    {
     "name": "stdout",
     "output_type": "stream",
     "text": [
      "Los índices de df_real y dfcorpus están alineados correctamente.\n",
      "Todas las preguntas coinciden entre df y dfcorpus.\n"
     ]
    },
    {
     "name": "stderr",
     "output_type": "stream",
     "text": [
      "2025-05-11 16:31:23,244 - INFO - Silhouette Score: 0.646\n",
      "/Users/thesportydar/local_dev/reis-app/src/lib/report/.venv/lib/python3.13/site-packages/sklearn/utils/deprecation.py:151: FutureWarning: 'force_all_finite' was renamed to 'ensure_all_finite' in 1.6 and will be removed in 1.8.\n",
      "  warnings.warn(\n"
     ]
    },
    {
     "name": "stdout",
     "output_type": "stream",
     "text": [
      "Los índices de df_real y dfcorpus están alineados correctamente.\n",
      "Todas las preguntas coinciden entre df y dfcorpus.\n"
     ]
    },
    {
     "name": "stderr",
     "output_type": "stream",
     "text": [
      "2025-05-11 16:31:23,483 - INFO - Silhouette Score: 0.688\n",
      "/Users/thesportydar/local_dev/reis-app/src/lib/report/.venv/lib/python3.13/site-packages/sklearn/utils/deprecation.py:151: FutureWarning: 'force_all_finite' was renamed to 'ensure_all_finite' in 1.6 and will be removed in 1.8.\n",
      "  warnings.warn(\n"
     ]
    },
    {
     "name": "stdout",
     "output_type": "stream",
     "text": [
      "Los índices de df_real y dfcorpus están alineados correctamente.\n",
      "Todas las preguntas coinciden entre df y dfcorpus.\n"
     ]
    },
    {
     "name": "stderr",
     "output_type": "stream",
     "text": [
      "2025-05-11 16:31:23,721 - INFO - Silhouette Score: 0.699\n",
      "/Users/thesportydar/local_dev/reis-app/src/lib/report/.venv/lib/python3.13/site-packages/sklearn/utils/deprecation.py:151: FutureWarning: 'force_all_finite' was renamed to 'ensure_all_finite' in 1.6 and will be removed in 1.8.\n",
      "  warnings.warn(\n"
     ]
    },
    {
     "name": "stdout",
     "output_type": "stream",
     "text": [
      "Los índices de df_real y dfcorpus están alineados correctamente.\n",
      "Todas las preguntas coinciden entre df y dfcorpus.\n"
     ]
    },
    {
     "name": "stderr",
     "output_type": "stream",
     "text": [
      "2025-05-11 16:31:23,955 - INFO - Silhouette Score: 0.565\n",
      "/Users/thesportydar/local_dev/reis-app/src/lib/report/.venv/lib/python3.13/site-packages/sklearn/utils/deprecation.py:151: FutureWarning: 'force_all_finite' was renamed to 'ensure_all_finite' in 1.6 and will be removed in 1.8.\n",
      "  warnings.warn(\n"
     ]
    },
    {
     "name": "stdout",
     "output_type": "stream",
     "text": [
      "Los índices de df_real y dfcorpus están alineados correctamente.\n",
      "Todas las preguntas coinciden entre df y dfcorpus.\n"
     ]
    },
    {
     "name": "stderr",
     "output_type": "stream",
     "text": [
      "2025-05-11 16:31:24,181 - INFO - Silhouette Score: 0.593\n",
      "/Users/thesportydar/local_dev/reis-app/src/lib/report/.venv/lib/python3.13/site-packages/sklearn/utils/deprecation.py:151: FutureWarning: 'force_all_finite' was renamed to 'ensure_all_finite' in 1.6 and will be removed in 1.8.\n",
      "  warnings.warn(\n"
     ]
    },
    {
     "name": "stdout",
     "output_type": "stream",
     "text": [
      "Los índices de df_real y dfcorpus están alineados correctamente.\n",
      "Todas las preguntas coinciden entre df y dfcorpus.\n"
     ]
    },
    {
     "name": "stderr",
     "output_type": "stream",
     "text": [
      "2025-05-11 16:31:24,426 - INFO - Silhouette Score: 0.673\n",
      "/Users/thesportydar/local_dev/reis-app/src/lib/report/.venv/lib/python3.13/site-packages/sklearn/utils/deprecation.py:151: FutureWarning: 'force_all_finite' was renamed to 'ensure_all_finite' in 1.6 and will be removed in 1.8.\n",
      "  warnings.warn(\n"
     ]
    },
    {
     "name": "stdout",
     "output_type": "stream",
     "text": [
      "Los índices de df_real y dfcorpus están alineados correctamente.\n",
      "Todas las preguntas coinciden entre df y dfcorpus.\n"
     ]
    },
    {
     "name": "stderr",
     "output_type": "stream",
     "text": [
      "2025-05-11 16:31:24,691 - INFO - Silhouette Score: 0.666\n",
      "/Users/thesportydar/local_dev/reis-app/src/lib/report/.venv/lib/python3.13/site-packages/sklearn/utils/deprecation.py:151: FutureWarning: 'force_all_finite' was renamed to 'ensure_all_finite' in 1.6 and will be removed in 1.8.\n",
      "  warnings.warn(\n"
     ]
    },
    {
     "name": "stdout",
     "output_type": "stream",
     "text": [
      "Los índices de df_real y dfcorpus están alineados correctamente.\n",
      "Todas las preguntas coinciden entre df y dfcorpus.\n"
     ]
    },
    {
     "name": "stderr",
     "output_type": "stream",
     "text": [
      "2025-05-11 16:31:24,927 - INFO - Silhouette Score: 0.620\n",
      "/Users/thesportydar/local_dev/reis-app/src/lib/report/.venv/lib/python3.13/site-packages/sklearn/utils/deprecation.py:151: FutureWarning: 'force_all_finite' was renamed to 'ensure_all_finite' in 1.6 and will be removed in 1.8.\n",
      "  warnings.warn(\n"
     ]
    },
    {
     "name": "stdout",
     "output_type": "stream",
     "text": [
      "Los índices de df_real y dfcorpus están alineados correctamente.\n",
      "Todas las preguntas coinciden entre df y dfcorpus.\n"
     ]
    },
    {
     "name": "stderr",
     "output_type": "stream",
     "text": [
      "2025-05-11 16:31:25,168 - INFO - Silhouette Score: 0.518\n",
      "/Users/thesportydar/local_dev/reis-app/src/lib/report/.venv/lib/python3.13/site-packages/sklearn/utils/deprecation.py:151: FutureWarning: 'force_all_finite' was renamed to 'ensure_all_finite' in 1.6 and will be removed in 1.8.\n",
      "  warnings.warn(\n"
     ]
    },
    {
     "name": "stdout",
     "output_type": "stream",
     "text": [
      "Los índices de df_real y dfcorpus están alineados correctamente.\n",
      "Todas las preguntas coinciden entre df y dfcorpus.\n"
     ]
    },
    {
     "name": "stderr",
     "output_type": "stream",
     "text": [
      "2025-05-11 16:31:25,410 - INFO - Silhouette Score: 0.646\n",
      "/Users/thesportydar/local_dev/reis-app/src/lib/report/.venv/lib/python3.13/site-packages/sklearn/utils/deprecation.py:151: FutureWarning: 'force_all_finite' was renamed to 'ensure_all_finite' in 1.6 and will be removed in 1.8.\n",
      "  warnings.warn(\n"
     ]
    },
    {
     "name": "stdout",
     "output_type": "stream",
     "text": [
      "Los índices de df_real y dfcorpus están alineados correctamente.\n",
      "Todas las preguntas coinciden entre df y dfcorpus.\n"
     ]
    },
    {
     "name": "stderr",
     "output_type": "stream",
     "text": [
      "2025-05-11 16:31:25,650 - INFO - Silhouette Score: 0.690\n",
      "/Users/thesportydar/local_dev/reis-app/src/lib/report/.venv/lib/python3.13/site-packages/sklearn/utils/deprecation.py:151: FutureWarning: 'force_all_finite' was renamed to 'ensure_all_finite' in 1.6 and will be removed in 1.8.\n",
      "  warnings.warn(\n"
     ]
    },
    {
     "name": "stdout",
     "output_type": "stream",
     "text": [
      "Los índices de df_real y dfcorpus están alineados correctamente.\n",
      "Todas las preguntas coinciden entre df y dfcorpus.\n"
     ]
    },
    {
     "name": "stderr",
     "output_type": "stream",
     "text": [
      "2025-05-11 16:31:25,889 - INFO - Silhouette Score: 0.660\n",
      "/Users/thesportydar/local_dev/reis-app/src/lib/report/.venv/lib/python3.13/site-packages/sklearn/utils/deprecation.py:151: FutureWarning: 'force_all_finite' was renamed to 'ensure_all_finite' in 1.6 and will be removed in 1.8.\n",
      "  warnings.warn(\n"
     ]
    },
    {
     "name": "stdout",
     "output_type": "stream",
     "text": [
      "Los índices de df_real y dfcorpus están alineados correctamente.\n",
      "Todas las preguntas coinciden entre df y dfcorpus.\n"
     ]
    },
    {
     "name": "stderr",
     "output_type": "stream",
     "text": [
      "2025-05-11 16:31:26,124 - INFO - Silhouette Score: 0.591\n",
      "/Users/thesportydar/local_dev/reis-app/src/lib/report/.venv/lib/python3.13/site-packages/sklearn/utils/deprecation.py:151: FutureWarning: 'force_all_finite' was renamed to 'ensure_all_finite' in 1.6 and will be removed in 1.8.\n",
      "  warnings.warn(\n"
     ]
    },
    {
     "name": "stdout",
     "output_type": "stream",
     "text": [
      "Los índices de df_real y dfcorpus están alineados correctamente.\n",
      "Todas las preguntas coinciden entre df y dfcorpus.\n"
     ]
    },
    {
     "name": "stderr",
     "output_type": "stream",
     "text": [
      "2025-05-11 16:31:26,366 - INFO - Silhouette Score: 0.652\n",
      "/Users/thesportydar/local_dev/reis-app/src/lib/report/.venv/lib/python3.13/site-packages/sklearn/utils/deprecation.py:151: FutureWarning: 'force_all_finite' was renamed to 'ensure_all_finite' in 1.6 and will be removed in 1.8.\n",
      "  warnings.warn(\n"
     ]
    },
    {
     "name": "stdout",
     "output_type": "stream",
     "text": [
      "Los índices de df_real y dfcorpus están alineados correctamente.\n",
      "Todas las preguntas coinciden entre df y dfcorpus.\n"
     ]
    },
    {
     "name": "stderr",
     "output_type": "stream",
     "text": [
      "2025-05-11 16:31:26,601 - INFO - Silhouette Score: 0.652\n",
      "/Users/thesportydar/local_dev/reis-app/src/lib/report/.venv/lib/python3.13/site-packages/sklearn/utils/deprecation.py:151: FutureWarning: 'force_all_finite' was renamed to 'ensure_all_finite' in 1.6 and will be removed in 1.8.\n",
      "  warnings.warn(\n"
     ]
    },
    {
     "name": "stdout",
     "output_type": "stream",
     "text": [
      "Los índices de df_real y dfcorpus están alineados correctamente.\n",
      "Todas las preguntas coinciden entre df y dfcorpus.\n"
     ]
    },
    {
     "name": "stderr",
     "output_type": "stream",
     "text": [
      "2025-05-11 16:31:26,845 - INFO - Silhouette Score: 0.666\n",
      "/Users/thesportydar/local_dev/reis-app/src/lib/report/.venv/lib/python3.13/site-packages/sklearn/utils/deprecation.py:151: FutureWarning: 'force_all_finite' was renamed to 'ensure_all_finite' in 1.6 and will be removed in 1.8.\n",
      "  warnings.warn(\n"
     ]
    },
    {
     "name": "stdout",
     "output_type": "stream",
     "text": [
      "Los índices de df_real y dfcorpus están alineados correctamente.\n",
      "Todas las preguntas coinciden entre df y dfcorpus.\n"
     ]
    },
    {
     "name": "stderr",
     "output_type": "stream",
     "text": [
      "2025-05-11 16:31:27,086 - INFO - Silhouette Score: 0.685\n",
      "/Users/thesportydar/local_dev/reis-app/src/lib/report/.venv/lib/python3.13/site-packages/sklearn/utils/deprecation.py:151: FutureWarning: 'force_all_finite' was renamed to 'ensure_all_finite' in 1.6 and will be removed in 1.8.\n",
      "  warnings.warn(\n"
     ]
    },
    {
     "name": "stdout",
     "output_type": "stream",
     "text": [
      "Los índices de df_real y dfcorpus están alineados correctamente.\n",
      "Todas las preguntas coinciden entre df y dfcorpus.\n"
     ]
    },
    {
     "name": "stderr",
     "output_type": "stream",
     "text": [
      "2025-05-11 16:31:27,319 - INFO - Silhouette Score: 0.645\n",
      "/Users/thesportydar/local_dev/reis-app/src/lib/report/.venv/lib/python3.13/site-packages/sklearn/utils/deprecation.py:151: FutureWarning: 'force_all_finite' was renamed to 'ensure_all_finite' in 1.6 and will be removed in 1.8.\n",
      "  warnings.warn(\n"
     ]
    },
    {
     "name": "stdout",
     "output_type": "stream",
     "text": [
      "Los índices de df_real y dfcorpus están alineados correctamente.\n",
      "Todas las preguntas coinciden entre df y dfcorpus.\n"
     ]
    },
    {
     "name": "stderr",
     "output_type": "stream",
     "text": [
      "2025-05-11 16:31:27,547 - INFO - Silhouette Score: 0.655\n",
      "/Users/thesportydar/local_dev/reis-app/src/lib/report/.venv/lib/python3.13/site-packages/sklearn/utils/deprecation.py:151: FutureWarning: 'force_all_finite' was renamed to 'ensure_all_finite' in 1.6 and will be removed in 1.8.\n",
      "  warnings.warn(\n"
     ]
    },
    {
     "name": "stdout",
     "output_type": "stream",
     "text": [
      "Los índices de df_real y dfcorpus están alineados correctamente.\n",
      "Todas las preguntas coinciden entre df y dfcorpus.\n"
     ]
    },
    {
     "name": "stderr",
     "output_type": "stream",
     "text": [
      "2025-05-11 16:31:27,812 - INFO - Silhouette Score: 0.662\n",
      "/Users/thesportydar/local_dev/reis-app/src/lib/report/.venv/lib/python3.13/site-packages/sklearn/utils/deprecation.py:151: FutureWarning: 'force_all_finite' was renamed to 'ensure_all_finite' in 1.6 and will be removed in 1.8.\n",
      "  warnings.warn(\n"
     ]
    },
    {
     "name": "stdout",
     "output_type": "stream",
     "text": [
      "Los índices de df_real y dfcorpus están alineados correctamente.\n",
      "Todas las preguntas coinciden entre df y dfcorpus.\n"
     ]
    },
    {
     "name": "stderr",
     "output_type": "stream",
     "text": [
      "2025-05-11 16:31:28,056 - INFO - Silhouette Score: 0.597\n",
      "/Users/thesportydar/local_dev/reis-app/src/lib/report/.venv/lib/python3.13/site-packages/sklearn/utils/deprecation.py:151: FutureWarning: 'force_all_finite' was renamed to 'ensure_all_finite' in 1.6 and will be removed in 1.8.\n",
      "  warnings.warn(\n"
     ]
    },
    {
     "name": "stdout",
     "output_type": "stream",
     "text": [
      "Los índices de df_real y dfcorpus están alineados correctamente.\n",
      "Todas las preguntas coinciden entre df y dfcorpus.\n"
     ]
    },
    {
     "name": "stderr",
     "output_type": "stream",
     "text": [
      "2025-05-11 16:31:28,289 - INFO - Silhouette Score: 0.638\n",
      "/Users/thesportydar/local_dev/reis-app/src/lib/report/.venv/lib/python3.13/site-packages/sklearn/utils/deprecation.py:151: FutureWarning: 'force_all_finite' was renamed to 'ensure_all_finite' in 1.6 and will be removed in 1.8.\n",
      "  warnings.warn(\n"
     ]
    },
    {
     "name": "stdout",
     "output_type": "stream",
     "text": [
      "Los índices de df_real y dfcorpus están alineados correctamente.\n",
      "Todas las preguntas coinciden entre df y dfcorpus.\n"
     ]
    },
    {
     "name": "stderr",
     "output_type": "stream",
     "text": [
      "2025-05-11 16:31:28,515 - INFO - Silhouette Score: 0.690\n",
      "/Users/thesportydar/local_dev/reis-app/src/lib/report/.venv/lib/python3.13/site-packages/sklearn/utils/deprecation.py:151: FutureWarning: 'force_all_finite' was renamed to 'ensure_all_finite' in 1.6 and will be removed in 1.8.\n",
      "  warnings.warn(\n"
     ]
    },
    {
     "name": "stdout",
     "output_type": "stream",
     "text": [
      "Los índices de df_real y dfcorpus están alineados correctamente.\n",
      "Todas las preguntas coinciden entre df y dfcorpus.\n"
     ]
    },
    {
     "name": "stderr",
     "output_type": "stream",
     "text": [
      "2025-05-11 16:31:28,751 - INFO - Silhouette Score: 0.662\n",
      "/Users/thesportydar/local_dev/reis-app/src/lib/report/.venv/lib/python3.13/site-packages/sklearn/utils/deprecation.py:151: FutureWarning: 'force_all_finite' was renamed to 'ensure_all_finite' in 1.6 and will be removed in 1.8.\n",
      "  warnings.warn(\n"
     ]
    },
    {
     "name": "stdout",
     "output_type": "stream",
     "text": [
      "Los índices de df_real y dfcorpus están alineados correctamente.\n",
      "Todas las preguntas coinciden entre df y dfcorpus.\n"
     ]
    },
    {
     "name": "stderr",
     "output_type": "stream",
     "text": [
      "2025-05-11 16:31:29,027 - INFO - Silhouette Score: 0.644\n",
      "/Users/thesportydar/local_dev/reis-app/src/lib/report/.venv/lib/python3.13/site-packages/sklearn/utils/deprecation.py:151: FutureWarning: 'force_all_finite' was renamed to 'ensure_all_finite' in 1.6 and will be removed in 1.8.\n",
      "  warnings.warn(\n"
     ]
    },
    {
     "name": "stdout",
     "output_type": "stream",
     "text": [
      "Los índices de df_real y dfcorpus están alineados correctamente.\n",
      "Todas las preguntas coinciden entre df y dfcorpus.\n"
     ]
    },
    {
     "name": "stderr",
     "output_type": "stream",
     "text": [
      "2025-05-11 16:31:29,260 - INFO - Silhouette Score: 0.645\n",
      "/Users/thesportydar/local_dev/reis-app/src/lib/report/.venv/lib/python3.13/site-packages/sklearn/utils/deprecation.py:151: FutureWarning: 'force_all_finite' was renamed to 'ensure_all_finite' in 1.6 and will be removed in 1.8.\n",
      "  warnings.warn(\n"
     ]
    },
    {
     "name": "stdout",
     "output_type": "stream",
     "text": [
      "Los índices de df_real y dfcorpus están alineados correctamente.\n",
      "Todas las preguntas coinciden entre df y dfcorpus.\n"
     ]
    },
    {
     "name": "stderr",
     "output_type": "stream",
     "text": [
      "2025-05-11 16:31:29,504 - INFO - Silhouette Score: 0.697\n",
      "/Users/thesportydar/local_dev/reis-app/src/lib/report/.venv/lib/python3.13/site-packages/sklearn/utils/deprecation.py:151: FutureWarning: 'force_all_finite' was renamed to 'ensure_all_finite' in 1.6 and will be removed in 1.8.\n",
      "  warnings.warn(\n"
     ]
    },
    {
     "name": "stdout",
     "output_type": "stream",
     "text": [
      "Los índices de df_real y dfcorpus están alineados correctamente.\n",
      "Todas las preguntas coinciden entre df y dfcorpus.\n"
     ]
    },
    {
     "name": "stderr",
     "output_type": "stream",
     "text": [
      "2025-05-11 16:31:29,751 - INFO - Silhouette Score: 0.596\n",
      "/Users/thesportydar/local_dev/reis-app/src/lib/report/.venv/lib/python3.13/site-packages/sklearn/utils/deprecation.py:151: FutureWarning: 'force_all_finite' was renamed to 'ensure_all_finite' in 1.6 and will be removed in 1.8.\n",
      "  warnings.warn(\n"
     ]
    },
    {
     "name": "stdout",
     "output_type": "stream",
     "text": [
      "Los índices de df_real y dfcorpus están alineados correctamente.\n",
      "Todas las preguntas coinciden entre df y dfcorpus.\n"
     ]
    },
    {
     "name": "stderr",
     "output_type": "stream",
     "text": [
      "2025-05-11 16:31:29,992 - INFO - Silhouette Score: 0.666\n",
      "/Users/thesportydar/local_dev/reis-app/src/lib/report/.venv/lib/python3.13/site-packages/sklearn/utils/deprecation.py:151: FutureWarning: 'force_all_finite' was renamed to 'ensure_all_finite' in 1.6 and will be removed in 1.8.\n",
      "  warnings.warn(\n"
     ]
    },
    {
     "name": "stdout",
     "output_type": "stream",
     "text": [
      "Los índices de df_real y dfcorpus están alineados correctamente.\n",
      "Todas las preguntas coinciden entre df y dfcorpus.\n"
     ]
    },
    {
     "name": "stderr",
     "output_type": "stream",
     "text": [
      "2025-05-11 16:31:30,232 - INFO - Silhouette Score: 0.594\n",
      "/Users/thesportydar/local_dev/reis-app/src/lib/report/.venv/lib/python3.13/site-packages/sklearn/utils/deprecation.py:151: FutureWarning: 'force_all_finite' was renamed to 'ensure_all_finite' in 1.6 and will be removed in 1.8.\n",
      "  warnings.warn(\n"
     ]
    },
    {
     "name": "stdout",
     "output_type": "stream",
     "text": [
      "Los índices de df_real y dfcorpus están alineados correctamente.\n",
      "Todas las preguntas coinciden entre df y dfcorpus.\n"
     ]
    },
    {
     "name": "stderr",
     "output_type": "stream",
     "text": [
      "2025-05-11 16:31:30,507 - INFO - Silhouette Score: 0.686\n",
      "/Users/thesportydar/local_dev/reis-app/src/lib/report/.venv/lib/python3.13/site-packages/sklearn/utils/deprecation.py:151: FutureWarning: 'force_all_finite' was renamed to 'ensure_all_finite' in 1.6 and will be removed in 1.8.\n",
      "  warnings.warn(\n"
     ]
    },
    {
     "name": "stdout",
     "output_type": "stream",
     "text": [
      "Los índices de df_real y dfcorpus están alineados correctamente.\n",
      "Todas las preguntas coinciden entre df y dfcorpus.\n"
     ]
    },
    {
     "name": "stderr",
     "output_type": "stream",
     "text": [
      "2025-05-11 16:31:30,748 - INFO - Silhouette Score: 0.694\n",
      "/Users/thesportydar/local_dev/reis-app/src/lib/report/.venv/lib/python3.13/site-packages/sklearn/utils/deprecation.py:151: FutureWarning: 'force_all_finite' was renamed to 'ensure_all_finite' in 1.6 and will be removed in 1.8.\n",
      "  warnings.warn(\n"
     ]
    },
    {
     "name": "stdout",
     "output_type": "stream",
     "text": [
      "Los índices de df_real y dfcorpus están alineados correctamente.\n",
      "Todas las preguntas coinciden entre df y dfcorpus.\n"
     ]
    },
    {
     "name": "stderr",
     "output_type": "stream",
     "text": [
      "2025-05-11 16:31:30,994 - INFO - Silhouette Score: 0.703\n",
      "/Users/thesportydar/local_dev/reis-app/src/lib/report/.venv/lib/python3.13/site-packages/sklearn/utils/deprecation.py:151: FutureWarning: 'force_all_finite' was renamed to 'ensure_all_finite' in 1.6 and will be removed in 1.8.\n",
      "  warnings.warn(\n"
     ]
    },
    {
     "name": "stdout",
     "output_type": "stream",
     "text": [
      "Los índices de df_real y dfcorpus están alineados correctamente.\n",
      "Todas las preguntas coinciden entre df y dfcorpus.\n"
     ]
    },
    {
     "name": "stderr",
     "output_type": "stream",
     "text": [
      "2025-05-11 16:31:31,238 - INFO - Silhouette Score: 0.659\n",
      "/Users/thesportydar/local_dev/reis-app/src/lib/report/.venv/lib/python3.13/site-packages/sklearn/utils/deprecation.py:151: FutureWarning: 'force_all_finite' was renamed to 'ensure_all_finite' in 1.6 and will be removed in 1.8.\n",
      "  warnings.warn(\n"
     ]
    },
    {
     "name": "stdout",
     "output_type": "stream",
     "text": [
      "Los índices de df_real y dfcorpus están alineados correctamente.\n",
      "Todas las preguntas coinciden entre df y dfcorpus.\n"
     ]
    },
    {
     "name": "stderr",
     "output_type": "stream",
     "text": [
      "2025-05-11 16:31:31,472 - INFO - Silhouette Score: 0.634\n",
      "/Users/thesportydar/local_dev/reis-app/src/lib/report/.venv/lib/python3.13/site-packages/sklearn/utils/deprecation.py:151: FutureWarning: 'force_all_finite' was renamed to 'ensure_all_finite' in 1.6 and will be removed in 1.8.\n",
      "  warnings.warn(\n"
     ]
    },
    {
     "name": "stdout",
     "output_type": "stream",
     "text": [
      "Los índices de df_real y dfcorpus están alineados correctamente.\n",
      "Todas las preguntas coinciden entre df y dfcorpus.\n"
     ]
    },
    {
     "name": "stderr",
     "output_type": "stream",
     "text": [
      "2025-05-11 16:31:31,709 - INFO - Silhouette Score: 0.503\n",
      "/Users/thesportydar/local_dev/reis-app/src/lib/report/.venv/lib/python3.13/site-packages/sklearn/utils/deprecation.py:151: FutureWarning: 'force_all_finite' was renamed to 'ensure_all_finite' in 1.6 and will be removed in 1.8.\n",
      "  warnings.warn(\n"
     ]
    },
    {
     "name": "stdout",
     "output_type": "stream",
     "text": [
      "Los índices de df_real y dfcorpus están alineados correctamente.\n",
      "Todas las preguntas coinciden entre df y dfcorpus.\n"
     ]
    },
    {
     "name": "stderr",
     "output_type": "stream",
     "text": [
      "2025-05-11 16:31:31,951 - INFO - Silhouette Score: 0.583\n",
      "/Users/thesportydar/local_dev/reis-app/src/lib/report/.venv/lib/python3.13/site-packages/sklearn/utils/deprecation.py:151: FutureWarning: 'force_all_finite' was renamed to 'ensure_all_finite' in 1.6 and will be removed in 1.8.\n",
      "  warnings.warn(\n"
     ]
    },
    {
     "name": "stdout",
     "output_type": "stream",
     "text": [
      "Los índices de df_real y dfcorpus están alineados correctamente.\n",
      "Todas las preguntas coinciden entre df y dfcorpus.\n"
     ]
    },
    {
     "name": "stderr",
     "output_type": "stream",
     "text": [
      "2025-05-11 16:31:32,195 - INFO - Silhouette Score: 0.635\n",
      "/Users/thesportydar/local_dev/reis-app/src/lib/report/.venv/lib/python3.13/site-packages/sklearn/utils/deprecation.py:151: FutureWarning: 'force_all_finite' was renamed to 'ensure_all_finite' in 1.6 and will be removed in 1.8.\n",
      "  warnings.warn(\n"
     ]
    },
    {
     "name": "stdout",
     "output_type": "stream",
     "text": [
      "Los índices de df_real y dfcorpus están alineados correctamente.\n",
      "Todas las preguntas coinciden entre df y dfcorpus.\n"
     ]
    },
    {
     "name": "stderr",
     "output_type": "stream",
     "text": [
      "2025-05-11 16:31:32,431 - INFO - Silhouette Score: 0.596\n",
      "/Users/thesportydar/local_dev/reis-app/src/lib/report/.venv/lib/python3.13/site-packages/sklearn/utils/deprecation.py:151: FutureWarning: 'force_all_finite' was renamed to 'ensure_all_finite' in 1.6 and will be removed in 1.8.\n",
      "  warnings.warn(\n"
     ]
    },
    {
     "name": "stdout",
     "output_type": "stream",
     "text": [
      "Los índices de df_real y dfcorpus están alineados correctamente.\n",
      "Todas las preguntas coinciden entre df y dfcorpus.\n"
     ]
    },
    {
     "name": "stderr",
     "output_type": "stream",
     "text": [
      "2025-05-11 16:31:32,669 - INFO - Silhouette Score: 0.619\n",
      "/Users/thesportydar/local_dev/reis-app/src/lib/report/.venv/lib/python3.13/site-packages/sklearn/utils/deprecation.py:151: FutureWarning: 'force_all_finite' was renamed to 'ensure_all_finite' in 1.6 and will be removed in 1.8.\n",
      "  warnings.warn(\n"
     ]
    },
    {
     "name": "stdout",
     "output_type": "stream",
     "text": [
      "Los índices de df_real y dfcorpus están alineados correctamente.\n",
      "Todas las preguntas coinciden entre df y dfcorpus.\n"
     ]
    },
    {
     "name": "stderr",
     "output_type": "stream",
     "text": [
      "2025-05-11 16:31:32,914 - INFO - Silhouette Score: 0.683\n",
      "/Users/thesportydar/local_dev/reis-app/src/lib/report/.venv/lib/python3.13/site-packages/sklearn/utils/deprecation.py:151: FutureWarning: 'force_all_finite' was renamed to 'ensure_all_finite' in 1.6 and will be removed in 1.8.\n",
      "  warnings.warn(\n"
     ]
    },
    {
     "name": "stdout",
     "output_type": "stream",
     "text": [
      "Los índices de df_real y dfcorpus están alineados correctamente.\n",
      "Todas las preguntas coinciden entre df y dfcorpus.\n"
     ]
    },
    {
     "name": "stderr",
     "output_type": "stream",
     "text": [
      "2025-05-11 16:31:33,151 - INFO - Silhouette Score: 0.639\n",
      "/Users/thesportydar/local_dev/reis-app/src/lib/report/.venv/lib/python3.13/site-packages/sklearn/utils/deprecation.py:151: FutureWarning: 'force_all_finite' was renamed to 'ensure_all_finite' in 1.6 and will be removed in 1.8.\n",
      "  warnings.warn(\n"
     ]
    },
    {
     "name": "stdout",
     "output_type": "stream",
     "text": [
      "Los índices de df_real y dfcorpus están alineados correctamente.\n",
      "Todas las preguntas coinciden entre df y dfcorpus.\n"
     ]
    },
    {
     "name": "stderr",
     "output_type": "stream",
     "text": [
      "2025-05-11 16:31:33,423 - INFO - Silhouette Score: 0.654\n",
      "/Users/thesportydar/local_dev/reis-app/src/lib/report/.venv/lib/python3.13/site-packages/sklearn/utils/deprecation.py:151: FutureWarning: 'force_all_finite' was renamed to 'ensure_all_finite' in 1.6 and will be removed in 1.8.\n",
      "  warnings.warn(\n"
     ]
    },
    {
     "name": "stdout",
     "output_type": "stream",
     "text": [
      "Los índices de df_real y dfcorpus están alineados correctamente.\n",
      "Todas las preguntas coinciden entre df y dfcorpus.\n"
     ]
    },
    {
     "name": "stderr",
     "output_type": "stream",
     "text": [
      "2025-05-11 16:31:33,657 - INFO - Silhouette Score: 0.653\n",
      "/Users/thesportydar/local_dev/reis-app/src/lib/report/.venv/lib/python3.13/site-packages/sklearn/utils/deprecation.py:151: FutureWarning: 'force_all_finite' was renamed to 'ensure_all_finite' in 1.6 and will be removed in 1.8.\n",
      "  warnings.warn(\n"
     ]
    },
    {
     "name": "stdout",
     "output_type": "stream",
     "text": [
      "Los índices de df_real y dfcorpus están alineados correctamente.\n",
      "Todas las preguntas coinciden entre df y dfcorpus.\n"
     ]
    },
    {
     "name": "stderr",
     "output_type": "stream",
     "text": [
      "2025-05-11 16:31:33,902 - INFO - Silhouette Score: 0.684\n",
      "/Users/thesportydar/local_dev/reis-app/src/lib/report/.venv/lib/python3.13/site-packages/sklearn/utils/deprecation.py:151: FutureWarning: 'force_all_finite' was renamed to 'ensure_all_finite' in 1.6 and will be removed in 1.8.\n",
      "  warnings.warn(\n"
     ]
    },
    {
     "name": "stdout",
     "output_type": "stream",
     "text": [
      "Los índices de df_real y dfcorpus están alineados correctamente.\n",
      "Todas las preguntas coinciden entre df y dfcorpus.\n"
     ]
    },
    {
     "name": "stderr",
     "output_type": "stream",
     "text": [
      "2025-05-11 16:31:34,140 - INFO - Silhouette Score: 0.600\n",
      "/Users/thesportydar/local_dev/reis-app/src/lib/report/.venv/lib/python3.13/site-packages/sklearn/utils/deprecation.py:151: FutureWarning: 'force_all_finite' was renamed to 'ensure_all_finite' in 1.6 and will be removed in 1.8.\n",
      "  warnings.warn(\n"
     ]
    },
    {
     "name": "stdout",
     "output_type": "stream",
     "text": [
      "Los índices de df_real y dfcorpus están alineados correctamente.\n",
      "Todas las preguntas coinciden entre df y dfcorpus.\n"
     ]
    },
    {
     "name": "stderr",
     "output_type": "stream",
     "text": [
      "2025-05-11 16:31:34,375 - INFO - Silhouette Score: 0.702\n",
      "/Users/thesportydar/local_dev/reis-app/src/lib/report/.venv/lib/python3.13/site-packages/sklearn/utils/deprecation.py:151: FutureWarning: 'force_all_finite' was renamed to 'ensure_all_finite' in 1.6 and will be removed in 1.8.\n",
      "  warnings.warn(\n"
     ]
    },
    {
     "name": "stdout",
     "output_type": "stream",
     "text": [
      "Los índices de df_real y dfcorpus están alineados correctamente.\n",
      "Todas las preguntas coinciden entre df y dfcorpus.\n"
     ]
    },
    {
     "name": "stderr",
     "output_type": "stream",
     "text": [
      "2025-05-11 16:31:34,616 - INFO - Silhouette Score: 0.649\n",
      "/Users/thesportydar/local_dev/reis-app/src/lib/report/.venv/lib/python3.13/site-packages/sklearn/utils/deprecation.py:151: FutureWarning: 'force_all_finite' was renamed to 'ensure_all_finite' in 1.6 and will be removed in 1.8.\n",
      "  warnings.warn(\n"
     ]
    },
    {
     "name": "stdout",
     "output_type": "stream",
     "text": [
      "Los índices de df_real y dfcorpus están alineados correctamente.\n",
      "Todas las preguntas coinciden entre df y dfcorpus.\n"
     ]
    },
    {
     "name": "stderr",
     "output_type": "stream",
     "text": [
      "2025-05-11 16:31:34,869 - INFO - Silhouette Score: 0.608\n",
      "/Users/thesportydar/local_dev/reis-app/src/lib/report/.venv/lib/python3.13/site-packages/sklearn/utils/deprecation.py:151: FutureWarning: 'force_all_finite' was renamed to 'ensure_all_finite' in 1.6 and will be removed in 1.8.\n",
      "  warnings.warn(\n"
     ]
    },
    {
     "name": "stdout",
     "output_type": "stream",
     "text": [
      "Los índices de df_real y dfcorpus están alineados correctamente.\n",
      "Todas las preguntas coinciden entre df y dfcorpus.\n"
     ]
    },
    {
     "name": "stderr",
     "output_type": "stream",
     "text": [
      "2025-05-11 16:31:35,137 - INFO - Silhouette Score: 0.680\n",
      "/Users/thesportydar/local_dev/reis-app/src/lib/report/.venv/lib/python3.13/site-packages/sklearn/utils/deprecation.py:151: FutureWarning: 'force_all_finite' was renamed to 'ensure_all_finite' in 1.6 and will be removed in 1.8.\n",
      "  warnings.warn(\n"
     ]
    },
    {
     "name": "stdout",
     "output_type": "stream",
     "text": [
      "Los índices de df_real y dfcorpus están alineados correctamente.\n",
      "Todas las preguntas coinciden entre df y dfcorpus.\n"
     ]
    },
    {
     "name": "stderr",
     "output_type": "stream",
     "text": [
      "2025-05-11 16:31:35,379 - INFO - Silhouette Score: 0.607\n",
      "/Users/thesportydar/local_dev/reis-app/src/lib/report/.venv/lib/python3.13/site-packages/sklearn/utils/deprecation.py:151: FutureWarning: 'force_all_finite' was renamed to 'ensure_all_finite' in 1.6 and will be removed in 1.8.\n",
      "  warnings.warn(\n"
     ]
    },
    {
     "name": "stdout",
     "output_type": "stream",
     "text": [
      "Los índices de df_real y dfcorpus están alineados correctamente.\n",
      "Todas las preguntas coinciden entre df y dfcorpus.\n"
     ]
    },
    {
     "name": "stderr",
     "output_type": "stream",
     "text": [
      "2025-05-11 16:31:35,617 - INFO - Silhouette Score: 0.695\n",
      "/Users/thesportydar/local_dev/reis-app/src/lib/report/.venv/lib/python3.13/site-packages/sklearn/utils/deprecation.py:151: FutureWarning: 'force_all_finite' was renamed to 'ensure_all_finite' in 1.6 and will be removed in 1.8.\n",
      "  warnings.warn(\n"
     ]
    },
    {
     "name": "stdout",
     "output_type": "stream",
     "text": [
      "Los índices de df_real y dfcorpus están alineados correctamente.\n",
      "Todas las preguntas coinciden entre df y dfcorpus.\n"
     ]
    },
    {
     "name": "stderr",
     "output_type": "stream",
     "text": [
      "2025-05-11 16:31:35,863 - INFO - Silhouette Score: 0.661\n",
      "/Users/thesportydar/local_dev/reis-app/src/lib/report/.venv/lib/python3.13/site-packages/sklearn/utils/deprecation.py:151: FutureWarning: 'force_all_finite' was renamed to 'ensure_all_finite' in 1.6 and will be removed in 1.8.\n",
      "  warnings.warn(\n"
     ]
    },
    {
     "name": "stdout",
     "output_type": "stream",
     "text": [
      "Los índices de df_real y dfcorpus están alineados correctamente.\n",
      "Todas las preguntas coinciden entre df y dfcorpus.\n"
     ]
    },
    {
     "name": "stderr",
     "output_type": "stream",
     "text": [
      "2025-05-11 16:31:36,138 - INFO - Silhouette Score: 0.659\n",
      "/Users/thesportydar/local_dev/reis-app/src/lib/report/.venv/lib/python3.13/site-packages/sklearn/utils/deprecation.py:151: FutureWarning: 'force_all_finite' was renamed to 'ensure_all_finite' in 1.6 and will be removed in 1.8.\n",
      "  warnings.warn(\n"
     ]
    },
    {
     "name": "stdout",
     "output_type": "stream",
     "text": [
      "Los índices de df_real y dfcorpus están alineados correctamente.\n",
      "Todas las preguntas coinciden entre df y dfcorpus.\n"
     ]
    },
    {
     "name": "stderr",
     "output_type": "stream",
     "text": [
      "2025-05-11 16:31:36,375 - INFO - Silhouette Score: 0.672\n",
      "/Users/thesportydar/local_dev/reis-app/src/lib/report/.venv/lib/python3.13/site-packages/sklearn/utils/deprecation.py:151: FutureWarning: 'force_all_finite' was renamed to 'ensure_all_finite' in 1.6 and will be removed in 1.8.\n",
      "  warnings.warn(\n"
     ]
    },
    {
     "name": "stdout",
     "output_type": "stream",
     "text": [
      "Los índices de df_real y dfcorpus están alineados correctamente.\n",
      "Todas las preguntas coinciden entre df y dfcorpus.\n"
     ]
    },
    {
     "name": "stderr",
     "output_type": "stream",
     "text": [
      "2025-05-11 16:31:36,607 - INFO - Silhouette Score: 0.662\n",
      "/Users/thesportydar/local_dev/reis-app/src/lib/report/.venv/lib/python3.13/site-packages/sklearn/utils/deprecation.py:151: FutureWarning: 'force_all_finite' was renamed to 'ensure_all_finite' in 1.6 and will be removed in 1.8.\n",
      "  warnings.warn(\n"
     ]
    },
    {
     "name": "stdout",
     "output_type": "stream",
     "text": [
      "Los índices de df_real y dfcorpus están alineados correctamente.\n",
      "Todas las preguntas coinciden entre df y dfcorpus.\n"
     ]
    },
    {
     "name": "stderr",
     "output_type": "stream",
     "text": [
      "2025-05-11 16:31:36,843 - INFO - Silhouette Score: 0.698\n",
      "/Users/thesportydar/local_dev/reis-app/src/lib/report/.venv/lib/python3.13/site-packages/sklearn/utils/deprecation.py:151: FutureWarning: 'force_all_finite' was renamed to 'ensure_all_finite' in 1.6 and will be removed in 1.8.\n",
      "  warnings.warn(\n"
     ]
    },
    {
     "name": "stdout",
     "output_type": "stream",
     "text": [
      "Los índices de df_real y dfcorpus están alineados correctamente.\n",
      "Todas las preguntas coinciden entre df y dfcorpus.\n"
     ]
    },
    {
     "name": "stderr",
     "output_type": "stream",
     "text": [
      "2025-05-11 16:31:37,077 - INFO - Silhouette Score: 0.653\n",
      "/Users/thesportydar/local_dev/reis-app/src/lib/report/.venv/lib/python3.13/site-packages/sklearn/utils/deprecation.py:151: FutureWarning: 'force_all_finite' was renamed to 'ensure_all_finite' in 1.6 and will be removed in 1.8.\n",
      "  warnings.warn(\n"
     ]
    },
    {
     "name": "stdout",
     "output_type": "stream",
     "text": [
      "Los índices de df_real y dfcorpus están alineados correctamente.\n",
      "Todas las preguntas coinciden entre df y dfcorpus.\n"
     ]
    },
    {
     "name": "stderr",
     "output_type": "stream",
     "text": [
      "2025-05-11 16:31:37,317 - INFO - Silhouette Score: 0.688\n",
      "/Users/thesportydar/local_dev/reis-app/src/lib/report/.venv/lib/python3.13/site-packages/sklearn/utils/deprecation.py:151: FutureWarning: 'force_all_finite' was renamed to 'ensure_all_finite' in 1.6 and will be removed in 1.8.\n",
      "  warnings.warn(\n"
     ]
    },
    {
     "name": "stdout",
     "output_type": "stream",
     "text": [
      "Los índices de df_real y dfcorpus están alineados correctamente.\n",
      "Todas las preguntas coinciden entre df y dfcorpus.\n"
     ]
    },
    {
     "name": "stderr",
     "output_type": "stream",
     "text": [
      "2025-05-11 16:31:37,566 - INFO - Silhouette Score: 0.592\n",
      "/Users/thesportydar/local_dev/reis-app/src/lib/report/.venv/lib/python3.13/site-packages/sklearn/utils/deprecation.py:151: FutureWarning: 'force_all_finite' was renamed to 'ensure_all_finite' in 1.6 and will be removed in 1.8.\n",
      "  warnings.warn(\n"
     ]
    },
    {
     "name": "stdout",
     "output_type": "stream",
     "text": [
      "Los índices de df_real y dfcorpus están alineados correctamente.\n",
      "Todas las preguntas coinciden entre df y dfcorpus.\n"
     ]
    },
    {
     "name": "stderr",
     "output_type": "stream",
     "text": [
      "2025-05-11 16:31:37,823 - INFO - Silhouette Score: 0.600\n",
      "/Users/thesportydar/local_dev/reis-app/src/lib/report/.venv/lib/python3.13/site-packages/sklearn/utils/deprecation.py:151: FutureWarning: 'force_all_finite' was renamed to 'ensure_all_finite' in 1.6 and will be removed in 1.8.\n",
      "  warnings.warn(\n"
     ]
    },
    {
     "name": "stdout",
     "output_type": "stream",
     "text": [
      "Los índices de df_real y dfcorpus están alineados correctamente.\n",
      "Todas las preguntas coinciden entre df y dfcorpus.\n"
     ]
    },
    {
     "name": "stderr",
     "output_type": "stream",
     "text": [
      "2025-05-11 16:31:38,061 - INFO - Silhouette Score: 0.613\n",
      "/Users/thesportydar/local_dev/reis-app/src/lib/report/.venv/lib/python3.13/site-packages/sklearn/utils/deprecation.py:151: FutureWarning: 'force_all_finite' was renamed to 'ensure_all_finite' in 1.6 and will be removed in 1.8.\n",
      "  warnings.warn(\n"
     ]
    },
    {
     "name": "stdout",
     "output_type": "stream",
     "text": [
      "Los índices de df_real y dfcorpus están alineados correctamente.\n",
      "Todas las preguntas coinciden entre df y dfcorpus.\n"
     ]
    },
    {
     "name": "stderr",
     "output_type": "stream",
     "text": [
      "2025-05-11 16:31:38,307 - INFO - Silhouette Score: 0.603\n",
      "/Users/thesportydar/local_dev/reis-app/src/lib/report/.venv/lib/python3.13/site-packages/sklearn/utils/deprecation.py:151: FutureWarning: 'force_all_finite' was renamed to 'ensure_all_finite' in 1.6 and will be removed in 1.8.\n",
      "  warnings.warn(\n"
     ]
    },
    {
     "name": "stdout",
     "output_type": "stream",
     "text": [
      "Los índices de df_real y dfcorpus están alineados correctamente.\n",
      "Todas las preguntas coinciden entre df y dfcorpus.\n"
     ]
    },
    {
     "name": "stderr",
     "output_type": "stream",
     "text": [
      "2025-05-11 16:31:38,548 - INFO - Silhouette Score: 0.606\n",
      "/Users/thesportydar/local_dev/reis-app/src/lib/report/.venv/lib/python3.13/site-packages/sklearn/utils/deprecation.py:151: FutureWarning: 'force_all_finite' was renamed to 'ensure_all_finite' in 1.6 and will be removed in 1.8.\n",
      "  warnings.warn(\n"
     ]
    },
    {
     "name": "stdout",
     "output_type": "stream",
     "text": [
      "Los índices de df_real y dfcorpus están alineados correctamente.\n",
      "Todas las preguntas coinciden entre df y dfcorpus.\n"
     ]
    },
    {
     "name": "stderr",
     "output_type": "stream",
     "text": [
      "2025-05-11 16:31:38,806 - INFO - Silhouette Score: 0.626\n",
      "/Users/thesportydar/local_dev/reis-app/src/lib/report/.venv/lib/python3.13/site-packages/sklearn/utils/deprecation.py:151: FutureWarning: 'force_all_finite' was renamed to 'ensure_all_finite' in 1.6 and will be removed in 1.8.\n",
      "  warnings.warn(\n"
     ]
    },
    {
     "name": "stdout",
     "output_type": "stream",
     "text": [
      "Los índices de df_real y dfcorpus están alineados correctamente.\n",
      "Todas las preguntas coinciden entre df y dfcorpus.\n"
     ]
    },
    {
     "name": "stderr",
     "output_type": "stream",
     "text": [
      "2025-05-11 16:31:39,054 - INFO - Silhouette Score: 0.674\n",
      "/Users/thesportydar/local_dev/reis-app/src/lib/report/.venv/lib/python3.13/site-packages/sklearn/utils/deprecation.py:151: FutureWarning: 'force_all_finite' was renamed to 'ensure_all_finite' in 1.6 and will be removed in 1.8.\n",
      "  warnings.warn(\n"
     ]
    },
    {
     "name": "stdout",
     "output_type": "stream",
     "text": [
      "Los índices de df_real y dfcorpus están alineados correctamente.\n",
      "Todas las preguntas coinciden entre df y dfcorpus.\n"
     ]
    },
    {
     "name": "stderr",
     "output_type": "stream",
     "text": [
      "2025-05-11 16:31:39,299 - INFO - Silhouette Score: 0.671\n",
      "/Users/thesportydar/local_dev/reis-app/src/lib/report/.venv/lib/python3.13/site-packages/sklearn/utils/deprecation.py:151: FutureWarning: 'force_all_finite' was renamed to 'ensure_all_finite' in 1.6 and will be removed in 1.8.\n",
      "  warnings.warn(\n"
     ]
    },
    {
     "name": "stdout",
     "output_type": "stream",
     "text": [
      "Los índices de df_real y dfcorpus están alineados correctamente.\n",
      "Todas las preguntas coinciden entre df y dfcorpus.\n"
     ]
    },
    {
     "name": "stderr",
     "output_type": "stream",
     "text": [
      "2025-05-11 16:31:39,536 - INFO - Silhouette Score: 0.660\n",
      "/Users/thesportydar/local_dev/reis-app/src/lib/report/.venv/lib/python3.13/site-packages/sklearn/utils/deprecation.py:151: FutureWarning: 'force_all_finite' was renamed to 'ensure_all_finite' in 1.6 and will be removed in 1.8.\n",
      "  warnings.warn(\n"
     ]
    },
    {
     "name": "stdout",
     "output_type": "stream",
     "text": [
      "Los índices de df_real y dfcorpus están alineados correctamente.\n",
      "Todas las preguntas coinciden entre df y dfcorpus.\n"
     ]
    },
    {
     "name": "stderr",
     "output_type": "stream",
     "text": [
      "2025-05-11 16:31:39,775 - INFO - Silhouette Score: 0.643\n",
      "/Users/thesportydar/local_dev/reis-app/src/lib/report/.venv/lib/python3.13/site-packages/sklearn/utils/deprecation.py:151: FutureWarning: 'force_all_finite' was renamed to 'ensure_all_finite' in 1.6 and will be removed in 1.8.\n",
      "  warnings.warn(\n"
     ]
    },
    {
     "name": "stdout",
     "output_type": "stream",
     "text": [
      "Los índices de df_real y dfcorpus están alineados correctamente.\n",
      "Todas las preguntas coinciden entre df y dfcorpus.\n"
     ]
    },
    {
     "name": "stderr",
     "output_type": "stream",
     "text": [
      "2025-05-11 16:31:40,017 - INFO - Silhouette Score: 0.633\n",
      "/Users/thesportydar/local_dev/reis-app/src/lib/report/.venv/lib/python3.13/site-packages/sklearn/utils/deprecation.py:151: FutureWarning: 'force_all_finite' was renamed to 'ensure_all_finite' in 1.6 and will be removed in 1.8.\n",
      "  warnings.warn(\n"
     ]
    },
    {
     "name": "stdout",
     "output_type": "stream",
     "text": [
      "Los índices de df_real y dfcorpus están alineados correctamente.\n",
      "Todas las preguntas coinciden entre df y dfcorpus.\n"
     ]
    },
    {
     "name": "stderr",
     "output_type": "stream",
     "text": [
      "2025-05-11 16:31:40,258 - INFO - Silhouette Score: 0.689\n",
      "/Users/thesportydar/local_dev/reis-app/src/lib/report/.venv/lib/python3.13/site-packages/sklearn/utils/deprecation.py:151: FutureWarning: 'force_all_finite' was renamed to 'ensure_all_finite' in 1.6 and will be removed in 1.8.\n",
      "  warnings.warn(\n"
     ]
    },
    {
     "name": "stdout",
     "output_type": "stream",
     "text": [
      "Los índices de df_real y dfcorpus están alineados correctamente.\n",
      "Todas las preguntas coinciden entre df y dfcorpus.\n"
     ]
    },
    {
     "name": "stderr",
     "output_type": "stream",
     "text": [
      "2025-05-11 16:31:40,487 - INFO - Silhouette Score: 0.650\n",
      "/Users/thesportydar/local_dev/reis-app/src/lib/report/.venv/lib/python3.13/site-packages/sklearn/utils/deprecation.py:151: FutureWarning: 'force_all_finite' was renamed to 'ensure_all_finite' in 1.6 and will be removed in 1.8.\n",
      "  warnings.warn(\n"
     ]
    },
    {
     "name": "stdout",
     "output_type": "stream",
     "text": [
      "Los índices de df_real y dfcorpus están alineados correctamente.\n",
      "Todas las preguntas coinciden entre df y dfcorpus.\n"
     ]
    },
    {
     "name": "stderr",
     "output_type": "stream",
     "text": [
      "2025-05-11 16:31:40,724 - INFO - Silhouette Score: 0.676\n",
      "/Users/thesportydar/local_dev/reis-app/src/lib/report/.venv/lib/python3.13/site-packages/sklearn/utils/deprecation.py:151: FutureWarning: 'force_all_finite' was renamed to 'ensure_all_finite' in 1.6 and will be removed in 1.8.\n",
      "  warnings.warn(\n"
     ]
    },
    {
     "name": "stdout",
     "output_type": "stream",
     "text": [
      "Los índices de df_real y dfcorpus están alineados correctamente.\n",
      "Todas las preguntas coinciden entre df y dfcorpus.\n"
     ]
    },
    {
     "name": "stderr",
     "output_type": "stream",
     "text": [
      "2025-05-11 16:31:41,005 - INFO - Silhouette Score: 0.659\n",
      "/Users/thesportydar/local_dev/reis-app/src/lib/report/.venv/lib/python3.13/site-packages/sklearn/utils/deprecation.py:151: FutureWarning: 'force_all_finite' was renamed to 'ensure_all_finite' in 1.6 and will be removed in 1.8.\n",
      "  warnings.warn(\n"
     ]
    },
    {
     "name": "stdout",
     "output_type": "stream",
     "text": [
      "Los índices de df_real y dfcorpus están alineados correctamente.\n",
      "Todas las preguntas coinciden entre df y dfcorpus.\n"
     ]
    },
    {
     "name": "stderr",
     "output_type": "stream",
     "text": [
      "2025-05-11 16:31:41,242 - INFO - Silhouette Score: 0.655\n",
      "/Users/thesportydar/local_dev/reis-app/src/lib/report/.venv/lib/python3.13/site-packages/sklearn/utils/deprecation.py:151: FutureWarning: 'force_all_finite' was renamed to 'ensure_all_finite' in 1.6 and will be removed in 1.8.\n",
      "  warnings.warn(\n"
     ]
    },
    {
     "name": "stdout",
     "output_type": "stream",
     "text": [
      "Los índices de df_real y dfcorpus están alineados correctamente.\n",
      "Todas las preguntas coinciden entre df y dfcorpus.\n"
     ]
    },
    {
     "name": "stderr",
     "output_type": "stream",
     "text": [
      "2025-05-11 16:31:41,484 - INFO - Silhouette Score: 0.646\n",
      "/Users/thesportydar/local_dev/reis-app/src/lib/report/.venv/lib/python3.13/site-packages/sklearn/utils/deprecation.py:151: FutureWarning: 'force_all_finite' was renamed to 'ensure_all_finite' in 1.6 and will be removed in 1.8.\n",
      "  warnings.warn(\n"
     ]
    },
    {
     "name": "stdout",
     "output_type": "stream",
     "text": [
      "Los índices de df_real y dfcorpus están alineados correctamente.\n",
      "Todas las preguntas coinciden entre df y dfcorpus.\n"
     ]
    },
    {
     "name": "stderr",
     "output_type": "stream",
     "text": [
      "2025-05-11 16:31:41,757 - INFO - Silhouette Score: 0.605\n",
      "/Users/thesportydar/local_dev/reis-app/src/lib/report/.venv/lib/python3.13/site-packages/sklearn/utils/deprecation.py:151: FutureWarning: 'force_all_finite' was renamed to 'ensure_all_finite' in 1.6 and will be removed in 1.8.\n",
      "  warnings.warn(\n"
     ]
    },
    {
     "name": "stdout",
     "output_type": "stream",
     "text": [
      "Los índices de df_real y dfcorpus están alineados correctamente.\n",
      "Todas las preguntas coinciden entre df y dfcorpus.\n"
     ]
    },
    {
     "name": "stderr",
     "output_type": "stream",
     "text": [
      "2025-05-11 16:31:42,004 - INFO - Silhouette Score: 0.590\n",
      "/Users/thesportydar/local_dev/reis-app/src/lib/report/.venv/lib/python3.13/site-packages/sklearn/utils/deprecation.py:151: FutureWarning: 'force_all_finite' was renamed to 'ensure_all_finite' in 1.6 and will be removed in 1.8.\n",
      "  warnings.warn(\n"
     ]
    },
    {
     "name": "stdout",
     "output_type": "stream",
     "text": [
      "Los índices de df_real y dfcorpus están alineados correctamente.\n",
      "Todas las preguntas coinciden entre df y dfcorpus.\n"
     ]
    },
    {
     "name": "stderr",
     "output_type": "stream",
     "text": [
      "2025-05-11 16:31:42,243 - INFO - Silhouette Score: 0.632\n",
      "/Users/thesportydar/local_dev/reis-app/src/lib/report/.venv/lib/python3.13/site-packages/sklearn/utils/deprecation.py:151: FutureWarning: 'force_all_finite' was renamed to 'ensure_all_finite' in 1.6 and will be removed in 1.8.\n",
      "  warnings.warn(\n"
     ]
    },
    {
     "name": "stdout",
     "output_type": "stream",
     "text": [
      "Los índices de df_real y dfcorpus están alineados correctamente.\n",
      "Todas las preguntas coinciden entre df y dfcorpus.\n"
     ]
    },
    {
     "name": "stderr",
     "output_type": "stream",
     "text": [
      "2025-05-11 16:31:42,483 - INFO - Silhouette Score: 0.642\n",
      "/Users/thesportydar/local_dev/reis-app/src/lib/report/.venv/lib/python3.13/site-packages/sklearn/utils/deprecation.py:151: FutureWarning: 'force_all_finite' was renamed to 'ensure_all_finite' in 1.6 and will be removed in 1.8.\n",
      "  warnings.warn(\n"
     ]
    },
    {
     "name": "stdout",
     "output_type": "stream",
     "text": [
      "Los índices de df_real y dfcorpus están alineados correctamente.\n",
      "Todas las preguntas coinciden entre df y dfcorpus.\n"
     ]
    },
    {
     "name": "stderr",
     "output_type": "stream",
     "text": [
      "2025-05-11 16:31:42,720 - INFO - Silhouette Score: 0.665\n",
      "/Users/thesportydar/local_dev/reis-app/src/lib/report/.venv/lib/python3.13/site-packages/sklearn/utils/deprecation.py:151: FutureWarning: 'force_all_finite' was renamed to 'ensure_all_finite' in 1.6 and will be removed in 1.8.\n",
      "  warnings.warn(\n"
     ]
    },
    {
     "name": "stdout",
     "output_type": "stream",
     "text": [
      "Los índices de df_real y dfcorpus están alineados correctamente.\n",
      "Todas las preguntas coinciden entre df y dfcorpus.\n"
     ]
    },
    {
     "name": "stderr",
     "output_type": "stream",
     "text": [
      "2025-05-11 16:31:42,954 - INFO - Silhouette Score: 0.641\n",
      "/Users/thesportydar/local_dev/reis-app/src/lib/report/.venv/lib/python3.13/site-packages/sklearn/utils/deprecation.py:151: FutureWarning: 'force_all_finite' was renamed to 'ensure_all_finite' in 1.6 and will be removed in 1.8.\n",
      "  warnings.warn(\n"
     ]
    },
    {
     "name": "stdout",
     "output_type": "stream",
     "text": [
      "Los índices de df_real y dfcorpus están alineados correctamente.\n",
      "Todas las preguntas coinciden entre df y dfcorpus.\n"
     ]
    },
    {
     "name": "stderr",
     "output_type": "stream",
     "text": [
      "2025-05-11 16:31:43,198 - INFO - Silhouette Score: 0.668\n",
      "/Users/thesportydar/local_dev/reis-app/src/lib/report/.venv/lib/python3.13/site-packages/sklearn/utils/deprecation.py:151: FutureWarning: 'force_all_finite' was renamed to 'ensure_all_finite' in 1.6 and will be removed in 1.8.\n",
      "  warnings.warn(\n"
     ]
    },
    {
     "name": "stdout",
     "output_type": "stream",
     "text": [
      "Los índices de df_real y dfcorpus están alineados correctamente.\n",
      "Todas las preguntas coinciden entre df y dfcorpus.\n"
     ]
    },
    {
     "name": "stderr",
     "output_type": "stream",
     "text": [
      "2025-05-11 16:31:43,432 - INFO - Silhouette Score: 0.643\n",
      "/Users/thesportydar/local_dev/reis-app/src/lib/report/.venv/lib/python3.13/site-packages/sklearn/utils/deprecation.py:151: FutureWarning: 'force_all_finite' was renamed to 'ensure_all_finite' in 1.6 and will be removed in 1.8.\n",
      "  warnings.warn(\n"
     ]
    },
    {
     "name": "stdout",
     "output_type": "stream",
     "text": [
      "Los índices de df_real y dfcorpus están alineados correctamente.\n",
      "Todas las preguntas coinciden entre df y dfcorpus.\n"
     ]
    },
    {
     "name": "stderr",
     "output_type": "stream",
     "text": [
      "2025-05-11 16:31:43,679 - INFO - Silhouette Score: 0.596\n",
      "/Users/thesportydar/local_dev/reis-app/src/lib/report/.venv/lib/python3.13/site-packages/sklearn/utils/deprecation.py:151: FutureWarning: 'force_all_finite' was renamed to 'ensure_all_finite' in 1.6 and will be removed in 1.8.\n",
      "  warnings.warn(\n"
     ]
    },
    {
     "name": "stdout",
     "output_type": "stream",
     "text": [
      "Los índices de df_real y dfcorpus están alineados correctamente.\n",
      "Todas las preguntas coinciden entre df y dfcorpus.\n"
     ]
    },
    {
     "name": "stderr",
     "output_type": "stream",
     "text": [
      "2025-05-11 16:31:43,927 - INFO - Silhouette Score: 0.660\n",
      "/Users/thesportydar/local_dev/reis-app/src/lib/report/.venv/lib/python3.13/site-packages/sklearn/utils/deprecation.py:151: FutureWarning: 'force_all_finite' was renamed to 'ensure_all_finite' in 1.6 and will be removed in 1.8.\n",
      "  warnings.warn(\n"
     ]
    },
    {
     "name": "stdout",
     "output_type": "stream",
     "text": [
      "Los índices de df_real y dfcorpus están alineados correctamente.\n",
      "Todas las preguntas coinciden entre df y dfcorpus.\n"
     ]
    },
    {
     "name": "stderr",
     "output_type": "stream",
     "text": [
      "2025-05-11 16:31:44,160 - INFO - Silhouette Score: 0.664\n",
      "/Users/thesportydar/local_dev/reis-app/src/lib/report/.venv/lib/python3.13/site-packages/sklearn/utils/deprecation.py:151: FutureWarning: 'force_all_finite' was renamed to 'ensure_all_finite' in 1.6 and will be removed in 1.8.\n",
      "  warnings.warn(\n"
     ]
    },
    {
     "name": "stdout",
     "output_type": "stream",
     "text": [
      "Los índices de df_real y dfcorpus están alineados correctamente.\n",
      "Todas las preguntas coinciden entre df y dfcorpus.\n"
     ]
    },
    {
     "name": "stderr",
     "output_type": "stream",
     "text": [
      "2025-05-11 16:31:44,404 - INFO - Silhouette Score: 0.631\n",
      "/Users/thesportydar/local_dev/reis-app/src/lib/report/.venv/lib/python3.13/site-packages/sklearn/utils/deprecation.py:151: FutureWarning: 'force_all_finite' was renamed to 'ensure_all_finite' in 1.6 and will be removed in 1.8.\n",
      "  warnings.warn(\n"
     ]
    },
    {
     "name": "stdout",
     "output_type": "stream",
     "text": [
      "Los índices de df_real y dfcorpus están alineados correctamente.\n",
      "Todas las preguntas coinciden entre df y dfcorpus.\n"
     ]
    },
    {
     "name": "stderr",
     "output_type": "stream",
     "text": [
      "2025-05-11 16:31:44,681 - INFO - Silhouette Score: 0.587\n",
      "/Users/thesportydar/local_dev/reis-app/src/lib/report/.venv/lib/python3.13/site-packages/sklearn/utils/deprecation.py:151: FutureWarning: 'force_all_finite' was renamed to 'ensure_all_finite' in 1.6 and will be removed in 1.8.\n",
      "  warnings.warn(\n"
     ]
    },
    {
     "name": "stdout",
     "output_type": "stream",
     "text": [
      "Los índices de df_real y dfcorpus están alineados correctamente.\n",
      "Todas las preguntas coinciden entre df y dfcorpus.\n"
     ]
    },
    {
     "name": "stderr",
     "output_type": "stream",
     "text": [
      "2025-05-11 16:31:44,929 - INFO - Silhouette Score: 0.613\n",
      "/Users/thesportydar/local_dev/reis-app/src/lib/report/.venv/lib/python3.13/site-packages/sklearn/utils/deprecation.py:151: FutureWarning: 'force_all_finite' was renamed to 'ensure_all_finite' in 1.6 and will be removed in 1.8.\n",
      "  warnings.warn(\n"
     ]
    },
    {
     "name": "stdout",
     "output_type": "stream",
     "text": [
      "Los índices de df_real y dfcorpus están alineados correctamente.\n",
      "Todas las preguntas coinciden entre df y dfcorpus.\n"
     ]
    },
    {
     "name": "stderr",
     "output_type": "stream",
     "text": [
      "2025-05-11 16:31:45,166 - INFO - Silhouette Score: 0.639\n",
      "/Users/thesportydar/local_dev/reis-app/src/lib/report/.venv/lib/python3.13/site-packages/sklearn/utils/deprecation.py:151: FutureWarning: 'force_all_finite' was renamed to 'ensure_all_finite' in 1.6 and will be removed in 1.8.\n",
      "  warnings.warn(\n"
     ]
    },
    {
     "name": "stdout",
     "output_type": "stream",
     "text": [
      "Los índices de df_real y dfcorpus están alineados correctamente.\n",
      "Todas las preguntas coinciden entre df y dfcorpus.\n"
     ]
    },
    {
     "name": "stderr",
     "output_type": "stream",
     "text": [
      "2025-05-11 16:31:45,410 - INFO - Silhouette Score: 0.592\n",
      "/Users/thesportydar/local_dev/reis-app/src/lib/report/.venv/lib/python3.13/site-packages/sklearn/utils/deprecation.py:151: FutureWarning: 'force_all_finite' was renamed to 'ensure_all_finite' in 1.6 and will be removed in 1.8.\n",
      "  warnings.warn(\n"
     ]
    },
    {
     "name": "stdout",
     "output_type": "stream",
     "text": [
      "Los índices de df_real y dfcorpus están alineados correctamente.\n",
      "Todas las preguntas coinciden entre df y dfcorpus.\n"
     ]
    },
    {
     "name": "stderr",
     "output_type": "stream",
     "text": [
      "2025-05-11 16:31:45,653 - INFO - Silhouette Score: 0.647\n",
      "/Users/thesportydar/local_dev/reis-app/src/lib/report/.venv/lib/python3.13/site-packages/sklearn/utils/deprecation.py:151: FutureWarning: 'force_all_finite' was renamed to 'ensure_all_finite' in 1.6 and will be removed in 1.8.\n",
      "  warnings.warn(\n"
     ]
    },
    {
     "name": "stdout",
     "output_type": "stream",
     "text": [
      "Los índices de df_real y dfcorpus están alineados correctamente.\n",
      "Todas las preguntas coinciden entre df y dfcorpus.\n"
     ]
    },
    {
     "name": "stderr",
     "output_type": "stream",
     "text": [
      "2025-05-11 16:31:45,890 - INFO - Silhouette Score: 0.660\n",
      "/Users/thesportydar/local_dev/reis-app/src/lib/report/.venv/lib/python3.13/site-packages/sklearn/utils/deprecation.py:151: FutureWarning: 'force_all_finite' was renamed to 'ensure_all_finite' in 1.6 and will be removed in 1.8.\n",
      "  warnings.warn(\n"
     ]
    },
    {
     "name": "stdout",
     "output_type": "stream",
     "text": [
      "Los índices de df_real y dfcorpus están alineados correctamente.\n",
      "Todas las preguntas coinciden entre df y dfcorpus.\n"
     ]
    },
    {
     "name": "stderr",
     "output_type": "stream",
     "text": [
      "2025-05-11 16:31:46,136 - INFO - Silhouette Score: 0.688\n",
      "/Users/thesportydar/local_dev/reis-app/src/lib/report/.venv/lib/python3.13/site-packages/sklearn/utils/deprecation.py:151: FutureWarning: 'force_all_finite' was renamed to 'ensure_all_finite' in 1.6 and will be removed in 1.8.\n",
      "  warnings.warn(\n"
     ]
    },
    {
     "name": "stdout",
     "output_type": "stream",
     "text": [
      "Los índices de df_real y dfcorpus están alineados correctamente.\n",
      "Todas las preguntas coinciden entre df y dfcorpus.\n"
     ]
    },
    {
     "name": "stderr",
     "output_type": "stream",
     "text": [
      "2025-05-11 16:31:46,375 - INFO - Silhouette Score: 0.617\n",
      "/Users/thesportydar/local_dev/reis-app/src/lib/report/.venv/lib/python3.13/site-packages/sklearn/utils/deprecation.py:151: FutureWarning: 'force_all_finite' was renamed to 'ensure_all_finite' in 1.6 and will be removed in 1.8.\n",
      "  warnings.warn(\n"
     ]
    },
    {
     "name": "stdout",
     "output_type": "stream",
     "text": [
      "Los índices de df_real y dfcorpus están alineados correctamente.\n",
      "Todas las preguntas coinciden entre df y dfcorpus.\n"
     ]
    },
    {
     "name": "stderr",
     "output_type": "stream",
     "text": [
      "2025-05-11 16:31:46,617 - INFO - Silhouette Score: 0.649\n",
      "/Users/thesportydar/local_dev/reis-app/src/lib/report/.venv/lib/python3.13/site-packages/sklearn/utils/deprecation.py:151: FutureWarning: 'force_all_finite' was renamed to 'ensure_all_finite' in 1.6 and will be removed in 1.8.\n",
      "  warnings.warn(\n"
     ]
    },
    {
     "name": "stdout",
     "output_type": "stream",
     "text": [
      "Los índices de df_real y dfcorpus están alineados correctamente.\n",
      "Todas las preguntas coinciden entre df y dfcorpus.\n"
     ]
    },
    {
     "name": "stderr",
     "output_type": "stream",
     "text": [
      "2025-05-11 16:31:46,859 - INFO - Silhouette Score: 0.671\n",
      "/Users/thesportydar/local_dev/reis-app/src/lib/report/.venv/lib/python3.13/site-packages/sklearn/utils/deprecation.py:151: FutureWarning: 'force_all_finite' was renamed to 'ensure_all_finite' in 1.6 and will be removed in 1.8.\n",
      "  warnings.warn(\n"
     ]
    },
    {
     "name": "stdout",
     "output_type": "stream",
     "text": [
      "Los índices de df_real y dfcorpus están alineados correctamente.\n",
      "Todas las preguntas coinciden entre df y dfcorpus.\n"
     ]
    },
    {
     "name": "stderr",
     "output_type": "stream",
     "text": [
      "2025-05-11 16:31:47,165 - INFO - Silhouette Score: 0.699\n",
      "/Users/thesportydar/local_dev/reis-app/src/lib/report/.venv/lib/python3.13/site-packages/sklearn/utils/deprecation.py:151: FutureWarning: 'force_all_finite' was renamed to 'ensure_all_finite' in 1.6 and will be removed in 1.8.\n",
      "  warnings.warn(\n"
     ]
    },
    {
     "name": "stdout",
     "output_type": "stream",
     "text": [
      "Los índices de df_real y dfcorpus están alineados correctamente.\n",
      "Todas las preguntas coinciden entre df y dfcorpus.\n"
     ]
    },
    {
     "name": "stderr",
     "output_type": "stream",
     "text": [
      "2025-05-11 16:31:47,403 - INFO - Silhouette Score: 0.618\n",
      "/Users/thesportydar/local_dev/reis-app/src/lib/report/.venv/lib/python3.13/site-packages/sklearn/utils/deprecation.py:151: FutureWarning: 'force_all_finite' was renamed to 'ensure_all_finite' in 1.6 and will be removed in 1.8.\n",
      "  warnings.warn(\n"
     ]
    },
    {
     "name": "stdout",
     "output_type": "stream",
     "text": [
      "Los índices de df_real y dfcorpus están alineados correctamente.\n",
      "Todas las preguntas coinciden entre df y dfcorpus.\n"
     ]
    },
    {
     "name": "stderr",
     "output_type": "stream",
     "text": [
      "2025-05-11 16:31:47,645 - INFO - Silhouette Score: 0.657\n",
      "/Users/thesportydar/local_dev/reis-app/src/lib/report/.venv/lib/python3.13/site-packages/sklearn/utils/deprecation.py:151: FutureWarning: 'force_all_finite' was renamed to 'ensure_all_finite' in 1.6 and will be removed in 1.8.\n",
      "  warnings.warn(\n"
     ]
    },
    {
     "name": "stdout",
     "output_type": "stream",
     "text": [
      "Los índices de df_real y dfcorpus están alineados correctamente.\n",
      "Todas las preguntas coinciden entre df y dfcorpus.\n"
     ]
    },
    {
     "name": "stderr",
     "output_type": "stream",
     "text": [
      "2025-05-11 16:31:47,888 - INFO - Silhouette Score: 0.685\n",
      "/Users/thesportydar/local_dev/reis-app/src/lib/report/.venv/lib/python3.13/site-packages/sklearn/utils/deprecation.py:151: FutureWarning: 'force_all_finite' was renamed to 'ensure_all_finite' in 1.6 and will be removed in 1.8.\n",
      "  warnings.warn(\n"
     ]
    },
    {
     "name": "stdout",
     "output_type": "stream",
     "text": [
      "Los índices de df_real y dfcorpus están alineados correctamente.\n",
      "Todas las preguntas coinciden entre df y dfcorpus.\n"
     ]
    },
    {
     "name": "stderr",
     "output_type": "stream",
     "text": [
      "2025-05-11 16:31:48,138 - INFO - Silhouette Score: 0.634\n",
      "/Users/thesportydar/local_dev/reis-app/src/lib/report/.venv/lib/python3.13/site-packages/sklearn/utils/deprecation.py:151: FutureWarning: 'force_all_finite' was renamed to 'ensure_all_finite' in 1.6 and will be removed in 1.8.\n",
      "  warnings.warn(\n"
     ]
    },
    {
     "name": "stdout",
     "output_type": "stream",
     "text": [
      "Los índices de df_real y dfcorpus están alineados correctamente.\n",
      "Todas las preguntas coinciden entre df y dfcorpus.\n"
     ]
    },
    {
     "name": "stderr",
     "output_type": "stream",
     "text": [
      "2025-05-11 16:31:48,377 - INFO - Silhouette Score: 0.607\n",
      "/Users/thesportydar/local_dev/reis-app/src/lib/report/.venv/lib/python3.13/site-packages/sklearn/utils/deprecation.py:151: FutureWarning: 'force_all_finite' was renamed to 'ensure_all_finite' in 1.6 and will be removed in 1.8.\n",
      "  warnings.warn(\n"
     ]
    },
    {
     "name": "stdout",
     "output_type": "stream",
     "text": [
      "Los índices de df_real y dfcorpus están alineados correctamente.\n",
      "Todas las preguntas coinciden entre df y dfcorpus.\n"
     ]
    },
    {
     "name": "stderr",
     "output_type": "stream",
     "text": [
      "2025-05-11 16:31:48,631 - INFO - Silhouette Score: 0.629\n",
      "/Users/thesportydar/local_dev/reis-app/src/lib/report/.venv/lib/python3.13/site-packages/sklearn/utils/deprecation.py:151: FutureWarning: 'force_all_finite' was renamed to 'ensure_all_finite' in 1.6 and will be removed in 1.8.\n",
      "  warnings.warn(\n"
     ]
    },
    {
     "name": "stdout",
     "output_type": "stream",
     "text": [
      "Los índices de df_real y dfcorpus están alineados correctamente.\n",
      "Todas las preguntas coinciden entre df y dfcorpus.\n"
     ]
    },
    {
     "name": "stderr",
     "output_type": "stream",
     "text": [
      "2025-05-11 16:31:48,856 - INFO - Silhouette Score: 0.595\n",
      "/Users/thesportydar/local_dev/reis-app/src/lib/report/.venv/lib/python3.13/site-packages/sklearn/utils/deprecation.py:151: FutureWarning: 'force_all_finite' was renamed to 'ensure_all_finite' in 1.6 and will be removed in 1.8.\n",
      "  warnings.warn(\n"
     ]
    },
    {
     "name": "stdout",
     "output_type": "stream",
     "text": [
      "Los índices de df_real y dfcorpus están alineados correctamente.\n",
      "Todas las preguntas coinciden entre df y dfcorpus.\n"
     ]
    },
    {
     "name": "stderr",
     "output_type": "stream",
     "text": [
      "2025-05-11 16:31:49,101 - INFO - Silhouette Score: 0.688\n",
      "/Users/thesportydar/local_dev/reis-app/src/lib/report/.venv/lib/python3.13/site-packages/sklearn/utils/deprecation.py:151: FutureWarning: 'force_all_finite' was renamed to 'ensure_all_finite' in 1.6 and will be removed in 1.8.\n",
      "  warnings.warn(\n"
     ]
    },
    {
     "name": "stdout",
     "output_type": "stream",
     "text": [
      "Los índices de df_real y dfcorpus están alineados correctamente.\n",
      "Todas las preguntas coinciden entre df y dfcorpus.\n"
     ]
    },
    {
     "name": "stderr",
     "output_type": "stream",
     "text": [
      "2025-05-11 16:31:49,367 - INFO - Silhouette Score: 0.616\n",
      "/Users/thesportydar/local_dev/reis-app/src/lib/report/.venv/lib/python3.13/site-packages/sklearn/utils/deprecation.py:151: FutureWarning: 'force_all_finite' was renamed to 'ensure_all_finite' in 1.6 and will be removed in 1.8.\n",
      "  warnings.warn(\n"
     ]
    },
    {
     "name": "stdout",
     "output_type": "stream",
     "text": [
      "Los índices de df_real y dfcorpus están alineados correctamente.\n",
      "Todas las preguntas coinciden entre df y dfcorpus.\n"
     ]
    },
    {
     "name": "stderr",
     "output_type": "stream",
     "text": [
      "2025-05-11 16:31:49,605 - INFO - Silhouette Score: 0.673\n",
      "/Users/thesportydar/local_dev/reis-app/src/lib/report/.venv/lib/python3.13/site-packages/sklearn/utils/deprecation.py:151: FutureWarning: 'force_all_finite' was renamed to 'ensure_all_finite' in 1.6 and will be removed in 1.8.\n",
      "  warnings.warn(\n"
     ]
    },
    {
     "name": "stdout",
     "output_type": "stream",
     "text": [
      "Los índices de df_real y dfcorpus están alineados correctamente.\n",
      "Todas las preguntas coinciden entre df y dfcorpus.\n"
     ]
    },
    {
     "name": "stderr",
     "output_type": "stream",
     "text": [
      "2025-05-11 16:31:49,842 - INFO - Silhouette Score: 0.619\n",
      "/Users/thesportydar/local_dev/reis-app/src/lib/report/.venv/lib/python3.13/site-packages/sklearn/utils/deprecation.py:151: FutureWarning: 'force_all_finite' was renamed to 'ensure_all_finite' in 1.6 and will be removed in 1.8.\n",
      "  warnings.warn(\n"
     ]
    },
    {
     "name": "stdout",
     "output_type": "stream",
     "text": [
      "Los índices de df_real y dfcorpus están alineados correctamente.\n",
      "Todas las preguntas coinciden entre df y dfcorpus.\n"
     ]
    },
    {
     "name": "stderr",
     "output_type": "stream",
     "text": [
      "2025-05-11 16:31:50,087 - INFO - Silhouette Score: 0.675\n",
      "/Users/thesportydar/local_dev/reis-app/src/lib/report/.venv/lib/python3.13/site-packages/sklearn/utils/deprecation.py:151: FutureWarning: 'force_all_finite' was renamed to 'ensure_all_finite' in 1.6 and will be removed in 1.8.\n",
      "  warnings.warn(\n"
     ]
    },
    {
     "name": "stdout",
     "output_type": "stream",
     "text": [
      "Los índices de df_real y dfcorpus están alineados correctamente.\n",
      "Todas las preguntas coinciden entre df y dfcorpus.\n"
     ]
    },
    {
     "name": "stderr",
     "output_type": "stream",
     "text": [
      "2025-05-11 16:31:50,326 - INFO - Silhouette Score: 0.606\n",
      "/Users/thesportydar/local_dev/reis-app/src/lib/report/.venv/lib/python3.13/site-packages/sklearn/utils/deprecation.py:151: FutureWarning: 'force_all_finite' was renamed to 'ensure_all_finite' in 1.6 and will be removed in 1.8.\n",
      "  warnings.warn(\n"
     ]
    },
    {
     "name": "stdout",
     "output_type": "stream",
     "text": [
      "Los índices de df_real y dfcorpus están alineados correctamente.\n",
      "Todas las preguntas coinciden entre df y dfcorpus.\n"
     ]
    },
    {
     "name": "stderr",
     "output_type": "stream",
     "text": [
      "2025-05-11 16:31:50,562 - INFO - Silhouette Score: 0.667\n",
      "/Users/thesportydar/local_dev/reis-app/src/lib/report/.venv/lib/python3.13/site-packages/sklearn/utils/deprecation.py:151: FutureWarning: 'force_all_finite' was renamed to 'ensure_all_finite' in 1.6 and will be removed in 1.8.\n",
      "  warnings.warn(\n"
     ]
    },
    {
     "name": "stdout",
     "output_type": "stream",
     "text": [
      "Los índices de df_real y dfcorpus están alineados correctamente.\n",
      "Todas las preguntas coinciden entre df y dfcorpus.\n"
     ]
    },
    {
     "name": "stderr",
     "output_type": "stream",
     "text": [
      "2025-05-11 16:31:50,803 - INFO - Silhouette Score: 0.583\n",
      "/Users/thesportydar/local_dev/reis-app/src/lib/report/.venv/lib/python3.13/site-packages/sklearn/utils/deprecation.py:151: FutureWarning: 'force_all_finite' was renamed to 'ensure_all_finite' in 1.6 and will be removed in 1.8.\n",
      "  warnings.warn(\n"
     ]
    },
    {
     "name": "stdout",
     "output_type": "stream",
     "text": [
      "Los índices de df_real y dfcorpus están alineados correctamente.\n",
      "Todas las preguntas coinciden entre df y dfcorpus.\n"
     ]
    },
    {
     "name": "stderr",
     "output_type": "stream",
     "text": [
      "2025-05-11 16:31:51,040 - INFO - Silhouette Score: 0.680\n",
      "/Users/thesportydar/local_dev/reis-app/src/lib/report/.venv/lib/python3.13/site-packages/sklearn/utils/deprecation.py:151: FutureWarning: 'force_all_finite' was renamed to 'ensure_all_finite' in 1.6 and will be removed in 1.8.\n",
      "  warnings.warn(\n"
     ]
    },
    {
     "name": "stdout",
     "output_type": "stream",
     "text": [
      "Los índices de df_real y dfcorpus están alineados correctamente.\n",
      "Todas las preguntas coinciden entre df y dfcorpus.\n"
     ]
    },
    {
     "name": "stderr",
     "output_type": "stream",
     "text": [
      "2025-05-11 16:31:51,275 - INFO - Silhouette Score: 0.656\n",
      "/Users/thesportydar/local_dev/reis-app/src/lib/report/.venv/lib/python3.13/site-packages/sklearn/utils/deprecation.py:151: FutureWarning: 'force_all_finite' was renamed to 'ensure_all_finite' in 1.6 and will be removed in 1.8.\n",
      "  warnings.warn(\n"
     ]
    },
    {
     "name": "stdout",
     "output_type": "stream",
     "text": [
      "Los índices de df_real y dfcorpus están alineados correctamente.\n",
      "Todas las preguntas coinciden entre df y dfcorpus.\n"
     ]
    },
    {
     "name": "stderr",
     "output_type": "stream",
     "text": [
      "2025-05-11 16:31:51,545 - INFO - Silhouette Score: 0.575\n",
      "/Users/thesportydar/local_dev/reis-app/src/lib/report/.venv/lib/python3.13/site-packages/sklearn/utils/deprecation.py:151: FutureWarning: 'force_all_finite' was renamed to 'ensure_all_finite' in 1.6 and will be removed in 1.8.\n",
      "  warnings.warn(\n"
     ]
    },
    {
     "name": "stdout",
     "output_type": "stream",
     "text": [
      "Los índices de df_real y dfcorpus están alineados correctamente.\n",
      "Todas las preguntas coinciden entre df y dfcorpus.\n"
     ]
    },
    {
     "name": "stderr",
     "output_type": "stream",
     "text": [
      "2025-05-11 16:31:51,779 - INFO - Silhouette Score: 0.575\n",
      "/Users/thesportydar/local_dev/reis-app/src/lib/report/.venv/lib/python3.13/site-packages/sklearn/utils/deprecation.py:151: FutureWarning: 'force_all_finite' was renamed to 'ensure_all_finite' in 1.6 and will be removed in 1.8.\n",
      "  warnings.warn(\n"
     ]
    },
    {
     "name": "stdout",
     "output_type": "stream",
     "text": [
      "Los índices de df_real y dfcorpus están alineados correctamente.\n",
      "Todas las preguntas coinciden entre df y dfcorpus.\n"
     ]
    },
    {
     "name": "stderr",
     "output_type": "stream",
     "text": [
      "2025-05-11 16:31:52,023 - INFO - Silhouette Score: 0.648\n",
      "/Users/thesportydar/local_dev/reis-app/src/lib/report/.venv/lib/python3.13/site-packages/sklearn/utils/deprecation.py:151: FutureWarning: 'force_all_finite' was renamed to 'ensure_all_finite' in 1.6 and will be removed in 1.8.\n",
      "  warnings.warn(\n"
     ]
    },
    {
     "name": "stdout",
     "output_type": "stream",
     "text": [
      "Los índices de df_real y dfcorpus están alineados correctamente.\n",
      "Todas las preguntas coinciden entre df y dfcorpus.\n"
     ]
    },
    {
     "name": "stderr",
     "output_type": "stream",
     "text": [
      "2025-05-11 16:31:52,267 - INFO - Silhouette Score: 0.676\n",
      "/Users/thesportydar/local_dev/reis-app/src/lib/report/.venv/lib/python3.13/site-packages/sklearn/utils/deprecation.py:151: FutureWarning: 'force_all_finite' was renamed to 'ensure_all_finite' in 1.6 and will be removed in 1.8.\n",
      "  warnings.warn(\n"
     ]
    },
    {
     "name": "stdout",
     "output_type": "stream",
     "text": [
      "Los índices de df_real y dfcorpus están alineados correctamente.\n",
      "Todas las preguntas coinciden entre df y dfcorpus.\n"
     ]
    },
    {
     "name": "stderr",
     "output_type": "stream",
     "text": [
      "2025-05-11 16:31:52,499 - INFO - Silhouette Score: 0.692\n",
      "/Users/thesportydar/local_dev/reis-app/src/lib/report/.venv/lib/python3.13/site-packages/sklearn/utils/deprecation.py:151: FutureWarning: 'force_all_finite' was renamed to 'ensure_all_finite' in 1.6 and will be removed in 1.8.\n",
      "  warnings.warn(\n"
     ]
    },
    {
     "name": "stdout",
     "output_type": "stream",
     "text": [
      "Los índices de df_real y dfcorpus están alineados correctamente.\n",
      "Todas las preguntas coinciden entre df y dfcorpus.\n"
     ]
    },
    {
     "name": "stderr",
     "output_type": "stream",
     "text": [
      "2025-05-11 16:31:52,738 - INFO - Silhouette Score: 0.636\n",
      "/Users/thesportydar/local_dev/reis-app/src/lib/report/.venv/lib/python3.13/site-packages/sklearn/utils/deprecation.py:151: FutureWarning: 'force_all_finite' was renamed to 'ensure_all_finite' in 1.6 and will be removed in 1.8.\n",
      "  warnings.warn(\n"
     ]
    },
    {
     "name": "stdout",
     "output_type": "stream",
     "text": [
      "Los índices de df_real y dfcorpus están alineados correctamente.\n",
      "Todas las preguntas coinciden entre df y dfcorpus.\n"
     ]
    },
    {
     "name": "stderr",
     "output_type": "stream",
     "text": [
      "2025-05-11 16:31:53,011 - INFO - Silhouette Score: 0.686\n",
      "/Users/thesportydar/local_dev/reis-app/src/lib/report/.venv/lib/python3.13/site-packages/sklearn/utils/deprecation.py:151: FutureWarning: 'force_all_finite' was renamed to 'ensure_all_finite' in 1.6 and will be removed in 1.8.\n",
      "  warnings.warn(\n"
     ]
    },
    {
     "name": "stdout",
     "output_type": "stream",
     "text": [
      "Los índices de df_real y dfcorpus están alineados correctamente.\n",
      "Todas las preguntas coinciden entre df y dfcorpus.\n"
     ]
    },
    {
     "name": "stderr",
     "output_type": "stream",
     "text": [
      "2025-05-11 16:31:53,257 - INFO - Silhouette Score: 0.675\n",
      "/Users/thesportydar/local_dev/reis-app/src/lib/report/.venv/lib/python3.13/site-packages/sklearn/utils/deprecation.py:151: FutureWarning: 'force_all_finite' was renamed to 'ensure_all_finite' in 1.6 and will be removed in 1.8.\n",
      "  warnings.warn(\n"
     ]
    },
    {
     "name": "stdout",
     "output_type": "stream",
     "text": [
      "Los índices de df_real y dfcorpus están alineados correctamente.\n",
      "Todas las preguntas coinciden entre df y dfcorpus.\n"
     ]
    },
    {
     "name": "stderr",
     "output_type": "stream",
     "text": [
      "2025-05-11 16:31:53,492 - INFO - Silhouette Score: 0.649\n",
      "/Users/thesportydar/local_dev/reis-app/src/lib/report/.venv/lib/python3.13/site-packages/sklearn/utils/deprecation.py:151: FutureWarning: 'force_all_finite' was renamed to 'ensure_all_finite' in 1.6 and will be removed in 1.8.\n",
      "  warnings.warn(\n"
     ]
    },
    {
     "name": "stdout",
     "output_type": "stream",
     "text": [
      "Los índices de df_real y dfcorpus están alineados correctamente.\n",
      "Todas las preguntas coinciden entre df y dfcorpus.\n"
     ]
    },
    {
     "name": "stderr",
     "output_type": "stream",
     "text": [
      "2025-05-11 16:31:53,757 - INFO - Silhouette Score: 0.674\n",
      "/Users/thesportydar/local_dev/reis-app/src/lib/report/.venv/lib/python3.13/site-packages/sklearn/utils/deprecation.py:151: FutureWarning: 'force_all_finite' was renamed to 'ensure_all_finite' in 1.6 and will be removed in 1.8.\n",
      "  warnings.warn(\n"
     ]
    },
    {
     "name": "stdout",
     "output_type": "stream",
     "text": [
      "Los índices de df_real y dfcorpus están alineados correctamente.\n",
      "Todas las preguntas coinciden entre df y dfcorpus.\n"
     ]
    },
    {
     "name": "stderr",
     "output_type": "stream",
     "text": [
      "2025-05-11 16:31:54,006 - INFO - Silhouette Score: 0.680\n",
      "/Users/thesportydar/local_dev/reis-app/src/lib/report/.venv/lib/python3.13/site-packages/sklearn/utils/deprecation.py:151: FutureWarning: 'force_all_finite' was renamed to 'ensure_all_finite' in 1.6 and will be removed in 1.8.\n",
      "  warnings.warn(\n"
     ]
    },
    {
     "name": "stdout",
     "output_type": "stream",
     "text": [
      "Los índices de df_real y dfcorpus están alineados correctamente.\n",
      "Todas las preguntas coinciden entre df y dfcorpus.\n"
     ]
    },
    {
     "name": "stderr",
     "output_type": "stream",
     "text": [
      "2025-05-11 16:31:54,252 - INFO - Silhouette Score: 0.680\n",
      "/Users/thesportydar/local_dev/reis-app/src/lib/report/.venv/lib/python3.13/site-packages/sklearn/utils/deprecation.py:151: FutureWarning: 'force_all_finite' was renamed to 'ensure_all_finite' in 1.6 and will be removed in 1.8.\n",
      "  warnings.warn(\n"
     ]
    },
    {
     "name": "stdout",
     "output_type": "stream",
     "text": [
      "Los índices de df_real y dfcorpus están alineados correctamente.\n",
      "Todas las preguntas coinciden entre df y dfcorpus.\n"
     ]
    },
    {
     "name": "stderr",
     "output_type": "stream",
     "text": [
      "2025-05-11 16:31:54,489 - INFO - Silhouette Score: 0.668\n",
      "/Users/thesportydar/local_dev/reis-app/src/lib/report/.venv/lib/python3.13/site-packages/sklearn/utils/deprecation.py:151: FutureWarning: 'force_all_finite' was renamed to 'ensure_all_finite' in 1.6 and will be removed in 1.8.\n",
      "  warnings.warn(\n"
     ]
    },
    {
     "name": "stdout",
     "output_type": "stream",
     "text": [
      "Los índices de df_real y dfcorpus están alineados correctamente.\n",
      "Todas las preguntas coinciden entre df y dfcorpus.\n"
     ]
    },
    {
     "name": "stderr",
     "output_type": "stream",
     "text": [
      "2025-05-11 16:31:54,735 - INFO - Silhouette Score: 0.652\n",
      "/Users/thesportydar/local_dev/reis-app/src/lib/report/.venv/lib/python3.13/site-packages/sklearn/utils/deprecation.py:151: FutureWarning: 'force_all_finite' was renamed to 'ensure_all_finite' in 1.6 and will be removed in 1.8.\n",
      "  warnings.warn(\n"
     ]
    },
    {
     "name": "stdout",
     "output_type": "stream",
     "text": [
      "Los índices de df_real y dfcorpus están alineados correctamente.\n",
      "Todas las preguntas coinciden entre df y dfcorpus.\n"
     ]
    },
    {
     "name": "stderr",
     "output_type": "stream",
     "text": [
      "2025-05-11 16:31:54,976 - INFO - Silhouette Score: 0.610\n",
      "/Users/thesportydar/local_dev/reis-app/src/lib/report/.venv/lib/python3.13/site-packages/sklearn/utils/deprecation.py:151: FutureWarning: 'force_all_finite' was renamed to 'ensure_all_finite' in 1.6 and will be removed in 1.8.\n",
      "  warnings.warn(\n"
     ]
    },
    {
     "name": "stdout",
     "output_type": "stream",
     "text": [
      "Los índices de df_real y dfcorpus están alineados correctamente.\n",
      "Todas las preguntas coinciden entre df y dfcorpus.\n"
     ]
    },
    {
     "name": "stderr",
     "output_type": "stream",
     "text": [
      "2025-05-11 16:31:55,215 - INFO - Silhouette Score: 0.628\n",
      "/Users/thesportydar/local_dev/reis-app/src/lib/report/.venv/lib/python3.13/site-packages/sklearn/utils/deprecation.py:151: FutureWarning: 'force_all_finite' was renamed to 'ensure_all_finite' in 1.6 and will be removed in 1.8.\n",
      "  warnings.warn(\n"
     ]
    },
    {
     "name": "stdout",
     "output_type": "stream",
     "text": [
      "Los índices de df_real y dfcorpus están alineados correctamente.\n",
      "Todas las preguntas coinciden entre df y dfcorpus.\n"
     ]
    },
    {
     "name": "stderr",
     "output_type": "stream",
     "text": [
      "2025-05-11 16:31:55,457 - INFO - Silhouette Score: 0.677\n",
      "/Users/thesportydar/local_dev/reis-app/src/lib/report/.venv/lib/python3.13/site-packages/sklearn/utils/deprecation.py:151: FutureWarning: 'force_all_finite' was renamed to 'ensure_all_finite' in 1.6 and will be removed in 1.8.\n",
      "  warnings.warn(\n"
     ]
    },
    {
     "name": "stdout",
     "output_type": "stream",
     "text": [
      "Los índices de df_real y dfcorpus están alineados correctamente.\n",
      "Todas las preguntas coinciden entre df y dfcorpus.\n"
     ]
    },
    {
     "name": "stderr",
     "output_type": "stream",
     "text": [
      "2025-05-11 16:31:55,729 - INFO - Silhouette Score: 0.651\n",
      "/Users/thesportydar/local_dev/reis-app/src/lib/report/.venv/lib/python3.13/site-packages/sklearn/utils/deprecation.py:151: FutureWarning: 'force_all_finite' was renamed to 'ensure_all_finite' in 1.6 and will be removed in 1.8.\n",
      "  warnings.warn(\n"
     ]
    },
    {
     "name": "stdout",
     "output_type": "stream",
     "text": [
      "Los índices de df_real y dfcorpus están alineados correctamente.\n",
      "Todas las preguntas coinciden entre df y dfcorpus.\n"
     ]
    },
    {
     "name": "stderr",
     "output_type": "stream",
     "text": [
      "2025-05-11 16:31:55,974 - INFO - Silhouette Score: 0.637\n",
      "/Users/thesportydar/local_dev/reis-app/src/lib/report/.venv/lib/python3.13/site-packages/sklearn/utils/deprecation.py:151: FutureWarning: 'force_all_finite' was renamed to 'ensure_all_finite' in 1.6 and will be removed in 1.8.\n",
      "  warnings.warn(\n"
     ]
    },
    {
     "name": "stdout",
     "output_type": "stream",
     "text": [
      "Los índices de df_real y dfcorpus están alineados correctamente.\n",
      "Todas las preguntas coinciden entre df y dfcorpus.\n"
     ]
    },
    {
     "name": "stderr",
     "output_type": "stream",
     "text": [
      "2025-05-11 16:31:56,215 - INFO - Silhouette Score: 0.628\n",
      "/Users/thesportydar/local_dev/reis-app/src/lib/report/.venv/lib/python3.13/site-packages/sklearn/utils/deprecation.py:151: FutureWarning: 'force_all_finite' was renamed to 'ensure_all_finite' in 1.6 and will be removed in 1.8.\n",
      "  warnings.warn(\n"
     ]
    },
    {
     "name": "stdout",
     "output_type": "stream",
     "text": [
      "Los índices de df_real y dfcorpus están alineados correctamente.\n",
      "Todas las preguntas coinciden entre df y dfcorpus.\n"
     ]
    },
    {
     "name": "stderr",
     "output_type": "stream",
     "text": [
      "2025-05-11 16:31:56,446 - INFO - Silhouette Score: 0.603\n",
      "/Users/thesportydar/local_dev/reis-app/src/lib/report/.venv/lib/python3.13/site-packages/sklearn/utils/deprecation.py:151: FutureWarning: 'force_all_finite' was renamed to 'ensure_all_finite' in 1.6 and will be removed in 1.8.\n",
      "  warnings.warn(\n"
     ]
    },
    {
     "name": "stdout",
     "output_type": "stream",
     "text": [
      "Los índices de df_real y dfcorpus están alineados correctamente.\n",
      "Todas las preguntas coinciden entre df y dfcorpus.\n"
     ]
    },
    {
     "name": "stderr",
     "output_type": "stream",
     "text": [
      "2025-05-11 16:31:56,699 - INFO - Silhouette Score: 0.572\n",
      "/Users/thesportydar/local_dev/reis-app/src/lib/report/.venv/lib/python3.13/site-packages/sklearn/utils/deprecation.py:151: FutureWarning: 'force_all_finite' was renamed to 'ensure_all_finite' in 1.6 and will be removed in 1.8.\n",
      "  warnings.warn(\n"
     ]
    },
    {
     "name": "stdout",
     "output_type": "stream",
     "text": [
      "Los índices de df_real y dfcorpus están alineados correctamente.\n",
      "Todas las preguntas coinciden entre df y dfcorpus.\n"
     ]
    },
    {
     "name": "stderr",
     "output_type": "stream",
     "text": [
      "2025-05-11 16:31:56,944 - INFO - Silhouette Score: 0.679\n",
      "/Users/thesportydar/local_dev/reis-app/src/lib/report/.venv/lib/python3.13/site-packages/sklearn/utils/deprecation.py:151: FutureWarning: 'force_all_finite' was renamed to 'ensure_all_finite' in 1.6 and will be removed in 1.8.\n",
      "  warnings.warn(\n"
     ]
    },
    {
     "name": "stdout",
     "output_type": "stream",
     "text": [
      "Los índices de df_real y dfcorpus están alineados correctamente.\n",
      "Todas las preguntas coinciden entre df y dfcorpus.\n"
     ]
    },
    {
     "name": "stderr",
     "output_type": "stream",
     "text": [
      "2025-05-11 16:31:57,181 - INFO - Silhouette Score: 0.664\n",
      "/Users/thesportydar/local_dev/reis-app/src/lib/report/.venv/lib/python3.13/site-packages/sklearn/utils/deprecation.py:151: FutureWarning: 'force_all_finite' was renamed to 'ensure_all_finite' in 1.6 and will be removed in 1.8.\n",
      "  warnings.warn(\n"
     ]
    },
    {
     "name": "stdout",
     "output_type": "stream",
     "text": [
      "Los índices de df_real y dfcorpus están alineados correctamente.\n",
      "Todas las preguntas coinciden entre df y dfcorpus.\n"
     ]
    },
    {
     "name": "stderr",
     "output_type": "stream",
     "text": [
      "2025-05-11 16:31:57,423 - INFO - Silhouette Score: 0.688\n",
      "/Users/thesportydar/local_dev/reis-app/src/lib/report/.venv/lib/python3.13/site-packages/sklearn/utils/deprecation.py:151: FutureWarning: 'force_all_finite' was renamed to 'ensure_all_finite' in 1.6 and will be removed in 1.8.\n",
      "  warnings.warn(\n"
     ]
    },
    {
     "name": "stdout",
     "output_type": "stream",
     "text": [
      "Los índices de df_real y dfcorpus están alineados correctamente.\n",
      "Todas las preguntas coinciden entre df y dfcorpus.\n"
     ]
    },
    {
     "name": "stderr",
     "output_type": "stream",
     "text": [
      "2025-05-11 16:31:57,662 - INFO - Silhouette Score: 0.648\n",
      "/Users/thesportydar/local_dev/reis-app/src/lib/report/.venv/lib/python3.13/site-packages/sklearn/utils/deprecation.py:151: FutureWarning: 'force_all_finite' was renamed to 'ensure_all_finite' in 1.6 and will be removed in 1.8.\n",
      "  warnings.warn(\n"
     ]
    },
    {
     "name": "stdout",
     "output_type": "stream",
     "text": [
      "Los índices de df_real y dfcorpus están alineados correctamente.\n",
      "Todas las preguntas coinciden entre df y dfcorpus.\n"
     ]
    },
    {
     "name": "stderr",
     "output_type": "stream",
     "text": [
      "2025-05-11 16:31:57,903 - INFO - Silhouette Score: 0.584\n",
      "/Users/thesportydar/local_dev/reis-app/src/lib/report/.venv/lib/python3.13/site-packages/sklearn/utils/deprecation.py:151: FutureWarning: 'force_all_finite' was renamed to 'ensure_all_finite' in 1.6 and will be removed in 1.8.\n",
      "  warnings.warn(\n"
     ]
    },
    {
     "name": "stdout",
     "output_type": "stream",
     "text": [
      "Los índices de df_real y dfcorpus están alineados correctamente.\n",
      "Todas las preguntas coinciden entre df y dfcorpus.\n"
     ]
    },
    {
     "name": "stderr",
     "output_type": "stream",
     "text": [
      "2025-05-11 16:31:58,135 - INFO - Silhouette Score: 0.662\n",
      "/Users/thesportydar/local_dev/reis-app/src/lib/report/.venv/lib/python3.13/site-packages/sklearn/utils/deprecation.py:151: FutureWarning: 'force_all_finite' was renamed to 'ensure_all_finite' in 1.6 and will be removed in 1.8.\n",
      "  warnings.warn(\n"
     ]
    },
    {
     "name": "stdout",
     "output_type": "stream",
     "text": [
      "Los índices de df_real y dfcorpus están alineados correctamente.\n",
      "Todas las preguntas coinciden entre df y dfcorpus.\n"
     ]
    },
    {
     "name": "stderr",
     "output_type": "stream",
     "text": [
      "2025-05-11 16:31:58,376 - INFO - Silhouette Score: 0.597\n",
      "/Users/thesportydar/local_dev/reis-app/src/lib/report/.venv/lib/python3.13/site-packages/sklearn/utils/deprecation.py:151: FutureWarning: 'force_all_finite' was renamed to 'ensure_all_finite' in 1.6 and will be removed in 1.8.\n",
      "  warnings.warn(\n"
     ]
    },
    {
     "name": "stdout",
     "output_type": "stream",
     "text": [
      "Los índices de df_real y dfcorpus están alineados correctamente.\n",
      "Todas las preguntas coinciden entre df y dfcorpus.\n"
     ]
    },
    {
     "name": "stderr",
     "output_type": "stream",
     "text": [
      "2025-05-11 16:31:58,645 - INFO - Silhouette Score: 0.683\n",
      "/Users/thesportydar/local_dev/reis-app/src/lib/report/.venv/lib/python3.13/site-packages/sklearn/utils/deprecation.py:151: FutureWarning: 'force_all_finite' was renamed to 'ensure_all_finite' in 1.6 and will be removed in 1.8.\n",
      "  warnings.warn(\n"
     ]
    },
    {
     "name": "stdout",
     "output_type": "stream",
     "text": [
      "Los índices de df_real y dfcorpus están alineados correctamente.\n",
      "Todas las preguntas coinciden entre df y dfcorpus.\n"
     ]
    },
    {
     "name": "stderr",
     "output_type": "stream",
     "text": [
      "2025-05-11 16:31:58,887 - INFO - Silhouette Score: 0.639\n",
      "/Users/thesportydar/local_dev/reis-app/src/lib/report/.venv/lib/python3.13/site-packages/sklearn/utils/deprecation.py:151: FutureWarning: 'force_all_finite' was renamed to 'ensure_all_finite' in 1.6 and will be removed in 1.8.\n",
      "  warnings.warn(\n"
     ]
    },
    {
     "name": "stdout",
     "output_type": "stream",
     "text": [
      "Los índices de df_real y dfcorpus están alineados correctamente.\n",
      "Todas las preguntas coinciden entre df y dfcorpus.\n"
     ]
    },
    {
     "name": "stderr",
     "output_type": "stream",
     "text": [
      "2025-05-11 16:31:59,155 - INFO - Silhouette Score: 0.462\n",
      "/Users/thesportydar/local_dev/reis-app/src/lib/report/.venv/lib/python3.13/site-packages/sklearn/utils/deprecation.py:151: FutureWarning: 'force_all_finite' was renamed to 'ensure_all_finite' in 1.6 and will be removed in 1.8.\n",
      "  warnings.warn(\n"
     ]
    },
    {
     "name": "stdout",
     "output_type": "stream",
     "text": [
      "Los índices de df_real y dfcorpus están alineados correctamente.\n",
      "Todas las preguntas coinciden entre df y dfcorpus.\n"
     ]
    },
    {
     "name": "stderr",
     "output_type": "stream",
     "text": [
      "2025-05-11 16:31:59,403 - INFO - Silhouette Score: 0.645\n",
      "/Users/thesportydar/local_dev/reis-app/src/lib/report/.venv/lib/python3.13/site-packages/sklearn/utils/deprecation.py:151: FutureWarning: 'force_all_finite' was renamed to 'ensure_all_finite' in 1.6 and will be removed in 1.8.\n",
      "  warnings.warn(\n"
     ]
    },
    {
     "name": "stdout",
     "output_type": "stream",
     "text": [
      "Los índices de df_real y dfcorpus están alineados correctamente.\n",
      "Todas las preguntas coinciden entre df y dfcorpus.\n"
     ]
    },
    {
     "name": "stderr",
     "output_type": "stream",
     "text": [
      "2025-05-11 16:31:59,635 - INFO - Silhouette Score: 0.658\n",
      "/Users/thesportydar/local_dev/reis-app/src/lib/report/.venv/lib/python3.13/site-packages/sklearn/utils/deprecation.py:151: FutureWarning: 'force_all_finite' was renamed to 'ensure_all_finite' in 1.6 and will be removed in 1.8.\n",
      "  warnings.warn(\n"
     ]
    },
    {
     "name": "stdout",
     "output_type": "stream",
     "text": [
      "Los índices de df_real y dfcorpus están alineados correctamente.\n",
      "Todas las preguntas coinciden entre df y dfcorpus.\n"
     ]
    },
    {
     "name": "stderr",
     "output_type": "stream",
     "text": [
      "2025-05-11 16:31:59,871 - INFO - Silhouette Score: 0.647\n",
      "/Users/thesportydar/local_dev/reis-app/src/lib/report/.venv/lib/python3.13/site-packages/sklearn/utils/deprecation.py:151: FutureWarning: 'force_all_finite' was renamed to 'ensure_all_finite' in 1.6 and will be removed in 1.8.\n",
      "  warnings.warn(\n"
     ]
    },
    {
     "name": "stdout",
     "output_type": "stream",
     "text": [
      "Los índices de df_real y dfcorpus están alineados correctamente.\n",
      "Todas las preguntas coinciden entre df y dfcorpus.\n"
     ]
    },
    {
     "name": "stderr",
     "output_type": "stream",
     "text": [
      "2025-05-11 16:32:00,123 - INFO - Silhouette Score: 0.623\n",
      "/Users/thesportydar/local_dev/reis-app/src/lib/report/.venv/lib/python3.13/site-packages/sklearn/utils/deprecation.py:151: FutureWarning: 'force_all_finite' was renamed to 'ensure_all_finite' in 1.6 and will be removed in 1.8.\n",
      "  warnings.warn(\n"
     ]
    },
    {
     "name": "stdout",
     "output_type": "stream",
     "text": [
      "Los índices de df_real y dfcorpus están alineados correctamente.\n",
      "Todas las preguntas coinciden entre df y dfcorpus.\n"
     ]
    },
    {
     "name": "stderr",
     "output_type": "stream",
     "text": [
      "2025-05-11 16:32:00,358 - INFO - Silhouette Score: 0.686\n",
      "/Users/thesportydar/local_dev/reis-app/src/lib/report/.venv/lib/python3.13/site-packages/sklearn/utils/deprecation.py:151: FutureWarning: 'force_all_finite' was renamed to 'ensure_all_finite' in 1.6 and will be removed in 1.8.\n",
      "  warnings.warn(\n"
     ]
    },
    {
     "name": "stdout",
     "output_type": "stream",
     "text": [
      "Los índices de df_real y dfcorpus están alineados correctamente.\n",
      "Todas las preguntas coinciden entre df y dfcorpus.\n"
     ]
    },
    {
     "name": "stderr",
     "output_type": "stream",
     "text": [
      "2025-05-11 16:32:00,632 - INFO - Silhouette Score: 0.636\n",
      "/Users/thesportydar/local_dev/reis-app/src/lib/report/.venv/lib/python3.13/site-packages/sklearn/utils/deprecation.py:151: FutureWarning: 'force_all_finite' was renamed to 'ensure_all_finite' in 1.6 and will be removed in 1.8.\n",
      "  warnings.warn(\n"
     ]
    },
    {
     "name": "stdout",
     "output_type": "stream",
     "text": [
      "Los índices de df_real y dfcorpus están alineados correctamente.\n",
      "Todas las preguntas coinciden entre df y dfcorpus.\n"
     ]
    },
    {
     "name": "stderr",
     "output_type": "stream",
     "text": [
      "2025-05-11 16:32:00,878 - INFO - Silhouette Score: 0.649\n",
      "/Users/thesportydar/local_dev/reis-app/src/lib/report/.venv/lib/python3.13/site-packages/sklearn/utils/deprecation.py:151: FutureWarning: 'force_all_finite' was renamed to 'ensure_all_finite' in 1.6 and will be removed in 1.8.\n",
      "  warnings.warn(\n"
     ]
    },
    {
     "name": "stdout",
     "output_type": "stream",
     "text": [
      "Los índices de df_real y dfcorpus están alineados correctamente.\n",
      "Todas las preguntas coinciden entre df y dfcorpus.\n"
     ]
    },
    {
     "name": "stderr",
     "output_type": "stream",
     "text": [
      "2025-05-11 16:32:01,117 - INFO - Silhouette Score: 0.642\n",
      "/Users/thesportydar/local_dev/reis-app/src/lib/report/.venv/lib/python3.13/site-packages/sklearn/utils/deprecation.py:151: FutureWarning: 'force_all_finite' was renamed to 'ensure_all_finite' in 1.6 and will be removed in 1.8.\n",
      "  warnings.warn(\n"
     ]
    },
    {
     "name": "stdout",
     "output_type": "stream",
     "text": [
      "Los índices de df_real y dfcorpus están alineados correctamente.\n",
      "Todas las preguntas coinciden entre df y dfcorpus.\n"
     ]
    },
    {
     "name": "stderr",
     "output_type": "stream",
     "text": [
      "2025-05-11 16:32:01,353 - INFO - Silhouette Score: 0.715\n",
      "/Users/thesportydar/local_dev/reis-app/src/lib/report/.venv/lib/python3.13/site-packages/sklearn/utils/deprecation.py:151: FutureWarning: 'force_all_finite' was renamed to 'ensure_all_finite' in 1.6 and will be removed in 1.8.\n",
      "  warnings.warn(\n"
     ]
    },
    {
     "name": "stdout",
     "output_type": "stream",
     "text": [
      "Los índices de df_real y dfcorpus están alineados correctamente.\n",
      "Todas las preguntas coinciden entre df y dfcorpus.\n"
     ]
    },
    {
     "name": "stderr",
     "output_type": "stream",
     "text": [
      "2025-05-11 16:32:01,587 - INFO - Silhouette Score: 0.661\n",
      "/Users/thesportydar/local_dev/reis-app/src/lib/report/.venv/lib/python3.13/site-packages/sklearn/utils/deprecation.py:151: FutureWarning: 'force_all_finite' was renamed to 'ensure_all_finite' in 1.6 and will be removed in 1.8.\n",
      "  warnings.warn(\n"
     ]
    },
    {
     "name": "stdout",
     "output_type": "stream",
     "text": [
      "Los índices de df_real y dfcorpus están alineados correctamente.\n",
      "Todas las preguntas coinciden entre df y dfcorpus.\n"
     ]
    },
    {
     "name": "stderr",
     "output_type": "stream",
     "text": [
      "2025-05-11 16:32:01,823 - INFO - Silhouette Score: 0.659\n",
      "/Users/thesportydar/local_dev/reis-app/src/lib/report/.venv/lib/python3.13/site-packages/sklearn/utils/deprecation.py:151: FutureWarning: 'force_all_finite' was renamed to 'ensure_all_finite' in 1.6 and will be removed in 1.8.\n",
      "  warnings.warn(\n"
     ]
    },
    {
     "name": "stdout",
     "output_type": "stream",
     "text": [
      "Los índices de df_real y dfcorpus están alineados correctamente.\n",
      "Todas las preguntas coinciden entre df y dfcorpus.\n"
     ]
    },
    {
     "name": "stderr",
     "output_type": "stream",
     "text": [
      "2025-05-11 16:32:02,061 - INFO - Silhouette Score: 0.629\n",
      "/Users/thesportydar/local_dev/reis-app/src/lib/report/.venv/lib/python3.13/site-packages/sklearn/utils/deprecation.py:151: FutureWarning: 'force_all_finite' was renamed to 'ensure_all_finite' in 1.6 and will be removed in 1.8.\n",
      "  warnings.warn(\n"
     ]
    },
    {
     "name": "stdout",
     "output_type": "stream",
     "text": [
      "Los índices de df_real y dfcorpus están alineados correctamente.\n",
      "Todas las preguntas coinciden entre df y dfcorpus.\n"
     ]
    },
    {
     "name": "stderr",
     "output_type": "stream",
     "text": [
      "2025-05-11 16:32:02,301 - INFO - Silhouette Score: 0.683\n",
      "/Users/thesportydar/local_dev/reis-app/src/lib/report/.venv/lib/python3.13/site-packages/sklearn/utils/deprecation.py:151: FutureWarning: 'force_all_finite' was renamed to 'ensure_all_finite' in 1.6 and will be removed in 1.8.\n",
      "  warnings.warn(\n"
     ]
    },
    {
     "name": "stdout",
     "output_type": "stream",
     "text": [
      "Los índices de df_real y dfcorpus están alineados correctamente.\n",
      "Todas las preguntas coinciden entre df y dfcorpus.\n"
     ]
    },
    {
     "name": "stderr",
     "output_type": "stream",
     "text": [
      "2025-05-11 16:32:02,578 - INFO - Silhouette Score: 0.671\n",
      "/Users/thesportydar/local_dev/reis-app/src/lib/report/.venv/lib/python3.13/site-packages/sklearn/utils/deprecation.py:151: FutureWarning: 'force_all_finite' was renamed to 'ensure_all_finite' in 1.6 and will be removed in 1.8.\n",
      "  warnings.warn(\n"
     ]
    },
    {
     "name": "stdout",
     "output_type": "stream",
     "text": [
      "Los índices de df_real y dfcorpus están alineados correctamente.\n",
      "Todas las preguntas coinciden entre df y dfcorpus.\n"
     ]
    },
    {
     "name": "stderr",
     "output_type": "stream",
     "text": [
      "2025-05-11 16:32:02,817 - INFO - Silhouette Score: 0.603\n",
      "/Users/thesportydar/local_dev/reis-app/src/lib/report/.venv/lib/python3.13/site-packages/sklearn/utils/deprecation.py:151: FutureWarning: 'force_all_finite' was renamed to 'ensure_all_finite' in 1.6 and will be removed in 1.8.\n",
      "  warnings.warn(\n"
     ]
    },
    {
     "name": "stdout",
     "output_type": "stream",
     "text": [
      "Los índices de df_real y dfcorpus están alineados correctamente.\n",
      "Todas las preguntas coinciden entre df y dfcorpus.\n"
     ]
    },
    {
     "name": "stderr",
     "output_type": "stream",
     "text": [
      "2025-05-11 16:32:03,057 - INFO - Silhouette Score: 0.660\n",
      "/Users/thesportydar/local_dev/reis-app/src/lib/report/.venv/lib/python3.13/site-packages/sklearn/utils/deprecation.py:151: FutureWarning: 'force_all_finite' was renamed to 'ensure_all_finite' in 1.6 and will be removed in 1.8.\n",
      "  warnings.warn(\n"
     ]
    },
    {
     "name": "stdout",
     "output_type": "stream",
     "text": [
      "Los índices de df_real y dfcorpus están alineados correctamente.\n",
      "Todas las preguntas coinciden entre df y dfcorpus.\n"
     ]
    },
    {
     "name": "stderr",
     "output_type": "stream",
     "text": [
      "2025-05-11 16:32:03,292 - INFO - Silhouette Score: 0.640\n",
      "/Users/thesportydar/local_dev/reis-app/src/lib/report/.venv/lib/python3.13/site-packages/sklearn/utils/deprecation.py:151: FutureWarning: 'force_all_finite' was renamed to 'ensure_all_finite' in 1.6 and will be removed in 1.8.\n",
      "  warnings.warn(\n"
     ]
    },
    {
     "name": "stdout",
     "output_type": "stream",
     "text": [
      "Los índices de df_real y dfcorpus están alineados correctamente.\n",
      "Todas las preguntas coinciden entre df y dfcorpus.\n"
     ]
    },
    {
     "name": "stderr",
     "output_type": "stream",
     "text": [
      "2025-05-11 16:32:03,532 - INFO - Silhouette Score: 0.599\n",
      "/Users/thesportydar/local_dev/reis-app/src/lib/report/.venv/lib/python3.13/site-packages/sklearn/utils/deprecation.py:151: FutureWarning: 'force_all_finite' was renamed to 'ensure_all_finite' in 1.6 and will be removed in 1.8.\n",
      "  warnings.warn(\n"
     ]
    },
    {
     "name": "stdout",
     "output_type": "stream",
     "text": [
      "Los índices de df_real y dfcorpus están alineados correctamente.\n",
      "Todas las preguntas coinciden entre df y dfcorpus.\n"
     ]
    },
    {
     "name": "stderr",
     "output_type": "stream",
     "text": [
      "2025-05-11 16:32:03,774 - INFO - Silhouette Score: 0.668\n",
      "/Users/thesportydar/local_dev/reis-app/src/lib/report/.venv/lib/python3.13/site-packages/sklearn/utils/deprecation.py:151: FutureWarning: 'force_all_finite' was renamed to 'ensure_all_finite' in 1.6 and will be removed in 1.8.\n",
      "  warnings.warn(\n"
     ]
    },
    {
     "name": "stdout",
     "output_type": "stream",
     "text": [
      "Los índices de df_real y dfcorpus están alineados correctamente.\n",
      "Todas las preguntas coinciden entre df y dfcorpus.\n"
     ]
    },
    {
     "name": "stderr",
     "output_type": "stream",
     "text": [
      "2025-05-11 16:32:04,015 - INFO - Silhouette Score: 0.698\n",
      "/Users/thesportydar/local_dev/reis-app/src/lib/report/.venv/lib/python3.13/site-packages/sklearn/utils/deprecation.py:151: FutureWarning: 'force_all_finite' was renamed to 'ensure_all_finite' in 1.6 and will be removed in 1.8.\n",
      "  warnings.warn(\n"
     ]
    },
    {
     "name": "stdout",
     "output_type": "stream",
     "text": [
      "Los índices de df_real y dfcorpus están alineados correctamente.\n",
      "Todas las preguntas coinciden entre df y dfcorpus.\n"
     ]
    },
    {
     "name": "stderr",
     "output_type": "stream",
     "text": [
      "2025-05-11 16:32:04,249 - INFO - Silhouette Score: 0.622\n",
      "/Users/thesportydar/local_dev/reis-app/src/lib/report/.venv/lib/python3.13/site-packages/sklearn/utils/deprecation.py:151: FutureWarning: 'force_all_finite' was renamed to 'ensure_all_finite' in 1.6 and will be removed in 1.8.\n",
      "  warnings.warn(\n"
     ]
    },
    {
     "name": "stdout",
     "output_type": "stream",
     "text": [
      "Los índices de df_real y dfcorpus están alineados correctamente.\n",
      "Todas las preguntas coinciden entre df y dfcorpus.\n"
     ]
    },
    {
     "name": "stderr",
     "output_type": "stream",
     "text": [
      "2025-05-11 16:32:04,527 - INFO - Silhouette Score: 0.691\n",
      "/Users/thesportydar/local_dev/reis-app/src/lib/report/.venv/lib/python3.13/site-packages/sklearn/utils/deprecation.py:151: FutureWarning: 'force_all_finite' was renamed to 'ensure_all_finite' in 1.6 and will be removed in 1.8.\n",
      "  warnings.warn(\n"
     ]
    },
    {
     "name": "stdout",
     "output_type": "stream",
     "text": [
      "Los índices de df_real y dfcorpus están alineados correctamente.\n",
      "Todas las preguntas coinciden entre df y dfcorpus.\n"
     ]
    },
    {
     "name": "stderr",
     "output_type": "stream",
     "text": [
      "2025-05-11 16:32:04,763 - INFO - Silhouette Score: 0.598\n",
      "/Users/thesportydar/local_dev/reis-app/src/lib/report/.venv/lib/python3.13/site-packages/sklearn/utils/deprecation.py:151: FutureWarning: 'force_all_finite' was renamed to 'ensure_all_finite' in 1.6 and will be removed in 1.8.\n",
      "  warnings.warn(\n"
     ]
    },
    {
     "name": "stdout",
     "output_type": "stream",
     "text": [
      "Los índices de df_real y dfcorpus están alineados correctamente.\n",
      "Todas las preguntas coinciden entre df y dfcorpus.\n"
     ]
    },
    {
     "name": "stderr",
     "output_type": "stream",
     "text": [
      "2025-05-11 16:32:05,039 - INFO - Silhouette Score: 0.620\n",
      "/Users/thesportydar/local_dev/reis-app/src/lib/report/.venv/lib/python3.13/site-packages/sklearn/utils/deprecation.py:151: FutureWarning: 'force_all_finite' was renamed to 'ensure_all_finite' in 1.6 and will be removed in 1.8.\n",
      "  warnings.warn(\n"
     ]
    },
    {
     "name": "stdout",
     "output_type": "stream",
     "text": [
      "Los índices de df_real y dfcorpus están alineados correctamente.\n",
      "Todas las preguntas coinciden entre df y dfcorpus.\n"
     ]
    },
    {
     "name": "stderr",
     "output_type": "stream",
     "text": [
      "2025-05-11 16:32:05,275 - INFO - Silhouette Score: 0.662\n",
      "/Users/thesportydar/local_dev/reis-app/src/lib/report/.venv/lib/python3.13/site-packages/sklearn/utils/deprecation.py:151: FutureWarning: 'force_all_finite' was renamed to 'ensure_all_finite' in 1.6 and will be removed in 1.8.\n",
      "  warnings.warn(\n"
     ]
    },
    {
     "name": "stdout",
     "output_type": "stream",
     "text": [
      "Los índices de df_real y dfcorpus están alineados correctamente.\n",
      "Todas las preguntas coinciden entre df y dfcorpus.\n"
     ]
    },
    {
     "name": "stderr",
     "output_type": "stream",
     "text": [
      "2025-05-11 16:32:05,518 - INFO - Silhouette Score: 0.628\n",
      "/Users/thesportydar/local_dev/reis-app/src/lib/report/.venv/lib/python3.13/site-packages/sklearn/utils/deprecation.py:151: FutureWarning: 'force_all_finite' was renamed to 'ensure_all_finite' in 1.6 and will be removed in 1.8.\n",
      "  warnings.warn(\n"
     ]
    },
    {
     "name": "stdout",
     "output_type": "stream",
     "text": [
      "Los índices de df_real y dfcorpus están alineados correctamente.\n",
      "Todas las preguntas coinciden entre df y dfcorpus.\n"
     ]
    },
    {
     "name": "stderr",
     "output_type": "stream",
     "text": [
      "2025-05-11 16:32:05,752 - INFO - Silhouette Score: 0.652\n",
      "/Users/thesportydar/local_dev/reis-app/src/lib/report/.venv/lib/python3.13/site-packages/sklearn/utils/deprecation.py:151: FutureWarning: 'force_all_finite' was renamed to 'ensure_all_finite' in 1.6 and will be removed in 1.8.\n",
      "  warnings.warn(\n"
     ]
    },
    {
     "name": "stdout",
     "output_type": "stream",
     "text": [
      "Los índices de df_real y dfcorpus están alineados correctamente.\n",
      "Todas las preguntas coinciden entre df y dfcorpus.\n"
     ]
    },
    {
     "name": "stderr",
     "output_type": "stream",
     "text": [
      "2025-05-11 16:32:05,990 - INFO - Silhouette Score: 0.674\n",
      "/Users/thesportydar/local_dev/reis-app/src/lib/report/.venv/lib/python3.13/site-packages/sklearn/utils/deprecation.py:151: FutureWarning: 'force_all_finite' was renamed to 'ensure_all_finite' in 1.6 and will be removed in 1.8.\n",
      "  warnings.warn(\n"
     ]
    },
    {
     "name": "stdout",
     "output_type": "stream",
     "text": [
      "Los índices de df_real y dfcorpus están alineados correctamente.\n",
      "Todas las preguntas coinciden entre df y dfcorpus.\n"
     ]
    },
    {
     "name": "stderr",
     "output_type": "stream",
     "text": [
      "2025-05-11 16:32:06,229 - INFO - Silhouette Score: 0.666\n",
      "/Users/thesportydar/local_dev/reis-app/src/lib/report/.venv/lib/python3.13/site-packages/sklearn/utils/deprecation.py:151: FutureWarning: 'force_all_finite' was renamed to 'ensure_all_finite' in 1.6 and will be removed in 1.8.\n",
      "  warnings.warn(\n"
     ]
    },
    {
     "name": "stdout",
     "output_type": "stream",
     "text": [
      "Los índices de df_real y dfcorpus están alineados correctamente.\n",
      "Todas las preguntas coinciden entre df y dfcorpus.\n"
     ]
    },
    {
     "name": "stderr",
     "output_type": "stream",
     "text": [
      "2025-05-11 16:32:06,498 - INFO - Silhouette Score: 0.584\n",
      "/Users/thesportydar/local_dev/reis-app/src/lib/report/.venv/lib/python3.13/site-packages/sklearn/utils/deprecation.py:151: FutureWarning: 'force_all_finite' was renamed to 'ensure_all_finite' in 1.6 and will be removed in 1.8.\n",
      "  warnings.warn(\n"
     ]
    },
    {
     "name": "stdout",
     "output_type": "stream",
     "text": [
      "Los índices de df_real y dfcorpus están alineados correctamente.\n",
      "Todas las preguntas coinciden entre df y dfcorpus.\n"
     ]
    },
    {
     "name": "stderr",
     "output_type": "stream",
     "text": [
      "2025-05-11 16:32:06,742 - INFO - Silhouette Score: 0.694\n",
      "/Users/thesportydar/local_dev/reis-app/src/lib/report/.venv/lib/python3.13/site-packages/sklearn/utils/deprecation.py:151: FutureWarning: 'force_all_finite' was renamed to 'ensure_all_finite' in 1.6 and will be removed in 1.8.\n",
      "  warnings.warn(\n"
     ]
    },
    {
     "name": "stdout",
     "output_type": "stream",
     "text": [
      "Los índices de df_real y dfcorpus están alineados correctamente.\n",
      "Todas las preguntas coinciden entre df y dfcorpus.\n"
     ]
    },
    {
     "name": "stderr",
     "output_type": "stream",
     "text": [
      "2025-05-11 16:32:06,987 - INFO - Silhouette Score: 0.645\n",
      "/Users/thesportydar/local_dev/reis-app/src/lib/report/.venv/lib/python3.13/site-packages/sklearn/utils/deprecation.py:151: FutureWarning: 'force_all_finite' was renamed to 'ensure_all_finite' in 1.6 and will be removed in 1.8.\n",
      "  warnings.warn(\n"
     ]
    },
    {
     "name": "stdout",
     "output_type": "stream",
     "text": [
      "Los índices de df_real y dfcorpus están alineados correctamente.\n",
      "Todas las preguntas coinciden entre df y dfcorpus.\n"
     ]
    },
    {
     "name": "stderr",
     "output_type": "stream",
     "text": [
      "2025-05-11 16:32:07,233 - INFO - Silhouette Score: 0.656\n",
      "/Users/thesportydar/local_dev/reis-app/src/lib/report/.venv/lib/python3.13/site-packages/sklearn/utils/deprecation.py:151: FutureWarning: 'force_all_finite' was renamed to 'ensure_all_finite' in 1.6 and will be removed in 1.8.\n",
      "  warnings.warn(\n"
     ]
    },
    {
     "name": "stdout",
     "output_type": "stream",
     "text": [
      "Los índices de df_real y dfcorpus están alineados correctamente.\n",
      "Todas las preguntas coinciden entre df y dfcorpus.\n"
     ]
    },
    {
     "name": "stderr",
     "output_type": "stream",
     "text": [
      "2025-05-11 16:32:07,473 - INFO - Silhouette Score: 0.657\n",
      "/Users/thesportydar/local_dev/reis-app/src/lib/report/.venv/lib/python3.13/site-packages/sklearn/utils/deprecation.py:151: FutureWarning: 'force_all_finite' was renamed to 'ensure_all_finite' in 1.6 and will be removed in 1.8.\n",
      "  warnings.warn(\n"
     ]
    },
    {
     "name": "stdout",
     "output_type": "stream",
     "text": [
      "Los índices de df_real y dfcorpus están alineados correctamente.\n",
      "Todas las preguntas coinciden entre df y dfcorpus.\n"
     ]
    },
    {
     "name": "stderr",
     "output_type": "stream",
     "text": [
      "2025-05-11 16:32:07,713 - INFO - Silhouette Score: 0.607\n",
      "/Users/thesportydar/local_dev/reis-app/src/lib/report/.venv/lib/python3.13/site-packages/sklearn/utils/deprecation.py:151: FutureWarning: 'force_all_finite' was renamed to 'ensure_all_finite' in 1.6 and will be removed in 1.8.\n",
      "  warnings.warn(\n"
     ]
    },
    {
     "name": "stdout",
     "output_type": "stream",
     "text": [
      "Los índices de df_real y dfcorpus están alineados correctamente.\n",
      "Todas las preguntas coinciden entre df y dfcorpus.\n"
     ]
    },
    {
     "name": "stderr",
     "output_type": "stream",
     "text": [
      "2025-05-11 16:32:07,956 - INFO - Silhouette Score: 0.680\n",
      "/Users/thesportydar/local_dev/reis-app/src/lib/report/.venv/lib/python3.13/site-packages/sklearn/utils/deprecation.py:151: FutureWarning: 'force_all_finite' was renamed to 'ensure_all_finite' in 1.6 and will be removed in 1.8.\n",
      "  warnings.warn(\n"
     ]
    },
    {
     "name": "stdout",
     "output_type": "stream",
     "text": [
      "Los índices de df_real y dfcorpus están alineados correctamente.\n",
      "Todas las preguntas coinciden entre df y dfcorpus.\n"
     ]
    },
    {
     "name": "stderr",
     "output_type": "stream",
     "text": [
      "2025-05-11 16:32:08,201 - INFO - Silhouette Score: 0.604\n",
      "/Users/thesportydar/local_dev/reis-app/src/lib/report/.venv/lib/python3.13/site-packages/sklearn/utils/deprecation.py:151: FutureWarning: 'force_all_finite' was renamed to 'ensure_all_finite' in 1.6 and will be removed in 1.8.\n",
      "  warnings.warn(\n"
     ]
    },
    {
     "name": "stdout",
     "output_type": "stream",
     "text": [
      "Los índices de df_real y dfcorpus están alineados correctamente.\n",
      "Todas las preguntas coinciden entre df y dfcorpus.\n"
     ]
    },
    {
     "name": "stderr",
     "output_type": "stream",
     "text": [
      "2025-05-11 16:32:08,470 - INFO - Silhouette Score: 0.611\n",
      "/Users/thesportydar/local_dev/reis-app/src/lib/report/.venv/lib/python3.13/site-packages/sklearn/utils/deprecation.py:151: FutureWarning: 'force_all_finite' was renamed to 'ensure_all_finite' in 1.6 and will be removed in 1.8.\n",
      "  warnings.warn(\n"
     ]
    },
    {
     "name": "stdout",
     "output_type": "stream",
     "text": [
      "Los índices de df_real y dfcorpus están alineados correctamente.\n",
      "Todas las preguntas coinciden entre df y dfcorpus.\n"
     ]
    },
    {
     "name": "stderr",
     "output_type": "stream",
     "text": [
      "2025-05-11 16:32:08,717 - INFO - Silhouette Score: 0.691\n",
      "/Users/thesportydar/local_dev/reis-app/src/lib/report/.venv/lib/python3.13/site-packages/sklearn/utils/deprecation.py:151: FutureWarning: 'force_all_finite' was renamed to 'ensure_all_finite' in 1.6 and will be removed in 1.8.\n",
      "  warnings.warn(\n"
     ]
    },
    {
     "name": "stdout",
     "output_type": "stream",
     "text": [
      "Los índices de df_real y dfcorpus están alineados correctamente.\n",
      "Todas las preguntas coinciden entre df y dfcorpus.\n"
     ]
    },
    {
     "name": "stderr",
     "output_type": "stream",
     "text": [
      "2025-05-11 16:32:08,960 - INFO - Silhouette Score: 0.583\n",
      "/Users/thesportydar/local_dev/reis-app/src/lib/report/.venv/lib/python3.13/site-packages/sklearn/utils/deprecation.py:151: FutureWarning: 'force_all_finite' was renamed to 'ensure_all_finite' in 1.6 and will be removed in 1.8.\n",
      "  warnings.warn(\n"
     ]
    },
    {
     "name": "stdout",
     "output_type": "stream",
     "text": [
      "Los índices de df_real y dfcorpus están alineados correctamente.\n",
      "Todas las preguntas coinciden entre df y dfcorpus.\n"
     ]
    },
    {
     "name": "stderr",
     "output_type": "stream",
     "text": [
      "2025-05-11 16:32:09,201 - INFO - Silhouette Score: 0.618\n",
      "/Users/thesportydar/local_dev/reis-app/src/lib/report/.venv/lib/python3.13/site-packages/sklearn/utils/deprecation.py:151: FutureWarning: 'force_all_finite' was renamed to 'ensure_all_finite' in 1.6 and will be removed in 1.8.\n",
      "  warnings.warn(\n"
     ]
    },
    {
     "name": "stdout",
     "output_type": "stream",
     "text": [
      "Los índices de df_real y dfcorpus están alineados correctamente.\n",
      "Todas las preguntas coinciden entre df y dfcorpus.\n"
     ]
    },
    {
     "name": "stderr",
     "output_type": "stream",
     "text": [
      "2025-05-11 16:32:09,443 - INFO - Silhouette Score: 0.687\n",
      "/Users/thesportydar/local_dev/reis-app/src/lib/report/.venv/lib/python3.13/site-packages/sklearn/utils/deprecation.py:151: FutureWarning: 'force_all_finite' was renamed to 'ensure_all_finite' in 1.6 and will be removed in 1.8.\n",
      "  warnings.warn(\n"
     ]
    },
    {
     "name": "stdout",
     "output_type": "stream",
     "text": [
      "Los índices de df_real y dfcorpus están alineados correctamente.\n",
      "Todas las preguntas coinciden entre df y dfcorpus.\n"
     ]
    },
    {
     "name": "stderr",
     "output_type": "stream",
     "text": [
      "2025-05-11 16:32:09,676 - INFO - Silhouette Score: 0.653\n",
      "/Users/thesportydar/local_dev/reis-app/src/lib/report/.venv/lib/python3.13/site-packages/sklearn/utils/deprecation.py:151: FutureWarning: 'force_all_finite' was renamed to 'ensure_all_finite' in 1.6 and will be removed in 1.8.\n",
      "  warnings.warn(\n"
     ]
    },
    {
     "name": "stdout",
     "output_type": "stream",
     "text": [
      "Los índices de df_real y dfcorpus están alineados correctamente.\n",
      "Todas las preguntas coinciden entre df y dfcorpus.\n"
     ]
    },
    {
     "name": "stderr",
     "output_type": "stream",
     "text": [
      "2025-05-11 16:32:09,916 - INFO - Silhouette Score: 0.582\n",
      "/Users/thesportydar/local_dev/reis-app/src/lib/report/.venv/lib/python3.13/site-packages/sklearn/utils/deprecation.py:151: FutureWarning: 'force_all_finite' was renamed to 'ensure_all_finite' in 1.6 and will be removed in 1.8.\n",
      "  warnings.warn(\n"
     ]
    },
    {
     "name": "stdout",
     "output_type": "stream",
     "text": [
      "Los índices de df_real y dfcorpus están alineados correctamente.\n",
      "Todas las preguntas coinciden entre df y dfcorpus.\n"
     ]
    },
    {
     "name": "stderr",
     "output_type": "stream",
     "text": [
      "2025-05-11 16:32:10,183 - INFO - Silhouette Score: 0.651\n",
      "/Users/thesportydar/local_dev/reis-app/src/lib/report/.venv/lib/python3.13/site-packages/sklearn/utils/deprecation.py:151: FutureWarning: 'force_all_finite' was renamed to 'ensure_all_finite' in 1.6 and will be removed in 1.8.\n",
      "  warnings.warn(\n"
     ]
    },
    {
     "name": "stdout",
     "output_type": "stream",
     "text": [
      "Los índices de df_real y dfcorpus están alineados correctamente.\n",
      "Todas las preguntas coinciden entre df y dfcorpus.\n"
     ]
    },
    {
     "name": "stderr",
     "output_type": "stream",
     "text": [
      "2025-05-11 16:32:10,420 - INFO - Silhouette Score: 0.671\n",
      "/Users/thesportydar/local_dev/reis-app/src/lib/report/.venv/lib/python3.13/site-packages/sklearn/utils/deprecation.py:151: FutureWarning: 'force_all_finite' was renamed to 'ensure_all_finite' in 1.6 and will be removed in 1.8.\n",
      "  warnings.warn(\n"
     ]
    },
    {
     "name": "stdout",
     "output_type": "stream",
     "text": [
      "Los índices de df_real y dfcorpus están alineados correctamente.\n",
      "Todas las preguntas coinciden entre df y dfcorpus.\n"
     ]
    },
    {
     "name": "stderr",
     "output_type": "stream",
     "text": [
      "2025-05-11 16:32:10,662 - INFO - Silhouette Score: 0.664\n",
      "/Users/thesportydar/local_dev/reis-app/src/lib/report/.venv/lib/python3.13/site-packages/sklearn/utils/deprecation.py:151: FutureWarning: 'force_all_finite' was renamed to 'ensure_all_finite' in 1.6 and will be removed in 1.8.\n",
      "  warnings.warn(\n"
     ]
    },
    {
     "name": "stdout",
     "output_type": "stream",
     "text": [
      "Los índices de df_real y dfcorpus están alineados correctamente.\n",
      "Todas las preguntas coinciden entre df y dfcorpus.\n"
     ]
    },
    {
     "name": "stderr",
     "output_type": "stream",
     "text": [
      "2025-05-11 16:32:10,904 - INFO - Silhouette Score: 0.675\n",
      "/Users/thesportydar/local_dev/reis-app/src/lib/report/.venv/lib/python3.13/site-packages/sklearn/utils/deprecation.py:151: FutureWarning: 'force_all_finite' was renamed to 'ensure_all_finite' in 1.6 and will be removed in 1.8.\n",
      "  warnings.warn(\n"
     ]
    },
    {
     "name": "stdout",
     "output_type": "stream",
     "text": [
      "Los índices de df_real y dfcorpus están alineados correctamente.\n",
      "Todas las preguntas coinciden entre df y dfcorpus.\n"
     ]
    },
    {
     "name": "stderr",
     "output_type": "stream",
     "text": [
      "2025-05-11 16:32:11,178 - INFO - Silhouette Score: 0.634\n",
      "/Users/thesportydar/local_dev/reis-app/src/lib/report/.venv/lib/python3.13/site-packages/sklearn/utils/deprecation.py:151: FutureWarning: 'force_all_finite' was renamed to 'ensure_all_finite' in 1.6 and will be removed in 1.8.\n",
      "  warnings.warn(\n"
     ]
    },
    {
     "name": "stdout",
     "output_type": "stream",
     "text": [
      "Los índices de df_real y dfcorpus están alineados correctamente.\n",
      "Todas las preguntas coinciden entre df y dfcorpus.\n"
     ]
    },
    {
     "name": "stderr",
     "output_type": "stream",
     "text": [
      "2025-05-11 16:32:11,420 - INFO - Silhouette Score: 0.670\n",
      "/Users/thesportydar/local_dev/reis-app/src/lib/report/.venv/lib/python3.13/site-packages/sklearn/utils/deprecation.py:151: FutureWarning: 'force_all_finite' was renamed to 'ensure_all_finite' in 1.6 and will be removed in 1.8.\n",
      "  warnings.warn(\n"
     ]
    },
    {
     "name": "stdout",
     "output_type": "stream",
     "text": [
      "Los índices de df_real y dfcorpus están alineados correctamente.\n",
      "Todas las preguntas coinciden entre df y dfcorpus.\n"
     ]
    },
    {
     "name": "stderr",
     "output_type": "stream",
     "text": [
      "2025-05-11 16:32:11,658 - INFO - Silhouette Score: 0.640\n",
      "/Users/thesportydar/local_dev/reis-app/src/lib/report/.venv/lib/python3.13/site-packages/sklearn/utils/deprecation.py:151: FutureWarning: 'force_all_finite' was renamed to 'ensure_all_finite' in 1.6 and will be removed in 1.8.\n",
      "  warnings.warn(\n"
     ]
    },
    {
     "name": "stdout",
     "output_type": "stream",
     "text": [
      "Los índices de df_real y dfcorpus están alineados correctamente.\n",
      "Todas las preguntas coinciden entre df y dfcorpus.\n"
     ]
    },
    {
     "name": "stderr",
     "output_type": "stream",
     "text": [
      "2025-05-11 16:32:11,901 - INFO - Silhouette Score: 0.602\n",
      "/Users/thesportydar/local_dev/reis-app/src/lib/report/.venv/lib/python3.13/site-packages/sklearn/utils/deprecation.py:151: FutureWarning: 'force_all_finite' was renamed to 'ensure_all_finite' in 1.6 and will be removed in 1.8.\n",
      "  warnings.warn(\n"
     ]
    },
    {
     "name": "stdout",
     "output_type": "stream",
     "text": [
      "Los índices de df_real y dfcorpus están alineados correctamente.\n",
      "Todas las preguntas coinciden entre df y dfcorpus.\n"
     ]
    },
    {
     "name": "stderr",
     "output_type": "stream",
     "text": [
      "2025-05-11 16:32:12,185 - INFO - Silhouette Score: 0.646\n",
      "/Users/thesportydar/local_dev/reis-app/src/lib/report/.venv/lib/python3.13/site-packages/sklearn/utils/deprecation.py:151: FutureWarning: 'force_all_finite' was renamed to 'ensure_all_finite' in 1.6 and will be removed in 1.8.\n",
      "  warnings.warn(\n"
     ]
    },
    {
     "name": "stdout",
     "output_type": "stream",
     "text": [
      "Los índices de df_real y dfcorpus están alineados correctamente.\n",
      "Todas las preguntas coinciden entre df y dfcorpus.\n"
     ]
    },
    {
     "name": "stderr",
     "output_type": "stream",
     "text": [
      "2025-05-11 16:32:12,419 - INFO - Silhouette Score: 0.642\n",
      "/Users/thesportydar/local_dev/reis-app/src/lib/report/.venv/lib/python3.13/site-packages/sklearn/utils/deprecation.py:151: FutureWarning: 'force_all_finite' was renamed to 'ensure_all_finite' in 1.6 and will be removed in 1.8.\n",
      "  warnings.warn(\n"
     ]
    },
    {
     "name": "stdout",
     "output_type": "stream",
     "text": [
      "Los índices de df_real y dfcorpus están alineados correctamente.\n",
      "Todas las preguntas coinciden entre df y dfcorpus.\n"
     ]
    },
    {
     "name": "stderr",
     "output_type": "stream",
     "text": [
      "2025-05-11 16:32:12,666 - INFO - Silhouette Score: 0.672\n",
      "/Users/thesportydar/local_dev/reis-app/src/lib/report/.venv/lib/python3.13/site-packages/sklearn/utils/deprecation.py:151: FutureWarning: 'force_all_finite' was renamed to 'ensure_all_finite' in 1.6 and will be removed in 1.8.\n",
      "  warnings.warn(\n"
     ]
    },
    {
     "name": "stdout",
     "output_type": "stream",
     "text": [
      "Los índices de df_real y dfcorpus están alineados correctamente.\n",
      "Todas las preguntas coinciden entre df y dfcorpus.\n"
     ]
    },
    {
     "name": "stderr",
     "output_type": "stream",
     "text": [
      "2025-05-11 16:32:12,907 - INFO - Silhouette Score: 0.604\n",
      "/Users/thesportydar/local_dev/reis-app/src/lib/report/.venv/lib/python3.13/site-packages/sklearn/utils/deprecation.py:151: FutureWarning: 'force_all_finite' was renamed to 'ensure_all_finite' in 1.6 and will be removed in 1.8.\n",
      "  warnings.warn(\n"
     ]
    },
    {
     "name": "stdout",
     "output_type": "stream",
     "text": [
      "Los índices de df_real y dfcorpus están alineados correctamente.\n",
      "Todas las preguntas coinciden entre df y dfcorpus.\n"
     ]
    },
    {
     "name": "stderr",
     "output_type": "stream",
     "text": [
      "2025-05-11 16:32:13,146 - INFO - Silhouette Score: 0.630\n",
      "/Users/thesportydar/local_dev/reis-app/src/lib/report/.venv/lib/python3.13/site-packages/sklearn/utils/deprecation.py:151: FutureWarning: 'force_all_finite' was renamed to 'ensure_all_finite' in 1.6 and will be removed in 1.8.\n",
      "  warnings.warn(\n"
     ]
    },
    {
     "name": "stdout",
     "output_type": "stream",
     "text": [
      "Los índices de df_real y dfcorpus están alineados correctamente.\n",
      "Todas las preguntas coinciden entre df y dfcorpus.\n"
     ]
    },
    {
     "name": "stderr",
     "output_type": "stream",
     "text": [
      "2025-05-11 16:32:13,385 - INFO - Silhouette Score: 0.691\n",
      "/Users/thesportydar/local_dev/reis-app/src/lib/report/.venv/lib/python3.13/site-packages/sklearn/utils/deprecation.py:151: FutureWarning: 'force_all_finite' was renamed to 'ensure_all_finite' in 1.6 and will be removed in 1.8.\n",
      "  warnings.warn(\n"
     ]
    },
    {
     "name": "stdout",
     "output_type": "stream",
     "text": [
      "Los índices de df_real y dfcorpus están alineados correctamente.\n",
      "Todas las preguntas coinciden entre df y dfcorpus.\n"
     ]
    },
    {
     "name": "stderr",
     "output_type": "stream",
     "text": [
      "2025-05-11 16:32:13,623 - INFO - Silhouette Score: 0.643\n",
      "/Users/thesportydar/local_dev/reis-app/src/lib/report/.venv/lib/python3.13/site-packages/sklearn/utils/deprecation.py:151: FutureWarning: 'force_all_finite' was renamed to 'ensure_all_finite' in 1.6 and will be removed in 1.8.\n",
      "  warnings.warn(\n"
     ]
    },
    {
     "name": "stdout",
     "output_type": "stream",
     "text": [
      "Los índices de df_real y dfcorpus están alineados correctamente.\n",
      "Todas las preguntas coinciden entre df y dfcorpus.\n"
     ]
    },
    {
     "name": "stderr",
     "output_type": "stream",
     "text": [
      "2025-05-11 16:32:13,889 - INFO - Silhouette Score: 0.612\n",
      "/Users/thesportydar/local_dev/reis-app/src/lib/report/.venv/lib/python3.13/site-packages/sklearn/utils/deprecation.py:151: FutureWarning: 'force_all_finite' was renamed to 'ensure_all_finite' in 1.6 and will be removed in 1.8.\n",
      "  warnings.warn(\n"
     ]
    },
    {
     "name": "stdout",
     "output_type": "stream",
     "text": [
      "Los índices de df_real y dfcorpus están alineados correctamente.\n",
      "Todas las preguntas coinciden entre df y dfcorpus.\n"
     ]
    },
    {
     "name": "stderr",
     "output_type": "stream",
     "text": [
      "2025-05-11 16:32:14,135 - INFO - Silhouette Score: 0.612\n",
      "/Users/thesportydar/local_dev/reis-app/src/lib/report/.venv/lib/python3.13/site-packages/sklearn/utils/deprecation.py:151: FutureWarning: 'force_all_finite' was renamed to 'ensure_all_finite' in 1.6 and will be removed in 1.8.\n",
      "  warnings.warn(\n"
     ]
    },
    {
     "name": "stdout",
     "output_type": "stream",
     "text": [
      "Los índices de df_real y dfcorpus están alineados correctamente.\n",
      "Todas las preguntas coinciden entre df y dfcorpus.\n"
     ]
    },
    {
     "name": "stderr",
     "output_type": "stream",
     "text": [
      "2025-05-11 16:32:14,373 - INFO - Silhouette Score: 0.462\n",
      "/Users/thesportydar/local_dev/reis-app/src/lib/report/.venv/lib/python3.13/site-packages/sklearn/utils/deprecation.py:151: FutureWarning: 'force_all_finite' was renamed to 'ensure_all_finite' in 1.6 and will be removed in 1.8.\n",
      "  warnings.warn(\n"
     ]
    },
    {
     "name": "stdout",
     "output_type": "stream",
     "text": [
      "Los índices de df_real y dfcorpus están alineados correctamente.\n",
      "Todas las preguntas coinciden entre df y dfcorpus.\n"
     ]
    },
    {
     "name": "stderr",
     "output_type": "stream",
     "text": [
      "2025-05-11 16:32:14,605 - INFO - Silhouette Score: 0.579\n",
      "/Users/thesportydar/local_dev/reis-app/src/lib/report/.venv/lib/python3.13/site-packages/sklearn/utils/deprecation.py:151: FutureWarning: 'force_all_finite' was renamed to 'ensure_all_finite' in 1.6 and will be removed in 1.8.\n",
      "  warnings.warn(\n"
     ]
    },
    {
     "name": "stdout",
     "output_type": "stream",
     "text": [
      "Los índices de df_real y dfcorpus están alineados correctamente.\n",
      "Todas las preguntas coinciden entre df y dfcorpus.\n"
     ]
    },
    {
     "name": "stderr",
     "output_type": "stream",
     "text": [
      "2025-05-11 16:32:14,842 - INFO - Silhouette Score: 0.670\n",
      "/Users/thesportydar/local_dev/reis-app/src/lib/report/.venv/lib/python3.13/site-packages/sklearn/utils/deprecation.py:151: FutureWarning: 'force_all_finite' was renamed to 'ensure_all_finite' in 1.6 and will be removed in 1.8.\n",
      "  warnings.warn(\n"
     ]
    },
    {
     "name": "stdout",
     "output_type": "stream",
     "text": [
      "Los índices de df_real y dfcorpus están alineados correctamente.\n",
      "Todas las preguntas coinciden entre df y dfcorpus.\n"
     ]
    },
    {
     "name": "stderr",
     "output_type": "stream",
     "text": [
      "2025-05-11 16:32:15,087 - INFO - Silhouette Score: 0.627\n",
      "/Users/thesportydar/local_dev/reis-app/src/lib/report/.venv/lib/python3.13/site-packages/sklearn/utils/deprecation.py:151: FutureWarning: 'force_all_finite' was renamed to 'ensure_all_finite' in 1.6 and will be removed in 1.8.\n",
      "  warnings.warn(\n"
     ]
    },
    {
     "name": "stdout",
     "output_type": "stream",
     "text": [
      "Los índices de df_real y dfcorpus están alineados correctamente.\n",
      "Todas las preguntas coinciden entre df y dfcorpus.\n"
     ]
    },
    {
     "name": "stderr",
     "output_type": "stream",
     "text": [
      "2025-05-11 16:32:15,325 - INFO - Silhouette Score: 0.680\n",
      "/Users/thesportydar/local_dev/reis-app/src/lib/report/.venv/lib/python3.13/site-packages/sklearn/utils/deprecation.py:151: FutureWarning: 'force_all_finite' was renamed to 'ensure_all_finite' in 1.6 and will be removed in 1.8.\n",
      "  warnings.warn(\n"
     ]
    },
    {
     "name": "stdout",
     "output_type": "stream",
     "text": [
      "Los índices de df_real y dfcorpus están alineados correctamente.\n",
      "Todas las preguntas coinciden entre df y dfcorpus.\n"
     ]
    },
    {
     "name": "stderr",
     "output_type": "stream",
     "text": [
      "2025-05-11 16:32:15,603 - INFO - Silhouette Score: 0.681\n",
      "/Users/thesportydar/local_dev/reis-app/src/lib/report/.venv/lib/python3.13/site-packages/sklearn/utils/deprecation.py:151: FutureWarning: 'force_all_finite' was renamed to 'ensure_all_finite' in 1.6 and will be removed in 1.8.\n",
      "  warnings.warn(\n"
     ]
    },
    {
     "name": "stdout",
     "output_type": "stream",
     "text": [
      "Los índices de df_real y dfcorpus están alineados correctamente.\n",
      "Todas las preguntas coinciden entre df y dfcorpus.\n"
     ]
    },
    {
     "name": "stderr",
     "output_type": "stream",
     "text": [
      "2025-05-11 16:32:15,844 - INFO - Silhouette Score: 0.645\n",
      "/Users/thesportydar/local_dev/reis-app/src/lib/report/.venv/lib/python3.13/site-packages/sklearn/utils/deprecation.py:151: FutureWarning: 'force_all_finite' was renamed to 'ensure_all_finite' in 1.6 and will be removed in 1.8.\n",
      "  warnings.warn(\n"
     ]
    },
    {
     "name": "stdout",
     "output_type": "stream",
     "text": [
      "Los índices de df_real y dfcorpus están alineados correctamente.\n",
      "Todas las preguntas coinciden entre df y dfcorpus.\n"
     ]
    },
    {
     "name": "stderr",
     "output_type": "stream",
     "text": [
      "2025-05-11 16:32:16,086 - INFO - Silhouette Score: 0.606\n",
      "/Users/thesportydar/local_dev/reis-app/src/lib/report/.venv/lib/python3.13/site-packages/sklearn/utils/deprecation.py:151: FutureWarning: 'force_all_finite' was renamed to 'ensure_all_finite' in 1.6 and will be removed in 1.8.\n",
      "  warnings.warn(\n"
     ]
    },
    {
     "name": "stdout",
     "output_type": "stream",
     "text": [
      "Los índices de df_real y dfcorpus están alineados correctamente.\n",
      "Todas las preguntas coinciden entre df y dfcorpus.\n"
     ]
    },
    {
     "name": "stderr",
     "output_type": "stream",
     "text": [
      "2025-05-11 16:32:16,329 - INFO - Silhouette Score: 0.657\n",
      "/Users/thesportydar/local_dev/reis-app/src/lib/report/.venv/lib/python3.13/site-packages/sklearn/utils/deprecation.py:151: FutureWarning: 'force_all_finite' was renamed to 'ensure_all_finite' in 1.6 and will be removed in 1.8.\n",
      "  warnings.warn(\n"
     ]
    },
    {
     "name": "stdout",
     "output_type": "stream",
     "text": [
      "Los índices de df_real y dfcorpus están alineados correctamente.\n",
      "Todas las preguntas coinciden entre df y dfcorpus.\n"
     ]
    },
    {
     "name": "stderr",
     "output_type": "stream",
     "text": [
      "2025-05-11 16:32:16,567 - INFO - Silhouette Score: 0.623\n",
      "/Users/thesportydar/local_dev/reis-app/src/lib/report/.venv/lib/python3.13/site-packages/sklearn/utils/deprecation.py:151: FutureWarning: 'force_all_finite' was renamed to 'ensure_all_finite' in 1.6 and will be removed in 1.8.\n",
      "  warnings.warn(\n"
     ]
    },
    {
     "name": "stdout",
     "output_type": "stream",
     "text": [
      "Los índices de df_real y dfcorpus están alineados correctamente.\n",
      "Todas las preguntas coinciden entre df y dfcorpus.\n"
     ]
    },
    {
     "name": "stderr",
     "output_type": "stream",
     "text": [
      "2025-05-11 16:32:16,808 - INFO - Silhouette Score: 0.624\n",
      "/Users/thesportydar/local_dev/reis-app/src/lib/report/.venv/lib/python3.13/site-packages/sklearn/utils/deprecation.py:151: FutureWarning: 'force_all_finite' was renamed to 'ensure_all_finite' in 1.6 and will be removed in 1.8.\n",
      "  warnings.warn(\n"
     ]
    },
    {
     "name": "stdout",
     "output_type": "stream",
     "text": [
      "Los índices de df_real y dfcorpus están alineados correctamente.\n",
      "Todas las preguntas coinciden entre df y dfcorpus.\n"
     ]
    },
    {
     "name": "stderr",
     "output_type": "stream",
     "text": [
      "2025-05-11 16:32:17,081 - INFO - Silhouette Score: 0.675\n",
      "/Users/thesportydar/local_dev/reis-app/src/lib/report/.venv/lib/python3.13/site-packages/sklearn/utils/deprecation.py:151: FutureWarning: 'force_all_finite' was renamed to 'ensure_all_finite' in 1.6 and will be removed in 1.8.\n",
      "  warnings.warn(\n"
     ]
    },
    {
     "name": "stdout",
     "output_type": "stream",
     "text": [
      "Los índices de df_real y dfcorpus están alineados correctamente.\n",
      "Todas las preguntas coinciden entre df y dfcorpus.\n"
     ]
    },
    {
     "name": "stderr",
     "output_type": "stream",
     "text": [
      "2025-05-11 16:32:17,356 - INFO - Silhouette Score: 0.656\n",
      "/Users/thesportydar/local_dev/reis-app/src/lib/report/.venv/lib/python3.13/site-packages/sklearn/utils/deprecation.py:151: FutureWarning: 'force_all_finite' was renamed to 'ensure_all_finite' in 1.6 and will be removed in 1.8.\n",
      "  warnings.warn(\n"
     ]
    },
    {
     "name": "stdout",
     "output_type": "stream",
     "text": [
      "Los índices de df_real y dfcorpus están alineados correctamente.\n",
      "Todas las preguntas coinciden entre df y dfcorpus.\n"
     ]
    },
    {
     "name": "stderr",
     "output_type": "stream",
     "text": [
      "2025-05-11 16:32:17,595 - INFO - Silhouette Score: 0.687\n",
      "/Users/thesportydar/local_dev/reis-app/src/lib/report/.venv/lib/python3.13/site-packages/sklearn/utils/deprecation.py:151: FutureWarning: 'force_all_finite' was renamed to 'ensure_all_finite' in 1.6 and will be removed in 1.8.\n",
      "  warnings.warn(\n"
     ]
    },
    {
     "name": "stdout",
     "output_type": "stream",
     "text": [
      "Los índices de df_real y dfcorpus están alineados correctamente.\n",
      "Todas las preguntas coinciden entre df y dfcorpus.\n"
     ]
    },
    {
     "name": "stderr",
     "output_type": "stream",
     "text": [
      "2025-05-11 16:32:17,831 - INFO - Silhouette Score: 0.670\n",
      "/Users/thesportydar/local_dev/reis-app/src/lib/report/.venv/lib/python3.13/site-packages/sklearn/utils/deprecation.py:151: FutureWarning: 'force_all_finite' was renamed to 'ensure_all_finite' in 1.6 and will be removed in 1.8.\n",
      "  warnings.warn(\n"
     ]
    },
    {
     "name": "stdout",
     "output_type": "stream",
     "text": [
      "Los índices de df_real y dfcorpus están alineados correctamente.\n",
      "Todas las preguntas coinciden entre df y dfcorpus.\n"
     ]
    },
    {
     "name": "stderr",
     "output_type": "stream",
     "text": [
      "2025-05-11 16:32:18,070 - INFO - Silhouette Score: 0.592\n",
      "/Users/thesportydar/local_dev/reis-app/src/lib/report/.venv/lib/python3.13/site-packages/sklearn/utils/deprecation.py:151: FutureWarning: 'force_all_finite' was renamed to 'ensure_all_finite' in 1.6 and will be removed in 1.8.\n",
      "  warnings.warn(\n"
     ]
    },
    {
     "name": "stdout",
     "output_type": "stream",
     "text": [
      "Los índices de df_real y dfcorpus están alineados correctamente.\n",
      "Todas las preguntas coinciden entre df y dfcorpus.\n"
     ]
    },
    {
     "name": "stderr",
     "output_type": "stream",
     "text": [
      "2025-05-11 16:32:18,305 - INFO - Silhouette Score: 0.704\n",
      "/Users/thesportydar/local_dev/reis-app/src/lib/report/.venv/lib/python3.13/site-packages/sklearn/utils/deprecation.py:151: FutureWarning: 'force_all_finite' was renamed to 'ensure_all_finite' in 1.6 and will be removed in 1.8.\n",
      "  warnings.warn(\n"
     ]
    },
    {
     "name": "stdout",
     "output_type": "stream",
     "text": [
      "Los índices de df_real y dfcorpus están alineados correctamente.\n",
      "Todas las preguntas coinciden entre df y dfcorpus.\n"
     ]
    },
    {
     "name": "stderr",
     "output_type": "stream",
     "text": [
      "2025-05-11 16:32:18,549 - INFO - Silhouette Score: 0.624\n",
      "/Users/thesportydar/local_dev/reis-app/src/lib/report/.venv/lib/python3.13/site-packages/sklearn/utils/deprecation.py:151: FutureWarning: 'force_all_finite' was renamed to 'ensure_all_finite' in 1.6 and will be removed in 1.8.\n",
      "  warnings.warn(\n"
     ]
    },
    {
     "name": "stdout",
     "output_type": "stream",
     "text": [
      "Los índices de df_real y dfcorpus están alineados correctamente.\n",
      "Todas las preguntas coinciden entre df y dfcorpus.\n"
     ]
    },
    {
     "name": "stderr",
     "output_type": "stream",
     "text": [
      "2025-05-11 16:32:18,788 - INFO - Silhouette Score: 0.706\n",
      "/Users/thesportydar/local_dev/reis-app/src/lib/report/.venv/lib/python3.13/site-packages/sklearn/utils/deprecation.py:151: FutureWarning: 'force_all_finite' was renamed to 'ensure_all_finite' in 1.6 and will be removed in 1.8.\n",
      "  warnings.warn(\n"
     ]
    },
    {
     "name": "stdout",
     "output_type": "stream",
     "text": [
      "Los índices de df_real y dfcorpus están alineados correctamente.\n",
      "Todas las preguntas coinciden entre df y dfcorpus.\n"
     ]
    },
    {
     "name": "stderr",
     "output_type": "stream",
     "text": [
      "2025-05-11 16:32:19,065 - INFO - Silhouette Score: 0.659\n",
      "/Users/thesportydar/local_dev/reis-app/src/lib/report/.venv/lib/python3.13/site-packages/sklearn/utils/deprecation.py:151: FutureWarning: 'force_all_finite' was renamed to 'ensure_all_finite' in 1.6 and will be removed in 1.8.\n",
      "  warnings.warn(\n"
     ]
    },
    {
     "name": "stdout",
     "output_type": "stream",
     "text": [
      "Los índices de df_real y dfcorpus están alineados correctamente.\n",
      "Todas las preguntas coinciden entre df y dfcorpus.\n"
     ]
    },
    {
     "name": "stderr",
     "output_type": "stream",
     "text": [
      "2025-05-11 16:32:19,306 - INFO - Silhouette Score: 0.606\n",
      "/Users/thesportydar/local_dev/reis-app/src/lib/report/.venv/lib/python3.13/site-packages/sklearn/utils/deprecation.py:151: FutureWarning: 'force_all_finite' was renamed to 'ensure_all_finite' in 1.6 and will be removed in 1.8.\n",
      "  warnings.warn(\n"
     ]
    },
    {
     "name": "stdout",
     "output_type": "stream",
     "text": [
      "Los índices de df_real y dfcorpus están alineados correctamente.\n",
      "Todas las preguntas coinciden entre df y dfcorpus.\n"
     ]
    },
    {
     "name": "stderr",
     "output_type": "stream",
     "text": [
      "2025-05-11 16:32:19,555 - INFO - Silhouette Score: 0.666\n",
      "/Users/thesportydar/local_dev/reis-app/src/lib/report/.venv/lib/python3.13/site-packages/sklearn/utils/deprecation.py:151: FutureWarning: 'force_all_finite' was renamed to 'ensure_all_finite' in 1.6 and will be removed in 1.8.\n",
      "  warnings.warn(\n"
     ]
    },
    {
     "name": "stdout",
     "output_type": "stream",
     "text": [
      "Los índices de df_real y dfcorpus están alineados correctamente.\n",
      "Todas las preguntas coinciden entre df y dfcorpus.\n"
     ]
    },
    {
     "name": "stderr",
     "output_type": "stream",
     "text": [
      "2025-05-11 16:32:19,803 - INFO - Silhouette Score: 0.602\n",
      "/Users/thesportydar/local_dev/reis-app/src/lib/report/.venv/lib/python3.13/site-packages/sklearn/utils/deprecation.py:151: FutureWarning: 'force_all_finite' was renamed to 'ensure_all_finite' in 1.6 and will be removed in 1.8.\n",
      "  warnings.warn(\n"
     ]
    },
    {
     "name": "stdout",
     "output_type": "stream",
     "text": [
      "Los índices de df_real y dfcorpus están alineados correctamente.\n",
      "Todas las preguntas coinciden entre df y dfcorpus.\n"
     ]
    },
    {
     "name": "stderr",
     "output_type": "stream",
     "text": [
      "2025-05-11 16:32:20,043 - INFO - Silhouette Score: 0.681\n",
      "/Users/thesportydar/local_dev/reis-app/src/lib/report/.venv/lib/python3.13/site-packages/sklearn/utils/deprecation.py:151: FutureWarning: 'force_all_finite' was renamed to 'ensure_all_finite' in 1.6 and will be removed in 1.8.\n",
      "  warnings.warn(\n"
     ]
    },
    {
     "name": "stdout",
     "output_type": "stream",
     "text": [
      "Los índices de df_real y dfcorpus están alineados correctamente.\n",
      "Todas las preguntas coinciden entre df y dfcorpus.\n"
     ]
    },
    {
     "name": "stderr",
     "output_type": "stream",
     "text": [
      "2025-05-11 16:32:20,316 - INFO - Silhouette Score: 0.650\n",
      "/Users/thesportydar/local_dev/reis-app/src/lib/report/.venv/lib/python3.13/site-packages/sklearn/utils/deprecation.py:151: FutureWarning: 'force_all_finite' was renamed to 'ensure_all_finite' in 1.6 and will be removed in 1.8.\n",
      "  warnings.warn(\n"
     ]
    },
    {
     "name": "stdout",
     "output_type": "stream",
     "text": [
      "Los índices de df_real y dfcorpus están alineados correctamente.\n",
      "Todas las preguntas coinciden entre df y dfcorpus.\n"
     ]
    },
    {
     "name": "stderr",
     "output_type": "stream",
     "text": [
      "2025-05-11 16:32:20,562 - INFO - Silhouette Score: 0.653\n",
      "/Users/thesportydar/local_dev/reis-app/src/lib/report/.venv/lib/python3.13/site-packages/sklearn/utils/deprecation.py:151: FutureWarning: 'force_all_finite' was renamed to 'ensure_all_finite' in 1.6 and will be removed in 1.8.\n",
      "  warnings.warn(\n"
     ]
    },
    {
     "name": "stdout",
     "output_type": "stream",
     "text": [
      "Los índices de df_real y dfcorpus están alineados correctamente.\n",
      "Todas las preguntas coinciden entre df y dfcorpus.\n"
     ]
    },
    {
     "name": "stderr",
     "output_type": "stream",
     "text": [
      "2025-05-11 16:32:20,839 - INFO - Silhouette Score: 0.709\n",
      "/Users/thesportydar/local_dev/reis-app/src/lib/report/.venv/lib/python3.13/site-packages/sklearn/utils/deprecation.py:151: FutureWarning: 'force_all_finite' was renamed to 'ensure_all_finite' in 1.6 and will be removed in 1.8.\n",
      "  warnings.warn(\n"
     ]
    },
    {
     "name": "stdout",
     "output_type": "stream",
     "text": [
      "Los índices de df_real y dfcorpus están alineados correctamente.\n",
      "Todas las preguntas coinciden entre df y dfcorpus.\n"
     ]
    },
    {
     "name": "stderr",
     "output_type": "stream",
     "text": [
      "2025-05-11 16:32:21,081 - INFO - Silhouette Score: 0.614\n",
      "/Users/thesportydar/local_dev/reis-app/src/lib/report/.venv/lib/python3.13/site-packages/sklearn/utils/deprecation.py:151: FutureWarning: 'force_all_finite' was renamed to 'ensure_all_finite' in 1.6 and will be removed in 1.8.\n",
      "  warnings.warn(\n"
     ]
    },
    {
     "name": "stdout",
     "output_type": "stream",
     "text": [
      "Los índices de df_real y dfcorpus están alineados correctamente.\n",
      "Todas las preguntas coinciden entre df y dfcorpus.\n"
     ]
    },
    {
     "name": "stderr",
     "output_type": "stream",
     "text": [
      "2025-05-11 16:32:21,324 - INFO - Silhouette Score: 0.623\n",
      "/Users/thesportydar/local_dev/reis-app/src/lib/report/.venv/lib/python3.13/site-packages/sklearn/utils/deprecation.py:151: FutureWarning: 'force_all_finite' was renamed to 'ensure_all_finite' in 1.6 and will be removed in 1.8.\n",
      "  warnings.warn(\n"
     ]
    },
    {
     "name": "stdout",
     "output_type": "stream",
     "text": [
      "Los índices de df_real y dfcorpus están alineados correctamente.\n",
      "Todas las preguntas coinciden entre df y dfcorpus.\n"
     ]
    },
    {
     "name": "stderr",
     "output_type": "stream",
     "text": [
      "2025-05-11 16:32:21,571 - INFO - Silhouette Score: 0.679\n",
      "/Users/thesportydar/local_dev/reis-app/src/lib/report/.venv/lib/python3.13/site-packages/sklearn/utils/deprecation.py:151: FutureWarning: 'force_all_finite' was renamed to 'ensure_all_finite' in 1.6 and will be removed in 1.8.\n",
      "  warnings.warn(\n"
     ]
    },
    {
     "name": "stdout",
     "output_type": "stream",
     "text": [
      "Los índices de df_real y dfcorpus están alineados correctamente.\n",
      "Todas las preguntas coinciden entre df y dfcorpus.\n"
     ]
    },
    {
     "name": "stderr",
     "output_type": "stream",
     "text": [
      "2025-05-11 16:32:21,822 - INFO - Silhouette Score: 0.673\n",
      "/Users/thesportydar/local_dev/reis-app/src/lib/report/.venv/lib/python3.13/site-packages/sklearn/utils/deprecation.py:151: FutureWarning: 'force_all_finite' was renamed to 'ensure_all_finite' in 1.6 and will be removed in 1.8.\n",
      "  warnings.warn(\n"
     ]
    },
    {
     "name": "stdout",
     "output_type": "stream",
     "text": [
      "Los índices de df_real y dfcorpus están alineados correctamente.\n",
      "Todas las preguntas coinciden entre df y dfcorpus.\n"
     ]
    },
    {
     "name": "stderr",
     "output_type": "stream",
     "text": [
      "2025-05-11 16:32:22,072 - INFO - Silhouette Score: 0.656\n",
      "/Users/thesportydar/local_dev/reis-app/src/lib/report/.venv/lib/python3.13/site-packages/sklearn/utils/deprecation.py:151: FutureWarning: 'force_all_finite' was renamed to 'ensure_all_finite' in 1.6 and will be removed in 1.8.\n",
      "  warnings.warn(\n"
     ]
    },
    {
     "name": "stdout",
     "output_type": "stream",
     "text": [
      "Los índices de df_real y dfcorpus están alineados correctamente.\n",
      "Todas las preguntas coinciden entre df y dfcorpus.\n"
     ]
    },
    {
     "name": "stderr",
     "output_type": "stream",
     "text": [
      "2025-05-11 16:32:22,308 - INFO - Silhouette Score: 0.624\n",
      "/Users/thesportydar/local_dev/reis-app/src/lib/report/.venv/lib/python3.13/site-packages/sklearn/utils/deprecation.py:151: FutureWarning: 'force_all_finite' was renamed to 'ensure_all_finite' in 1.6 and will be removed in 1.8.\n",
      "  warnings.warn(\n"
     ]
    },
    {
     "name": "stdout",
     "output_type": "stream",
     "text": [
      "Los índices de df_real y dfcorpus están alineados correctamente.\n",
      "Todas las preguntas coinciden entre df y dfcorpus.\n"
     ]
    },
    {
     "name": "stderr",
     "output_type": "stream",
     "text": [
      "2025-05-11 16:32:22,558 - INFO - Silhouette Score: 0.637\n",
      "/Users/thesportydar/local_dev/reis-app/src/lib/report/.venv/lib/python3.13/site-packages/sklearn/utils/deprecation.py:151: FutureWarning: 'force_all_finite' was renamed to 'ensure_all_finite' in 1.6 and will be removed in 1.8.\n",
      "  warnings.warn(\n"
     ]
    },
    {
     "name": "stdout",
     "output_type": "stream",
     "text": [
      "Los índices de df_real y dfcorpus están alineados correctamente.\n",
      "Todas las preguntas coinciden entre df y dfcorpus.\n"
     ]
    },
    {
     "name": "stderr",
     "output_type": "stream",
     "text": [
      "2025-05-11 16:32:22,799 - INFO - Silhouette Score: 0.666\n",
      "/Users/thesportydar/local_dev/reis-app/src/lib/report/.venv/lib/python3.13/site-packages/sklearn/utils/deprecation.py:151: FutureWarning: 'force_all_finite' was renamed to 'ensure_all_finite' in 1.6 and will be removed in 1.8.\n",
      "  warnings.warn(\n"
     ]
    },
    {
     "name": "stdout",
     "output_type": "stream",
     "text": [
      "Los índices de df_real y dfcorpus están alineados correctamente.\n",
      "Todas las preguntas coinciden entre df y dfcorpus.\n"
     ]
    },
    {
     "name": "stderr",
     "output_type": "stream",
     "text": [
      "2025-05-11 16:32:23,061 - INFO - Silhouette Score: 0.650\n",
      "/Users/thesportydar/local_dev/reis-app/src/lib/report/.venv/lib/python3.13/site-packages/sklearn/utils/deprecation.py:151: FutureWarning: 'force_all_finite' was renamed to 'ensure_all_finite' in 1.6 and will be removed in 1.8.\n",
      "  warnings.warn(\n"
     ]
    },
    {
     "name": "stdout",
     "output_type": "stream",
     "text": [
      "Los índices de df_real y dfcorpus están alineados correctamente.\n",
      "Todas las preguntas coinciden entre df y dfcorpus.\n"
     ]
    },
    {
     "name": "stderr",
     "output_type": "stream",
     "text": [
      "2025-05-11 16:32:23,328 - INFO - Silhouette Score: 0.653\n",
      "/Users/thesportydar/local_dev/reis-app/src/lib/report/.venv/lib/python3.13/site-packages/sklearn/utils/deprecation.py:151: FutureWarning: 'force_all_finite' was renamed to 'ensure_all_finite' in 1.6 and will be removed in 1.8.\n",
      "  warnings.warn(\n"
     ]
    },
    {
     "name": "stdout",
     "output_type": "stream",
     "text": [
      "Los índices de df_real y dfcorpus están alineados correctamente.\n",
      "Todas las preguntas coinciden entre df y dfcorpus.\n"
     ]
    },
    {
     "name": "stderr",
     "output_type": "stream",
     "text": [
      "2025-05-11 16:32:23,572 - INFO - Silhouette Score: 0.599\n",
      "/Users/thesportydar/local_dev/reis-app/src/lib/report/.venv/lib/python3.13/site-packages/sklearn/utils/deprecation.py:151: FutureWarning: 'force_all_finite' was renamed to 'ensure_all_finite' in 1.6 and will be removed in 1.8.\n",
      "  warnings.warn(\n"
     ]
    },
    {
     "name": "stdout",
     "output_type": "stream",
     "text": [
      "Los índices de df_real y dfcorpus están alineados correctamente.\n",
      "Todas las preguntas coinciden entre df y dfcorpus.\n"
     ]
    },
    {
     "name": "stderr",
     "output_type": "stream",
     "text": [
      "2025-05-11 16:32:23,821 - INFO - Silhouette Score: 0.683\n",
      "/Users/thesportydar/local_dev/reis-app/src/lib/report/.venv/lib/python3.13/site-packages/sklearn/utils/deprecation.py:151: FutureWarning: 'force_all_finite' was renamed to 'ensure_all_finite' in 1.6 and will be removed in 1.8.\n",
      "  warnings.warn(\n"
     ]
    },
    {
     "name": "stdout",
     "output_type": "stream",
     "text": [
      "Los índices de df_real y dfcorpus están alineados correctamente.\n",
      "Todas las preguntas coinciden entre df y dfcorpus.\n"
     ]
    },
    {
     "name": "stderr",
     "output_type": "stream",
     "text": [
      "2025-05-11 16:32:24,067 - INFO - Silhouette Score: 0.631\n",
      "/Users/thesportydar/local_dev/reis-app/src/lib/report/.venv/lib/python3.13/site-packages/sklearn/utils/deprecation.py:151: FutureWarning: 'force_all_finite' was renamed to 'ensure_all_finite' in 1.6 and will be removed in 1.8.\n",
      "  warnings.warn(\n"
     ]
    },
    {
     "name": "stdout",
     "output_type": "stream",
     "text": [
      "Los índices de df_real y dfcorpus están alineados correctamente.\n",
      "Todas las preguntas coinciden entre df y dfcorpus.\n"
     ]
    },
    {
     "name": "stderr",
     "output_type": "stream",
     "text": [
      "2025-05-11 16:32:24,314 - INFO - Silhouette Score: 0.607\n",
      "/Users/thesportydar/local_dev/reis-app/src/lib/report/.venv/lib/python3.13/site-packages/sklearn/utils/deprecation.py:151: FutureWarning: 'force_all_finite' was renamed to 'ensure_all_finite' in 1.6 and will be removed in 1.8.\n",
      "  warnings.warn(\n"
     ]
    },
    {
     "name": "stdout",
     "output_type": "stream",
     "text": [
      "Los índices de df_real y dfcorpus están alineados correctamente.\n",
      "Todas las preguntas coinciden entre df y dfcorpus.\n"
     ]
    },
    {
     "name": "stderr",
     "output_type": "stream",
     "text": [
      "2025-05-11 16:32:24,559 - INFO - Silhouette Score: 0.711\n",
      "/Users/thesportydar/local_dev/reis-app/src/lib/report/.venv/lib/python3.13/site-packages/sklearn/utils/deprecation.py:151: FutureWarning: 'force_all_finite' was renamed to 'ensure_all_finite' in 1.6 and will be removed in 1.8.\n",
      "  warnings.warn(\n"
     ]
    },
    {
     "name": "stdout",
     "output_type": "stream",
     "text": [
      "Los índices de df_real y dfcorpus están alineados correctamente.\n",
      "Todas las preguntas coinciden entre df y dfcorpus.\n"
     ]
    },
    {
     "name": "stderr",
     "output_type": "stream",
     "text": [
      "2025-05-11 16:32:24,836 - INFO - Silhouette Score: 0.575\n",
      "/Users/thesportydar/local_dev/reis-app/src/lib/report/.venv/lib/python3.13/site-packages/sklearn/utils/deprecation.py:151: FutureWarning: 'force_all_finite' was renamed to 'ensure_all_finite' in 1.6 and will be removed in 1.8.\n",
      "  warnings.warn(\n"
     ]
    },
    {
     "name": "stdout",
     "output_type": "stream",
     "text": [
      "Los índices de df_real y dfcorpus están alineados correctamente.\n",
      "Todas las preguntas coinciden entre df y dfcorpus.\n"
     ]
    },
    {
     "name": "stderr",
     "output_type": "stream",
     "text": [
      "2025-05-11 16:32:25,084 - INFO - Silhouette Score: 0.589\n",
      "/Users/thesportydar/local_dev/reis-app/src/lib/report/.venv/lib/python3.13/site-packages/sklearn/utils/deprecation.py:151: FutureWarning: 'force_all_finite' was renamed to 'ensure_all_finite' in 1.6 and will be removed in 1.8.\n",
      "  warnings.warn(\n"
     ]
    },
    {
     "name": "stdout",
     "output_type": "stream",
     "text": [
      "Los índices de df_real y dfcorpus están alineados correctamente.\n",
      "Todas las preguntas coinciden entre df y dfcorpus.\n"
     ]
    },
    {
     "name": "stderr",
     "output_type": "stream",
     "text": [
      "2025-05-11 16:32:25,343 - INFO - Silhouette Score: 0.646\n",
      "/Users/thesportydar/local_dev/reis-app/src/lib/report/.venv/lib/python3.13/site-packages/sklearn/utils/deprecation.py:151: FutureWarning: 'force_all_finite' was renamed to 'ensure_all_finite' in 1.6 and will be removed in 1.8.\n",
      "  warnings.warn(\n"
     ]
    },
    {
     "name": "stdout",
     "output_type": "stream",
     "text": [
      "Los índices de df_real y dfcorpus están alineados correctamente.\n",
      "Todas las preguntas coinciden entre df y dfcorpus.\n"
     ]
    },
    {
     "name": "stderr",
     "output_type": "stream",
     "text": [
      "2025-05-11 16:32:25,592 - INFO - Silhouette Score: 0.670\n",
      "/Users/thesportydar/local_dev/reis-app/src/lib/report/.venv/lib/python3.13/site-packages/sklearn/utils/deprecation.py:151: FutureWarning: 'force_all_finite' was renamed to 'ensure_all_finite' in 1.6 and will be removed in 1.8.\n",
      "  warnings.warn(\n"
     ]
    },
    {
     "name": "stdout",
     "output_type": "stream",
     "text": [
      "Los índices de df_real y dfcorpus están alineados correctamente.\n",
      "Todas las preguntas coinciden entre df y dfcorpus.\n"
     ]
    },
    {
     "name": "stderr",
     "output_type": "stream",
     "text": [
      "2025-05-11 16:32:25,843 - INFO - Silhouette Score: 0.683\n",
      "/Users/thesportydar/local_dev/reis-app/src/lib/report/.venv/lib/python3.13/site-packages/sklearn/utils/deprecation.py:151: FutureWarning: 'force_all_finite' was renamed to 'ensure_all_finite' in 1.6 and will be removed in 1.8.\n",
      "  warnings.warn(\n"
     ]
    },
    {
     "name": "stdout",
     "output_type": "stream",
     "text": [
      "Los índices de df_real y dfcorpus están alineados correctamente.\n",
      "Todas las preguntas coinciden entre df y dfcorpus.\n"
     ]
    },
    {
     "name": "stderr",
     "output_type": "stream",
     "text": [
      "2025-05-11 16:32:26,094 - INFO - Silhouette Score: 0.668\n",
      "/Users/thesportydar/local_dev/reis-app/src/lib/report/.venv/lib/python3.13/site-packages/sklearn/utils/deprecation.py:151: FutureWarning: 'force_all_finite' was renamed to 'ensure_all_finite' in 1.6 and will be removed in 1.8.\n",
      "  warnings.warn(\n"
     ]
    },
    {
     "name": "stdout",
     "output_type": "stream",
     "text": [
      "Los índices de df_real y dfcorpus están alineados correctamente.\n",
      "Todas las preguntas coinciden entre df y dfcorpus.\n"
     ]
    },
    {
     "name": "stderr",
     "output_type": "stream",
     "text": [
      "2025-05-11 16:32:26,339 - INFO - Silhouette Score: 0.658\n",
      "/Users/thesportydar/local_dev/reis-app/src/lib/report/.venv/lib/python3.13/site-packages/sklearn/utils/deprecation.py:151: FutureWarning: 'force_all_finite' was renamed to 'ensure_all_finite' in 1.6 and will be removed in 1.8.\n",
      "  warnings.warn(\n"
     ]
    },
    {
     "name": "stdout",
     "output_type": "stream",
     "text": [
      "Los índices de df_real y dfcorpus están alineados correctamente.\n",
      "Todas las preguntas coinciden entre df y dfcorpus.\n"
     ]
    },
    {
     "name": "stderr",
     "output_type": "stream",
     "text": [
      "2025-05-11 16:32:26,610 - INFO - Silhouette Score: 0.565\n",
      "/Users/thesportydar/local_dev/reis-app/src/lib/report/.venv/lib/python3.13/site-packages/sklearn/utils/deprecation.py:151: FutureWarning: 'force_all_finite' was renamed to 'ensure_all_finite' in 1.6 and will be removed in 1.8.\n",
      "  warnings.warn(\n"
     ]
    },
    {
     "name": "stdout",
     "output_type": "stream",
     "text": [
      "Los índices de df_real y dfcorpus están alineados correctamente.\n",
      "Todas las preguntas coinciden entre df y dfcorpus.\n"
     ]
    },
    {
     "name": "stderr",
     "output_type": "stream",
     "text": [
      "2025-05-11 16:32:26,858 - INFO - Silhouette Score: 0.676\n",
      "/Users/thesportydar/local_dev/reis-app/src/lib/report/.venv/lib/python3.13/site-packages/sklearn/utils/deprecation.py:151: FutureWarning: 'force_all_finite' was renamed to 'ensure_all_finite' in 1.6 and will be removed in 1.8.\n",
      "  warnings.warn(\n"
     ]
    },
    {
     "name": "stdout",
     "output_type": "stream",
     "text": [
      "Los índices de df_real y dfcorpus están alineados correctamente.\n",
      "Todas las preguntas coinciden entre df y dfcorpus.\n"
     ]
    },
    {
     "name": "stderr",
     "output_type": "stream",
     "text": [
      "2025-05-11 16:32:27,112 - INFO - Silhouette Score: 0.708\n",
      "/Users/thesportydar/local_dev/reis-app/src/lib/report/.venv/lib/python3.13/site-packages/sklearn/utils/deprecation.py:151: FutureWarning: 'force_all_finite' was renamed to 'ensure_all_finite' in 1.6 and will be removed in 1.8.\n",
      "  warnings.warn(\n"
     ]
    },
    {
     "name": "stdout",
     "output_type": "stream",
     "text": [
      "Los índices de df_real y dfcorpus están alineados correctamente.\n",
      "Todas las preguntas coinciden entre df y dfcorpus.\n"
     ]
    },
    {
     "name": "stderr",
     "output_type": "stream",
     "text": [
      "2025-05-11 16:32:27,359 - INFO - Silhouette Score: 0.670\n",
      "/Users/thesportydar/local_dev/reis-app/src/lib/report/.venv/lib/python3.13/site-packages/sklearn/utils/deprecation.py:151: FutureWarning: 'force_all_finite' was renamed to 'ensure_all_finite' in 1.6 and will be removed in 1.8.\n",
      "  warnings.warn(\n"
     ]
    },
    {
     "name": "stdout",
     "output_type": "stream",
     "text": [
      "Los índices de df_real y dfcorpus están alineados correctamente.\n",
      "Todas las preguntas coinciden entre df y dfcorpus.\n"
     ]
    },
    {
     "name": "stderr",
     "output_type": "stream",
     "text": [
      "2025-05-11 16:32:27,612 - INFO - Silhouette Score: 0.687\n",
      "/Users/thesportydar/local_dev/reis-app/src/lib/report/.venv/lib/python3.13/site-packages/sklearn/utils/deprecation.py:151: FutureWarning: 'force_all_finite' was renamed to 'ensure_all_finite' in 1.6 and will be removed in 1.8.\n",
      "  warnings.warn(\n"
     ]
    },
    {
     "name": "stdout",
     "output_type": "stream",
     "text": [
      "Los índices de df_real y dfcorpus están alineados correctamente.\n",
      "Todas las preguntas coinciden entre df y dfcorpus.\n"
     ]
    },
    {
     "name": "stderr",
     "output_type": "stream",
     "text": [
      "2025-05-11 16:32:27,856 - INFO - Silhouette Score: 0.679\n",
      "/Users/thesportydar/local_dev/reis-app/src/lib/report/.venv/lib/python3.13/site-packages/sklearn/utils/deprecation.py:151: FutureWarning: 'force_all_finite' was renamed to 'ensure_all_finite' in 1.6 and will be removed in 1.8.\n",
      "  warnings.warn(\n"
     ]
    },
    {
     "name": "stdout",
     "output_type": "stream",
     "text": [
      "Los índices de df_real y dfcorpus están alineados correctamente.\n",
      "Todas las preguntas coinciden entre df y dfcorpus.\n"
     ]
    },
    {
     "name": "stderr",
     "output_type": "stream",
     "text": [
      "2025-05-11 16:32:28,137 - INFO - Silhouette Score: 0.626\n",
      "/Users/thesportydar/local_dev/reis-app/src/lib/report/.venv/lib/python3.13/site-packages/sklearn/utils/deprecation.py:151: FutureWarning: 'force_all_finite' was renamed to 'ensure_all_finite' in 1.6 and will be removed in 1.8.\n",
      "  warnings.warn(\n"
     ]
    },
    {
     "name": "stdout",
     "output_type": "stream",
     "text": [
      "Los índices de df_real y dfcorpus están alineados correctamente.\n",
      "Todas las preguntas coinciden entre df y dfcorpus.\n"
     ]
    },
    {
     "name": "stderr",
     "output_type": "stream",
     "text": [
      "2025-05-11 16:32:28,384 - INFO - Silhouette Score: 0.639\n",
      "/Users/thesportydar/local_dev/reis-app/src/lib/report/.venv/lib/python3.13/site-packages/sklearn/utils/deprecation.py:151: FutureWarning: 'force_all_finite' was renamed to 'ensure_all_finite' in 1.6 and will be removed in 1.8.\n",
      "  warnings.warn(\n"
     ]
    },
    {
     "name": "stdout",
     "output_type": "stream",
     "text": [
      "Los índices de df_real y dfcorpus están alineados correctamente.\n",
      "Todas las preguntas coinciden entre df y dfcorpus.\n"
     ]
    },
    {
     "name": "stderr",
     "output_type": "stream",
     "text": [
      "2025-05-11 16:32:28,631 - INFO - Silhouette Score: 0.508\n",
      "/Users/thesportydar/local_dev/reis-app/src/lib/report/.venv/lib/python3.13/site-packages/sklearn/utils/deprecation.py:151: FutureWarning: 'force_all_finite' was renamed to 'ensure_all_finite' in 1.6 and will be removed in 1.8.\n",
      "  warnings.warn(\n"
     ]
    },
    {
     "name": "stdout",
     "output_type": "stream",
     "text": [
      "Los índices de df_real y dfcorpus están alineados correctamente.\n",
      "Todas las preguntas coinciden entre df y dfcorpus.\n"
     ]
    },
    {
     "name": "stderr",
     "output_type": "stream",
     "text": [
      "2025-05-11 16:32:28,874 - INFO - Silhouette Score: 0.653\n",
      "/Users/thesportydar/local_dev/reis-app/src/lib/report/.venv/lib/python3.13/site-packages/sklearn/utils/deprecation.py:151: FutureWarning: 'force_all_finite' was renamed to 'ensure_all_finite' in 1.6 and will be removed in 1.8.\n",
      "  warnings.warn(\n"
     ]
    },
    {
     "name": "stdout",
     "output_type": "stream",
     "text": [
      "Los índices de df_real y dfcorpus están alineados correctamente.\n",
      "Todas las preguntas coinciden entre df y dfcorpus.\n"
     ]
    },
    {
     "name": "stderr",
     "output_type": "stream",
     "text": [
      "2025-05-11 16:32:29,159 - INFO - Silhouette Score: 0.632\n",
      "/Users/thesportydar/local_dev/reis-app/src/lib/report/.venv/lib/python3.13/site-packages/sklearn/utils/deprecation.py:151: FutureWarning: 'force_all_finite' was renamed to 'ensure_all_finite' in 1.6 and will be removed in 1.8.\n",
      "  warnings.warn(\n"
     ]
    },
    {
     "name": "stdout",
     "output_type": "stream",
     "text": [
      "Los índices de df_real y dfcorpus están alineados correctamente.\n",
      "Todas las preguntas coinciden entre df y dfcorpus.\n"
     ]
    },
    {
     "name": "stderr",
     "output_type": "stream",
     "text": [
      "2025-05-11 16:32:29,408 - INFO - Silhouette Score: 0.644\n",
      "/Users/thesportydar/local_dev/reis-app/src/lib/report/.venv/lib/python3.13/site-packages/sklearn/utils/deprecation.py:151: FutureWarning: 'force_all_finite' was renamed to 'ensure_all_finite' in 1.6 and will be removed in 1.8.\n",
      "  warnings.warn(\n"
     ]
    },
    {
     "name": "stdout",
     "output_type": "stream",
     "text": [
      "Los índices de df_real y dfcorpus están alineados correctamente.\n",
      "Todas las preguntas coinciden entre df y dfcorpus.\n"
     ]
    },
    {
     "name": "stderr",
     "output_type": "stream",
     "text": [
      "2025-05-11 16:32:29,656 - INFO - Silhouette Score: 0.709\n",
      "/Users/thesportydar/local_dev/reis-app/src/lib/report/.venv/lib/python3.13/site-packages/sklearn/utils/deprecation.py:151: FutureWarning: 'force_all_finite' was renamed to 'ensure_all_finite' in 1.6 and will be removed in 1.8.\n",
      "  warnings.warn(\n"
     ]
    },
    {
     "name": "stdout",
     "output_type": "stream",
     "text": [
      "Los índices de df_real y dfcorpus están alineados correctamente.\n",
      "Todas las preguntas coinciden entre df y dfcorpus.\n"
     ]
    },
    {
     "name": "stderr",
     "output_type": "stream",
     "text": [
      "2025-05-11 16:32:29,908 - INFO - Silhouette Score: 0.666\n",
      "/Users/thesportydar/local_dev/reis-app/src/lib/report/.venv/lib/python3.13/site-packages/sklearn/utils/deprecation.py:151: FutureWarning: 'force_all_finite' was renamed to 'ensure_all_finite' in 1.6 and will be removed in 1.8.\n",
      "  warnings.warn(\n"
     ]
    },
    {
     "name": "stdout",
     "output_type": "stream",
     "text": [
      "Los índices de df_real y dfcorpus están alineados correctamente.\n",
      "Todas las preguntas coinciden entre df y dfcorpus.\n"
     ]
    },
    {
     "name": "stderr",
     "output_type": "stream",
     "text": [
      "2025-05-11 16:32:30,155 - INFO - Silhouette Score: 0.693\n",
      "/Users/thesportydar/local_dev/reis-app/src/lib/report/.venv/lib/python3.13/site-packages/sklearn/utils/deprecation.py:151: FutureWarning: 'force_all_finite' was renamed to 'ensure_all_finite' in 1.6 and will be removed in 1.8.\n",
      "  warnings.warn(\n"
     ]
    },
    {
     "name": "stdout",
     "output_type": "stream",
     "text": [
      "Los índices de df_real y dfcorpus están alineados correctamente.\n",
      "Todas las preguntas coinciden entre df y dfcorpus.\n"
     ]
    },
    {
     "name": "stderr",
     "output_type": "stream",
     "text": [
      "2025-05-11 16:32:30,413 - INFO - Silhouette Score: 0.644\n",
      "/Users/thesportydar/local_dev/reis-app/src/lib/report/.venv/lib/python3.13/site-packages/sklearn/utils/deprecation.py:151: FutureWarning: 'force_all_finite' was renamed to 'ensure_all_finite' in 1.6 and will be removed in 1.8.\n",
      "  warnings.warn(\n"
     ]
    },
    {
     "name": "stdout",
     "output_type": "stream",
     "text": [
      "Los índices de df_real y dfcorpus están alineados correctamente.\n",
      "Todas las preguntas coinciden entre df y dfcorpus.\n"
     ]
    },
    {
     "name": "stderr",
     "output_type": "stream",
     "text": [
      "2025-05-11 16:32:30,688 - INFO - Silhouette Score: 0.663\n",
      "/Users/thesportydar/local_dev/reis-app/src/lib/report/.venv/lib/python3.13/site-packages/sklearn/utils/deprecation.py:151: FutureWarning: 'force_all_finite' was renamed to 'ensure_all_finite' in 1.6 and will be removed in 1.8.\n",
      "  warnings.warn(\n"
     ]
    },
    {
     "name": "stdout",
     "output_type": "stream",
     "text": [
      "Los índices de df_real y dfcorpus están alineados correctamente.\n",
      "Todas las preguntas coinciden entre df y dfcorpus.\n"
     ]
    },
    {
     "name": "stderr",
     "output_type": "stream",
     "text": [
      "2025-05-11 16:32:30,942 - INFO - Silhouette Score: 0.688\n",
      "/Users/thesportydar/local_dev/reis-app/src/lib/report/.venv/lib/python3.13/site-packages/sklearn/utils/deprecation.py:151: FutureWarning: 'force_all_finite' was renamed to 'ensure_all_finite' in 1.6 and will be removed in 1.8.\n",
      "  warnings.warn(\n"
     ]
    },
    {
     "name": "stdout",
     "output_type": "stream",
     "text": [
      "Los índices de df_real y dfcorpus están alineados correctamente.\n",
      "Todas las preguntas coinciden entre df y dfcorpus.\n"
     ]
    },
    {
     "name": "stderr",
     "output_type": "stream",
     "text": [
      "2025-05-11 16:32:31,197 - INFO - Silhouette Score: 0.639\n",
      "/Users/thesportydar/local_dev/reis-app/src/lib/report/.venv/lib/python3.13/site-packages/sklearn/utils/deprecation.py:151: FutureWarning: 'force_all_finite' was renamed to 'ensure_all_finite' in 1.6 and will be removed in 1.8.\n",
      "  warnings.warn(\n"
     ]
    },
    {
     "name": "stdout",
     "output_type": "stream",
     "text": [
      "Los índices de df_real y dfcorpus están alineados correctamente.\n",
      "Todas las preguntas coinciden entre df y dfcorpus.\n"
     ]
    },
    {
     "name": "stderr",
     "output_type": "stream",
     "text": [
      "2025-05-11 16:32:31,447 - INFO - Silhouette Score: 0.579\n",
      "/Users/thesportydar/local_dev/reis-app/src/lib/report/.venv/lib/python3.13/site-packages/sklearn/utils/deprecation.py:151: FutureWarning: 'force_all_finite' was renamed to 'ensure_all_finite' in 1.6 and will be removed in 1.8.\n",
      "  warnings.warn(\n"
     ]
    },
    {
     "name": "stdout",
     "output_type": "stream",
     "text": [
      "Los índices de df_real y dfcorpus están alineados correctamente.\n",
      "Todas las preguntas coinciden entre df y dfcorpus.\n"
     ]
    },
    {
     "name": "stderr",
     "output_type": "stream",
     "text": [
      "2025-05-11 16:32:31,702 - INFO - Silhouette Score: 0.618\n",
      "/Users/thesportydar/local_dev/reis-app/src/lib/report/.venv/lib/python3.13/site-packages/sklearn/utils/deprecation.py:151: FutureWarning: 'force_all_finite' was renamed to 'ensure_all_finite' in 1.6 and will be removed in 1.8.\n",
      "  warnings.warn(\n"
     ]
    },
    {
     "name": "stdout",
     "output_type": "stream",
     "text": [
      "Los índices de df_real y dfcorpus están alineados correctamente.\n",
      "Todas las preguntas coinciden entre df y dfcorpus.\n"
     ]
    },
    {
     "name": "stderr",
     "output_type": "stream",
     "text": [
      "2025-05-11 16:32:31,951 - INFO - Silhouette Score: 0.684\n",
      "/Users/thesportydar/local_dev/reis-app/src/lib/report/.venv/lib/python3.13/site-packages/sklearn/utils/deprecation.py:151: FutureWarning: 'force_all_finite' was renamed to 'ensure_all_finite' in 1.6 and will be removed in 1.8.\n",
      "  warnings.warn(\n"
     ]
    },
    {
     "name": "stdout",
     "output_type": "stream",
     "text": [
      "Los índices de df_real y dfcorpus están alineados correctamente.\n",
      "Todas las preguntas coinciden entre df y dfcorpus.\n"
     ]
    },
    {
     "name": "stderr",
     "output_type": "stream",
     "text": [
      "2025-05-11 16:32:32,206 - INFO - Silhouette Score: 0.668\n",
      "/Users/thesportydar/local_dev/reis-app/src/lib/report/.venv/lib/python3.13/site-packages/sklearn/utils/deprecation.py:151: FutureWarning: 'force_all_finite' was renamed to 'ensure_all_finite' in 1.6 and will be removed in 1.8.\n",
      "  warnings.warn(\n"
     ]
    },
    {
     "name": "stdout",
     "output_type": "stream",
     "text": [
      "Los índices de df_real y dfcorpus están alineados correctamente.\n",
      "Todas las preguntas coinciden entre df y dfcorpus.\n"
     ]
    },
    {
     "name": "stderr",
     "output_type": "stream",
     "text": [
      "2025-05-11 16:32:32,455 - INFO - Silhouette Score: 0.596\n",
      "/Users/thesportydar/local_dev/reis-app/src/lib/report/.venv/lib/python3.13/site-packages/sklearn/utils/deprecation.py:151: FutureWarning: 'force_all_finite' was renamed to 'ensure_all_finite' in 1.6 and will be removed in 1.8.\n",
      "  warnings.warn(\n"
     ]
    },
    {
     "name": "stdout",
     "output_type": "stream",
     "text": [
      "Los índices de df_real y dfcorpus están alineados correctamente.\n",
      "Todas las preguntas coinciden entre df y dfcorpus.\n"
     ]
    },
    {
     "name": "stderr",
     "output_type": "stream",
     "text": [
      "2025-05-11 16:32:32,705 - INFO - Silhouette Score: 0.613\n",
      "/Users/thesportydar/local_dev/reis-app/src/lib/report/.venv/lib/python3.13/site-packages/sklearn/utils/deprecation.py:151: FutureWarning: 'force_all_finite' was renamed to 'ensure_all_finite' in 1.6 and will be removed in 1.8.\n",
      "  warnings.warn(\n"
     ]
    },
    {
     "name": "stdout",
     "output_type": "stream",
     "text": [
      "Los índices de df_real y dfcorpus están alineados correctamente.\n",
      "Todas las preguntas coinciden entre df y dfcorpus.\n"
     ]
    },
    {
     "name": "stderr",
     "output_type": "stream",
     "text": [
      "2025-05-11 16:32:32,989 - INFO - Silhouette Score: 0.641\n",
      "/Users/thesportydar/local_dev/reis-app/src/lib/report/.venv/lib/python3.13/site-packages/sklearn/utils/deprecation.py:151: FutureWarning: 'force_all_finite' was renamed to 'ensure_all_finite' in 1.6 and will be removed in 1.8.\n",
      "  warnings.warn(\n"
     ]
    },
    {
     "name": "stdout",
     "output_type": "stream",
     "text": [
      "Los índices de df_real y dfcorpus están alineados correctamente.\n",
      "Todas las preguntas coinciden entre df y dfcorpus.\n"
     ]
    },
    {
     "name": "stderr",
     "output_type": "stream",
     "text": [
      "2025-05-11 16:32:33,238 - INFO - Silhouette Score: 0.668\n",
      "/Users/thesportydar/local_dev/reis-app/src/lib/report/.venv/lib/python3.13/site-packages/sklearn/utils/deprecation.py:151: FutureWarning: 'force_all_finite' was renamed to 'ensure_all_finite' in 1.6 and will be removed in 1.8.\n",
      "  warnings.warn(\n"
     ]
    },
    {
     "name": "stdout",
     "output_type": "stream",
     "text": [
      "Los índices de df_real y dfcorpus están alineados correctamente.\n",
      "Todas las preguntas coinciden entre df y dfcorpus.\n"
     ]
    },
    {
     "name": "stderr",
     "output_type": "stream",
     "text": [
      "2025-05-11 16:32:33,490 - INFO - Silhouette Score: 0.629\n",
      "/Users/thesportydar/local_dev/reis-app/src/lib/report/.venv/lib/python3.13/site-packages/sklearn/utils/deprecation.py:151: FutureWarning: 'force_all_finite' was renamed to 'ensure_all_finite' in 1.6 and will be removed in 1.8.\n",
      "  warnings.warn(\n"
     ]
    },
    {
     "name": "stdout",
     "output_type": "stream",
     "text": [
      "Los índices de df_real y dfcorpus están alineados correctamente.\n",
      "Todas las preguntas coinciden entre df y dfcorpus.\n"
     ]
    },
    {
     "name": "stderr",
     "output_type": "stream",
     "text": [
      "2025-05-11 16:32:33,740 - INFO - Silhouette Score: 0.648\n",
      "/Users/thesportydar/local_dev/reis-app/src/lib/report/.venv/lib/python3.13/site-packages/sklearn/utils/deprecation.py:151: FutureWarning: 'force_all_finite' was renamed to 'ensure_all_finite' in 1.6 and will be removed in 1.8.\n",
      "  warnings.warn(\n"
     ]
    },
    {
     "name": "stdout",
     "output_type": "stream",
     "text": [
      "Los índices de df_real y dfcorpus están alineados correctamente.\n",
      "Todas las preguntas coinciden entre df y dfcorpus.\n"
     ]
    },
    {
     "name": "stderr",
     "output_type": "stream",
     "text": [
      "2025-05-11 16:32:33,993 - INFO - Silhouette Score: 0.621\n",
      "/Users/thesportydar/local_dev/reis-app/src/lib/report/.venv/lib/python3.13/site-packages/sklearn/utils/deprecation.py:151: FutureWarning: 'force_all_finite' was renamed to 'ensure_all_finite' in 1.6 and will be removed in 1.8.\n",
      "  warnings.warn(\n"
     ]
    },
    {
     "name": "stdout",
     "output_type": "stream",
     "text": [
      "Los índices de df_real y dfcorpus están alineados correctamente.\n",
      "Todas las preguntas coinciden entre df y dfcorpus.\n"
     ]
    },
    {
     "name": "stderr",
     "output_type": "stream",
     "text": [
      "2025-05-11 16:32:34,242 - INFO - Silhouette Score: 0.645\n",
      "/Users/thesportydar/local_dev/reis-app/src/lib/report/.venv/lib/python3.13/site-packages/sklearn/utils/deprecation.py:151: FutureWarning: 'force_all_finite' was renamed to 'ensure_all_finite' in 1.6 and will be removed in 1.8.\n",
      "  warnings.warn(\n"
     ]
    },
    {
     "name": "stdout",
     "output_type": "stream",
     "text": [
      "Los índices de df_real y dfcorpus están alineados correctamente.\n",
      "Todas las preguntas coinciden entre df y dfcorpus.\n"
     ]
    },
    {
     "name": "stderr",
     "output_type": "stream",
     "text": [
      "2025-05-11 16:32:34,526 - INFO - Silhouette Score: 0.662\n",
      "/Users/thesportydar/local_dev/reis-app/src/lib/report/.venv/lib/python3.13/site-packages/sklearn/utils/deprecation.py:151: FutureWarning: 'force_all_finite' was renamed to 'ensure_all_finite' in 1.6 and will be removed in 1.8.\n",
      "  warnings.warn(\n"
     ]
    },
    {
     "name": "stdout",
     "output_type": "stream",
     "text": [
      "Los índices de df_real y dfcorpus están alineados correctamente.\n",
      "Todas las preguntas coinciden entre df y dfcorpus.\n"
     ]
    },
    {
     "name": "stderr",
     "output_type": "stream",
     "text": [
      "2025-05-11 16:32:34,777 - INFO - Silhouette Score: 0.559\n",
      "/Users/thesportydar/local_dev/reis-app/src/lib/report/.venv/lib/python3.13/site-packages/sklearn/utils/deprecation.py:151: FutureWarning: 'force_all_finite' was renamed to 'ensure_all_finite' in 1.6 and will be removed in 1.8.\n",
      "  warnings.warn(\n"
     ]
    },
    {
     "name": "stdout",
     "output_type": "stream",
     "text": [
      "Los índices de df_real y dfcorpus están alineados correctamente.\n",
      "Todas las preguntas coinciden entre df y dfcorpus.\n"
     ]
    },
    {
     "name": "stderr",
     "output_type": "stream",
     "text": [
      "2025-05-11 16:32:35,151 - INFO - Silhouette Score: 0.615\n",
      "/Users/thesportydar/local_dev/reis-app/src/lib/report/.venv/lib/python3.13/site-packages/sklearn/utils/deprecation.py:151: FutureWarning: 'force_all_finite' was renamed to 'ensure_all_finite' in 1.6 and will be removed in 1.8.\n",
      "  warnings.warn(\n"
     ]
    },
    {
     "name": "stdout",
     "output_type": "stream",
     "text": [
      "Los índices de df_real y dfcorpus están alineados correctamente.\n",
      "Todas las preguntas coinciden entre df y dfcorpus.\n"
     ]
    },
    {
     "name": "stderr",
     "output_type": "stream",
     "text": [
      "2025-05-11 16:32:35,406 - INFO - Silhouette Score: 0.617\n",
      "/Users/thesportydar/local_dev/reis-app/src/lib/report/.venv/lib/python3.13/site-packages/sklearn/utils/deprecation.py:151: FutureWarning: 'force_all_finite' was renamed to 'ensure_all_finite' in 1.6 and will be removed in 1.8.\n",
      "  warnings.warn(\n"
     ]
    },
    {
     "name": "stdout",
     "output_type": "stream",
     "text": [
      "Los índices de df_real y dfcorpus están alineados correctamente.\n",
      "Todas las preguntas coinciden entre df y dfcorpus.\n"
     ]
    },
    {
     "name": "stderr",
     "output_type": "stream",
     "text": [
      "2025-05-11 16:32:35,660 - INFO - Silhouette Score: 0.683\n",
      "/Users/thesportydar/local_dev/reis-app/src/lib/report/.venv/lib/python3.13/site-packages/sklearn/utils/deprecation.py:151: FutureWarning: 'force_all_finite' was renamed to 'ensure_all_finite' in 1.6 and will be removed in 1.8.\n",
      "  warnings.warn(\n"
     ]
    },
    {
     "name": "stdout",
     "output_type": "stream",
     "text": [
      "Los índices de df_real y dfcorpus están alineados correctamente.\n",
      "Todas las preguntas coinciden entre df y dfcorpus.\n"
     ]
    },
    {
     "name": "stderr",
     "output_type": "stream",
     "text": [
      "2025-05-11 16:32:35,923 - INFO - Silhouette Score: 0.698\n",
      "/Users/thesportydar/local_dev/reis-app/src/lib/report/.venv/lib/python3.13/site-packages/sklearn/utils/deprecation.py:151: FutureWarning: 'force_all_finite' was renamed to 'ensure_all_finite' in 1.6 and will be removed in 1.8.\n",
      "  warnings.warn(\n"
     ]
    },
    {
     "name": "stdout",
     "output_type": "stream",
     "text": [
      "Los índices de df_real y dfcorpus están alineados correctamente.\n",
      "Todas las preguntas coinciden entre df y dfcorpus.\n"
     ]
    },
    {
     "name": "stderr",
     "output_type": "stream",
     "text": [
      "2025-05-11 16:32:36,208 - INFO - Silhouette Score: 0.598\n",
      "/Users/thesportydar/local_dev/reis-app/src/lib/report/.venv/lib/python3.13/site-packages/sklearn/utils/deprecation.py:151: FutureWarning: 'force_all_finite' was renamed to 'ensure_all_finite' in 1.6 and will be removed in 1.8.\n",
      "  warnings.warn(\n"
     ]
    },
    {
     "name": "stdout",
     "output_type": "stream",
     "text": [
      "Los índices de df_real y dfcorpus están alineados correctamente.\n",
      "Todas las preguntas coinciden entre df y dfcorpus.\n"
     ]
    },
    {
     "name": "stderr",
     "output_type": "stream",
     "text": [
      "2025-05-11 16:32:36,459 - INFO - Silhouette Score: 0.674\n",
      "/Users/thesportydar/local_dev/reis-app/src/lib/report/.venv/lib/python3.13/site-packages/sklearn/utils/deprecation.py:151: FutureWarning: 'force_all_finite' was renamed to 'ensure_all_finite' in 1.6 and will be removed in 1.8.\n",
      "  warnings.warn(\n"
     ]
    },
    {
     "name": "stdout",
     "output_type": "stream",
     "text": [
      "Los índices de df_real y dfcorpus están alineados correctamente.\n",
      "Todas las preguntas coinciden entre df y dfcorpus.\n"
     ]
    },
    {
     "name": "stderr",
     "output_type": "stream",
     "text": [
      "2025-05-11 16:32:36,700 - INFO - Silhouette Score: 0.670\n",
      "/Users/thesportydar/local_dev/reis-app/src/lib/report/.venv/lib/python3.13/site-packages/sklearn/utils/deprecation.py:151: FutureWarning: 'force_all_finite' was renamed to 'ensure_all_finite' in 1.6 and will be removed in 1.8.\n",
      "  warnings.warn(\n"
     ]
    },
    {
     "name": "stdout",
     "output_type": "stream",
     "text": [
      "Los índices de df_real y dfcorpus están alineados correctamente.\n",
      "Todas las preguntas coinciden entre df y dfcorpus.\n"
     ]
    },
    {
     "name": "stderr",
     "output_type": "stream",
     "text": [
      "2025-05-11 16:32:37,081 - INFO - Silhouette Score: 0.715\n",
      "/Users/thesportydar/local_dev/reis-app/src/lib/report/.venv/lib/python3.13/site-packages/sklearn/utils/deprecation.py:151: FutureWarning: 'force_all_finite' was renamed to 'ensure_all_finite' in 1.6 and will be removed in 1.8.\n",
      "  warnings.warn(\n"
     ]
    },
    {
     "name": "stdout",
     "output_type": "stream",
     "text": [
      "Los índices de df_real y dfcorpus están alineados correctamente.\n",
      "Todas las preguntas coinciden entre df y dfcorpus.\n"
     ]
    },
    {
     "name": "stderr",
     "output_type": "stream",
     "text": [
      "2025-05-11 16:32:37,355 - INFO - Silhouette Score: 0.604\n",
      "/Users/thesportydar/local_dev/reis-app/src/lib/report/.venv/lib/python3.13/site-packages/sklearn/utils/deprecation.py:151: FutureWarning: 'force_all_finite' was renamed to 'ensure_all_finite' in 1.6 and will be removed in 1.8.\n",
      "  warnings.warn(\n"
     ]
    },
    {
     "name": "stdout",
     "output_type": "stream",
     "text": [
      "Los índices de df_real y dfcorpus están alineados correctamente.\n",
      "Todas las preguntas coinciden entre df y dfcorpus.\n"
     ]
    },
    {
     "name": "stderr",
     "output_type": "stream",
     "text": [
      "2025-05-11 16:32:37,619 - INFO - Silhouette Score: 0.647\n",
      "/Users/thesportydar/local_dev/reis-app/src/lib/report/.venv/lib/python3.13/site-packages/sklearn/utils/deprecation.py:151: FutureWarning: 'force_all_finite' was renamed to 'ensure_all_finite' in 1.6 and will be removed in 1.8.\n",
      "  warnings.warn(\n"
     ]
    },
    {
     "name": "stdout",
     "output_type": "stream",
     "text": [
      "Los índices de df_real y dfcorpus están alineados correctamente.\n",
      "Todas las preguntas coinciden entre df y dfcorpus.\n"
     ]
    },
    {
     "name": "stderr",
     "output_type": "stream",
     "text": [
      "2025-05-11 16:32:37,905 - INFO - Silhouette Score: 0.677\n",
      "/Users/thesportydar/local_dev/reis-app/src/lib/report/.venv/lib/python3.13/site-packages/sklearn/utils/deprecation.py:151: FutureWarning: 'force_all_finite' was renamed to 'ensure_all_finite' in 1.6 and will be removed in 1.8.\n",
      "  warnings.warn(\n"
     ]
    },
    {
     "name": "stdout",
     "output_type": "stream",
     "text": [
      "Los índices de df_real y dfcorpus están alineados correctamente.\n",
      "Todas las preguntas coinciden entre df y dfcorpus.\n"
     ]
    },
    {
     "name": "stderr",
     "output_type": "stream",
     "text": [
      "2025-05-11 16:32:38,154 - INFO - Silhouette Score: 0.656\n",
      "/Users/thesportydar/local_dev/reis-app/src/lib/report/.venv/lib/python3.13/site-packages/sklearn/utils/deprecation.py:151: FutureWarning: 'force_all_finite' was renamed to 'ensure_all_finite' in 1.6 and will be removed in 1.8.\n",
      "  warnings.warn(\n"
     ]
    },
    {
     "name": "stdout",
     "output_type": "stream",
     "text": [
      "Los índices de df_real y dfcorpus están alineados correctamente.\n",
      "Todas las preguntas coinciden entre df y dfcorpus.\n"
     ]
    },
    {
     "name": "stderr",
     "output_type": "stream",
     "text": [
      "2025-05-11 16:32:38,406 - INFO - Silhouette Score: 0.706\n",
      "/Users/thesportydar/local_dev/reis-app/src/lib/report/.venv/lib/python3.13/site-packages/sklearn/utils/deprecation.py:151: FutureWarning: 'force_all_finite' was renamed to 'ensure_all_finite' in 1.6 and will be removed in 1.8.\n",
      "  warnings.warn(\n"
     ]
    },
    {
     "name": "stdout",
     "output_type": "stream",
     "text": [
      "Los índices de df_real y dfcorpus están alineados correctamente.\n",
      "Todas las preguntas coinciden entre df y dfcorpus.\n"
     ]
    },
    {
     "name": "stderr",
     "output_type": "stream",
     "text": [
      "2025-05-11 16:32:38,663 - INFO - Silhouette Score: 0.550\n",
      "/Users/thesportydar/local_dev/reis-app/src/lib/report/.venv/lib/python3.13/site-packages/sklearn/utils/deprecation.py:151: FutureWarning: 'force_all_finite' was renamed to 'ensure_all_finite' in 1.6 and will be removed in 1.8.\n",
      "  warnings.warn(\n"
     ]
    },
    {
     "name": "stdout",
     "output_type": "stream",
     "text": [
      "Los índices de df_real y dfcorpus están alineados correctamente.\n",
      "Todas las preguntas coinciden entre df y dfcorpus.\n"
     ]
    },
    {
     "name": "stderr",
     "output_type": "stream",
     "text": [
      "2025-05-11 16:32:38,915 - INFO - Silhouette Score: 0.623\n",
      "/Users/thesportydar/local_dev/reis-app/src/lib/report/.venv/lib/python3.13/site-packages/sklearn/utils/deprecation.py:151: FutureWarning: 'force_all_finite' was renamed to 'ensure_all_finite' in 1.6 and will be removed in 1.8.\n",
      "  warnings.warn(\n"
     ]
    },
    {
     "name": "stdout",
     "output_type": "stream",
     "text": [
      "Los índices de df_real y dfcorpus están alineados correctamente.\n",
      "Todas las preguntas coinciden entre df y dfcorpus.\n"
     ]
    },
    {
     "name": "stderr",
     "output_type": "stream",
     "text": [
      "2025-05-11 16:32:39,167 - INFO - Silhouette Score: 0.655\n",
      "/Users/thesportydar/local_dev/reis-app/src/lib/report/.venv/lib/python3.13/site-packages/sklearn/utils/deprecation.py:151: FutureWarning: 'force_all_finite' was renamed to 'ensure_all_finite' in 1.6 and will be removed in 1.8.\n",
      "  warnings.warn(\n"
     ]
    },
    {
     "name": "stdout",
     "output_type": "stream",
     "text": [
      "Los índices de df_real y dfcorpus están alineados correctamente.\n",
      "Todas las preguntas coinciden entre df y dfcorpus.\n"
     ]
    },
    {
     "name": "stderr",
     "output_type": "stream",
     "text": [
      "2025-05-11 16:32:39,418 - INFO - Silhouette Score: 0.621\n",
      "/Users/thesportydar/local_dev/reis-app/src/lib/report/.venv/lib/python3.13/site-packages/sklearn/utils/deprecation.py:151: FutureWarning: 'force_all_finite' was renamed to 'ensure_all_finite' in 1.6 and will be removed in 1.8.\n",
      "  warnings.warn(\n"
     ]
    },
    {
     "name": "stdout",
     "output_type": "stream",
     "text": [
      "Los índices de df_real y dfcorpus están alineados correctamente.\n",
      "Todas las preguntas coinciden entre df y dfcorpus.\n"
     ]
    },
    {
     "name": "stderr",
     "output_type": "stream",
     "text": [
      "2025-05-11 16:32:39,702 - INFO - Silhouette Score: 0.638\n",
      "/Users/thesportydar/local_dev/reis-app/src/lib/report/.venv/lib/python3.13/site-packages/sklearn/utils/deprecation.py:151: FutureWarning: 'force_all_finite' was renamed to 'ensure_all_finite' in 1.6 and will be removed in 1.8.\n",
      "  warnings.warn(\n"
     ]
    },
    {
     "name": "stdout",
     "output_type": "stream",
     "text": [
      "Los índices de df_real y dfcorpus están alineados correctamente.\n",
      "Todas las preguntas coinciden entre df y dfcorpus.\n"
     ]
    },
    {
     "name": "stderr",
     "output_type": "stream",
     "text": [
      "2025-05-11 16:32:39,951 - INFO - Silhouette Score: 0.667\n",
      "/Users/thesportydar/local_dev/reis-app/src/lib/report/.venv/lib/python3.13/site-packages/sklearn/utils/deprecation.py:151: FutureWarning: 'force_all_finite' was renamed to 'ensure_all_finite' in 1.6 and will be removed in 1.8.\n",
      "  warnings.warn(\n"
     ]
    },
    {
     "name": "stdout",
     "output_type": "stream",
     "text": [
      "Los índices de df_real y dfcorpus están alineados correctamente.\n",
      "Todas las preguntas coinciden entre df y dfcorpus.\n"
     ]
    },
    {
     "name": "stderr",
     "output_type": "stream",
     "text": [
      "2025-05-11 16:32:40,203 - INFO - Silhouette Score: 0.652\n",
      "/Users/thesportydar/local_dev/reis-app/src/lib/report/.venv/lib/python3.13/site-packages/sklearn/utils/deprecation.py:151: FutureWarning: 'force_all_finite' was renamed to 'ensure_all_finite' in 1.6 and will be removed in 1.8.\n",
      "  warnings.warn(\n"
     ]
    },
    {
     "name": "stdout",
     "output_type": "stream",
     "text": [
      "Los índices de df_real y dfcorpus están alineados correctamente.\n",
      "Todas las preguntas coinciden entre df y dfcorpus.\n"
     ]
    },
    {
     "name": "stderr",
     "output_type": "stream",
     "text": [
      "2025-05-11 16:32:40,456 - INFO - Silhouette Score: 0.651\n",
      "/Users/thesportydar/local_dev/reis-app/src/lib/report/.venv/lib/python3.13/site-packages/sklearn/utils/deprecation.py:151: FutureWarning: 'force_all_finite' was renamed to 'ensure_all_finite' in 1.6 and will be removed in 1.8.\n",
      "  warnings.warn(\n"
     ]
    },
    {
     "name": "stdout",
     "output_type": "stream",
     "text": [
      "Los índices de df_real y dfcorpus están alineados correctamente.\n",
      "Todas las preguntas coinciden entre df y dfcorpus.\n"
     ]
    },
    {
     "name": "stderr",
     "output_type": "stream",
     "text": [
      "2025-05-11 16:32:40,714 - INFO - Silhouette Score: 0.685\n",
      "/Users/thesportydar/local_dev/reis-app/src/lib/report/.venv/lib/python3.13/site-packages/sklearn/utils/deprecation.py:151: FutureWarning: 'force_all_finite' was renamed to 'ensure_all_finite' in 1.6 and will be removed in 1.8.\n",
      "  warnings.warn(\n"
     ]
    },
    {
     "name": "stdout",
     "output_type": "stream",
     "text": [
      "Los índices de df_real y dfcorpus están alineados correctamente.\n",
      "Todas las preguntas coinciden entre df y dfcorpus.\n"
     ]
    },
    {
     "name": "stderr",
     "output_type": "stream",
     "text": [
      "2025-05-11 16:32:40,969 - INFO - Silhouette Score: 0.646\n",
      "/Users/thesportydar/local_dev/reis-app/src/lib/report/.venv/lib/python3.13/site-packages/sklearn/utils/deprecation.py:151: FutureWarning: 'force_all_finite' was renamed to 'ensure_all_finite' in 1.6 and will be removed in 1.8.\n",
      "  warnings.warn(\n"
     ]
    },
    {
     "name": "stdout",
     "output_type": "stream",
     "text": [
      "Los índices de df_real y dfcorpus están alineados correctamente.\n",
      "Todas las preguntas coinciden entre df y dfcorpus.\n"
     ]
    },
    {
     "name": "stderr",
     "output_type": "stream",
     "text": [
      "2025-05-11 16:32:41,250 - INFO - Silhouette Score: 0.608\n",
      "/Users/thesportydar/local_dev/reis-app/src/lib/report/.venv/lib/python3.13/site-packages/sklearn/utils/deprecation.py:151: FutureWarning: 'force_all_finite' was renamed to 'ensure_all_finite' in 1.6 and will be removed in 1.8.\n",
      "  warnings.warn(\n"
     ]
    },
    {
     "name": "stdout",
     "output_type": "stream",
     "text": [
      "Los índices de df_real y dfcorpus están alineados correctamente.\n",
      "Todas las preguntas coinciden entre df y dfcorpus.\n"
     ]
    },
    {
     "name": "stderr",
     "output_type": "stream",
     "text": [
      "2025-05-11 16:32:41,505 - INFO - Silhouette Score: 0.676\n",
      "/Users/thesportydar/local_dev/reis-app/src/lib/report/.venv/lib/python3.13/site-packages/sklearn/utils/deprecation.py:151: FutureWarning: 'force_all_finite' was renamed to 'ensure_all_finite' in 1.6 and will be removed in 1.8.\n",
      "  warnings.warn(\n"
     ]
    },
    {
     "name": "stdout",
     "output_type": "stream",
     "text": [
      "Los índices de df_real y dfcorpus están alineados correctamente.\n",
      "Todas las preguntas coinciden entre df y dfcorpus.\n"
     ]
    },
    {
     "name": "stderr",
     "output_type": "stream",
     "text": [
      "2025-05-11 16:32:41,756 - INFO - Silhouette Score: 0.632\n",
      "/Users/thesportydar/local_dev/reis-app/src/lib/report/.venv/lib/python3.13/site-packages/sklearn/utils/deprecation.py:151: FutureWarning: 'force_all_finite' was renamed to 'ensure_all_finite' in 1.6 and will be removed in 1.8.\n",
      "  warnings.warn(\n"
     ]
    },
    {
     "name": "stdout",
     "output_type": "stream",
     "text": [
      "Los índices de df_real y dfcorpus están alineados correctamente.\n",
      "Todas las preguntas coinciden entre df y dfcorpus.\n"
     ]
    },
    {
     "name": "stderr",
     "output_type": "stream",
     "text": [
      "2025-05-11 16:32:42,011 - INFO - Silhouette Score: 0.668\n",
      "/Users/thesportydar/local_dev/reis-app/src/lib/report/.venv/lib/python3.13/site-packages/sklearn/utils/deprecation.py:151: FutureWarning: 'force_all_finite' was renamed to 'ensure_all_finite' in 1.6 and will be removed in 1.8.\n",
      "  warnings.warn(\n"
     ]
    },
    {
     "name": "stdout",
     "output_type": "stream",
     "text": [
      "Los índices de df_real y dfcorpus están alineados correctamente.\n",
      "Todas las preguntas coinciden entre df y dfcorpus.\n"
     ]
    },
    {
     "name": "stderr",
     "output_type": "stream",
     "text": [
      "2025-05-11 16:32:42,264 - INFO - Silhouette Score: 0.707\n",
      "/Users/thesportydar/local_dev/reis-app/src/lib/report/.venv/lib/python3.13/site-packages/sklearn/utils/deprecation.py:151: FutureWarning: 'force_all_finite' was renamed to 'ensure_all_finite' in 1.6 and will be removed in 1.8.\n",
      "  warnings.warn(\n"
     ]
    },
    {
     "name": "stdout",
     "output_type": "stream",
     "text": [
      "Los índices de df_real y dfcorpus están alineados correctamente.\n",
      "Todas las preguntas coinciden entre df y dfcorpus.\n"
     ]
    },
    {
     "name": "stderr",
     "output_type": "stream",
     "text": [
      "2025-05-11 16:32:42,539 - INFO - Silhouette Score: 0.621\n",
      "/Users/thesportydar/local_dev/reis-app/src/lib/report/.venv/lib/python3.13/site-packages/sklearn/utils/deprecation.py:151: FutureWarning: 'force_all_finite' was renamed to 'ensure_all_finite' in 1.6 and will be removed in 1.8.\n",
      "  warnings.warn(\n"
     ]
    },
    {
     "name": "stdout",
     "output_type": "stream",
     "text": [
      "Los índices de df_real y dfcorpus están alineados correctamente.\n",
      "Todas las preguntas coinciden entre df y dfcorpus.\n"
     ]
    },
    {
     "name": "stderr",
     "output_type": "stream",
     "text": [
      "2025-05-11 16:32:42,825 - INFO - Silhouette Score: 0.715\n",
      "/Users/thesportydar/local_dev/reis-app/src/lib/report/.venv/lib/python3.13/site-packages/sklearn/utils/deprecation.py:151: FutureWarning: 'force_all_finite' was renamed to 'ensure_all_finite' in 1.6 and will be removed in 1.8.\n",
      "  warnings.warn(\n"
     ]
    },
    {
     "name": "stdout",
     "output_type": "stream",
     "text": [
      "Los índices de df_real y dfcorpus están alineados correctamente.\n",
      "Todas las preguntas coinciden entre df y dfcorpus.\n"
     ]
    },
    {
     "name": "stderr",
     "output_type": "stream",
     "text": [
      "2025-05-11 16:32:43,077 - INFO - Silhouette Score: 0.627\n",
      "/Users/thesportydar/local_dev/reis-app/src/lib/report/.venv/lib/python3.13/site-packages/sklearn/utils/deprecation.py:151: FutureWarning: 'force_all_finite' was renamed to 'ensure_all_finite' in 1.6 and will be removed in 1.8.\n",
      "  warnings.warn(\n"
     ]
    },
    {
     "name": "stdout",
     "output_type": "stream",
     "text": [
      "Los índices de df_real y dfcorpus están alineados correctamente.\n",
      "Todas las preguntas coinciden entre df y dfcorpus.\n"
     ]
    },
    {
     "name": "stderr",
     "output_type": "stream",
     "text": [
      "2025-05-11 16:32:43,330 - INFO - Silhouette Score: 0.653\n",
      "/Users/thesportydar/local_dev/reis-app/src/lib/report/.venv/lib/python3.13/site-packages/sklearn/utils/deprecation.py:151: FutureWarning: 'force_all_finite' was renamed to 'ensure_all_finite' in 1.6 and will be removed in 1.8.\n",
      "  warnings.warn(\n"
     ]
    },
    {
     "name": "stdout",
     "output_type": "stream",
     "text": [
      "Los índices de df_real y dfcorpus están alineados correctamente.\n",
      "Todas las preguntas coinciden entre df y dfcorpus.\n"
     ]
    },
    {
     "name": "stderr",
     "output_type": "stream",
     "text": [
      "2025-05-11 16:32:43,576 - INFO - Silhouette Score: 0.590\n",
      "/Users/thesportydar/local_dev/reis-app/src/lib/report/.venv/lib/python3.13/site-packages/sklearn/utils/deprecation.py:151: FutureWarning: 'force_all_finite' was renamed to 'ensure_all_finite' in 1.6 and will be removed in 1.8.\n",
      "  warnings.warn(\n"
     ]
    },
    {
     "name": "stdout",
     "output_type": "stream",
     "text": [
      "Los índices de df_real y dfcorpus están alineados correctamente.\n",
      "Todas las preguntas coinciden entre df y dfcorpus.\n"
     ]
    },
    {
     "name": "stderr",
     "output_type": "stream",
     "text": [
      "2025-05-11 16:32:43,834 - INFO - Silhouette Score: 0.638\n",
      "/Users/thesportydar/local_dev/reis-app/src/lib/report/.venv/lib/python3.13/site-packages/sklearn/utils/deprecation.py:151: FutureWarning: 'force_all_finite' was renamed to 'ensure_all_finite' in 1.6 and will be removed in 1.8.\n",
      "  warnings.warn(\n"
     ]
    },
    {
     "name": "stdout",
     "output_type": "stream",
     "text": [
      "Los índices de df_real y dfcorpus están alineados correctamente.\n",
      "Todas las preguntas coinciden entre df y dfcorpus.\n"
     ]
    },
    {
     "name": "stderr",
     "output_type": "stream",
     "text": [
      "2025-05-11 16:32:44,087 - INFO - Silhouette Score: 0.688\n",
      "/Users/thesportydar/local_dev/reis-app/src/lib/report/.venv/lib/python3.13/site-packages/sklearn/utils/deprecation.py:151: FutureWarning: 'force_all_finite' was renamed to 'ensure_all_finite' in 1.6 and will be removed in 1.8.\n",
      "  warnings.warn(\n"
     ]
    },
    {
     "name": "stdout",
     "output_type": "stream",
     "text": [
      "Los índices de df_real y dfcorpus están alineados correctamente.\n",
      "Todas las preguntas coinciden entre df y dfcorpus.\n"
     ]
    },
    {
     "name": "stderr",
     "output_type": "stream",
     "text": [
      "2025-05-11 16:32:44,377 - INFO - Silhouette Score: 0.677\n",
      "/Users/thesportydar/local_dev/reis-app/src/lib/report/.venv/lib/python3.13/site-packages/sklearn/utils/deprecation.py:151: FutureWarning: 'force_all_finite' was renamed to 'ensure_all_finite' in 1.6 and will be removed in 1.8.\n",
      "  warnings.warn(\n"
     ]
    },
    {
     "name": "stdout",
     "output_type": "stream",
     "text": [
      "Los índices de df_real y dfcorpus están alineados correctamente.\n",
      "Todas las preguntas coinciden entre df y dfcorpus.\n"
     ]
    },
    {
     "name": "stderr",
     "output_type": "stream",
     "text": [
      "2025-05-11 16:32:44,632 - INFO - Silhouette Score: 0.593\n",
      "/Users/thesportydar/local_dev/reis-app/src/lib/report/.venv/lib/python3.13/site-packages/sklearn/utils/deprecation.py:151: FutureWarning: 'force_all_finite' was renamed to 'ensure_all_finite' in 1.6 and will be removed in 1.8.\n",
      "  warnings.warn(\n"
     ]
    },
    {
     "name": "stdout",
     "output_type": "stream",
     "text": [
      "Los índices de df_real y dfcorpus están alineados correctamente.\n",
      "Todas las preguntas coinciden entre df y dfcorpus.\n"
     ]
    },
    {
     "name": "stderr",
     "output_type": "stream",
     "text": [
      "2025-05-11 16:32:44,895 - INFO - Silhouette Score: 0.666\n",
      "/Users/thesportydar/local_dev/reis-app/src/lib/report/.venv/lib/python3.13/site-packages/sklearn/utils/deprecation.py:151: FutureWarning: 'force_all_finite' was renamed to 'ensure_all_finite' in 1.6 and will be removed in 1.8.\n",
      "  warnings.warn(\n"
     ]
    },
    {
     "name": "stdout",
     "output_type": "stream",
     "text": [
      "Los índices de df_real y dfcorpus están alineados correctamente.\n",
      "Todas las preguntas coinciden entre df y dfcorpus.\n"
     ]
    },
    {
     "name": "stderr",
     "output_type": "stream",
     "text": [
      "2025-05-11 16:32:45,148 - INFO - Silhouette Score: 0.656\n",
      "/Users/thesportydar/local_dev/reis-app/src/lib/report/.venv/lib/python3.13/site-packages/sklearn/utils/deprecation.py:151: FutureWarning: 'force_all_finite' was renamed to 'ensure_all_finite' in 1.6 and will be removed in 1.8.\n",
      "  warnings.warn(\n"
     ]
    },
    {
     "name": "stdout",
     "output_type": "stream",
     "text": [
      "Los índices de df_real y dfcorpus están alineados correctamente.\n",
      "Todas las preguntas coinciden entre df y dfcorpus.\n"
     ]
    },
    {
     "name": "stderr",
     "output_type": "stream",
     "text": [
      "2025-05-11 16:32:45,409 - INFO - Silhouette Score: 0.676\n",
      "/Users/thesportydar/local_dev/reis-app/src/lib/report/.venv/lib/python3.13/site-packages/sklearn/utils/deprecation.py:151: FutureWarning: 'force_all_finite' was renamed to 'ensure_all_finite' in 1.6 and will be removed in 1.8.\n",
      "  warnings.warn(\n"
     ]
    },
    {
     "name": "stdout",
     "output_type": "stream",
     "text": [
      "Los índices de df_real y dfcorpus están alineados correctamente.\n",
      "Todas las preguntas coinciden entre df y dfcorpus.\n"
     ]
    },
    {
     "name": "stderr",
     "output_type": "stream",
     "text": [
      "2025-05-11 16:32:45,666 - INFO - Silhouette Score: 0.589\n",
      "/Users/thesportydar/local_dev/reis-app/src/lib/report/.venv/lib/python3.13/site-packages/sklearn/utils/deprecation.py:151: FutureWarning: 'force_all_finite' was renamed to 'ensure_all_finite' in 1.6 and will be removed in 1.8.\n",
      "  warnings.warn(\n"
     ]
    },
    {
     "name": "stdout",
     "output_type": "stream",
     "text": [
      "Los índices de df_real y dfcorpus están alineados correctamente.\n",
      "Todas las preguntas coinciden entre df y dfcorpus.\n"
     ]
    },
    {
     "name": "stderr",
     "output_type": "stream",
     "text": [
      "2025-05-11 16:32:45,951 - INFO - Silhouette Score: 0.652\n",
      "/Users/thesportydar/local_dev/reis-app/src/lib/report/.venv/lib/python3.13/site-packages/sklearn/utils/deprecation.py:151: FutureWarning: 'force_all_finite' was renamed to 'ensure_all_finite' in 1.6 and will be removed in 1.8.\n",
      "  warnings.warn(\n"
     ]
    },
    {
     "name": "stdout",
     "output_type": "stream",
     "text": [
      "Los índices de df_real y dfcorpus están alineados correctamente.\n",
      "Todas las preguntas coinciden entre df y dfcorpus.\n"
     ]
    },
    {
     "name": "stderr",
     "output_type": "stream",
     "text": [
      "2025-05-11 16:32:46,209 - INFO - Silhouette Score: 0.657\n",
      "/Users/thesportydar/local_dev/reis-app/src/lib/report/.venv/lib/python3.13/site-packages/sklearn/utils/deprecation.py:151: FutureWarning: 'force_all_finite' was renamed to 'ensure_all_finite' in 1.6 and will be removed in 1.8.\n",
      "  warnings.warn(\n"
     ]
    },
    {
     "name": "stdout",
     "output_type": "stream",
     "text": [
      "Los índices de df_real y dfcorpus están alineados correctamente.\n",
      "Todas las preguntas coinciden entre df y dfcorpus.\n"
     ]
    },
    {
     "name": "stderr",
     "output_type": "stream",
     "text": [
      "2025-05-11 16:32:46,495 - INFO - Silhouette Score: 0.646\n",
      "/Users/thesportydar/local_dev/reis-app/src/lib/report/.venv/lib/python3.13/site-packages/sklearn/utils/deprecation.py:151: FutureWarning: 'force_all_finite' was renamed to 'ensure_all_finite' in 1.6 and will be removed in 1.8.\n",
      "  warnings.warn(\n"
     ]
    },
    {
     "name": "stdout",
     "output_type": "stream",
     "text": [
      "Los índices de df_real y dfcorpus están alineados correctamente.\n",
      "Todas las preguntas coinciden entre df y dfcorpus.\n"
     ]
    },
    {
     "name": "stderr",
     "output_type": "stream",
     "text": [
      "2025-05-11 16:32:46,753 - INFO - Silhouette Score: 0.669\n",
      "/Users/thesportydar/local_dev/reis-app/src/lib/report/.venv/lib/python3.13/site-packages/sklearn/utils/deprecation.py:151: FutureWarning: 'force_all_finite' was renamed to 'ensure_all_finite' in 1.6 and will be removed in 1.8.\n",
      "  warnings.warn(\n"
     ]
    },
    {
     "name": "stdout",
     "output_type": "stream",
     "text": [
      "Los índices de df_real y dfcorpus están alineados correctamente.\n",
      "Todas las preguntas coinciden entre df y dfcorpus.\n"
     ]
    },
    {
     "name": "stderr",
     "output_type": "stream",
     "text": [
      "2025-05-11 16:32:47,008 - INFO - Silhouette Score: 0.657\n",
      "/Users/thesportydar/local_dev/reis-app/src/lib/report/.venv/lib/python3.13/site-packages/sklearn/utils/deprecation.py:151: FutureWarning: 'force_all_finite' was renamed to 'ensure_all_finite' in 1.6 and will be removed in 1.8.\n",
      "  warnings.warn(\n"
     ]
    },
    {
     "name": "stdout",
     "output_type": "stream",
     "text": [
      "Los índices de df_real y dfcorpus están alineados correctamente.\n",
      "Todas las preguntas coinciden entre df y dfcorpus.\n"
     ]
    },
    {
     "name": "stderr",
     "output_type": "stream",
     "text": [
      "2025-05-11 16:32:47,262 - INFO - Silhouette Score: 0.680\n",
      "/Users/thesportydar/local_dev/reis-app/src/lib/report/.venv/lib/python3.13/site-packages/sklearn/utils/deprecation.py:151: FutureWarning: 'force_all_finite' was renamed to 'ensure_all_finite' in 1.6 and will be removed in 1.8.\n",
      "  warnings.warn(\n"
     ]
    },
    {
     "name": "stdout",
     "output_type": "stream",
     "text": [
      "Los índices de df_real y dfcorpus están alineados correctamente.\n",
      "Todas las preguntas coinciden entre df y dfcorpus.\n"
     ]
    },
    {
     "name": "stderr",
     "output_type": "stream",
     "text": [
      "2025-05-11 16:32:47,547 - INFO - Silhouette Score: 0.683\n",
      "/Users/thesportydar/local_dev/reis-app/src/lib/report/.venv/lib/python3.13/site-packages/sklearn/utils/deprecation.py:151: FutureWarning: 'force_all_finite' was renamed to 'ensure_all_finite' in 1.6 and will be removed in 1.8.\n",
      "  warnings.warn(\n"
     ]
    },
    {
     "name": "stdout",
     "output_type": "stream",
     "text": [
      "Los índices de df_real y dfcorpus están alineados correctamente.\n",
      "Todas las preguntas coinciden entre df y dfcorpus.\n"
     ]
    },
    {
     "name": "stderr",
     "output_type": "stream",
     "text": [
      "2025-05-11 16:32:47,802 - INFO - Silhouette Score: 0.634\n",
      "/Users/thesportydar/local_dev/reis-app/src/lib/report/.venv/lib/python3.13/site-packages/sklearn/utils/deprecation.py:151: FutureWarning: 'force_all_finite' was renamed to 'ensure_all_finite' in 1.6 and will be removed in 1.8.\n",
      "  warnings.warn(\n"
     ]
    },
    {
     "name": "stdout",
     "output_type": "stream",
     "text": [
      "Los índices de df_real y dfcorpus están alineados correctamente.\n",
      "Todas las preguntas coinciden entre df y dfcorpus.\n"
     ]
    },
    {
     "name": "stderr",
     "output_type": "stream",
     "text": [
      "2025-05-11 16:32:48,061 - INFO - Silhouette Score: 0.603\n",
      "/Users/thesportydar/local_dev/reis-app/src/lib/report/.venv/lib/python3.13/site-packages/sklearn/utils/deprecation.py:151: FutureWarning: 'force_all_finite' was renamed to 'ensure_all_finite' in 1.6 and will be removed in 1.8.\n",
      "  warnings.warn(\n"
     ]
    },
    {
     "name": "stdout",
     "output_type": "stream",
     "text": [
      "Los índices de df_real y dfcorpus están alineados correctamente.\n",
      "Todas las preguntas coinciden entre df y dfcorpus.\n"
     ]
    },
    {
     "name": "stderr",
     "output_type": "stream",
     "text": [
      "2025-05-11 16:32:48,324 - INFO - Silhouette Score: 0.714\n",
      "/Users/thesportydar/local_dev/reis-app/src/lib/report/.venv/lib/python3.13/site-packages/sklearn/utils/deprecation.py:151: FutureWarning: 'force_all_finite' was renamed to 'ensure_all_finite' in 1.6 and will be removed in 1.8.\n",
      "  warnings.warn(\n"
     ]
    },
    {
     "name": "stdout",
     "output_type": "stream",
     "text": [
      "Los índices de df_real y dfcorpus están alineados correctamente.\n",
      "Todas las preguntas coinciden entre df y dfcorpus.\n"
     ]
    },
    {
     "name": "stderr",
     "output_type": "stream",
     "text": [
      "2025-05-11 16:32:48,578 - INFO - Silhouette Score: 0.629\n",
      "/Users/thesportydar/local_dev/reis-app/src/lib/report/.venv/lib/python3.13/site-packages/sklearn/utils/deprecation.py:151: FutureWarning: 'force_all_finite' was renamed to 'ensure_all_finite' in 1.6 and will be removed in 1.8.\n",
      "  warnings.warn(\n"
     ]
    },
    {
     "name": "stdout",
     "output_type": "stream",
     "text": [
      "Los índices de df_real y dfcorpus están alineados correctamente.\n",
      "Todas las preguntas coinciden entre df y dfcorpus.\n"
     ]
    },
    {
     "name": "stderr",
     "output_type": "stream",
     "text": [
      "2025-05-11 16:32:48,835 - INFO - Silhouette Score: 0.611\n",
      "/Users/thesportydar/local_dev/reis-app/src/lib/report/.venv/lib/python3.13/site-packages/sklearn/utils/deprecation.py:151: FutureWarning: 'force_all_finite' was renamed to 'ensure_all_finite' in 1.6 and will be removed in 1.8.\n",
      "  warnings.warn(\n"
     ]
    },
    {
     "name": "stdout",
     "output_type": "stream",
     "text": [
      "Los índices de df_real y dfcorpus están alineados correctamente.\n",
      "Todas las preguntas coinciden entre df y dfcorpus.\n"
     ]
    },
    {
     "name": "stderr",
     "output_type": "stream",
     "text": [
      "2025-05-11 16:32:49,123 - INFO - Silhouette Score: 0.584\n",
      "/Users/thesportydar/local_dev/reis-app/src/lib/report/.venv/lib/python3.13/site-packages/sklearn/utils/deprecation.py:151: FutureWarning: 'force_all_finite' was renamed to 'ensure_all_finite' in 1.6 and will be removed in 1.8.\n",
      "  warnings.warn(\n"
     ]
    },
    {
     "name": "stdout",
     "output_type": "stream",
     "text": [
      "Los índices de df_real y dfcorpus están alineados correctamente.\n",
      "Todas las preguntas coinciden entre df y dfcorpus.\n"
     ]
    },
    {
     "name": "stderr",
     "output_type": "stream",
     "text": [
      "2025-05-11 16:32:49,386 - INFO - Silhouette Score: 0.678\n",
      "/Users/thesportydar/local_dev/reis-app/src/lib/report/.venv/lib/python3.13/site-packages/sklearn/utils/deprecation.py:151: FutureWarning: 'force_all_finite' was renamed to 'ensure_all_finite' in 1.6 and will be removed in 1.8.\n",
      "  warnings.warn(\n"
     ]
    },
    {
     "name": "stdout",
     "output_type": "stream",
     "text": [
      "Los índices de df_real y dfcorpus están alineados correctamente.\n",
      "Todas las preguntas coinciden entre df y dfcorpus.\n"
     ]
    },
    {
     "name": "stderr",
     "output_type": "stream",
     "text": [
      "2025-05-11 16:32:49,640 - INFO - Silhouette Score: 0.625\n",
      "/Users/thesportydar/local_dev/reis-app/src/lib/report/.venv/lib/python3.13/site-packages/sklearn/utils/deprecation.py:151: FutureWarning: 'force_all_finite' was renamed to 'ensure_all_finite' in 1.6 and will be removed in 1.8.\n",
      "  warnings.warn(\n"
     ]
    },
    {
     "name": "stdout",
     "output_type": "stream",
     "text": [
      "Los índices de df_real y dfcorpus están alineados correctamente.\n",
      "Todas las preguntas coinciden entre df y dfcorpus.\n"
     ]
    },
    {
     "name": "stderr",
     "output_type": "stream",
     "text": [
      "2025-05-11 16:32:49,898 - INFO - Silhouette Score: 0.624\n",
      "/Users/thesportydar/local_dev/reis-app/src/lib/report/.venv/lib/python3.13/site-packages/sklearn/utils/deprecation.py:151: FutureWarning: 'force_all_finite' was renamed to 'ensure_all_finite' in 1.6 and will be removed in 1.8.\n",
      "  warnings.warn(\n"
     ]
    },
    {
     "name": "stdout",
     "output_type": "stream",
     "text": [
      "Los índices de df_real y dfcorpus están alineados correctamente.\n",
      "Todas las preguntas coinciden entre df y dfcorpus.\n"
     ]
    },
    {
     "name": "stderr",
     "output_type": "stream",
     "text": [
      "2025-05-11 16:32:50,159 - INFO - Silhouette Score: 0.695\n",
      "/Users/thesportydar/local_dev/reis-app/src/lib/report/.venv/lib/python3.13/site-packages/sklearn/utils/deprecation.py:151: FutureWarning: 'force_all_finite' was renamed to 'ensure_all_finite' in 1.6 and will be removed in 1.8.\n",
      "  warnings.warn(\n"
     ]
    },
    {
     "name": "stdout",
     "output_type": "stream",
     "text": [
      "Los índices de df_real y dfcorpus están alineados correctamente.\n",
      "Todas las preguntas coinciden entre df y dfcorpus.\n"
     ]
    },
    {
     "name": "stderr",
     "output_type": "stream",
     "text": [
      "2025-05-11 16:32:50,440 - INFO - Silhouette Score: 0.699\n",
      "/Users/thesportydar/local_dev/reis-app/src/lib/report/.venv/lib/python3.13/site-packages/sklearn/utils/deprecation.py:151: FutureWarning: 'force_all_finite' was renamed to 'ensure_all_finite' in 1.6 and will be removed in 1.8.\n",
      "  warnings.warn(\n"
     ]
    },
    {
     "name": "stdout",
     "output_type": "stream",
     "text": [
      "Los índices de df_real y dfcorpus están alineados correctamente.\n",
      "Todas las preguntas coinciden entre df y dfcorpus.\n"
     ]
    },
    {
     "name": "stderr",
     "output_type": "stream",
     "text": [
      "2025-05-11 16:32:50,702 - INFO - Silhouette Score: 0.616\n",
      "/Users/thesportydar/local_dev/reis-app/src/lib/report/.venv/lib/python3.13/site-packages/sklearn/utils/deprecation.py:151: FutureWarning: 'force_all_finite' was renamed to 'ensure_all_finite' in 1.6 and will be removed in 1.8.\n",
      "  warnings.warn(\n"
     ]
    },
    {
     "name": "stdout",
     "output_type": "stream",
     "text": [
      "Los índices de df_real y dfcorpus están alineados correctamente.\n",
      "Todas las preguntas coinciden entre df y dfcorpus.\n"
     ]
    },
    {
     "name": "stderr",
     "output_type": "stream",
     "text": [
      "2025-05-11 16:32:50,956 - INFO - Silhouette Score: 0.678\n",
      "/Users/thesportydar/local_dev/reis-app/src/lib/report/.venv/lib/python3.13/site-packages/sklearn/utils/deprecation.py:151: FutureWarning: 'force_all_finite' was renamed to 'ensure_all_finite' in 1.6 and will be removed in 1.8.\n",
      "  warnings.warn(\n"
     ]
    },
    {
     "name": "stdout",
     "output_type": "stream",
     "text": [
      "Los índices de df_real y dfcorpus están alineados correctamente.\n",
      "Todas las preguntas coinciden entre df y dfcorpus.\n"
     ]
    },
    {
     "name": "stderr",
     "output_type": "stream",
     "text": [
      "2025-05-11 16:32:51,211 - INFO - Silhouette Score: 0.596\n",
      "/Users/thesportydar/local_dev/reis-app/src/lib/report/.venv/lib/python3.13/site-packages/sklearn/utils/deprecation.py:151: FutureWarning: 'force_all_finite' was renamed to 'ensure_all_finite' in 1.6 and will be removed in 1.8.\n",
      "  warnings.warn(\n"
     ]
    },
    {
     "name": "stdout",
     "output_type": "stream",
     "text": [
      "Los índices de df_real y dfcorpus están alineados correctamente.\n",
      "Todas las preguntas coinciden entre df y dfcorpus.\n"
     ]
    },
    {
     "name": "stderr",
     "output_type": "stream",
     "text": [
      "2025-05-11 16:32:51,469 - INFO - Silhouette Score: 0.674\n",
      "/Users/thesportydar/local_dev/reis-app/src/lib/report/.venv/lib/python3.13/site-packages/sklearn/utils/deprecation.py:151: FutureWarning: 'force_all_finite' was renamed to 'ensure_all_finite' in 1.6 and will be removed in 1.8.\n",
      "  warnings.warn(\n"
     ]
    },
    {
     "name": "stdout",
     "output_type": "stream",
     "text": [
      "Los índices de df_real y dfcorpus están alineados correctamente.\n",
      "Todas las preguntas coinciden entre df y dfcorpus.\n"
     ]
    },
    {
     "name": "stderr",
     "output_type": "stream",
     "text": [
      "2025-05-11 16:32:51,726 - INFO - Silhouette Score: 0.710\n",
      "/Users/thesportydar/local_dev/reis-app/src/lib/report/.venv/lib/python3.13/site-packages/sklearn/utils/deprecation.py:151: FutureWarning: 'force_all_finite' was renamed to 'ensure_all_finite' in 1.6 and will be removed in 1.8.\n",
      "  warnings.warn(\n"
     ]
    },
    {
     "name": "stdout",
     "output_type": "stream",
     "text": [
      "Los índices de df_real y dfcorpus están alineados correctamente.\n",
      "Todas las preguntas coinciden entre df y dfcorpus.\n"
     ]
    },
    {
     "name": "stderr",
     "output_type": "stream",
     "text": [
      "2025-05-11 16:32:52,014 - INFO - Silhouette Score: 0.656\n",
      "/Users/thesportydar/local_dev/reis-app/src/lib/report/.venv/lib/python3.13/site-packages/sklearn/utils/deprecation.py:151: FutureWarning: 'force_all_finite' was renamed to 'ensure_all_finite' in 1.6 and will be removed in 1.8.\n",
      "  warnings.warn(\n"
     ]
    },
    {
     "name": "stdout",
     "output_type": "stream",
     "text": [
      "Los índices de df_real y dfcorpus están alineados correctamente.\n",
      "Todas las preguntas coinciden entre df y dfcorpus.\n"
     ]
    },
    {
     "name": "stderr",
     "output_type": "stream",
     "text": [
      "2025-05-11 16:32:52,293 - INFO - Silhouette Score: 0.647\n",
      "/Users/thesportydar/local_dev/reis-app/src/lib/report/.venv/lib/python3.13/site-packages/sklearn/utils/deprecation.py:151: FutureWarning: 'force_all_finite' was renamed to 'ensure_all_finite' in 1.6 and will be removed in 1.8.\n",
      "  warnings.warn(\n"
     ]
    },
    {
     "name": "stdout",
     "output_type": "stream",
     "text": [
      "Los índices de df_real y dfcorpus están alineados correctamente.\n",
      "Todas las preguntas coinciden entre df y dfcorpus.\n"
     ]
    },
    {
     "name": "stderr",
     "output_type": "stream",
     "text": [
      "2025-05-11 16:32:52,551 - INFO - Silhouette Score: 0.651\n",
      "/Users/thesportydar/local_dev/reis-app/src/lib/report/.venv/lib/python3.13/site-packages/sklearn/utils/deprecation.py:151: FutureWarning: 'force_all_finite' was renamed to 'ensure_all_finite' in 1.6 and will be removed in 1.8.\n",
      "  warnings.warn(\n"
     ]
    },
    {
     "name": "stdout",
     "output_type": "stream",
     "text": [
      "Los índices de df_real y dfcorpus están alineados correctamente.\n",
      "Todas las preguntas coinciden entre df y dfcorpus.\n"
     ]
    },
    {
     "name": "stderr",
     "output_type": "stream",
     "text": [
      "2025-05-11 16:32:52,807 - INFO - Silhouette Score: 0.693\n",
      "/Users/thesportydar/local_dev/reis-app/src/lib/report/.venv/lib/python3.13/site-packages/sklearn/utils/deprecation.py:151: FutureWarning: 'force_all_finite' was renamed to 'ensure_all_finite' in 1.6 and will be removed in 1.8.\n",
      "  warnings.warn(\n"
     ]
    },
    {
     "name": "stdout",
     "output_type": "stream",
     "text": [
      "Los índices de df_real y dfcorpus están alineados correctamente.\n",
      "Todas las preguntas coinciden entre df y dfcorpus.\n"
     ]
    },
    {
     "name": "stderr",
     "output_type": "stream",
     "text": [
      "2025-05-11 16:32:53,071 - INFO - Silhouette Score: 0.667\n",
      "/Users/thesportydar/local_dev/reis-app/src/lib/report/.venv/lib/python3.13/site-packages/sklearn/utils/deprecation.py:151: FutureWarning: 'force_all_finite' was renamed to 'ensure_all_finite' in 1.6 and will be removed in 1.8.\n",
      "  warnings.warn(\n"
     ]
    },
    {
     "name": "stdout",
     "output_type": "stream",
     "text": [
      "Los índices de df_real y dfcorpus están alineados correctamente.\n",
      "Todas las preguntas coinciden entre df y dfcorpus.\n"
     ]
    },
    {
     "name": "stderr",
     "output_type": "stream",
     "text": [
      "2025-05-11 16:32:53,328 - INFO - Silhouette Score: 0.634\n",
      "/Users/thesportydar/local_dev/reis-app/src/lib/report/.venv/lib/python3.13/site-packages/sklearn/utils/deprecation.py:151: FutureWarning: 'force_all_finite' was renamed to 'ensure_all_finite' in 1.6 and will be removed in 1.8.\n",
      "  warnings.warn(\n"
     ]
    },
    {
     "name": "stdout",
     "output_type": "stream",
     "text": [
      "Los índices de df_real y dfcorpus están alineados correctamente.\n",
      "Todas las preguntas coinciden entre df y dfcorpus.\n"
     ]
    },
    {
     "name": "stderr",
     "output_type": "stream",
     "text": [
      "2025-05-11 16:32:53,615 - INFO - Silhouette Score: 0.593\n",
      "/Users/thesportydar/local_dev/reis-app/src/lib/report/.venv/lib/python3.13/site-packages/sklearn/utils/deprecation.py:151: FutureWarning: 'force_all_finite' was renamed to 'ensure_all_finite' in 1.6 and will be removed in 1.8.\n",
      "  warnings.warn(\n"
     ]
    },
    {
     "name": "stdout",
     "output_type": "stream",
     "text": [
      "Los índices de df_real y dfcorpus están alineados correctamente.\n",
      "Todas las preguntas coinciden entre df y dfcorpus.\n"
     ]
    },
    {
     "name": "stderr",
     "output_type": "stream",
     "text": [
      "2025-05-11 16:32:53,874 - INFO - Silhouette Score: 0.661\n",
      "/Users/thesportydar/local_dev/reis-app/src/lib/report/.venv/lib/python3.13/site-packages/sklearn/utils/deprecation.py:151: FutureWarning: 'force_all_finite' was renamed to 'ensure_all_finite' in 1.6 and will be removed in 1.8.\n",
      "  warnings.warn(\n"
     ]
    },
    {
     "name": "stdout",
     "output_type": "stream",
     "text": [
      "Los índices de df_real y dfcorpus están alineados correctamente.\n",
      "Todas las preguntas coinciden entre df y dfcorpus.\n"
     ]
    },
    {
     "name": "stderr",
     "output_type": "stream",
     "text": [
      "2025-05-11 16:32:54,128 - INFO - Silhouette Score: 0.660\n",
      "/Users/thesportydar/local_dev/reis-app/src/lib/report/.venv/lib/python3.13/site-packages/sklearn/utils/deprecation.py:151: FutureWarning: 'force_all_finite' was renamed to 'ensure_all_finite' in 1.6 and will be removed in 1.8.\n",
      "  warnings.warn(\n"
     ]
    },
    {
     "name": "stdout",
     "output_type": "stream",
     "text": [
      "Los índices de df_real y dfcorpus están alineados correctamente.\n",
      "Todas las preguntas coinciden entre df y dfcorpus.\n"
     ]
    },
    {
     "name": "stderr",
     "output_type": "stream",
     "text": [
      "2025-05-11 16:32:54,388 - INFO - Silhouette Score: 0.586\n",
      "/Users/thesportydar/local_dev/reis-app/src/lib/report/.venv/lib/python3.13/site-packages/sklearn/utils/deprecation.py:151: FutureWarning: 'force_all_finite' was renamed to 'ensure_all_finite' in 1.6 and will be removed in 1.8.\n",
      "  warnings.warn(\n"
     ]
    },
    {
     "name": "stdout",
     "output_type": "stream",
     "text": [
      "Los índices de df_real y dfcorpus están alineados correctamente.\n",
      "Todas las preguntas coinciden entre df y dfcorpus.\n"
     ]
    },
    {
     "name": "stderr",
     "output_type": "stream",
     "text": [
      "2025-05-11 16:32:54,650 - INFO - Silhouette Score: 0.669\n",
      "/Users/thesportydar/local_dev/reis-app/src/lib/report/.venv/lib/python3.13/site-packages/sklearn/utils/deprecation.py:151: FutureWarning: 'force_all_finite' was renamed to 'ensure_all_finite' in 1.6 and will be removed in 1.8.\n",
      "  warnings.warn(\n"
     ]
    },
    {
     "name": "stdout",
     "output_type": "stream",
     "text": [
      "Los índices de df_real y dfcorpus están alineados correctamente.\n",
      "Todas las preguntas coinciden entre df y dfcorpus.\n"
     ]
    },
    {
     "name": "stderr",
     "output_type": "stream",
     "text": [
      "2025-05-11 16:32:54,906 - INFO - Silhouette Score: 0.681\n",
      "/Users/thesportydar/local_dev/reis-app/src/lib/report/.venv/lib/python3.13/site-packages/sklearn/utils/deprecation.py:151: FutureWarning: 'force_all_finite' was renamed to 'ensure_all_finite' in 1.6 and will be removed in 1.8.\n",
      "  warnings.warn(\n"
     ]
    },
    {
     "name": "stdout",
     "output_type": "stream",
     "text": [
      "Los índices de df_real y dfcorpus están alineados correctamente.\n",
      "Todas las preguntas coinciden entre df y dfcorpus.\n"
     ]
    },
    {
     "name": "stderr",
     "output_type": "stream",
     "text": [
      "2025-05-11 16:32:55,194 - INFO - Silhouette Score: 0.700\n",
      "/Users/thesportydar/local_dev/reis-app/src/lib/report/.venv/lib/python3.13/site-packages/sklearn/utils/deprecation.py:151: FutureWarning: 'force_all_finite' was renamed to 'ensure_all_finite' in 1.6 and will be removed in 1.8.\n",
      "  warnings.warn(\n"
     ]
    },
    {
     "name": "stdout",
     "output_type": "stream",
     "text": [
      "Los índices de df_real y dfcorpus están alineados correctamente.\n",
      "Todas las preguntas coinciden entre df y dfcorpus.\n"
     ]
    },
    {
     "name": "stderr",
     "output_type": "stream",
     "text": [
      "2025-05-11 16:32:55,455 - INFO - Silhouette Score: 0.577\n",
      "/Users/thesportydar/local_dev/reis-app/src/lib/report/.venv/lib/python3.13/site-packages/sklearn/utils/deprecation.py:151: FutureWarning: 'force_all_finite' was renamed to 'ensure_all_finite' in 1.6 and will be removed in 1.8.\n",
      "  warnings.warn(\n"
     ]
    },
    {
     "name": "stdout",
     "output_type": "stream",
     "text": [
      "Los índices de df_real y dfcorpus están alineados correctamente.\n",
      "Todas las preguntas coinciden entre df y dfcorpus.\n"
     ]
    },
    {
     "name": "stderr",
     "output_type": "stream",
     "text": [
      "2025-05-11 16:32:55,719 - INFO - Silhouette Score: 0.516\n",
      "/Users/thesportydar/local_dev/reis-app/src/lib/report/.venv/lib/python3.13/site-packages/sklearn/utils/deprecation.py:151: FutureWarning: 'force_all_finite' was renamed to 'ensure_all_finite' in 1.6 and will be removed in 1.8.\n",
      "  warnings.warn(\n"
     ]
    },
    {
     "name": "stdout",
     "output_type": "stream",
     "text": [
      "Los índices de df_real y dfcorpus están alineados correctamente.\n",
      "Todas las preguntas coinciden entre df y dfcorpus.\n"
     ]
    },
    {
     "name": "stderr",
     "output_type": "stream",
     "text": [
      "2025-05-11 16:32:55,979 - INFO - Silhouette Score: 0.686\n",
      "/Users/thesportydar/local_dev/reis-app/src/lib/report/.venv/lib/python3.13/site-packages/sklearn/utils/deprecation.py:151: FutureWarning: 'force_all_finite' was renamed to 'ensure_all_finite' in 1.6 and will be removed in 1.8.\n",
      "  warnings.warn(\n"
     ]
    },
    {
     "name": "stdout",
     "output_type": "stream",
     "text": [
      "Los índices de df_real y dfcorpus están alineados correctamente.\n",
      "Todas las preguntas coinciden entre df y dfcorpus.\n"
     ]
    },
    {
     "name": "stderr",
     "output_type": "stream",
     "text": [
      "2025-05-11 16:32:56,235 - INFO - Silhouette Score: 0.695\n",
      "/Users/thesportydar/local_dev/reis-app/src/lib/report/.venv/lib/python3.13/site-packages/sklearn/utils/deprecation.py:151: FutureWarning: 'force_all_finite' was renamed to 'ensure_all_finite' in 1.6 and will be removed in 1.8.\n",
      "  warnings.warn(\n"
     ]
    },
    {
     "name": "stdout",
     "output_type": "stream",
     "text": [
      "Los índices de df_real y dfcorpus están alineados correctamente.\n",
      "Todas las preguntas coinciden entre df y dfcorpus.\n"
     ]
    },
    {
     "name": "stderr",
     "output_type": "stream",
     "text": [
      "2025-05-11 16:32:56,493 - INFO - Silhouette Score: 0.698\n",
      "/Users/thesportydar/local_dev/reis-app/src/lib/report/.venv/lib/python3.13/site-packages/sklearn/utils/deprecation.py:151: FutureWarning: 'force_all_finite' was renamed to 'ensure_all_finite' in 1.6 and will be removed in 1.8.\n",
      "  warnings.warn(\n"
     ]
    },
    {
     "name": "stdout",
     "output_type": "stream",
     "text": [
      "Los índices de df_real y dfcorpus están alineados correctamente.\n",
      "Todas las preguntas coinciden entre df y dfcorpus.\n"
     ]
    },
    {
     "name": "stderr",
     "output_type": "stream",
     "text": [
      "2025-05-11 16:32:56,784 - INFO - Silhouette Score: 0.622\n",
      "/Users/thesportydar/local_dev/reis-app/src/lib/report/.venv/lib/python3.13/site-packages/sklearn/utils/deprecation.py:151: FutureWarning: 'force_all_finite' was renamed to 'ensure_all_finite' in 1.6 and will be removed in 1.8.\n",
      "  warnings.warn(\n"
     ]
    },
    {
     "name": "stdout",
     "output_type": "stream",
     "text": [
      "Los índices de df_real y dfcorpus están alineados correctamente.\n",
      "Todas las preguntas coinciden entre df y dfcorpus.\n"
     ]
    },
    {
     "name": "stderr",
     "output_type": "stream",
     "text": [
      "2025-05-11 16:32:57,045 - INFO - Silhouette Score: 0.683\n",
      "/Users/thesportydar/local_dev/reis-app/src/lib/report/.venv/lib/python3.13/site-packages/sklearn/utils/deprecation.py:151: FutureWarning: 'force_all_finite' was renamed to 'ensure_all_finite' in 1.6 and will be removed in 1.8.\n",
      "  warnings.warn(\n"
     ]
    },
    {
     "name": "stdout",
     "output_type": "stream",
     "text": [
      "Los índices de df_real y dfcorpus están alineados correctamente.\n",
      "Todas las preguntas coinciden entre df y dfcorpus.\n"
     ]
    },
    {
     "name": "stderr",
     "output_type": "stream",
     "text": [
      "2025-05-11 16:32:57,314 - INFO - Silhouette Score: 0.574\n",
      "/Users/thesportydar/local_dev/reis-app/src/lib/report/.venv/lib/python3.13/site-packages/sklearn/utils/deprecation.py:151: FutureWarning: 'force_all_finite' was renamed to 'ensure_all_finite' in 1.6 and will be removed in 1.8.\n",
      "  warnings.warn(\n"
     ]
    },
    {
     "name": "stdout",
     "output_type": "stream",
     "text": [
      "Los índices de df_real y dfcorpus están alineados correctamente.\n",
      "Todas las preguntas coinciden entre df y dfcorpus.\n"
     ]
    },
    {
     "name": "stderr",
     "output_type": "stream",
     "text": [
      "2025-05-11 16:32:57,571 - INFO - Silhouette Score: 0.626\n",
      "/Users/thesportydar/local_dev/reis-app/src/lib/report/.venv/lib/python3.13/site-packages/sklearn/utils/deprecation.py:151: FutureWarning: 'force_all_finite' was renamed to 'ensure_all_finite' in 1.6 and will be removed in 1.8.\n",
      "  warnings.warn(\n"
     ]
    },
    {
     "name": "stdout",
     "output_type": "stream",
     "text": [
      "Los índices de df_real y dfcorpus están alineados correctamente.\n",
      "Todas las preguntas coinciden entre df y dfcorpus.\n"
     ]
    },
    {
     "name": "stderr",
     "output_type": "stream",
     "text": [
      "2025-05-11 16:32:57,834 - INFO - Silhouette Score: 0.681\n",
      "/Users/thesportydar/local_dev/reis-app/src/lib/report/.venv/lib/python3.13/site-packages/sklearn/utils/deprecation.py:151: FutureWarning: 'force_all_finite' was renamed to 'ensure_all_finite' in 1.6 and will be removed in 1.8.\n",
      "  warnings.warn(\n"
     ]
    },
    {
     "name": "stdout",
     "output_type": "stream",
     "text": [
      "Los índices de df_real y dfcorpus están alineados correctamente.\n",
      "Todas las preguntas coinciden entre df y dfcorpus.\n"
     ]
    },
    {
     "name": "stderr",
     "output_type": "stream",
     "text": [
      "2025-05-11 16:32:58,097 - INFO - Silhouette Score: 0.637\n",
      "/Users/thesportydar/local_dev/reis-app/src/lib/report/.venv/lib/python3.13/site-packages/sklearn/utils/deprecation.py:151: FutureWarning: 'force_all_finite' was renamed to 'ensure_all_finite' in 1.6 and will be removed in 1.8.\n",
      "  warnings.warn(\n"
     ]
    },
    {
     "name": "stdout",
     "output_type": "stream",
     "text": [
      "Los índices de df_real y dfcorpus están alineados correctamente.\n",
      "Todas las preguntas coinciden entre df y dfcorpus.\n"
     ]
    },
    {
     "name": "stderr",
     "output_type": "stream",
     "text": [
      "2025-05-11 16:32:58,415 - INFO - Silhouette Score: 0.616\n",
      "/Users/thesportydar/local_dev/reis-app/src/lib/report/.venv/lib/python3.13/site-packages/sklearn/utils/deprecation.py:151: FutureWarning: 'force_all_finite' was renamed to 'ensure_all_finite' in 1.6 and will be removed in 1.8.\n",
      "  warnings.warn(\n"
     ]
    },
    {
     "name": "stdout",
     "output_type": "stream",
     "text": [
      "Los índices de df_real y dfcorpus están alineados correctamente.\n",
      "Todas las preguntas coinciden entre df y dfcorpus.\n"
     ]
    },
    {
     "name": "stderr",
     "output_type": "stream",
     "text": [
      "2025-05-11 16:32:58,673 - INFO - Silhouette Score: 0.686\n",
      "/Users/thesportydar/local_dev/reis-app/src/lib/report/.venv/lib/python3.13/site-packages/sklearn/utils/deprecation.py:151: FutureWarning: 'force_all_finite' was renamed to 'ensure_all_finite' in 1.6 and will be removed in 1.8.\n",
      "  warnings.warn(\n"
     ]
    },
    {
     "name": "stdout",
     "output_type": "stream",
     "text": [
      "Los índices de df_real y dfcorpus están alineados correctamente.\n",
      "Todas las preguntas coinciden entre df y dfcorpus.\n"
     ]
    },
    {
     "name": "stderr",
     "output_type": "stream",
     "text": [
      "2025-05-11 16:32:58,932 - INFO - Silhouette Score: 0.649\n",
      "/Users/thesportydar/local_dev/reis-app/src/lib/report/.venv/lib/python3.13/site-packages/sklearn/utils/deprecation.py:151: FutureWarning: 'force_all_finite' was renamed to 'ensure_all_finite' in 1.6 and will be removed in 1.8.\n",
      "  warnings.warn(\n"
     ]
    },
    {
     "name": "stdout",
     "output_type": "stream",
     "text": [
      "Los índices de df_real y dfcorpus están alineados correctamente.\n",
      "Todas las preguntas coinciden entre df y dfcorpus.\n"
     ]
    },
    {
     "name": "stderr",
     "output_type": "stream",
     "text": [
      "2025-05-11 16:32:59,199 - INFO - Silhouette Score: 0.639\n",
      "/Users/thesportydar/local_dev/reis-app/src/lib/report/.venv/lib/python3.13/site-packages/sklearn/utils/deprecation.py:151: FutureWarning: 'force_all_finite' was renamed to 'ensure_all_finite' in 1.6 and will be removed in 1.8.\n",
      "  warnings.warn(\n"
     ]
    },
    {
     "name": "stdout",
     "output_type": "stream",
     "text": [
      "Los índices de df_real y dfcorpus están alineados correctamente.\n",
      "Todas las preguntas coinciden entre df y dfcorpus.\n"
     ]
    },
    {
     "name": "stderr",
     "output_type": "stream",
     "text": [
      "2025-05-11 16:32:59,459 - INFO - Silhouette Score: 0.708\n",
      "/Users/thesportydar/local_dev/reis-app/src/lib/report/.venv/lib/python3.13/site-packages/sklearn/utils/deprecation.py:151: FutureWarning: 'force_all_finite' was renamed to 'ensure_all_finite' in 1.6 and will be removed in 1.8.\n",
      "  warnings.warn(\n"
     ]
    },
    {
     "name": "stdout",
     "output_type": "stream",
     "text": [
      "Los índices de df_real y dfcorpus están alineados correctamente.\n",
      "Todas las preguntas coinciden entre df y dfcorpus.\n"
     ]
    },
    {
     "name": "stderr",
     "output_type": "stream",
     "text": [
      "2025-05-11 16:32:59,750 - INFO - Silhouette Score: 0.652\n",
      "/Users/thesportydar/local_dev/reis-app/src/lib/report/.venv/lib/python3.13/site-packages/sklearn/utils/deprecation.py:151: FutureWarning: 'force_all_finite' was renamed to 'ensure_all_finite' in 1.6 and will be removed in 1.8.\n",
      "  warnings.warn(\n"
     ]
    },
    {
     "name": "stdout",
     "output_type": "stream",
     "text": [
      "Los índices de df_real y dfcorpus están alineados correctamente.\n",
      "Todas las preguntas coinciden entre df y dfcorpus.\n"
     ]
    },
    {
     "name": "stderr",
     "output_type": "stream",
     "text": [
      "2025-05-11 16:33:00,006 - INFO - Silhouette Score: 0.663\n",
      "/Users/thesportydar/local_dev/reis-app/src/lib/report/.venv/lib/python3.13/site-packages/sklearn/utils/deprecation.py:151: FutureWarning: 'force_all_finite' was renamed to 'ensure_all_finite' in 1.6 and will be removed in 1.8.\n",
      "  warnings.warn(\n"
     ]
    },
    {
     "name": "stdout",
     "output_type": "stream",
     "text": [
      "Los índices de df_real y dfcorpus están alineados correctamente.\n",
      "Todas las preguntas coinciden entre df y dfcorpus.\n"
     ]
    },
    {
     "name": "stderr",
     "output_type": "stream",
     "text": [
      "2025-05-11 16:33:00,267 - INFO - Silhouette Score: 0.661\n",
      "/Users/thesportydar/local_dev/reis-app/src/lib/report/.venv/lib/python3.13/site-packages/sklearn/utils/deprecation.py:151: FutureWarning: 'force_all_finite' was renamed to 'ensure_all_finite' in 1.6 and will be removed in 1.8.\n",
      "  warnings.warn(\n"
     ]
    },
    {
     "name": "stdout",
     "output_type": "stream",
     "text": [
      "Los índices de df_real y dfcorpus están alineados correctamente.\n",
      "Todas las preguntas coinciden entre df y dfcorpus.\n"
     ]
    },
    {
     "name": "stderr",
     "output_type": "stream",
     "text": [
      "2025-05-11 16:33:00,523 - INFO - Silhouette Score: 0.678\n",
      "/Users/thesportydar/local_dev/reis-app/src/lib/report/.venv/lib/python3.13/site-packages/sklearn/utils/deprecation.py:151: FutureWarning: 'force_all_finite' was renamed to 'ensure_all_finite' in 1.6 and will be removed in 1.8.\n",
      "  warnings.warn(\n"
     ]
    },
    {
     "name": "stdout",
     "output_type": "stream",
     "text": [
      "Los índices de df_real y dfcorpus están alineados correctamente.\n",
      "Todas las preguntas coinciden entre df y dfcorpus.\n"
     ]
    },
    {
     "name": "stderr",
     "output_type": "stream",
     "text": [
      "2025-05-11 16:33:00,785 - INFO - Silhouette Score: 0.666\n",
      "/Users/thesportydar/local_dev/reis-app/src/lib/report/.venv/lib/python3.13/site-packages/sklearn/utils/deprecation.py:151: FutureWarning: 'force_all_finite' was renamed to 'ensure_all_finite' in 1.6 and will be removed in 1.8.\n",
      "  warnings.warn(\n"
     ]
    },
    {
     "name": "stdout",
     "output_type": "stream",
     "text": [
      "Los índices de df_real y dfcorpus están alineados correctamente.\n",
      "Todas las preguntas coinciden entre df y dfcorpus.\n"
     ]
    },
    {
     "name": "stderr",
     "output_type": "stream",
     "text": [
      "2025-05-11 16:33:01,083 - INFO - Silhouette Score: 0.607\n",
      "/Users/thesportydar/local_dev/reis-app/src/lib/report/.venv/lib/python3.13/site-packages/sklearn/utils/deprecation.py:151: FutureWarning: 'force_all_finite' was renamed to 'ensure_all_finite' in 1.6 and will be removed in 1.8.\n",
      "  warnings.warn(\n"
     ]
    },
    {
     "name": "stdout",
     "output_type": "stream",
     "text": [
      "Los índices de df_real y dfcorpus están alineados correctamente.\n",
      "Todas las preguntas coinciden entre df y dfcorpus.\n"
     ]
    },
    {
     "name": "stderr",
     "output_type": "stream",
     "text": [
      "2025-05-11 16:33:01,348 - INFO - Silhouette Score: 0.693\n",
      "/Users/thesportydar/local_dev/reis-app/src/lib/report/.venv/lib/python3.13/site-packages/sklearn/utils/deprecation.py:151: FutureWarning: 'force_all_finite' was renamed to 'ensure_all_finite' in 1.6 and will be removed in 1.8.\n",
      "  warnings.warn(\n"
     ]
    },
    {
     "name": "stdout",
     "output_type": "stream",
     "text": [
      "Los índices de df_real y dfcorpus están alineados correctamente.\n",
      "Todas las preguntas coinciden entre df y dfcorpus.\n"
     ]
    },
    {
     "name": "stderr",
     "output_type": "stream",
     "text": [
      "2025-05-11 16:33:01,606 - INFO - Silhouette Score: 0.605\n",
      "/Users/thesportydar/local_dev/reis-app/src/lib/report/.venv/lib/python3.13/site-packages/sklearn/utils/deprecation.py:151: FutureWarning: 'force_all_finite' was renamed to 'ensure_all_finite' in 1.6 and will be removed in 1.8.\n",
      "  warnings.warn(\n"
     ]
    },
    {
     "name": "stdout",
     "output_type": "stream",
     "text": [
      "Los índices de df_real y dfcorpus están alineados correctamente.\n",
      "Todas las preguntas coinciden entre df y dfcorpus.\n"
     ]
    },
    {
     "name": "stderr",
     "output_type": "stream",
     "text": [
      "2025-05-11 16:33:01,861 - INFO - Silhouette Score: 0.645\n",
      "/Users/thesportydar/local_dev/reis-app/src/lib/report/.venv/lib/python3.13/site-packages/sklearn/utils/deprecation.py:151: FutureWarning: 'force_all_finite' was renamed to 'ensure_all_finite' in 1.6 and will be removed in 1.8.\n",
      "  warnings.warn(\n"
     ]
    },
    {
     "name": "stdout",
     "output_type": "stream",
     "text": [
      "Los índices de df_real y dfcorpus están alineados correctamente.\n",
      "Todas las preguntas coinciden entre df y dfcorpus.\n"
     ]
    },
    {
     "name": "stderr",
     "output_type": "stream",
     "text": [
      "2025-05-11 16:33:02,118 - INFO - Silhouette Score: 0.670\n",
      "/Users/thesportydar/local_dev/reis-app/src/lib/report/.venv/lib/python3.13/site-packages/sklearn/utils/deprecation.py:151: FutureWarning: 'force_all_finite' was renamed to 'ensure_all_finite' in 1.6 and will be removed in 1.8.\n",
      "  warnings.warn(\n"
     ]
    },
    {
     "name": "stdout",
     "output_type": "stream",
     "text": [
      "Los índices de df_real y dfcorpus están alineados correctamente.\n",
      "Todas las preguntas coinciden entre df y dfcorpus.\n"
     ]
    },
    {
     "name": "stderr",
     "output_type": "stream",
     "text": [
      "2025-05-11 16:33:02,400 - INFO - Silhouette Score: 0.642\n",
      "/Users/thesportydar/local_dev/reis-app/src/lib/report/.venv/lib/python3.13/site-packages/sklearn/utils/deprecation.py:151: FutureWarning: 'force_all_finite' was renamed to 'ensure_all_finite' in 1.6 and will be removed in 1.8.\n",
      "  warnings.warn(\n"
     ]
    },
    {
     "name": "stdout",
     "output_type": "stream",
     "text": [
      "Los índices de df_real y dfcorpus están alineados correctamente.\n",
      "Todas las preguntas coinciden entre df y dfcorpus.\n"
     ]
    },
    {
     "name": "stderr",
     "output_type": "stream",
     "text": [
      "2025-05-11 16:33:02,678 - INFO - Silhouette Score: 0.679\n",
      "/Users/thesportydar/local_dev/reis-app/src/lib/report/.venv/lib/python3.13/site-packages/sklearn/utils/deprecation.py:151: FutureWarning: 'force_all_finite' was renamed to 'ensure_all_finite' in 1.6 and will be removed in 1.8.\n",
      "  warnings.warn(\n"
     ]
    },
    {
     "name": "stdout",
     "output_type": "stream",
     "text": [
      "Los índices de df_real y dfcorpus están alineados correctamente.\n",
      "Todas las preguntas coinciden entre df y dfcorpus.\n"
     ]
    },
    {
     "name": "stderr",
     "output_type": "stream",
     "text": [
      "2025-05-11 16:33:02,936 - INFO - Silhouette Score: 0.713\n",
      "/Users/thesportydar/local_dev/reis-app/src/lib/report/.venv/lib/python3.13/site-packages/sklearn/utils/deprecation.py:151: FutureWarning: 'force_all_finite' was renamed to 'ensure_all_finite' in 1.6 and will be removed in 1.8.\n",
      "  warnings.warn(\n"
     ]
    },
    {
     "name": "stdout",
     "output_type": "stream",
     "text": [
      "Los índices de df_real y dfcorpus están alineados correctamente.\n",
      "Todas las preguntas coinciden entre df y dfcorpus.\n"
     ]
    },
    {
     "name": "stderr",
     "output_type": "stream",
     "text": [
      "2025-05-11 16:33:03,187 - INFO - Silhouette Score: 0.626\n",
      "/Users/thesportydar/local_dev/reis-app/src/lib/report/.venv/lib/python3.13/site-packages/sklearn/utils/deprecation.py:151: FutureWarning: 'force_all_finite' was renamed to 'ensure_all_finite' in 1.6 and will be removed in 1.8.\n",
      "  warnings.warn(\n"
     ]
    },
    {
     "name": "stdout",
     "output_type": "stream",
     "text": [
      "Los índices de df_real y dfcorpus están alineados correctamente.\n",
      "Todas las preguntas coinciden entre df y dfcorpus.\n"
     ]
    },
    {
     "name": "stderr",
     "output_type": "stream",
     "text": [
      "2025-05-11 16:33:03,450 - INFO - Silhouette Score: 0.592\n",
      "/Users/thesportydar/local_dev/reis-app/src/lib/report/.venv/lib/python3.13/site-packages/sklearn/utils/deprecation.py:151: FutureWarning: 'force_all_finite' was renamed to 'ensure_all_finite' in 1.6 and will be removed in 1.8.\n",
      "  warnings.warn(\n"
     ]
    },
    {
     "name": "stdout",
     "output_type": "stream",
     "text": [
      "Los índices de df_real y dfcorpus están alineados correctamente.\n",
      "Todas las preguntas coinciden entre df y dfcorpus.\n"
     ]
    },
    {
     "name": "stderr",
     "output_type": "stream",
     "text": [
      "2025-05-11 16:33:03,725 - INFO - Silhouette Score: 0.636\n",
      "/Users/thesportydar/local_dev/reis-app/src/lib/report/.venv/lib/python3.13/site-packages/sklearn/utils/deprecation.py:151: FutureWarning: 'force_all_finite' was renamed to 'ensure_all_finite' in 1.6 and will be removed in 1.8.\n",
      "  warnings.warn(\n"
     ]
    },
    {
     "name": "stdout",
     "output_type": "stream",
     "text": [
      "Los índices de df_real y dfcorpus están alineados correctamente.\n",
      "Todas las preguntas coinciden entre df y dfcorpus.\n"
     ]
    },
    {
     "name": "stderr",
     "output_type": "stream",
     "text": [
      "2025-05-11 16:33:04,032 - INFO - Silhouette Score: 0.670\n",
      "/Users/thesportydar/local_dev/reis-app/src/lib/report/.venv/lib/python3.13/site-packages/sklearn/utils/deprecation.py:151: FutureWarning: 'force_all_finite' was renamed to 'ensure_all_finite' in 1.6 and will be removed in 1.8.\n",
      "  warnings.warn(\n"
     ]
    },
    {
     "name": "stdout",
     "output_type": "stream",
     "text": [
      "Los índices de df_real y dfcorpus están alineados correctamente.\n",
      "Todas las preguntas coinciden entre df y dfcorpus.\n"
     ]
    },
    {
     "name": "stderr",
     "output_type": "stream",
     "text": [
      "2025-05-11 16:33:04,336 - INFO - Silhouette Score: 0.717\n",
      "/Users/thesportydar/local_dev/reis-app/src/lib/report/.venv/lib/python3.13/site-packages/sklearn/utils/deprecation.py:151: FutureWarning: 'force_all_finite' was renamed to 'ensure_all_finite' in 1.6 and will be removed in 1.8.\n",
      "  warnings.warn(\n"
     ]
    },
    {
     "name": "stdout",
     "output_type": "stream",
     "text": [
      "Los índices de df_real y dfcorpus están alineados correctamente.\n",
      "Todas las preguntas coinciden entre df y dfcorpus.\n"
     ]
    },
    {
     "name": "stderr",
     "output_type": "stream",
     "text": [
      "2025-05-11 16:33:04,606 - INFO - Silhouette Score: 0.705\n",
      "/Users/thesportydar/local_dev/reis-app/src/lib/report/.venv/lib/python3.13/site-packages/sklearn/utils/deprecation.py:151: FutureWarning: 'force_all_finite' was renamed to 'ensure_all_finite' in 1.6 and will be removed in 1.8.\n",
      "  warnings.warn(\n"
     ]
    },
    {
     "name": "stdout",
     "output_type": "stream",
     "text": [
      "Los índices de df_real y dfcorpus están alineados correctamente.\n",
      "Todas las preguntas coinciden entre df y dfcorpus.\n"
     ]
    },
    {
     "name": "stderr",
     "output_type": "stream",
     "text": [
      "2025-05-11 16:33:04,866 - INFO - Silhouette Score: 0.638\n",
      "/Users/thesportydar/local_dev/reis-app/src/lib/report/.venv/lib/python3.13/site-packages/sklearn/utils/deprecation.py:151: FutureWarning: 'force_all_finite' was renamed to 'ensure_all_finite' in 1.6 and will be removed in 1.8.\n",
      "  warnings.warn(\n"
     ]
    },
    {
     "name": "stdout",
     "output_type": "stream",
     "text": [
      "Los índices de df_real y dfcorpus están alineados correctamente.\n",
      "Todas las preguntas coinciden entre df y dfcorpus.\n"
     ]
    },
    {
     "name": "stderr",
     "output_type": "stream",
     "text": [
      "2025-05-11 16:33:05,122 - INFO - Silhouette Score: 0.558\n",
      "/Users/thesportydar/local_dev/reis-app/src/lib/report/.venv/lib/python3.13/site-packages/sklearn/utils/deprecation.py:151: FutureWarning: 'force_all_finite' was renamed to 'ensure_all_finite' in 1.6 and will be removed in 1.8.\n",
      "  warnings.warn(\n"
     ]
    },
    {
     "name": "stdout",
     "output_type": "stream",
     "text": [
      "Los índices de df_real y dfcorpus están alineados correctamente.\n",
      "Todas las preguntas coinciden entre df y dfcorpus.\n"
     ]
    },
    {
     "name": "stderr",
     "output_type": "stream",
     "text": [
      "2025-05-11 16:33:05,435 - INFO - Silhouette Score: 0.655\n",
      "/Users/thesportydar/local_dev/reis-app/src/lib/report/.venv/lib/python3.13/site-packages/sklearn/utils/deprecation.py:151: FutureWarning: 'force_all_finite' was renamed to 'ensure_all_finite' in 1.6 and will be removed in 1.8.\n",
      "  warnings.warn(\n"
     ]
    },
    {
     "name": "stdout",
     "output_type": "stream",
     "text": [
      "Los índices de df_real y dfcorpus están alineados correctamente.\n",
      "Todas las preguntas coinciden entre df y dfcorpus.\n"
     ]
    },
    {
     "name": "stderr",
     "output_type": "stream",
     "text": [
      "2025-05-11 16:33:05,699 - INFO - Silhouette Score: 0.674\n",
      "/Users/thesportydar/local_dev/reis-app/src/lib/report/.venv/lib/python3.13/site-packages/sklearn/utils/deprecation.py:151: FutureWarning: 'force_all_finite' was renamed to 'ensure_all_finite' in 1.6 and will be removed in 1.8.\n",
      "  warnings.warn(\n"
     ]
    },
    {
     "name": "stdout",
     "output_type": "stream",
     "text": [
      "Los índices de df_real y dfcorpus están alineados correctamente.\n",
      "Todas las preguntas coinciden entre df y dfcorpus.\n"
     ]
    },
    {
     "name": "stderr",
     "output_type": "stream",
     "text": [
      "2025-05-11 16:33:05,956 - INFO - Silhouette Score: 0.670\n",
      "/Users/thesportydar/local_dev/reis-app/src/lib/report/.venv/lib/python3.13/site-packages/sklearn/utils/deprecation.py:151: FutureWarning: 'force_all_finite' was renamed to 'ensure_all_finite' in 1.6 and will be removed in 1.8.\n",
      "  warnings.warn(\n"
     ]
    },
    {
     "name": "stdout",
     "output_type": "stream",
     "text": [
      "Los índices de df_real y dfcorpus están alineados correctamente.\n",
      "Todas las preguntas coinciden entre df y dfcorpus.\n"
     ]
    },
    {
     "name": "stderr",
     "output_type": "stream",
     "text": [
      "2025-05-11 16:33:06,213 - INFO - Silhouette Score: 0.626\n",
      "/Users/thesportydar/local_dev/reis-app/src/lib/report/.venv/lib/python3.13/site-packages/sklearn/utils/deprecation.py:151: FutureWarning: 'force_all_finite' was renamed to 'ensure_all_finite' in 1.6 and will be removed in 1.8.\n",
      "  warnings.warn(\n"
     ]
    },
    {
     "name": "stdout",
     "output_type": "stream",
     "text": [
      "Los índices de df_real y dfcorpus están alineados correctamente.\n",
      "Todas las preguntas coinciden entre df y dfcorpus.\n"
     ]
    },
    {
     "name": "stderr",
     "output_type": "stream",
     "text": [
      "2025-05-11 16:33:06,472 - INFO - Silhouette Score: 0.667\n",
      "/Users/thesportydar/local_dev/reis-app/src/lib/report/.venv/lib/python3.13/site-packages/sklearn/utils/deprecation.py:151: FutureWarning: 'force_all_finite' was renamed to 'ensure_all_finite' in 1.6 and will be removed in 1.8.\n",
      "  warnings.warn(\n"
     ]
    },
    {
     "name": "stdout",
     "output_type": "stream",
     "text": [
      "Los índices de df_real y dfcorpus están alineados correctamente.\n",
      "Todas las preguntas coinciden entre df y dfcorpus.\n"
     ]
    },
    {
     "name": "stderr",
     "output_type": "stream",
     "text": [
      "2025-05-11 16:33:06,767 - INFO - Silhouette Score: 0.630\n",
      "/Users/thesportydar/local_dev/reis-app/src/lib/report/.venv/lib/python3.13/site-packages/sklearn/utils/deprecation.py:151: FutureWarning: 'force_all_finite' was renamed to 'ensure_all_finite' in 1.6 and will be removed in 1.8.\n",
      "  warnings.warn(\n"
     ]
    },
    {
     "name": "stdout",
     "output_type": "stream",
     "text": [
      "Los índices de df_real y dfcorpus están alineados correctamente.\n",
      "Todas las preguntas coinciden entre df y dfcorpus.\n"
     ]
    },
    {
     "name": "stderr",
     "output_type": "stream",
     "text": [
      "2025-05-11 16:33:07,029 - INFO - Silhouette Score: 0.665\n",
      "/Users/thesportydar/local_dev/reis-app/src/lib/report/.venv/lib/python3.13/site-packages/sklearn/utils/deprecation.py:151: FutureWarning: 'force_all_finite' was renamed to 'ensure_all_finite' in 1.6 and will be removed in 1.8.\n",
      "  warnings.warn(\n"
     ]
    },
    {
     "name": "stdout",
     "output_type": "stream",
     "text": [
      "Los índices de df_real y dfcorpus están alineados correctamente.\n",
      "Todas las preguntas coinciden entre df y dfcorpus.\n"
     ]
    },
    {
     "name": "stderr",
     "output_type": "stream",
     "text": [
      "2025-05-11 16:33:07,293 - INFO - Silhouette Score: 0.672\n",
      "/Users/thesportydar/local_dev/reis-app/src/lib/report/.venv/lib/python3.13/site-packages/sklearn/utils/deprecation.py:151: FutureWarning: 'force_all_finite' was renamed to 'ensure_all_finite' in 1.6 and will be removed in 1.8.\n",
      "  warnings.warn(\n"
     ]
    },
    {
     "name": "stdout",
     "output_type": "stream",
     "text": [
      "Los índices de df_real y dfcorpus están alineados correctamente.\n",
      "Todas las preguntas coinciden entre df y dfcorpus.\n"
     ]
    },
    {
     "name": "stderr",
     "output_type": "stream",
     "text": [
      "2025-05-11 16:33:07,551 - INFO - Silhouette Score: 0.673\n",
      "/Users/thesportydar/local_dev/reis-app/src/lib/report/.venv/lib/python3.13/site-packages/sklearn/utils/deprecation.py:151: FutureWarning: 'force_all_finite' was renamed to 'ensure_all_finite' in 1.6 and will be removed in 1.8.\n",
      "  warnings.warn(\n"
     ]
    },
    {
     "name": "stdout",
     "output_type": "stream",
     "text": [
      "Los índices de df_real y dfcorpus están alineados correctamente.\n",
      "Todas las preguntas coinciden entre df y dfcorpus.\n"
     ]
    },
    {
     "name": "stderr",
     "output_type": "stream",
     "text": [
      "2025-05-11 16:33:07,812 - INFO - Silhouette Score: 0.676\n",
      "/Users/thesportydar/local_dev/reis-app/src/lib/report/.venv/lib/python3.13/site-packages/sklearn/utils/deprecation.py:151: FutureWarning: 'force_all_finite' was renamed to 'ensure_all_finite' in 1.6 and will be removed in 1.8.\n",
      "  warnings.warn(\n"
     ]
    },
    {
     "name": "stdout",
     "output_type": "stream",
     "text": [
      "Los índices de df_real y dfcorpus están alineados correctamente.\n",
      "Todas las preguntas coinciden entre df y dfcorpus.\n"
     ]
    },
    {
     "name": "stderr",
     "output_type": "stream",
     "text": [
      "2025-05-11 16:33:08,100 - INFO - Silhouette Score: 0.619\n"
     ]
    },
    {
     "name": "stdout",
     "output_type": "stream",
     "text": [
      "Los índices de df_real y dfcorpus están alineados correctamente.\n",
      "Todas las preguntas coinciden entre df y dfcorpus.\n"
     ]
    }
   ],
   "source": [
    "rei_id = \"a40e039f-c630-4d30-a4db-e812e3106568\"\n",
    "period = \"cdbb4989-6aa7-4663-8dcf-5cee59a6f54a\"\n",
    "#period = \"cdbb4989-6aa7-4663-8dcf-5cee59a6f54b\"\n",
    "db_path = \"sqlite.db\"\n",
    "\n",
    "#embedder_model = 'sentence-transformers/paraphrase-multilingual-MiniLM-L12-v2'\n",
    "embedder_model='sentence-transformers/paraphrase-multilingual-mpnet-base-v2'\n",
    "#embedder_model='sentence-transformers/distiluse-base-multilingual-cased-v2'\n",
    "#embedder_model=\"hiiamsid/sentence_similarity_spanish_es\"\n",
    "#embedder_model='projecte-aina/roberta-base-ca-v2'\n",
    "#model = RobertaEmbedder()\n",
    "\n",
    "num_clusters = 0 # Aleatorio\n",
    "n_components = 10\n",
    "n_neighbors = 15\n",
    "min_dist = 0.1\n",
    "iterations = 500\n",
    "\n",
    "question_clusterer = QuestionClusterer(rei_id, period, num_clusters=num_clusters, embedder_model=embedder_model)\n",
    "question_clusterer.fetch_questions()\n",
    "question_clusterer.preprocess_questions()\n",
    "question_clusterer.generate_embeddings()\n",
    "\n",
    "#iterate 10 times and calculate average, std and min max\n",
    "\n",
    "results_df = pd.DataFrame(columns=['Ground Truth', 'num_clusters', 'n_components', 'n_neighbors', 'Silhouette', 'min_dist', 'ARI', 'NMI', 'Pureza', 'Homogeneidad', 'Completitud', 'V-measure'])\n",
    "for i in range(iterations):\n",
    "    question_clusterer.num_clusters = num_clusters\n",
    "\n",
    "    silhouette = question_clusterer.clusterize_dx_questions(\n",
    "        num_clusters=num_clusters, \n",
    "        n_components=n_components,\n",
    "        n_neighbors=n_neighbors,\n",
    "        min_dist=min_dist\n",
    "    )\n",
    "\n",
    "    # Calculate metrics\n",
    "    met = calculate_metrics(\n",
    "        get_df(df_real, question_clusterer.dfcorpus),\n",
    "        question_clusterer.dfcorpus['cluster'], \n",
    "        cols=['JB', 'KM1', 'NR1', 'MB']\n",
    "    )\n",
    "\n",
    "    #add parameters to metrics\n",
    "    met['num_clusters'] = int(question_clusterer.num_clusters)\n",
    "    met['n_components'] = n_components\n",
    "    met['n_neighbors'] = n_neighbors\n",
    "    met['min_dist'] = min_dist\n",
    "    met['Silhouette'] = silhouette\n",
    "\n",
    "    # Append results to DataFrame\n",
    "    results_df = pd.concat([results_df, met], ignore_index=True)\n"
   ]
  },
  {
   "cell_type": "code",
   "execution_count": 39,
   "id": "3b380f20",
   "metadata": {},
   "outputs": [],
   "source": [
    "pivot = results_df.groupby('Ground Truth').agg(\n",
    "    {\n",
    "        'num_clusters': ['mean', 'std', 'min', 'max'],\n",
    "        'Silhouette': ['mean', 'std', 'min', 'max'],\n",
    "        'AMI': ['mean', 'std', 'min', 'max'],\n",
    "        'ARI': ['mean', 'std', 'min', 'max'],\n",
    "        'NMI': ['mean', 'std', 'min', 'max'],\n",
    "        'Pureza': ['mean', 'std', 'min', 'max'],\n",
    "        'Homogeneidad': ['mean', 'std', 'min', 'max'],\n",
    "        'Completitud': ['mean', 'std', 'min', 'max'],\n",
    "        'V-measure': ['mean', 'std', 'min', 'max']\n",
    "    }\n",
    ")"
   ]
  },
  {
   "cell_type": "code",
   "execution_count": 40,
   "id": "9e33baa8",
   "metadata": {},
   "outputs": [
    {
     "data": {
      "text/html": [
       "<div>\n",
       "<style scoped>\n",
       "    .dataframe tbody tr th:only-of-type {\n",
       "        vertical-align: middle;\n",
       "    }\n",
       "\n",
       "    .dataframe tbody tr th {\n",
       "        vertical-align: top;\n",
       "    }\n",
       "\n",
       "    .dataframe thead tr th {\n",
       "        text-align: left;\n",
       "    }\n",
       "\n",
       "    .dataframe thead tr:last-of-type th {\n",
       "        text-align: right;\n",
       "    }\n",
       "</style>\n",
       "<table border=\"1\" class=\"dataframe\">\n",
       "  <thead>\n",
       "    <tr>\n",
       "      <th></th>\n",
       "      <th colspan=\"4\" halign=\"left\">num_clusters</th>\n",
       "      <th colspan=\"4\" halign=\"left\">Silhouette</th>\n",
       "      <th colspan=\"4\" halign=\"left\">AMI</th>\n",
       "      <th colspan=\"4\" halign=\"left\">ARI</th>\n",
       "      <th colspan=\"4\" halign=\"left\">NMI</th>\n",
       "      <th colspan=\"4\" halign=\"left\">Pureza</th>\n",
       "      <th colspan=\"4\" halign=\"left\">Homogeneidad</th>\n",
       "      <th colspan=\"4\" halign=\"left\">Completitud</th>\n",
       "      <th colspan=\"4\" halign=\"left\">V-measure</th>\n",
       "    </tr>\n",
       "    <tr>\n",
       "      <th></th>\n",
       "      <th>mean</th>\n",
       "      <th>std</th>\n",
       "      <th>min</th>\n",
       "      <th>max</th>\n",
       "      <th>mean</th>\n",
       "      <th>std</th>\n",
       "      <th>min</th>\n",
       "      <th>max</th>\n",
       "      <th>mean</th>\n",
       "      <th>std</th>\n",
       "      <th>min</th>\n",
       "      <th>max</th>\n",
       "      <th>mean</th>\n",
       "      <th>std</th>\n",
       "      <th>min</th>\n",
       "      <th>max</th>\n",
       "      <th>mean</th>\n",
       "      <th>std</th>\n",
       "      <th>min</th>\n",
       "      <th>max</th>\n",
       "      <th>mean</th>\n",
       "      <th>std</th>\n",
       "      <th>min</th>\n",
       "      <th>max</th>\n",
       "      <th>mean</th>\n",
       "      <th>std</th>\n",
       "      <th>min</th>\n",
       "      <th>max</th>\n",
       "      <th>mean</th>\n",
       "      <th>std</th>\n",
       "      <th>min</th>\n",
       "      <th>max</th>\n",
       "      <th>mean</th>\n",
       "      <th>std</th>\n",
       "      <th>min</th>\n",
       "      <th>max</th>\n",
       "    </tr>\n",
       "    <tr>\n",
       "      <th>Ground Truth</th>\n",
       "      <th></th>\n",
       "      <th></th>\n",
       "      <th></th>\n",
       "      <th></th>\n",
       "      <th></th>\n",
       "      <th></th>\n",
       "      <th></th>\n",
       "      <th></th>\n",
       "      <th></th>\n",
       "      <th></th>\n",
       "      <th></th>\n",
       "      <th></th>\n",
       "      <th></th>\n",
       "      <th></th>\n",
       "      <th></th>\n",
       "      <th></th>\n",
       "      <th></th>\n",
       "      <th></th>\n",
       "      <th></th>\n",
       "      <th></th>\n",
       "      <th></th>\n",
       "      <th></th>\n",
       "      <th></th>\n",
       "      <th></th>\n",
       "      <th></th>\n",
       "      <th></th>\n",
       "      <th></th>\n",
       "      <th></th>\n",
       "      <th></th>\n",
       "      <th></th>\n",
       "      <th></th>\n",
       "      <th></th>\n",
       "      <th></th>\n",
       "      <th></th>\n",
       "      <th></th>\n",
       "      <th></th>\n",
       "    </tr>\n",
       "  </thead>\n",
       "  <tbody>\n",
       "    <tr>\n",
       "      <th>JB</th>\n",
       "      <td>12.0</td>\n",
       "      <td>0.0</td>\n",
       "      <td>12</td>\n",
       "      <td>12</td>\n",
       "      <td>0.511834</td>\n",
       "      <td>0.037724</td>\n",
       "      <td>0.405006</td>\n",
       "      <td>0.597206</td>\n",
       "      <td>0.356196</td>\n",
       "      <td>0.022775</td>\n",
       "      <td>0.294963</td>\n",
       "      <td>0.415589</td>\n",
       "      <td>0.238389</td>\n",
       "      <td>0.022835</td>\n",
       "      <td>0.192399</td>\n",
       "      <td>0.290505</td>\n",
       "      <td>0.504495</td>\n",
       "      <td>0.017538</td>\n",
       "      <td>0.456571</td>\n",
       "      <td>0.550590</td>\n",
       "      <td>0.615000</td>\n",
       "      <td>0.020716</td>\n",
       "      <td>0.574468</td>\n",
       "      <td>0.680851</td>\n",
       "      <td>0.549312</td>\n",
       "      <td>0.019271</td>\n",
       "      <td>0.494085</td>\n",
       "      <td>0.600598</td>\n",
       "      <td>0.466454</td>\n",
       "      <td>0.016294</td>\n",
       "      <td>0.424352</td>\n",
       "      <td>0.508269</td>\n",
       "      <td>0.504495</td>\n",
       "      <td>0.017538</td>\n",
       "      <td>0.456571</td>\n",
       "      <td>0.550590</td>\n",
       "    </tr>\n",
       "    <tr>\n",
       "      <th>KM1</th>\n",
       "      <td>12.0</td>\n",
       "      <td>0.0</td>\n",
       "      <td>12</td>\n",
       "      <td>12</td>\n",
       "      <td>0.511834</td>\n",
       "      <td>0.037724</td>\n",
       "      <td>0.405006</td>\n",
       "      <td>0.597206</td>\n",
       "      <td>0.187420</td>\n",
       "      <td>0.018357</td>\n",
       "      <td>0.139338</td>\n",
       "      <td>0.226983</td>\n",
       "      <td>0.100366</td>\n",
       "      <td>0.012982</td>\n",
       "      <td>0.058045</td>\n",
       "      <td>0.126380</td>\n",
       "      <td>0.397209</td>\n",
       "      <td>0.013844</td>\n",
       "      <td>0.360536</td>\n",
       "      <td>0.426978</td>\n",
       "      <td>0.539787</td>\n",
       "      <td>0.015016</td>\n",
       "      <td>0.500000</td>\n",
       "      <td>0.574468</td>\n",
       "      <td>0.439952</td>\n",
       "      <td>0.015832</td>\n",
       "      <td>0.397608</td>\n",
       "      <td>0.473924</td>\n",
       "      <td>0.362047</td>\n",
       "      <td>0.012425</td>\n",
       "      <td>0.329787</td>\n",
       "      <td>0.388962</td>\n",
       "      <td>0.397209</td>\n",
       "      <td>0.013844</td>\n",
       "      <td>0.360536</td>\n",
       "      <td>0.426978</td>\n",
       "    </tr>\n",
       "    <tr>\n",
       "      <th>MB</th>\n",
       "      <td>12.0</td>\n",
       "      <td>0.0</td>\n",
       "      <td>12</td>\n",
       "      <td>12</td>\n",
       "      <td>0.511834</td>\n",
       "      <td>0.037724</td>\n",
       "      <td>0.405006</td>\n",
       "      <td>0.597206</td>\n",
       "      <td>0.256934</td>\n",
       "      <td>0.029898</td>\n",
       "      <td>0.185761</td>\n",
       "      <td>0.340405</td>\n",
       "      <td>0.161427</td>\n",
       "      <td>0.022399</td>\n",
       "      <td>0.101897</td>\n",
       "      <td>0.220894</td>\n",
       "      <td>0.389678</td>\n",
       "      <td>0.024612</td>\n",
       "      <td>0.330701</td>\n",
       "      <td>0.458091</td>\n",
       "      <td>0.592021</td>\n",
       "      <td>0.023198</td>\n",
       "      <td>0.542553</td>\n",
       "      <td>0.648936</td>\n",
       "      <td>0.462247</td>\n",
       "      <td>0.029226</td>\n",
       "      <td>0.390080</td>\n",
       "      <td>0.541725</td>\n",
       "      <td>0.336812</td>\n",
       "      <td>0.021336</td>\n",
       "      <td>0.287012</td>\n",
       "      <td>0.396827</td>\n",
       "      <td>0.389678</td>\n",
       "      <td>0.024612</td>\n",
       "      <td>0.330701</td>\n",
       "      <td>0.458091</td>\n",
       "    </tr>\n",
       "    <tr>\n",
       "      <th>NR1</th>\n",
       "      <td>12.0</td>\n",
       "      <td>0.0</td>\n",
       "      <td>12</td>\n",
       "      <td>12</td>\n",
       "      <td>0.511834</td>\n",
       "      <td>0.037724</td>\n",
       "      <td>0.405006</td>\n",
       "      <td>0.597206</td>\n",
       "      <td>0.256164</td>\n",
       "      <td>0.027769</td>\n",
       "      <td>0.188957</td>\n",
       "      <td>0.338545</td>\n",
       "      <td>0.157242</td>\n",
       "      <td>0.022831</td>\n",
       "      <td>0.111157</td>\n",
       "      <td>0.222000</td>\n",
       "      <td>0.434123</td>\n",
       "      <td>0.021178</td>\n",
       "      <td>0.383368</td>\n",
       "      <td>0.496381</td>\n",
       "      <td>0.525106</td>\n",
       "      <td>0.025550</td>\n",
       "      <td>0.468085</td>\n",
       "      <td>0.595745</td>\n",
       "      <td>0.470599</td>\n",
       "      <td>0.023057</td>\n",
       "      <td>0.416112</td>\n",
       "      <td>0.536540</td>\n",
       "      <td>0.402907</td>\n",
       "      <td>0.019716</td>\n",
       "      <td>0.355402</td>\n",
       "      <td>0.461814</td>\n",
       "      <td>0.434123</td>\n",
       "      <td>0.021178</td>\n",
       "      <td>0.383368</td>\n",
       "      <td>0.496381</td>\n",
       "    </tr>\n",
       "  </tbody>\n",
       "</table>\n",
       "</div>"
      ],
      "text/plain": [
       "             num_clusters              Silhouette                      \\\n",
       "                     mean  std min max       mean       std       min   \n",
       "Ground Truth                                                            \n",
       "JB                   12.0  0.0  12  12   0.511834  0.037724  0.405006   \n",
       "KM1                  12.0  0.0  12  12   0.511834  0.037724  0.405006   \n",
       "MB                   12.0  0.0  12  12   0.511834  0.037724  0.405006   \n",
       "NR1                  12.0  0.0  12  12   0.511834  0.037724  0.405006   \n",
       "\n",
       "                             AMI                                     ARI  \\\n",
       "                   max      mean       std       min       max      mean   \n",
       "Ground Truth                                                               \n",
       "JB            0.597206  0.356196  0.022775  0.294963  0.415589  0.238389   \n",
       "KM1           0.597206  0.187420  0.018357  0.139338  0.226983  0.100366   \n",
       "MB            0.597206  0.256934  0.029898  0.185761  0.340405  0.161427   \n",
       "NR1           0.597206  0.256164  0.027769  0.188957  0.338545  0.157242   \n",
       "\n",
       "                                                 NMI                      \\\n",
       "                   std       min       max      mean       std       min   \n",
       "Ground Truth                                                               \n",
       "JB            0.022835  0.192399  0.290505  0.504495  0.017538  0.456571   \n",
       "KM1           0.012982  0.058045  0.126380  0.397209  0.013844  0.360536   \n",
       "MB            0.022399  0.101897  0.220894  0.389678  0.024612  0.330701   \n",
       "NR1           0.022831  0.111157  0.222000  0.434123  0.021178  0.383368   \n",
       "\n",
       "                          Pureza                               Homogeneidad  \\\n",
       "                   max      mean       std       min       max         mean   \n",
       "Ground Truth                                                                  \n",
       "JB            0.550590  0.615000  0.020716  0.574468  0.680851     0.549312   \n",
       "KM1           0.426978  0.539787  0.015016  0.500000  0.574468     0.439952   \n",
       "MB            0.458091  0.592021  0.023198  0.542553  0.648936     0.462247   \n",
       "NR1           0.496381  0.525106  0.025550  0.468085  0.595745     0.470599   \n",
       "\n",
       "                                           Completitud                      \\\n",
       "                   std       min       max        mean       std       min   \n",
       "Ground Truth                                                                 \n",
       "JB            0.019271  0.494085  0.600598    0.466454  0.016294  0.424352   \n",
       "KM1           0.015832  0.397608  0.473924    0.362047  0.012425  0.329787   \n",
       "MB            0.029226  0.390080  0.541725    0.336812  0.021336  0.287012   \n",
       "NR1           0.023057  0.416112  0.536540    0.402907  0.019716  0.355402   \n",
       "\n",
       "                       V-measure                                \n",
       "                   max      mean       std       min       max  \n",
       "Ground Truth                                                    \n",
       "JB            0.508269  0.504495  0.017538  0.456571  0.550590  \n",
       "KM1           0.388962  0.397209  0.013844  0.360536  0.426978  \n",
       "MB            0.396827  0.389678  0.024612  0.330701  0.458091  \n",
       "NR1           0.461814  0.434123  0.021178  0.383368  0.496381  "
      ]
     },
     "execution_count": 40,
     "metadata": {},
     "output_type": "execute_result"
    }
   ],
   "source": [
    "pd.set_option('display.max_columns', None)\n",
    "pd.set_option('display.max_rows', None)\n",
    "pivot"
   ]
  },
  {
   "cell_type": "code",
   "execution_count": 41,
   "id": "a29793f6",
   "metadata": {},
   "outputs": [
    {
     "data": {
      "image/png": "[encoded data removed]",
      "text/plain": [
       "<Figure size 640x480 with 1 Axes>"
      ]
     },
     "metadata": {},
     "output_type": "display_data"
    }
   ],
   "source": [
    "value_counts = results_df[results_df['Ground Truth'] == 'JB']['num_clusters'].value_counts()\n",
    "plt.bar(value_counts.index, value_counts.values)\n",
    "for i in range(len(value_counts)):\n",
    "    plt.text(value_counts.index[i], value_counts.values[i], str(value_counts.values[i]), ha='center', va='bottom')\n",
    "plt.xlabel('Número de Clusters')\n",
    "plt.ylabel('Frecuencia')\n",
    "plt.show()"
   ]
  },
  {
   "cell_type": "code",
   "execution_count": 42,
   "id": "8433e27a",
   "metadata": {},
   "outputs": [
    {
     "name": "stderr",
     "output_type": "stream",
     "text": [
      "2025-05-11 16:06:35,205 - INFO - Results saved to ./results/results_ca_roberta-base-ca-v2.xlsx\n"
     ]
    }
   ],
   "source": [
    "# Save the results to an Excel file\n",
    "output_file = f'./results/results_ca_{embedder_model.split(\"/\")[-1]}.xlsx'\n",
    "pivot.to_excel(output_file, sheet_name='Resultados', index=True)\n",
    "logging.info(f\"Results saved to {output_file}\")"
   ]
  },
  {
   "cell_type": "markdown",
   "id": "c635bb6e",
   "metadata": {},
   "source": [
    "# Merge files in excel"
   ]
  },
  {
   "cell_type": "code",
   "execution_count": 7,
   "id": "158338a8",
   "metadata": {},
   "outputs": [
    {
     "data": {
      "text/plain": [
       "['./results/results_es_paraphrase-multilingual-MiniLM-L12-v2.xlsx',\n",
       " './results/results_es_paraphrase-multilingual-mpnet-base-v2.xlsx',\n",
       " './results/results_es_sentence_similarity_spanish_es.xlsx',\n",
       " './results/results_ca_roberta-base-ca-v2.xlsx',\n",
       " './results/results_ca_paraphrase-multilingual-MiniLM-L12-v2.xlsx',\n",
       " './results/results_ca_paraphrase-multilingual-mpnet-base-v2.xlsx']"
      ]
     },
     "execution_count": 7,
     "metadata": {},
     "output_type": "execute_result"
    }
   ],
   "source": [
    "models = {\n",
    "    'es':[\n",
    "        'sentence-transformers/paraphrase-multilingual-MiniLM-L12-v2', \n",
    "        'sentence-transformers/paraphrase-multilingual-mpnet-base-v2', \n",
    "        'hiiamsid/sentence_similarity_spanish_es', \n",
    "    ],\n",
    "    'ca': [\n",
    "        'projecte-aina/roberta-base-ca-v2', \n",
    "        'sentence-transformers/paraphrase-multilingual-MiniLM-L12-v2', \n",
    "        'sentence-transformers/paraphrase-multilingual-mpnet-base-v2',\n",
    "    ]\n",
    "}\n",
    "\n",
    "output_files = [f\"./results/results_{lang}_{model.split('/')[-1]}.xlsx\" for lang, model_list in models.items() for model in model_list]\n",
    "output_files"
   ]
  },
  {
   "cell_type": "code",
   "execution_count": 47,
   "id": "8aa41527",
   "metadata": {},
   "outputs": [],
   "source": [
    "# Load all results into a single DataFrame\n",
    "all_results = {}\n",
    "for file in output_files:\n",
    "    df = pd.read_excel(file, sheet_name='Resultados', header=[0, 1], index_col=0)\n",
    "    model_name = file.split('/')[-1].split('.')[0]\n",
    "    lang = file.split('_')[1]\n",
    "    simplified_model_name = model_name.split('_')[2:]\n",
    "    all_results[f\"{lang}_{'_'.join(simplified_model_name)[-28:]}\"] = df"
   ]
  },
  {
   "cell_type": "code",
   "execution_count": 36,
   "id": "efaf3994",
   "metadata": {},
   "outputs": [
    {
     "data": {
      "text/plain": [
       "dict_keys(['es_e-multilingual-MiniLM-L12-v2', 'es_e-multilingual-mpnet-base-v2', 'es_ntence_similarity_spanish_es', 'ca_roberta-base-ca-v2', 'ca_e-multilingual-MiniLM-L12-v2', 'ca_e-multilingual-mpnet-base-v2'])"
      ]
     },
     "execution_count": 36,
     "metadata": {},
     "output_type": "execute_result"
    }
   ],
   "source": [
    "all_results.keys()"
   ]
  },
  {
   "cell_type": "code",
   "execution_count": 23,
   "id": "a6510fd7",
   "metadata": {},
   "outputs": [
    {
     "data": {
      "text/html": [
       "<div>\n",
       "<style scoped>\n",
       "    .dataframe tbody tr th:only-of-type {\n",
       "        vertical-align: middle;\n",
       "    }\n",
       "\n",
       "    .dataframe tbody tr th {\n",
       "        vertical-align: top;\n",
       "    }\n",
       "\n",
       "    .dataframe thead tr th {\n",
       "        text-align: left;\n",
       "    }\n",
       "\n",
       "    .dataframe thead tr:last-of-type th {\n",
       "        text-align: right;\n",
       "    }\n",
       "</style>\n",
       "<table border=\"1\" class=\"dataframe\">\n",
       "  <thead>\n",
       "    <tr>\n",
       "      <th></th>\n",
       "      <th colspan=\"4\" halign=\"left\">num_clusters</th>\n",
       "      <th colspan=\"4\" halign=\"left\">Silhouette</th>\n",
       "      <th colspan=\"2\" halign=\"left\">AMI</th>\n",
       "      <th>...</th>\n",
       "      <th colspan=\"2\" halign=\"left\">Homogeneidad</th>\n",
       "      <th colspan=\"4\" halign=\"left\">Completitud</th>\n",
       "      <th colspan=\"4\" halign=\"left\">V-measure</th>\n",
       "    </tr>\n",
       "    <tr>\n",
       "      <th></th>\n",
       "      <th>mean</th>\n",
       "      <th>std</th>\n",
       "      <th>min</th>\n",
       "      <th>max</th>\n",
       "      <th>mean</th>\n",
       "      <th>std</th>\n",
       "      <th>min</th>\n",
       "      <th>max</th>\n",
       "      <th>mean</th>\n",
       "      <th>std</th>\n",
       "      <th>...</th>\n",
       "      <th>min</th>\n",
       "      <th>max</th>\n",
       "      <th>mean</th>\n",
       "      <th>std</th>\n",
       "      <th>min</th>\n",
       "      <th>max</th>\n",
       "      <th>mean</th>\n",
       "      <th>std</th>\n",
       "      <th>min</th>\n",
       "      <th>max</th>\n",
       "    </tr>\n",
       "    <tr>\n",
       "      <th>Ground Truth</th>\n",
       "      <th></th>\n",
       "      <th></th>\n",
       "      <th></th>\n",
       "      <th></th>\n",
       "      <th></th>\n",
       "      <th></th>\n",
       "      <th></th>\n",
       "      <th></th>\n",
       "      <th></th>\n",
       "      <th></th>\n",
       "      <th></th>\n",
       "      <th></th>\n",
       "      <th></th>\n",
       "      <th></th>\n",
       "      <th></th>\n",
       "      <th></th>\n",
       "      <th></th>\n",
       "      <th></th>\n",
       "      <th></th>\n",
       "      <th></th>\n",
       "      <th></th>\n",
       "    </tr>\n",
       "  </thead>\n",
       "  <tbody>\n",
       "    <tr>\n",
       "      <th>JB</th>\n",
       "      <td>12</td>\n",
       "      <td>0</td>\n",
       "      <td>12</td>\n",
       "      <td>12</td>\n",
       "      <td>0.511834</td>\n",
       "      <td>0.037724</td>\n",
       "      <td>0.405006</td>\n",
       "      <td>0.597206</td>\n",
       "      <td>0.356196</td>\n",
       "      <td>0.022775</td>\n",
       "      <td>...</td>\n",
       "      <td>0.494085</td>\n",
       "      <td>0.600598</td>\n",
       "      <td>0.466454</td>\n",
       "      <td>0.016294</td>\n",
       "      <td>0.424352</td>\n",
       "      <td>0.508269</td>\n",
       "      <td>0.504495</td>\n",
       "      <td>0.017538</td>\n",
       "      <td>0.456571</td>\n",
       "      <td>0.55059</td>\n",
       "    </tr>\n",
       "  </tbody>\n",
       "</table>\n",
       "<p>1 rows × 36 columns</p>\n",
       "</div>"
      ],
      "text/plain": [
       "             num_clusters             Silhouette                      \\\n",
       "                     mean std min max       mean       std       min   \n",
       "Ground Truth                                                           \n",
       "JB                     12   0  12  12   0.511834  0.037724  0.405006   \n",
       "\n",
       "                             AMI            ... Homogeneidad            \\\n",
       "                   max      mean       std  ...          min       max   \n",
       "Ground Truth                                ...                          \n",
       "JB            0.597206  0.356196  0.022775  ...     0.494085  0.600598   \n",
       "\n",
       "             Completitud                               V-measure            \\\n",
       "                    mean       std       min       max      mean       std   \n",
       "Ground Truth                                                                 \n",
       "JB              0.466454  0.016294  0.424352  0.508269  0.504495  0.017538   \n",
       "\n",
       "                                 \n",
       "                   min      max  \n",
       "Ground Truth                     \n",
       "JB            0.456571  0.55059  \n",
       "\n",
       "[1 rows x 36 columns]"
      ]
     },
     "execution_count": 23,
     "metadata": {},
     "output_type": "execute_result"
    }
   ],
   "source": [
    "all_results['ca_roberta-base-ca-v2'].iloc[:1]"
   ]
  },
  {
   "cell_type": "code",
   "execution_count": 46,
   "id": "e841d8c3",
   "metadata": {},
   "outputs": [],
   "source": [
    "# save each result in a separate sheet\n",
    "with pd.ExcelWriter('./results/all_results.xlsx') as writer:\n",
    "    for model_name, df in all_results.items():\n",
    "        df.to_excel(writer, sheet_name=model_name, index=True)"
   ]
  },
  {
   "cell_type": "code",
   "execution_count": 24,
   "id": "ddcadac5",
   "metadata": {},
   "outputs": [
    {
     "data": {
      "text/html": [
       "<div>\n",
       "<style scoped>\n",
       "    .dataframe tbody tr th:only-of-type {\n",
       "        vertical-align: middle;\n",
       "    }\n",
       "\n",
       "    .dataframe tbody tr th {\n",
       "        vertical-align: top;\n",
       "    }\n",
       "\n",
       "    .dataframe thead tr th {\n",
       "        text-align: left;\n",
       "    }\n",
       "</style>\n",
       "<table border=\"1\" class=\"dataframe\">\n",
       "  <thead>\n",
       "    <tr>\n",
       "      <th></th>\n",
       "      <th>Ground Truth</th>\n",
       "      <th colspan=\"4\" halign=\"left\">num_clusters</th>\n",
       "      <th colspan=\"4\" halign=\"left\">Silhouette</th>\n",
       "      <th>AMI</th>\n",
       "      <th>...</th>\n",
       "      <th colspan=\"2\" halign=\"left\">Homogeneidad</th>\n",
       "      <th colspan=\"4\" halign=\"left\">Completitud</th>\n",
       "      <th colspan=\"4\" halign=\"left\">V-measure</th>\n",
       "    </tr>\n",
       "    <tr>\n",
       "      <th></th>\n",
       "      <th></th>\n",
       "      <th>mean</th>\n",
       "      <th>std</th>\n",
       "      <th>min</th>\n",
       "      <th>max</th>\n",
       "      <th>mean</th>\n",
       "      <th>std</th>\n",
       "      <th>min</th>\n",
       "      <th>max</th>\n",
       "      <th>mean</th>\n",
       "      <th>...</th>\n",
       "      <th>min</th>\n",
       "      <th>max</th>\n",
       "      <th>mean</th>\n",
       "      <th>std</th>\n",
       "      <th>min</th>\n",
       "      <th>max</th>\n",
       "      <th>mean</th>\n",
       "      <th>std</th>\n",
       "      <th>min</th>\n",
       "      <th>max</th>\n",
       "    </tr>\n",
       "  </thead>\n",
       "  <tbody>\n",
       "    <tr>\n",
       "      <th>0</th>\n",
       "      <td>JB</td>\n",
       "      <td>12</td>\n",
       "      <td>0</td>\n",
       "      <td>12</td>\n",
       "      <td>12</td>\n",
       "      <td>0.511834</td>\n",
       "      <td>0.037724</td>\n",
       "      <td>0.405006</td>\n",
       "      <td>0.597206</td>\n",
       "      <td>0.356196</td>\n",
       "      <td>...</td>\n",
       "      <td>0.494085</td>\n",
       "      <td>0.600598</td>\n",
       "      <td>0.466454</td>\n",
       "      <td>0.016294</td>\n",
       "      <td>0.424352</td>\n",
       "      <td>0.508269</td>\n",
       "      <td>0.504495</td>\n",
       "      <td>0.017538</td>\n",
       "      <td>0.456571</td>\n",
       "      <td>0.55059</td>\n",
       "    </tr>\n",
       "  </tbody>\n",
       "</table>\n",
       "<p>1 rows × 37 columns</p>\n",
       "</div>"
      ],
      "text/plain": [
       "  Ground Truth num_clusters             Silhouette                      \\\n",
       "                       mean std min max       mean       std       min   \n",
       "0           JB           12   0  12  12   0.511834  0.037724  0.405006   \n",
       "\n",
       "                  AMI  ... Homogeneidad           Completitud            \\\n",
       "        max      mean  ...          min       max        mean       std   \n",
       "0  0.597206  0.356196  ...     0.494085  0.600598    0.466454  0.016294   \n",
       "\n",
       "                      V-measure                               \n",
       "        min       max      mean       std       min      max  \n",
       "0  0.424352  0.508269  0.504495  0.017538  0.456571  0.55059  \n",
       "\n",
       "[1 rows x 37 columns]"
      ]
     },
     "execution_count": 24,
     "metadata": {},
     "output_type": "execute_result"
    }
   ],
   "source": [
    "df = all_results['ca_roberta-base-ca-v2'].iloc[:1]\n",
    "df.reset_index(inplace=True)\n",
    "#df.drop(columns=['Ground Truth'], inplace=True)\n",
    "df"
   ]
  },
  {
   "cell_type": "code",
   "execution_count": 52,
   "id": "f4bb9044",
   "metadata": {},
   "outputs": [],
   "source": [
    "# Select the first row and reshape the DataFrame\n",
    "row_data = df.iloc[0].unstack(level=1)\n",
    "row_data = row_data.loc[['num_clusters', 'Silhouette', 'AMI', 'NMI', 'Pureza', 'V-measure']]\n",
    "row_data = np.round(row_data, 4)"
   ]
  },
  {
   "cell_type": "code",
   "execution_count": 53,
   "id": "c2c9db71",
   "metadata": {},
   "outputs": [
    {
     "data": {
      "image/png": "[encoded data removed]",
      "text/plain": [
       "<Figure size 1200x900 with 1 Axes>"
      ]
     },
     "metadata": {},
     "output_type": "display_data"
    }
   ],
   "source": [
    "plt.figure(figsize=(4,3), dpi=300)\n",
    "table = plt.table(\n",
    "    cellText=row_data.values,\n",
    "    rowLabels=row_data.index,\n",
    "    colLabels=row_data.columns,\n",
    "    cellLoc='center',\n",
    "    loc='center'\n",
    ")\n",
    "\n",
    "# 3. Estilo profesional\n",
    "table.auto_set_font_size(False)\n",
    "table.set_fontsize(9)\n",
    "table.scale(1.2, 1.4)  # Ajuste de tamaño\n",
    "\n",
    "for (i, j), cell in table.get_celld().items():\n",
    "    if i == 0 or j == -1:  # Encabezados\n",
    "        cell.set_facecolor('#4C72B0')  # Azul profesional\n",
    "        cell.set_text_props(weight='bold', color='white')\n",
    "    else:  # Celdas de datos\n",
    "        cell.set_facecolor('#f9f9f9' if i%2==0 else 'white')  # Filas alternas\n",
    "    cell.set_edgecolor('#dddddd')\n",
    "\n",
    "# 4. Ocultar ejes y bordes\n",
    "plt.axis('off')\n",
    "plt.grid(False)\n",
    "\n",
    "#plt.title('Resultados de Clustering para MPNET', fontsize=12, weight='bold')\n",
    "\n",
    "#plt.tight_layout()\n",
    "plt.savefig('table_ca_roberta-base-ca-v2', bbox_inches='tight', dpi=300)\n",
    "plt.show()"
   ]
  },
  {
   "cell_type": "code",
   "execution_count": 39,
   "id": "60dac0f3",
   "metadata": {},
   "outputs": [
    {
     "data": {
      "text/html": [
       "<div>\n",
       "<style scoped>\n",
       "    .dataframe tbody tr th:only-of-type {\n",
       "        vertical-align: middle;\n",
       "    }\n",
       "\n",
       "    .dataframe tbody tr th {\n",
       "        vertical-align: top;\n",
       "    }\n",
       "\n",
       "    .dataframe thead tr th {\n",
       "        text-align: left;\n",
       "    }\n",
       "\n",
       "    .dataframe thead tr:last-of-type th {\n",
       "        text-align: right;\n",
       "    }\n",
       "</style>\n",
       "<table border=\"1\" class=\"dataframe\">\n",
       "  <thead>\n",
       "    <tr>\n",
       "      <th></th>\n",
       "      <th colspan=\"4\" halign=\"left\">num_clusters</th>\n",
       "      <th colspan=\"4\" halign=\"left\">Silhouette</th>\n",
       "      <th colspan=\"2\" halign=\"left\">AMI</th>\n",
       "      <th>...</th>\n",
       "      <th colspan=\"2\" halign=\"left\">Homogeneidad</th>\n",
       "      <th colspan=\"4\" halign=\"left\">Completitud</th>\n",
       "      <th colspan=\"4\" halign=\"left\">V-measure</th>\n",
       "    </tr>\n",
       "    <tr>\n",
       "      <th></th>\n",
       "      <th>mean</th>\n",
       "      <th>std</th>\n",
       "      <th>min</th>\n",
       "      <th>max</th>\n",
       "      <th>mean</th>\n",
       "      <th>std</th>\n",
       "      <th>min</th>\n",
       "      <th>max</th>\n",
       "      <th>mean</th>\n",
       "      <th>std</th>\n",
       "      <th>...</th>\n",
       "      <th>min</th>\n",
       "      <th>max</th>\n",
       "      <th>mean</th>\n",
       "      <th>std</th>\n",
       "      <th>min</th>\n",
       "      <th>max</th>\n",
       "      <th>mean</th>\n",
       "      <th>std</th>\n",
       "      <th>min</th>\n",
       "      <th>max</th>\n",
       "    </tr>\n",
       "    <tr>\n",
       "      <th>Ground Truth</th>\n",
       "      <th></th>\n",
       "      <th></th>\n",
       "      <th></th>\n",
       "      <th></th>\n",
       "      <th></th>\n",
       "      <th></th>\n",
       "      <th></th>\n",
       "      <th></th>\n",
       "      <th></th>\n",
       "      <th></th>\n",
       "      <th></th>\n",
       "      <th></th>\n",
       "      <th></th>\n",
       "      <th></th>\n",
       "      <th></th>\n",
       "      <th></th>\n",
       "      <th></th>\n",
       "      <th></th>\n",
       "      <th></th>\n",
       "      <th></th>\n",
       "      <th></th>\n",
       "    </tr>\n",
       "  </thead>\n",
       "  <tbody>\n",
       "    <tr>\n",
       "      <th>JB</th>\n",
       "      <td>11.29</td>\n",
       "      <td>1.19168</td>\n",
       "      <td>8</td>\n",
       "      <td>15</td>\n",
       "      <td>0.654014</td>\n",
       "      <td>0.045911</td>\n",
       "      <td>0.521183</td>\n",
       "      <td>0.773272</td>\n",
       "      <td>0.423502</td>\n",
       "      <td>0.018159</td>\n",
       "      <td>...</td>\n",
       "      <td>0.518766</td>\n",
       "      <td>0.679072</td>\n",
       "      <td>0.515666</td>\n",
       "      <td>0.014073</td>\n",
       "      <td>0.487973</td>\n",
       "      <td>0.558911</td>\n",
       "      <td>0.550371</td>\n",
       "      <td>0.014910</td>\n",
       "      <td>0.510971</td>\n",
       "      <td>0.591469</td>\n",
       "    </tr>\n",
       "    <tr>\n",
       "      <th>KM1</th>\n",
       "      <td>11.29</td>\n",
       "      <td>1.19168</td>\n",
       "      <td>8</td>\n",
       "      <td>15</td>\n",
       "      <td>0.654014</td>\n",
       "      <td>0.045911</td>\n",
       "      <td>0.521183</td>\n",
       "      <td>0.773272</td>\n",
       "      <td>0.135816</td>\n",
       "      <td>0.014998</td>\n",
       "      <td>...</td>\n",
       "      <td>0.309482</td>\n",
       "      <td>0.466417</td>\n",
       "      <td>0.323862</td>\n",
       "      <td>0.011277</td>\n",
       "      <td>0.292490</td>\n",
       "      <td>0.355004</td>\n",
       "      <td>0.350880</td>\n",
       "      <td>0.016533</td>\n",
       "      <td>0.307872</td>\n",
       "      <td>0.399078</td>\n",
       "    </tr>\n",
       "    <tr>\n",
       "      <th>MB</th>\n",
       "      <td>11.29</td>\n",
       "      <td>1.19168</td>\n",
       "      <td>8</td>\n",
       "      <td>15</td>\n",
       "      <td>0.654014</td>\n",
       "      <td>0.045911</td>\n",
       "      <td>0.521183</td>\n",
       "      <td>0.773272</td>\n",
       "      <td>0.333922</td>\n",
       "      <td>0.015410</td>\n",
       "      <td>...</td>\n",
       "      <td>0.426948</td>\n",
       "      <td>0.586709</td>\n",
       "      <td>0.391051</td>\n",
       "      <td>0.011085</td>\n",
       "      <td>0.361547</td>\n",
       "      <td>0.420152</td>\n",
       "      <td>0.447040</td>\n",
       "      <td>0.015483</td>\n",
       "      <td>0.391535</td>\n",
       "      <td>0.482252</td>\n",
       "    </tr>\n",
       "    <tr>\n",
       "      <th>NR1</th>\n",
       "      <td>11.29</td>\n",
       "      <td>1.19168</td>\n",
       "      <td>8</td>\n",
       "      <td>15</td>\n",
       "      <td>0.654014</td>\n",
       "      <td>0.045911</td>\n",
       "      <td>0.521183</td>\n",
       "      <td>0.773272</td>\n",
       "      <td>0.282590</td>\n",
       "      <td>0.016638</td>\n",
       "      <td>...</td>\n",
       "      <td>0.386251</td>\n",
       "      <td>0.568449</td>\n",
       "      <td>0.420101</td>\n",
       "      <td>0.012416</td>\n",
       "      <td>0.392486</td>\n",
       "      <td>0.442463</td>\n",
       "      <td>0.446893</td>\n",
       "      <td>0.019514</td>\n",
       "      <td>0.394326</td>\n",
       "      <td>0.497412</td>\n",
       "    </tr>\n",
       "  </tbody>\n",
       "</table>\n",
       "<p>4 rows × 36 columns</p>\n",
       "</div>"
      ],
      "text/plain": [
       "             num_clusters                  Silhouette                      \\\n",
       "                     mean      std min max       mean       std       min   \n",
       "Ground Truth                                                                \n",
       "JB                  11.29  1.19168   8  15   0.654014  0.045911  0.521183   \n",
       "KM1                 11.29  1.19168   8  15   0.654014  0.045911  0.521183   \n",
       "MB                  11.29  1.19168   8  15   0.654014  0.045911  0.521183   \n",
       "NR1                 11.29  1.19168   8  15   0.654014  0.045911  0.521183   \n",
       "\n",
       "                             AMI            ... Homogeneidad            \\\n",
       "                   max      mean       std  ...          min       max   \n",
       "Ground Truth                                ...                          \n",
       "JB            0.773272  0.423502  0.018159  ...     0.518766  0.679072   \n",
       "KM1           0.773272  0.135816  0.014998  ...     0.309482  0.466417   \n",
       "MB            0.773272  0.333922  0.015410  ...     0.426948  0.586709   \n",
       "NR1           0.773272  0.282590  0.016638  ...     0.386251  0.568449   \n",
       "\n",
       "             Completitud                               V-measure            \\\n",
       "                    mean       std       min       max      mean       std   \n",
       "Ground Truth                                                                 \n",
       "JB              0.515666  0.014073  0.487973  0.558911  0.550371  0.014910   \n",
       "KM1             0.323862  0.011277  0.292490  0.355004  0.350880  0.016533   \n",
       "MB              0.391051  0.011085  0.361547  0.420152  0.447040  0.015483   \n",
       "NR1             0.420101  0.012416  0.392486  0.442463  0.446893  0.019514   \n",
       "\n",
       "                                  \n",
       "                   min       max  \n",
       "Ground Truth                      \n",
       "JB            0.510971  0.591469  \n",
       "KM1           0.307872  0.399078  \n",
       "MB            0.391535  0.482252  \n",
       "NR1           0.394326  0.497412  \n",
       "\n",
       "[4 rows x 36 columns]"
      ]
     },
     "execution_count": 39,
     "metadata": {},
     "output_type": "execute_result"
    }
   ],
   "source": [
    "all_results['es_e-multilingual-MiniLM-L12-v2']"
   ]
  },
  {
   "cell_type": "code",
   "execution_count": 51,
   "id": "c4d352fc",
   "metadata": {},
   "outputs": [
    {
     "name": "stderr",
     "output_type": "stream",
     "text": [
      "/Users/thesportydar/local_dev/reis-app/src/lib/report/.venv/lib/python3.13/site-packages/openpyxl/workbook/child.py:99: UserWarning: Title is more than 31 characters. Some applications may not be able to read the file\n",
      "  warnings.warn(\"Title is more than 31 characters. Some applications may not be able to read the file\")\n",
      "/Users/thesportydar/local_dev/reis-app/src/lib/report/.venv/lib/python3.13/site-packages/openpyxl/workbook/child.py:99: UserWarning: Title is more than 31 characters. Some applications may not be able to read the file\n",
      "  warnings.warn(\"Title is more than 31 characters. Some applications may not be able to read the file\")\n",
      "/Users/thesportydar/local_dev/reis-app/src/lib/report/.venv/lib/python3.13/site-packages/openpyxl/workbook/child.py:99: UserWarning: Title is more than 31 characters. Some applications may not be able to read the file\n",
      "  warnings.warn(\"Title is more than 31 characters. Some applications may not be able to read the file\")\n",
      "/Users/thesportydar/local_dev/reis-app/src/lib/report/.venv/lib/python3.13/site-packages/openpyxl/workbook/child.py:99: UserWarning: Title is more than 31 characters. Some applications may not be able to read the file\n",
      "  warnings.warn(\"Title is more than 31 characters. Some applications may not be able to read the file\")\n",
      "/Users/thesportydar/local_dev/reis-app/src/lib/report/.venv/lib/python3.13/site-packages/openpyxl/workbook/child.py:99: UserWarning: Title is more than 31 characters. Some applications may not be able to read the file\n",
      "  warnings.warn(\"Title is more than 31 characters. Some applications may not be able to read the file\")\n",
      "2025-05-11 17:42:25,137 - INFO - Pivot results saved to ./results/pivots.xlsx\n"
     ]
    }
   ],
   "source": [
    "# continuamos con all_results. a cada pivot convertirlo en 3 dataframes [[num_clusters, Silhouette, AMI], [ARI, NMI, Pureza], [Homogeneidad, Completitud, V-measure]]\n",
    "# y exportamos a excel\n",
    "# Convertir cada pivot en 3 dataframes\n",
    "def convert_pivot_to_dfs(pivot):\n",
    "    # Convertir el índice a una columna\n",
    "    #pivot_reset = pivot.reset_index(drop=True)\n",
    "    pivot_reset = pivot.dropna(how='all')\n",
    "    df1 = pivot_reset[['num_clusters', 'Silhouette', 'AMI']]\n",
    "    df2 = pivot_reset[['ARI', 'NMI', 'Pureza']]\n",
    "    df3 = pivot_reset[['Homogeneidad', 'Completitud', 'V-measure']]\n",
    "    return df1, df2, df3\n",
    "# Convertir y guardar cada dataframe en un solo archivo Excel. 3 hojas por modelo\n",
    "def save_dfs_to_excel(pivot_dict, output_file):\n",
    "    with pd.ExcelWriter(output_file) as writer:\n",
    "        for model_name, pivot in pivot_dict.items():\n",
    "            df1, df2, df3 = convert_pivot_to_dfs(pivot)\n",
    "            df1.to_excel(writer, sheet_name=f'{model_name}_1', index=True)\n",
    "            df2.to_excel(writer, sheet_name=f'{model_name}_2', index=True)\n",
    "            df3.to_excel(writer, sheet_name=f'{model_name}_3', index=True)\n",
    "# Guardar los pivotes en un archivo Excel\n",
    "output_file = './results/pivots.xlsx'\n",
    "save_dfs_to_excel(all_results, output_file)\n",
    "logging.info(f\"Pivot results saved to {output_file}\")"
   ]
  }
 ],
 "metadata": {
  "kernelspec": {
   "display_name": ".venv",
   "language": "python",
   "name": "python3"
  },
  "language_info": {
   "codemirror_mode": {
    "name": "ipython",
    "version": 3
   },
   "file_extension": ".py",
   "mimetype": "text/x-python",
   "name": "python",
   "nbconvert_exporter": "python",
   "pygments_lexer": "ipython3",
   "version": "3.13.2"
  }
 },
 "nbformat": 4,
 "nbformat_minor": 5
}
